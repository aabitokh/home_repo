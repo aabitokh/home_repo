{
  "nbformat": 4,
  "nbformat_minor": 0,
  "metadata": {
    "colab": {
      "name": "pyspark_data_prepr.ipynb",
      "provenance": [],
      "collapsed_sections": []
    },
    "kernelspec": {
      "display_name": "Python 3",
      "language": "python",
      "name": "python3"
    },
    "language_info": {
      "codemirror_mode": {
        "name": "ipython",
        "version": 3
      },
      "file_extension": ".py",
      "mimetype": "text/x-python",
      "name": "python",
      "nbconvert_exporter": "python",
      "pygments_lexer": "ipython3",
      "version": "3.6.9"
    }
  },
  "cells": [
    {
      "cell_type": "code",
      "metadata": {
        "id": "2SfpwheFZDUe",
        "colab": {
          "base_uri": "https://localhost:8080/"
        },
        "outputId": "c24c744c-5cd3-4de8-9a51-3037411adf75"
      },
      "source": [
        "!wget https://s3.amazonaws.com/drivendata/data/7/public/4910797b-ee55-40a7-8668-10efd5c1b960.csv -O features.csv\n",
        "!wget https://s3.amazonaws.com/drivendata/data/7/public/0bf8bc6e-30d0-4c50-956a-603fc693d966.csv -O labels.csv\n",
        "!pip install pyspark "
      ],
      "execution_count": null,
      "outputs": [
        {
          "output_type": "stream",
          "text": [
            "--2021-05-26 17:43:14--  https://s3.amazonaws.com/drivendata/data/7/public/4910797b-ee55-40a7-8668-10efd5c1b960.csv\n",
            "Resolving s3.amazonaws.com (s3.amazonaws.com)... 52.217.74.22\n",
            "Connecting to s3.amazonaws.com (s3.amazonaws.com)|52.217.74.22|:443... connected.\n",
            "HTTP request sent, awaiting response... 200 OK\n",
            "Length: 20069199 (19M) [text/csv]\n",
            "Saving to: ‘features.csv’\n",
            "\n",
            "features.csv        100%[===================>]  19.14M  20.5MB/s    in 0.9s    \n",
            "\n",
            "2021-05-26 17:43:16 (20.5 MB/s) - ‘features.csv’ saved [20069199/20069199]\n",
            "\n",
            "--2021-05-26 17:43:16--  https://s3.amazonaws.com/drivendata/data/7/public/0bf8bc6e-30d0-4c50-956a-603fc693d966.csv\n",
            "Resolving s3.amazonaws.com (s3.amazonaws.com)... 52.217.74.22\n",
            "Connecting to s3.amazonaws.com (s3.amazonaws.com)|52.217.74.22|:443... connected.\n",
            "HTTP request sent, awaiting response... 200 OK\n",
            "Length: 1148327 (1.1M) [text/csv]\n",
            "Saving to: ‘labels.csv’\n",
            "\n",
            "labels.csv          100%[===================>]   1.09M  2.87MB/s    in 0.4s    \n",
            "\n",
            "2021-05-26 17:43:16 (2.87 MB/s) - ‘labels.csv’ saved [1148327/1148327]\n",
            "\n",
            "Collecting pyspark\n",
            "\u001b[?25l  Downloading https://files.pythonhosted.org/packages/45/b0/9d6860891ab14a39d4bddf80ba26ce51c2f9dc4805e5c6978ac0472c120a/pyspark-3.1.1.tar.gz (212.3MB)\n",
            "\u001b[K     |████████████████████████████████| 212.3MB 58kB/s \n",
            "\u001b[?25hCollecting py4j==0.10.9\n",
            "\u001b[?25l  Downloading https://files.pythonhosted.org/packages/9e/b6/6a4fb90cd235dc8e265a6a2067f2a2c99f0d91787f06aca4bcf7c23f3f80/py4j-0.10.9-py2.py3-none-any.whl (198kB)\n",
            "\u001b[K     |████████████████████████████████| 204kB 18.5MB/s \n",
            "\u001b[?25hBuilding wheels for collected packages: pyspark\n",
            "  Building wheel for pyspark (setup.py) ... \u001b[?25l\u001b[?25hdone\n",
            "  Created wheel for pyspark: filename=pyspark-3.1.1-py2.py3-none-any.whl size=212767604 sha256=17c1ada8f6c408df1db7c554a334a7ea689c481519f2dabb96226ec6a22a9d83\n",
            "  Stored in directory: /root/.cache/pip/wheels/0b/90/c0/01de724414ef122bd05f056541fb6a0ecf47c7ca655f8b3c0f\n",
            "Successfully built pyspark\n",
            "Installing collected packages: py4j, pyspark\n",
            "Successfully installed py4j-0.10.9 pyspark-3.1.1\n"
          ],
          "name": "stdout"
        }
      ]
    },
    {
      "cell_type": "code",
      "metadata": {
        "colab": {
          "base_uri": "https://localhost:8080/"
        },
        "id": "IG2OgGd67eWl",
        "outputId": "44036a99-51ba-49bc-dd0b-b2a002240cfc"
      },
      "source": [
        "from pyspark import SparkContext\n",
        "from pyspark.sql import SparkSession\n",
        "from pyspark.sql import SQLContext\n",
        "import pandas as pd \n",
        "from pyspark.sql.functions import year, month\n",
        "\n",
        "from google.colab import drive\n",
        "drive.mount('/content/drive')"
      ],
      "execution_count": null,
      "outputs": [
        {
          "output_type": "stream",
          "text": [
            "Mounted at /content/drive\n"
          ],
          "name": "stdout"
        }
      ]
    },
    {
      "cell_type": "code",
      "metadata": {
        "id": "F1E9Fudl9wqt"
      },
      "source": [
        "from pyspark.sql.functions import col"
      ],
      "execution_count": null,
      "outputs": []
    },
    {
      "cell_type": "code",
      "metadata": {
        "id": "lHYWxV7aZN3K",
        "colab": {
          "base_uri": "https://localhost:8080/"
        },
        "outputId": "d5fbe1e9-457d-455d-dcda-7640f750e9dc"
      },
      "source": [
        "!ls"
      ],
      "execution_count": null,
      "outputs": [
        {
          "output_type": "stream",
          "text": [
            "drive  features.csv  labels.csv  sample_data\n"
          ],
          "name": "stdout"
        }
      ]
    },
    {
      "cell_type": "code",
      "metadata": {
        "id": "ST5BFqcB8mCC"
      },
      "source": [
        "sc = SparkSession \\\n",
        "    .builder \\\n",
        "    .appName(\"Python Spark SQL basic example\") \\\n",
        "    .config(\"spark.some.config.option\", \"some-value\") \\\n",
        "    .getOrCreate()"
      ],
      "execution_count": null,
      "outputs": []
    },
    {
      "cell_type": "code",
      "metadata": {
        "id": "gLQBjPaxcC3B"
      },
      "source": [
        "features = sc.read.csv('features.csv', inferSchema=True, \n",
        "                       header=True)\n",
        "label = sc.read.csv('labels.csv', inferSchema=True, \n",
        "                       header=True)"
      ],
      "execution_count": null,
      "outputs": []
    },
    {
      "cell_type": "code",
      "metadata": {
        "colab": {
          "base_uri": "https://localhost:8080/"
        },
        "id": "npI96nqr9TdC",
        "outputId": "9f123dbb-1d20-4294-d5c3-624ee94b65ca"
      },
      "source": [
        "type(features)"
      ],
      "execution_count": null,
      "outputs": [
        {
          "output_type": "execute_result",
          "data": {
            "text/plain": [
              "pyspark.sql.dataframe.DataFrame"
            ]
          },
          "metadata": {
            "tags": []
          },
          "execution_count": 7
        }
      ]
    },
    {
      "cell_type": "code",
      "metadata": {
        "id": "MNuh106fc2QD",
        "colab": {
          "base_uri": "https://localhost:8080/"
        },
        "outputId": "4f4dbaa2-6f9b-44ed-8a74-6d31c7ef9361"
      },
      "source": [
        "print(features.count())\n",
        "print(label.count())\n",
        "print(features.columns)\n",
        "print(label.columns)"
      ],
      "execution_count": null,
      "outputs": [
        {
          "output_type": "stream",
          "text": [
            "59400\n",
            "59400\n",
            "['id', 'amount_tsh', 'date_recorded', 'funder', 'gps_height', 'installer', 'longitude', 'latitude', 'wpt_name', 'num_private', 'basin', 'subvillage', 'region', 'region_code', 'district_code', 'lga', 'ward', 'population', 'public_meeting', 'recorded_by', 'scheme_management', 'scheme_name', 'permit', 'construction_year', 'extraction_type', 'extraction_type_group', 'extraction_type_class', 'management', 'management_group', 'payment', 'payment_type', 'water_quality', 'quality_group', 'quantity', 'quantity_group', 'source', 'source_type', 'source_class', 'waterpoint_type', 'waterpoint_type_group']\n",
            "['id', 'status_group']\n"
          ],
          "name": "stdout"
        }
      ]
    },
    {
      "cell_type": "code",
      "metadata": {
        "id": "rIJrNHJUcPSf",
        "colab": {
          "base_uri": "https://localhost:8080/",
          "height": 411
        },
        "outputId": "6f5e2dbd-5da8-44d0-e38f-0a6a87948ddf"
      },
      "source": [
        "features.toPandas().head()"
      ],
      "execution_count": null,
      "outputs": [
        {
          "output_type": "execute_result",
          "data": {
            "text/html": [
              "<div>\n",
              "<style scoped>\n",
              "    .dataframe tbody tr th:only-of-type {\n",
              "        vertical-align: middle;\n",
              "    }\n",
              "\n",
              "    .dataframe tbody tr th {\n",
              "        vertical-align: top;\n",
              "    }\n",
              "\n",
              "    .dataframe thead th {\n",
              "        text-align: right;\n",
              "    }\n",
              "</style>\n",
              "<table border=\"1\" class=\"dataframe\">\n",
              "  <thead>\n",
              "    <tr style=\"text-align: right;\">\n",
              "      <th></th>\n",
              "      <th>id</th>\n",
              "      <th>amount_tsh</th>\n",
              "      <th>date_recorded</th>\n",
              "      <th>funder</th>\n",
              "      <th>gps_height</th>\n",
              "      <th>installer</th>\n",
              "      <th>longitude</th>\n",
              "      <th>latitude</th>\n",
              "      <th>wpt_name</th>\n",
              "      <th>num_private</th>\n",
              "      <th>basin</th>\n",
              "      <th>subvillage</th>\n",
              "      <th>region</th>\n",
              "      <th>region_code</th>\n",
              "      <th>district_code</th>\n",
              "      <th>lga</th>\n",
              "      <th>ward</th>\n",
              "      <th>population</th>\n",
              "      <th>public_meeting</th>\n",
              "      <th>recorded_by</th>\n",
              "      <th>scheme_management</th>\n",
              "      <th>scheme_name</th>\n",
              "      <th>permit</th>\n",
              "      <th>construction_year</th>\n",
              "      <th>extraction_type</th>\n",
              "      <th>extraction_type_group</th>\n",
              "      <th>extraction_type_class</th>\n",
              "      <th>management</th>\n",
              "      <th>management_group</th>\n",
              "      <th>payment</th>\n",
              "      <th>payment_type</th>\n",
              "      <th>water_quality</th>\n",
              "      <th>quality_group</th>\n",
              "      <th>quantity</th>\n",
              "      <th>quantity_group</th>\n",
              "      <th>source</th>\n",
              "      <th>source_type</th>\n",
              "      <th>source_class</th>\n",
              "      <th>waterpoint_type</th>\n",
              "      <th>waterpoint_type_group</th>\n",
              "    </tr>\n",
              "  </thead>\n",
              "  <tbody>\n",
              "    <tr>\n",
              "      <th>0</th>\n",
              "      <td>69572</td>\n",
              "      <td>6000.0</td>\n",
              "      <td>2011-03-14</td>\n",
              "      <td>Roman</td>\n",
              "      <td>1390</td>\n",
              "      <td>Roman</td>\n",
              "      <td>34.938093</td>\n",
              "      <td>-9.856322</td>\n",
              "      <td>none</td>\n",
              "      <td>0</td>\n",
              "      <td>Lake Nyasa</td>\n",
              "      <td>Mnyusi B</td>\n",
              "      <td>Iringa</td>\n",
              "      <td>11</td>\n",
              "      <td>5</td>\n",
              "      <td>Ludewa</td>\n",
              "      <td>Mundindi</td>\n",
              "      <td>109</td>\n",
              "      <td>True</td>\n",
              "      <td>GeoData Consultants Ltd</td>\n",
              "      <td>VWC</td>\n",
              "      <td>Roman</td>\n",
              "      <td>False</td>\n",
              "      <td>1999</td>\n",
              "      <td>gravity</td>\n",
              "      <td>gravity</td>\n",
              "      <td>gravity</td>\n",
              "      <td>vwc</td>\n",
              "      <td>user-group</td>\n",
              "      <td>pay annually</td>\n",
              "      <td>annually</td>\n",
              "      <td>soft</td>\n",
              "      <td>good</td>\n",
              "      <td>enough</td>\n",
              "      <td>enough</td>\n",
              "      <td>spring</td>\n",
              "      <td>spring</td>\n",
              "      <td>groundwater</td>\n",
              "      <td>communal standpipe</td>\n",
              "      <td>communal standpipe</td>\n",
              "    </tr>\n",
              "    <tr>\n",
              "      <th>1</th>\n",
              "      <td>8776</td>\n",
              "      <td>0.0</td>\n",
              "      <td>2013-03-06</td>\n",
              "      <td>Grumeti</td>\n",
              "      <td>1399</td>\n",
              "      <td>GRUMETI</td>\n",
              "      <td>34.698766</td>\n",
              "      <td>-2.147466</td>\n",
              "      <td>Zahanati</td>\n",
              "      <td>0</td>\n",
              "      <td>Lake Victoria</td>\n",
              "      <td>Nyamara</td>\n",
              "      <td>Mara</td>\n",
              "      <td>20</td>\n",
              "      <td>2</td>\n",
              "      <td>Serengeti</td>\n",
              "      <td>Natta</td>\n",
              "      <td>280</td>\n",
              "      <td>None</td>\n",
              "      <td>GeoData Consultants Ltd</td>\n",
              "      <td>Other</td>\n",
              "      <td>None</td>\n",
              "      <td>True</td>\n",
              "      <td>2010</td>\n",
              "      <td>gravity</td>\n",
              "      <td>gravity</td>\n",
              "      <td>gravity</td>\n",
              "      <td>wug</td>\n",
              "      <td>user-group</td>\n",
              "      <td>never pay</td>\n",
              "      <td>never pay</td>\n",
              "      <td>soft</td>\n",
              "      <td>good</td>\n",
              "      <td>insufficient</td>\n",
              "      <td>insufficient</td>\n",
              "      <td>rainwater harvesting</td>\n",
              "      <td>rainwater harvesting</td>\n",
              "      <td>surface</td>\n",
              "      <td>communal standpipe</td>\n",
              "      <td>communal standpipe</td>\n",
              "    </tr>\n",
              "    <tr>\n",
              "      <th>2</th>\n",
              "      <td>34310</td>\n",
              "      <td>25.0</td>\n",
              "      <td>2013-02-25</td>\n",
              "      <td>Lottery Club</td>\n",
              "      <td>686</td>\n",
              "      <td>World vision</td>\n",
              "      <td>37.460664</td>\n",
              "      <td>-3.821329</td>\n",
              "      <td>Kwa Mahundi</td>\n",
              "      <td>0</td>\n",
              "      <td>Pangani</td>\n",
              "      <td>Majengo</td>\n",
              "      <td>Manyara</td>\n",
              "      <td>21</td>\n",
              "      <td>4</td>\n",
              "      <td>Simanjiro</td>\n",
              "      <td>Ngorika</td>\n",
              "      <td>250</td>\n",
              "      <td>True</td>\n",
              "      <td>GeoData Consultants Ltd</td>\n",
              "      <td>VWC</td>\n",
              "      <td>Nyumba ya mungu pipe scheme</td>\n",
              "      <td>True</td>\n",
              "      <td>2009</td>\n",
              "      <td>gravity</td>\n",
              "      <td>gravity</td>\n",
              "      <td>gravity</td>\n",
              "      <td>vwc</td>\n",
              "      <td>user-group</td>\n",
              "      <td>pay per bucket</td>\n",
              "      <td>per bucket</td>\n",
              "      <td>soft</td>\n",
              "      <td>good</td>\n",
              "      <td>enough</td>\n",
              "      <td>enough</td>\n",
              "      <td>dam</td>\n",
              "      <td>dam</td>\n",
              "      <td>surface</td>\n",
              "      <td>communal standpipe multiple</td>\n",
              "      <td>communal standpipe</td>\n",
              "    </tr>\n",
              "    <tr>\n",
              "      <th>3</th>\n",
              "      <td>67743</td>\n",
              "      <td>0.0</td>\n",
              "      <td>2013-01-28</td>\n",
              "      <td>Unicef</td>\n",
              "      <td>263</td>\n",
              "      <td>UNICEF</td>\n",
              "      <td>38.486161</td>\n",
              "      <td>-11.155298</td>\n",
              "      <td>Zahanati Ya Nanyumbu</td>\n",
              "      <td>0</td>\n",
              "      <td>Ruvuma / Southern Coast</td>\n",
              "      <td>Mahakamani</td>\n",
              "      <td>Mtwara</td>\n",
              "      <td>90</td>\n",
              "      <td>63</td>\n",
              "      <td>Nanyumbu</td>\n",
              "      <td>Nanyumbu</td>\n",
              "      <td>58</td>\n",
              "      <td>True</td>\n",
              "      <td>GeoData Consultants Ltd</td>\n",
              "      <td>VWC</td>\n",
              "      <td>None</td>\n",
              "      <td>True</td>\n",
              "      <td>1986</td>\n",
              "      <td>submersible</td>\n",
              "      <td>submersible</td>\n",
              "      <td>submersible</td>\n",
              "      <td>vwc</td>\n",
              "      <td>user-group</td>\n",
              "      <td>never pay</td>\n",
              "      <td>never pay</td>\n",
              "      <td>soft</td>\n",
              "      <td>good</td>\n",
              "      <td>dry</td>\n",
              "      <td>dry</td>\n",
              "      <td>machine dbh</td>\n",
              "      <td>borehole</td>\n",
              "      <td>groundwater</td>\n",
              "      <td>communal standpipe multiple</td>\n",
              "      <td>communal standpipe</td>\n",
              "    </tr>\n",
              "    <tr>\n",
              "      <th>4</th>\n",
              "      <td>19728</td>\n",
              "      <td>0.0</td>\n",
              "      <td>2011-07-13</td>\n",
              "      <td>Action In A</td>\n",
              "      <td>0</td>\n",
              "      <td>Artisan</td>\n",
              "      <td>31.130847</td>\n",
              "      <td>-1.825359</td>\n",
              "      <td>Shuleni</td>\n",
              "      <td>0</td>\n",
              "      <td>Lake Victoria</td>\n",
              "      <td>Kyanyamisa</td>\n",
              "      <td>Kagera</td>\n",
              "      <td>18</td>\n",
              "      <td>1</td>\n",
              "      <td>Karagwe</td>\n",
              "      <td>Nyakasimbi</td>\n",
              "      <td>0</td>\n",
              "      <td>True</td>\n",
              "      <td>GeoData Consultants Ltd</td>\n",
              "      <td>None</td>\n",
              "      <td>None</td>\n",
              "      <td>True</td>\n",
              "      <td>0</td>\n",
              "      <td>gravity</td>\n",
              "      <td>gravity</td>\n",
              "      <td>gravity</td>\n",
              "      <td>other</td>\n",
              "      <td>other</td>\n",
              "      <td>never pay</td>\n",
              "      <td>never pay</td>\n",
              "      <td>soft</td>\n",
              "      <td>good</td>\n",
              "      <td>seasonal</td>\n",
              "      <td>seasonal</td>\n",
              "      <td>rainwater harvesting</td>\n",
              "      <td>rainwater harvesting</td>\n",
              "      <td>surface</td>\n",
              "      <td>communal standpipe</td>\n",
              "      <td>communal standpipe</td>\n",
              "    </tr>\n",
              "  </tbody>\n",
              "</table>\n",
              "</div>"
            ],
            "text/plain": [
              "      id  amount_tsh  ...              waterpoint_type waterpoint_type_group\n",
              "0  69572      6000.0  ...           communal standpipe    communal standpipe\n",
              "1   8776         0.0  ...           communal standpipe    communal standpipe\n",
              "2  34310        25.0  ...  communal standpipe multiple    communal standpipe\n",
              "3  67743         0.0  ...  communal standpipe multiple    communal standpipe\n",
              "4  19728         0.0  ...           communal standpipe    communal standpipe\n",
              "\n",
              "[5 rows x 40 columns]"
            ]
          },
          "metadata": {
            "tags": []
          },
          "execution_count": 9
        }
      ]
    },
    {
      "cell_type": "code",
      "metadata": {
        "id": "8JXWen1UHPPe"
      },
      "source": [
        "data = features.join(label, on =('id'))"
      ],
      "execution_count": null,
      "outputs": []
    },
    {
      "cell_type": "code",
      "metadata": {
        "colab": {
          "base_uri": "https://localhost:8080/"
        },
        "id": "k8d3dWqVHV0v",
        "outputId": "b78979c9-6a9a-4864-f410-148ce83000e7"
      },
      "source": [
        "data.show(5)"
      ],
      "execution_count": null,
      "outputs": [
        {
          "output_type": "stream",
          "text": [
            "+-----+----------+-------------+------------+----------+------------+-----------+------------+--------------------+-----------+--------------------+----------+-------+-----------+-------------+---------+----------+----------+--------------+--------------------+-----------------+--------------------+------+-----------------+---------------+---------------------+---------------------+----------+----------------+--------------+------------+-------------+-------------+------------+--------------+--------------------+--------------------+------------+--------------------+---------------------+--------------+\n",
            "|   id|amount_tsh|date_recorded|      funder|gps_height|   installer|  longitude|    latitude|            wpt_name|num_private|               basin|subvillage| region|region_code|district_code|      lga|      ward|population|public_meeting|         recorded_by|scheme_management|         scheme_name|permit|construction_year|extraction_type|extraction_type_group|extraction_type_class|management|management_group|       payment|payment_type|water_quality|quality_group|    quantity|quantity_group|              source|         source_type|source_class|     waterpoint_type|waterpoint_type_group|  status_group|\n",
            "+-----+----------+-------------+------------+----------+------------+-----------+------------+--------------------+-----------+--------------------+----------+-------+-----------+-------------+---------+----------+----------+--------------+--------------------+-----------------+--------------------+------+-----------------+---------------+---------------------+---------------------+----------+----------------+--------------+------------+-------------+-------------+------------+--------------+--------------------+--------------------+------------+--------------------+---------------------+--------------+\n",
            "|69572|    6000.0|   2011-03-14|       Roman|      1390|       Roman|34.93809275| -9.85632177|                none|          0|          Lake Nyasa|  Mnyusi B| Iringa|         11|            5|   Ludewa|  Mundindi|       109|          true|GeoData Consultan...|              VWC|               Roman| false|             1999|        gravity|              gravity|              gravity|       vwc|      user-group|  pay annually|    annually|         soft|         good|      enough|        enough|              spring|              spring| groundwater|  communal standpipe|   communal standpipe|    functional|\n",
            "| 8776|       0.0|   2013-03-06|     Grumeti|      1399|     GRUMETI| 34.6987661| -2.14746569|            Zahanati|          0|       Lake Victoria|   Nyamara|   Mara|         20|            2|Serengeti|     Natta|       280|          null|GeoData Consultan...|            Other|                null|  true|             2010|        gravity|              gravity|              gravity|       wug|      user-group|     never pay|   never pay|         soft|         good|insufficient|  insufficient|rainwater harvesting|rainwater harvesting|     surface|  communal standpipe|   communal standpipe|    functional|\n",
            "|34310|      25.0|   2013-02-25|Lottery Club|       686|World vision|37.46066446| -3.82132853|         Kwa Mahundi|          0|             Pangani|   Majengo|Manyara|         21|            4|Simanjiro|   Ngorika|       250|          true|GeoData Consultan...|              VWC|Nyumba ya mungu p...|  true|             2009|        gravity|              gravity|              gravity|       vwc|      user-group|pay per bucket|  per bucket|         soft|         good|      enough|        enough|                 dam|                 dam|     surface|communal standpip...|   communal standpipe|    functional|\n",
            "|67743|       0.0|   2013-01-28|      Unicef|       263|      UNICEF|38.48616088|-11.15529772|Zahanati Ya Nanyumbu|          0|Ruvuma / Southern...|Mahakamani| Mtwara|         90|           63| Nanyumbu|  Nanyumbu|        58|          true|GeoData Consultan...|              VWC|                null|  true|             1986|    submersible|          submersible|          submersible|       vwc|      user-group|     never pay|   never pay|         soft|         good|         dry|           dry|         machine dbh|            borehole| groundwater|communal standpip...|   communal standpipe|non functional|\n",
            "|19728|       0.0|   2011-07-13| Action In A|         0|     Artisan|31.13084671| -1.82535885|             Shuleni|          0|       Lake Victoria|Kyanyamisa| Kagera|         18|            1|  Karagwe|Nyakasimbi|         0|          true|GeoData Consultan...|             null|                null|  true|                0|        gravity|              gravity|              gravity|     other|           other|     never pay|   never pay|         soft|         good|    seasonal|      seasonal|rainwater harvesting|rainwater harvesting|     surface|  communal standpipe|   communal standpipe|    functional|\n",
            "+-----+----------+-------------+------------+----------+------------+-----------+------------+--------------------+-----------+--------------------+----------+-------+-----------+-------------+---------+----------+----------+--------------+--------------------+-----------------+--------------------+------+-----------------+---------------+---------------------+---------------------+----------+----------------+--------------+------------+-------------+-------------+------------+--------------+--------------------+--------------------+------------+--------------------+---------------------+--------------+\n",
            "only showing top 5 rows\n",
            "\n"
          ],
          "name": "stdout"
        }
      ]
    },
    {
      "cell_type": "code",
      "metadata": {
        "id": "2XcgZ9FT7f-G",
        "colab": {
          "base_uri": "https://localhost:8080/"
        },
        "outputId": "598f4984-50d8-4216-f2d8-c29d5069c5d9"
      },
      "source": [
        "print(data.printSchema())"
      ],
      "execution_count": null,
      "outputs": [
        {
          "output_type": "stream",
          "text": [
            "root\n",
            " |-- id: integer (nullable = true)\n",
            " |-- amount_tsh: double (nullable = true)\n",
            " |-- date_recorded: string (nullable = true)\n",
            " |-- funder: string (nullable = true)\n",
            " |-- gps_height: integer (nullable = true)\n",
            " |-- installer: string (nullable = true)\n",
            " |-- longitude: double (nullable = true)\n",
            " |-- latitude: double (nullable = true)\n",
            " |-- wpt_name: string (nullable = true)\n",
            " |-- num_private: integer (nullable = true)\n",
            " |-- basin: string (nullable = true)\n",
            " |-- subvillage: string (nullable = true)\n",
            " |-- region: string (nullable = true)\n",
            " |-- region_code: integer (nullable = true)\n",
            " |-- district_code: integer (nullable = true)\n",
            " |-- lga: string (nullable = true)\n",
            " |-- ward: string (nullable = true)\n",
            " |-- population: integer (nullable = true)\n",
            " |-- public_meeting: boolean (nullable = true)\n",
            " |-- recorded_by: string (nullable = true)\n",
            " |-- scheme_management: string (nullable = true)\n",
            " |-- scheme_name: string (nullable = true)\n",
            " |-- permit: boolean (nullable = true)\n",
            " |-- construction_year: integer (nullable = true)\n",
            " |-- extraction_type: string (nullable = true)\n",
            " |-- extraction_type_group: string (nullable = true)\n",
            " |-- extraction_type_class: string (nullable = true)\n",
            " |-- management: string (nullable = true)\n",
            " |-- management_group: string (nullable = true)\n",
            " |-- payment: string (nullable = true)\n",
            " |-- payment_type: string (nullable = true)\n",
            " |-- water_quality: string (nullable = true)\n",
            " |-- quality_group: string (nullable = true)\n",
            " |-- quantity: string (nullable = true)\n",
            " |-- quantity_group: string (nullable = true)\n",
            " |-- source: string (nullable = true)\n",
            " |-- source_type: string (nullable = true)\n",
            " |-- source_class: string (nullable = true)\n",
            " |-- waterpoint_type: string (nullable = true)\n",
            " |-- waterpoint_type_group: string (nullable = true)\n",
            " |-- status_group: string (nullable = true)\n",
            "\n",
            "None\n"
          ],
          "name": "stdout"
        }
      ]
    },
    {
      "cell_type": "code",
      "metadata": {
        "id": "Hiz2yMf27fla",
        "colab": {
          "base_uri": "https://localhost:8080/"
        },
        "outputId": "5cb0856f-b90c-435a-beba-7b743d7dc743"
      },
      "source": [
        "data.show(10)"
      ],
      "execution_count": null,
      "outputs": [
        {
          "output_type": "stream",
          "text": [
            "+-----+----------+-------------+-------------------+----------+------------+-----------+------------+--------------------+-----------+--------------------+---------------+---------+-----------+-------------+---------------+----------+----------+--------------+--------------------+-----------------+--------------------+------+-----------------+---------------+---------------------+---------------------+----------+----------------+--------------+------------+-------------+-------------+------------+--------------+--------------------+--------------------+------------+--------------------+---------------------+--------------+\n",
            "|   id|amount_tsh|date_recorded|             funder|gps_height|   installer|  longitude|    latitude|            wpt_name|num_private|               basin|     subvillage|   region|region_code|district_code|            lga|      ward|population|public_meeting|         recorded_by|scheme_management|         scheme_name|permit|construction_year|extraction_type|extraction_type_group|extraction_type_class|management|management_group|       payment|payment_type|water_quality|quality_group|    quantity|quantity_group|              source|         source_type|source_class|     waterpoint_type|waterpoint_type_group|  status_group|\n",
            "+-----+----------+-------------+-------------------+----------+------------+-----------+------------+--------------------+-----------+--------------------+---------------+---------+-----------+-------------+---------------+----------+----------+--------------+--------------------+-----------------+--------------------+------+-----------------+---------------+---------------------+---------------------+----------+----------------+--------------+------------+-------------+-------------+------------+--------------+--------------------+--------------------+------------+--------------------+---------------------+--------------+\n",
            "|69572|    6000.0|   2011-03-14|              Roman|      1390|       Roman|34.93809275| -9.85632177|                none|          0|          Lake Nyasa|       Mnyusi B|   Iringa|         11|            5|         Ludewa|  Mundindi|       109|          true|GeoData Consultan...|              VWC|               Roman| false|             1999|        gravity|              gravity|              gravity|       vwc|      user-group|  pay annually|    annually|         soft|         good|      enough|        enough|              spring|              spring| groundwater|  communal standpipe|   communal standpipe|    functional|\n",
            "| 8776|       0.0|   2013-03-06|            Grumeti|      1399|     GRUMETI| 34.6987661| -2.14746569|            Zahanati|          0|       Lake Victoria|        Nyamara|     Mara|         20|            2|      Serengeti|     Natta|       280|          null|GeoData Consultan...|            Other|                null|  true|             2010|        gravity|              gravity|              gravity|       wug|      user-group|     never pay|   never pay|         soft|         good|insufficient|  insufficient|rainwater harvesting|rainwater harvesting|     surface|  communal standpipe|   communal standpipe|    functional|\n",
            "|34310|      25.0|   2013-02-25|       Lottery Club|       686|World vision|37.46066446| -3.82132853|         Kwa Mahundi|          0|             Pangani|        Majengo|  Manyara|         21|            4|      Simanjiro|   Ngorika|       250|          true|GeoData Consultan...|              VWC|Nyumba ya mungu p...|  true|             2009|        gravity|              gravity|              gravity|       vwc|      user-group|pay per bucket|  per bucket|         soft|         good|      enough|        enough|                 dam|                 dam|     surface|communal standpip...|   communal standpipe|    functional|\n",
            "|67743|       0.0|   2013-01-28|             Unicef|       263|      UNICEF|38.48616088|-11.15529772|Zahanati Ya Nanyumbu|          0|Ruvuma / Southern...|     Mahakamani|   Mtwara|         90|           63|       Nanyumbu|  Nanyumbu|        58|          true|GeoData Consultan...|              VWC|                null|  true|             1986|    submersible|          submersible|          submersible|       vwc|      user-group|     never pay|   never pay|         soft|         good|         dry|           dry|         machine dbh|            borehole| groundwater|communal standpip...|   communal standpipe|non functional|\n",
            "|19728|       0.0|   2011-07-13|        Action In A|         0|     Artisan|31.13084671| -1.82535885|             Shuleni|          0|       Lake Victoria|     Kyanyamisa|   Kagera|         18|            1|        Karagwe|Nyakasimbi|         0|          true|GeoData Consultan...|             null|                null|  true|                0|        gravity|              gravity|              gravity|     other|           other|     never pay|   never pay|         soft|         good|    seasonal|      seasonal|rainwater harvesting|rainwater harvesting|     surface|  communal standpipe|   communal standpipe|    functional|\n",
            "| 9944|      20.0|   2011-03-13|Mkinga Distric Coun|         0|         DWE| 39.1727956| -4.76558728|              Tajiri|          0|             Pangani|    Moa/Mwereme|    Tanga|          4|            8|         Mkinga|       Moa|         1|          true|GeoData Consultan...|              VWC|           Zingibali|  true|             2009|    submersible|          submersible|          submersible|       vwc|      user-group|pay per bucket|  per bucket|        salty|        salty|      enough|        enough|               other|               other|     unknown|communal standpip...|   communal standpipe|    functional|\n",
            "|19816|       0.0|   2012-10-01|               Dwsp|         0|        DWSP|33.36240982| -3.76636472|          Kwa Ngomho|          0|            Internal|  Ishinabulandi|Shinyanga|         17|            3|Shinyanga Rural|    Samuye|         0|          true|GeoData Consultan...|              VWC|                null|  true|                0|         swn 80|               swn 80|             handpump|       vwc|      user-group|     never pay|   never pay|         soft|         good|      enough|        enough|         machine dbh|            borehole| groundwater|           hand pump|            hand pump|non functional|\n",
            "|54551|       0.0|   2012-10-09|              Rwssp|         0|         DWE|32.62061707| -4.22619802|        Tushirikiane|          0|     Lake Tanganyika|Nyawishi Center|Shinyanga|         17|            3|         Kahama|    Chambo|         0|          true|GeoData Consultan...|             null|                null|  true|                0|    nira/tanira|          nira/tanira|             handpump|       wug|      user-group|       unknown|     unknown|        milky|        milky|      enough|        enough|        shallow well|        shallow well| groundwater|           hand pump|            hand pump|non functional|\n",
            "|53934|       0.0|   2012-11-03|           Wateraid|         0|   Water Aid|32.71110001| -5.14671181|   Kwa Ramadhan Musa|          0|     Lake Tanganyika|     Imalauduki|   Tabora|         14|            6|   Tabora Urban|  Itetemia|         0|          true|GeoData Consultan...|              VWC|                null|  true|                0|  india mark ii|        india mark ii|             handpump|       vwc|      user-group|     never pay|   never pay|        salty|        salty|    seasonal|      seasonal|         machine dbh|            borehole| groundwater|           hand pump|            hand pump|non functional|\n",
            "|46144|       0.0|   2011-08-03|        Isingiro Ho|         0|     Artisan|30.62699053| -1.25705061|             Kwapeto|          0|       Lake Victoria|       Mkonomre|   Kagera|         18|            1|        Karagwe|    Kaisho|         0|          true|GeoData Consultan...|             null|                null|  true|                0|    nira/tanira|          nira/tanira|             handpump|       vwc|      user-group|     never pay|   never pay|         soft|         good|      enough|        enough|        shallow well|        shallow well| groundwater|           hand pump|            hand pump|    functional|\n",
            "+-----+----------+-------------+-------------------+----------+------------+-----------+------------+--------------------+-----------+--------------------+---------------+---------+-----------+-------------+---------------+----------+----------+--------------+--------------------+-----------------+--------------------+------+-----------------+---------------+---------------------+---------------------+----------+----------------+--------------+------------+-------------+-------------+------------+--------------+--------------------+--------------------+------------+--------------------+---------------------+--------------+\n",
            "only showing top 10 rows\n",
            "\n"
          ],
          "name": "stdout"
        }
      ]
    },
    {
      "cell_type": "code",
      "metadata": {
        "id": "qLDXbAsx_53W"
      },
      "source": [
        "#изменение типа колонки на строку\n",
        "data = data.withColumn('region_code', col('region_code').cast(StringType()))\\\n",
        ".withColumn('district_code', col('district_code').cast(StringType()))"
      ],
      "execution_count": null,
      "outputs": []
    },
    {
      "cell_type": "code",
      "metadata": {
        "id": "L5dRfsxh7fMn",
        "colab": {
          "base_uri": "https://localhost:8080/"
        },
        "outputId": "0dd64ec8-145b-4ed5-87a5-3dfdc1bf9c25"
      },
      "source": [
        "data.printSchema()"
      ],
      "execution_count": null,
      "outputs": [
        {
          "output_type": "stream",
          "text": [
            "root\n",
            " |-- id: integer (nullable = true)\n",
            " |-- amount_tsh: double (nullable = true)\n",
            " |-- date_recorded: string (nullable = true)\n",
            " |-- funder: string (nullable = true)\n",
            " |-- gps_height: integer (nullable = true)\n",
            " |-- installer: string (nullable = true)\n",
            " |-- longitude: double (nullable = true)\n",
            " |-- latitude: double (nullable = true)\n",
            " |-- wpt_name: string (nullable = true)\n",
            " |-- num_private: integer (nullable = true)\n",
            " |-- basin: string (nullable = true)\n",
            " |-- subvillage: string (nullable = true)\n",
            " |-- region: string (nullable = true)\n",
            " |-- region_code: string (nullable = true)\n",
            " |-- district_code: string (nullable = true)\n",
            " |-- lga: string (nullable = true)\n",
            " |-- ward: string (nullable = true)\n",
            " |-- population: integer (nullable = true)\n",
            " |-- public_meeting: boolean (nullable = true)\n",
            " |-- recorded_by: string (nullable = true)\n",
            " |-- scheme_management: string (nullable = true)\n",
            " |-- scheme_name: string (nullable = true)\n",
            " |-- permit: boolean (nullable = true)\n",
            " |-- construction_year: integer (nullable = true)\n",
            " |-- extraction_type: string (nullable = true)\n",
            " |-- extraction_type_group: string (nullable = true)\n",
            " |-- extraction_type_class: string (nullable = true)\n",
            " |-- management: string (nullable = true)\n",
            " |-- management_group: string (nullable = true)\n",
            " |-- payment: string (nullable = true)\n",
            " |-- payment_type: string (nullable = true)\n",
            " |-- water_quality: string (nullable = true)\n",
            " |-- quality_group: string (nullable = true)\n",
            " |-- quantity: string (nullable = true)\n",
            " |-- quantity_group: string (nullable = true)\n",
            " |-- source: string (nullable = true)\n",
            " |-- source_type: string (nullable = true)\n",
            " |-- source_class: string (nullable = true)\n",
            " |-- waterpoint_type: string (nullable = true)\n",
            " |-- waterpoint_type_group: string (nullable = true)\n",
            " |-- status_group: string (nullable = true)\n",
            "\n"
          ],
          "name": "stdout"
        }
      ]
    },
    {
      "cell_type": "code",
      "metadata": {
        "id": "EcfYuB-ru9G9"
      },
      "source": [
        "#убрать дубли по полю id\n",
        "data = data.dropDuplicates(['id'])"
      ],
      "execution_count": null,
      "outputs": []
    },
    {
      "cell_type": "code",
      "metadata": {
        "id": "GghyiyWsLFhP"
      },
      "source": [
        "#избавиться от линних пробелов \n",
        "str_cols = [item[0] for item in data.dtypes if item [1].startswith('string')]\n",
        "for cols in str_cols:\n",
        "  data = data.withColumn(cols, trim(data[cols]))"
      ],
      "execution_count": null,
      "outputs": []
    },
    {
      "cell_type": "code",
      "metadata": {
        "colab": {
          "base_uri": "https://localhost:8080/"
        },
        "id": "0n9JxavW_WRb",
        "outputId": "e11257e9-6a7c-4017-e7a4-68dbc66d9b4c"
      },
      "source": [
        "#проверки на пропуски в столбцах\n",
        "data.select(count(when(isnan('funder'), 'funder'))).alias('funder').show()"
      ],
      "execution_count": null,
      "outputs": [
        {
          "output_type": "stream",
          "text": [
            "+----------------------------------------------+\n",
            "|count(CASE WHEN isnan(funder) THEN funder END)|\n",
            "+----------------------------------------------+\n",
            "|                                             0|\n",
            "+----------------------------------------------+\n",
            "\n"
          ],
          "name": "stdout"
        }
      ]
    },
    {
      "cell_type": "code",
      "metadata": {
        "colab": {
          "base_uri": "https://localhost:8080/"
        },
        "id": "5hbQMXb0_vKr",
        "outputId": "ed070096-2393-43b9-e05e-c7ece8708406"
      },
      "source": [
        "data.select(count(when(col('funder').isNull(), 'funder'))).show()"
      ],
      "execution_count": null,
      "outputs": [
        {
          "output_type": "stream",
          "text": [
            "+-------------------------------------------------+\n",
            "|count(CASE WHEN (funder IS NULL) THEN funder END)|\n",
            "+-------------------------------------------------+\n",
            "|                                             3635|\n",
            "+-------------------------------------------------+\n",
            "\n"
          ],
          "name": "stdout"
        }
      ]
    },
    {
      "cell_type": "code",
      "metadata": {
        "colab": {
          "base_uri": "https://localhost:8080/"
        },
        "id": "9Ie7WVSrATfs",
        "outputId": "8c9467e0-790e-4d5d-e6d2-3217224951e0"
      },
      "source": [
        "for c in data.columns:\n",
        "  if c not in ['date_recorded', 'public_meeting', 'permit']:\n",
        "    data.select([count(when(isnan(c)|col(c).isNull(), c)).alias(c)]).show()"
      ],
      "execution_count": null,
      "outputs": [
        {
          "output_type": "stream",
          "text": [
            "+---+\n",
            "| id|\n",
            "+---+\n",
            "|  0|\n",
            "+---+\n",
            "\n",
            "+----------+\n",
            "|amount_tsh|\n",
            "+----------+\n",
            "|         0|\n",
            "+----------+\n",
            "\n",
            "+------+\n",
            "|funder|\n",
            "+------+\n",
            "|  3635|\n",
            "+------+\n",
            "\n",
            "+----------+\n",
            "|gps_height|\n",
            "+----------+\n",
            "|         0|\n",
            "+----------+\n",
            "\n",
            "+---------+\n",
            "|installer|\n",
            "+---------+\n",
            "|     3655|\n",
            "+---------+\n",
            "\n",
            "+---------+\n",
            "|longitude|\n",
            "+---------+\n",
            "|        0|\n",
            "+---------+\n",
            "\n",
            "+--------+\n",
            "|latitude|\n",
            "+--------+\n",
            "|       0|\n",
            "+--------+\n",
            "\n",
            "+--------+\n",
            "|wpt_name|\n",
            "+--------+\n",
            "|       0|\n",
            "+--------+\n",
            "\n",
            "+-----------+\n",
            "|num_private|\n",
            "+-----------+\n",
            "|          0|\n",
            "+-----------+\n",
            "\n",
            "+-----+\n",
            "|basin|\n",
            "+-----+\n",
            "|    0|\n",
            "+-----+\n",
            "\n",
            "+----------+\n",
            "|subvillage|\n",
            "+----------+\n",
            "|       371|\n",
            "+----------+\n",
            "\n",
            "+------+\n",
            "|region|\n",
            "+------+\n",
            "|     0|\n",
            "+------+\n",
            "\n",
            "+-----------+\n",
            "|region_code|\n",
            "+-----------+\n",
            "|          0|\n",
            "+-----------+\n",
            "\n",
            "+-------------+\n",
            "|district_code|\n",
            "+-------------+\n",
            "|            0|\n",
            "+-------------+\n",
            "\n",
            "+---+\n",
            "|lga|\n",
            "+---+\n",
            "|  0|\n",
            "+---+\n",
            "\n",
            "+----+\n",
            "|ward|\n",
            "+----+\n",
            "|   0|\n",
            "+----+\n",
            "\n",
            "+----------+\n",
            "|population|\n",
            "+----------+\n",
            "|         0|\n",
            "+----------+\n",
            "\n",
            "+-----------+\n",
            "|recorded_by|\n",
            "+-----------+\n",
            "|          0|\n",
            "+-----------+\n",
            "\n",
            "+-----------------+\n",
            "|scheme_management|\n",
            "+-----------------+\n",
            "|             3877|\n",
            "+-----------------+\n",
            "\n",
            "+-----------+\n",
            "|scheme_name|\n",
            "+-----------+\n",
            "|      28166|\n",
            "+-----------+\n",
            "\n",
            "+-----------------+\n",
            "|construction_year|\n",
            "+-----------------+\n",
            "|                0|\n",
            "+-----------------+\n",
            "\n",
            "+---------------+\n",
            "|extraction_type|\n",
            "+---------------+\n",
            "|              0|\n",
            "+---------------+\n",
            "\n",
            "+---------------------+\n",
            "|extraction_type_group|\n",
            "+---------------------+\n",
            "|                    0|\n",
            "+---------------------+\n",
            "\n",
            "+---------------------+\n",
            "|extraction_type_class|\n",
            "+---------------------+\n",
            "|                    0|\n",
            "+---------------------+\n",
            "\n",
            "+----------+\n",
            "|management|\n",
            "+----------+\n",
            "|         0|\n",
            "+----------+\n",
            "\n",
            "+----------------+\n",
            "|management_group|\n",
            "+----------------+\n",
            "|               0|\n",
            "+----------------+\n",
            "\n",
            "+-------+\n",
            "|payment|\n",
            "+-------+\n",
            "|      0|\n",
            "+-------+\n",
            "\n",
            "+------------+\n",
            "|payment_type|\n",
            "+------------+\n",
            "|           0|\n",
            "+------------+\n",
            "\n",
            "+-------------+\n",
            "|water_quality|\n",
            "+-------------+\n",
            "|            0|\n",
            "+-------------+\n",
            "\n",
            "+-------------+\n",
            "|quality_group|\n",
            "+-------------+\n",
            "|            0|\n",
            "+-------------+\n",
            "\n",
            "+--------+\n",
            "|quantity|\n",
            "+--------+\n",
            "|       0|\n",
            "+--------+\n",
            "\n",
            "+--------------+\n",
            "|quantity_group|\n",
            "+--------------+\n",
            "|             0|\n",
            "+--------------+\n",
            "\n",
            "+------+\n",
            "|source|\n",
            "+------+\n",
            "|     0|\n",
            "+------+\n",
            "\n",
            "+-----------+\n",
            "|source_type|\n",
            "+-----------+\n",
            "|          0|\n",
            "+-----------+\n",
            "\n",
            "+------------+\n",
            "|source_class|\n",
            "+------------+\n",
            "|           0|\n",
            "+------------+\n",
            "\n",
            "+---------------+\n",
            "|waterpoint_type|\n",
            "+---------------+\n",
            "|              0|\n",
            "+---------------+\n",
            "\n",
            "+---------------------+\n",
            "|waterpoint_type_group|\n",
            "+---------------------+\n",
            "|                    0|\n",
            "+---------------------+\n",
            "\n",
            "+------------+\n",
            "|status_group|\n",
            "+------------+\n",
            "|           0|\n",
            "+------------+\n",
            "\n"
          ],
          "name": "stdout"
        }
      ]
    },
    {
      "cell_type": "code",
      "metadata": {
        "id": "SGdEdHici0Zq",
        "colab": {
          "base_uri": "https://localhost:8080/"
        },
        "outputId": "1725a5ed-873b-4396-f174-898f6fd5c3e8"
      },
      "source": [
        "data.select([count(when(isnan(c) | col(c).isNull(), c)).alias(c) for c in data.columns if c not in {'date_recorded', 'public_meeting', 'permit'}]).show()"
      ],
      "execution_count": null,
      "outputs": [
        {
          "output_type": "stream",
          "text": [
            "+---+----------+------+----------+---------+---------+--------+--------+-----------+-----+----------+------+-----------+-------------+---+----+----------+-----------+-----------------+-----------+-----------------+---------------+---------------------+---------------------+----------+----------------+-------+------------+-------------+-------------+--------+--------------+------+-----------+------------+---------------+---------------------+------------+\n",
            "| id|amount_tsh|funder|gps_height|installer|longitude|latitude|wpt_name|num_private|basin|subvillage|region|region_code|district_code|lga|ward|population|recorded_by|scheme_management|scheme_name|construction_year|extraction_type|extraction_type_group|extraction_type_class|management|management_group|payment|payment_type|water_quality|quality_group|quantity|quantity_group|source|source_type|source_class|waterpoint_type|waterpoint_type_group|status_group|\n",
            "+---+----------+------+----------+---------+---------+--------+--------+-----------+-----+----------+------+-----------+-------------+---+----+----------+-----------+-----------------+-----------+-----------------+---------------+---------------------+---------------------+----------+----------------+-------+------------+-------------+-------------+--------+--------------+------+-----------+------------+---------------+---------------------+------------+\n",
            "|  0|         0|  3635|         0|     3655|        0|       0|       0|          0|    0|       371|     0|          0|            0|  0|   0|         0|          0|             3877|      28166|                0|              0|                    0|                    0|         0|               0|      0|           0|            0|            0|       0|             0|     0|          0|           0|              0|                    0|           0|\n",
            "+---+----------+------+----------+---------+---------+--------+--------+-----------+-----+----------+------+-----------+-------------+---+----+----------+-----------+-----------------+-----------+-----------------+---------------+---------------------+---------------------+----------+----------------+-------+------------+-------------+-------------+--------+--------------+------+-----------+------------+---------------+---------------------+------------+\n",
            "\n"
          ],
          "name": "stdout"
        }
      ]
    },
    {
      "cell_type": "code",
      "metadata": {
        "id": "Q135E7kjqJqk",
        "colab": {
          "base_uri": "https://localhost:8080/"
        },
        "outputId": "55b1a20d-bbb6-416c-b619-eb10261b0847"
      },
      "source": [
        "#пропуски в процентном соотношении\n",
        "data.select([(count(when(isnan(c) | col(c).isNull(), c))/data.count()).alias(c) for c in data.columns if c not in {'date_recorded', 'public_meeting', 'permit'}]).show()"
      ],
      "execution_count": null,
      "outputs": [
        {
          "output_type": "stream",
          "text": [
            "+---+----------+------------------+----------+--------------------+---------+--------+--------+-----------+-----+--------------------+------+-----------+-------------+---+----+----------+-----------+-------------------+------------------+-----------------+---------------+---------------------+---------------------+----------+----------------+-------+------------+-------------+-------------+--------+--------------+------+-----------+------------+---------------+---------------------+------------+\n",
            "| id|amount_tsh|            funder|gps_height|           installer|longitude|latitude|wpt_name|num_private|basin|          subvillage|region|region_code|district_code|lga|ward|population|recorded_by|  scheme_management|       scheme_name|construction_year|extraction_type|extraction_type_group|extraction_type_class|management|management_group|payment|payment_type|water_quality|quality_group|quantity|quantity_group|source|source_type|source_class|waterpoint_type|waterpoint_type_group|status_group|\n",
            "+---+----------+------------------+----------+--------------------+---------+--------+--------+-----------+-----+--------------------+------+-----------+-------------+---+----+----------+-----------+-------------------+------------------+-----------------+---------------+---------------------+---------------------+----------+----------------+-------+------------+-------------+-------------+--------+--------------+------+-----------+------------+---------------+---------------------+------------+\n",
            "|0.0|       0.0|0.0611952861952862|       0.0|0.061531986531986535|      0.0|     0.0|     0.0|        0.0|  0.0|0.006245791245791...|   0.0|        0.0|          0.0|0.0| 0.0|       0.0|        0.0|0.06526936026936027|0.4741750841750842|              0.0|            0.0|                  0.0|                  0.0|       0.0|             0.0|    0.0|         0.0|          0.0|          0.0|     0.0|           0.0|   0.0|        0.0|         0.0|            0.0|                  0.0|         0.0|\n",
            "+---+----------+------------------+----------+--------------------+---------+--------+--------+-----------+-----+--------------------+------+-----------+-------------+---+----+----------+-----------+-------------------+------------------+-----------------+---------------+---------------------+---------------------+----------+----------------+-------+------------+-------------+-------------+--------+--------------+------+-----------+------------+---------------+---------------------+------------+\n",
            "\n"
          ],
          "name": "stdout"
        }
      ]
    },
    {
      "cell_type": "code",
      "metadata": {
        "id": "hoRiuCgbs4Jm"
      },
      "source": [
        "agg_row = data.select([(count(when(isnan(c) | col(c).isNull(), c))/data.count()).alias(c) for c in data.columns if c not in {'date_recorded', 'public_meeting', 'permit'}]).collect()"
      ],
      "execution_count": null,
      "outputs": []
    },
    {
      "cell_type": "code",
      "metadata": {
        "colab": {
          "base_uri": "https://localhost:8080/"
        },
        "id": "Q930wCSzAobz",
        "outputId": "8346b577-e1f8-4d9d-825a-cda00217da14"
      },
      "source": [
        "agg_row[0]"
      ],
      "execution_count": null,
      "outputs": [
        {
          "output_type": "execute_result",
          "data": {
            "text/plain": [
              "Row(id=0.0, amount_tsh=0.0, funder=0.0611952861952862, gps_height=0.0, installer=0.061531986531986535, longitude=0.0, latitude=0.0, wpt_name=0.0, num_private=0.0, basin=0.0, subvillage=0.0062457912457912455, region=0.0, region_code=0.0, district_code=0.0, lga=0.0, ward=0.0, population=0.0, recorded_by=0.0, scheme_management=0.06526936026936027, scheme_name=0.4741750841750842, construction_year=0.0, extraction_type=0.0, extraction_type_group=0.0, extraction_type_class=0.0, management=0.0, management_group=0.0, payment=0.0, payment_type=0.0, water_quality=0.0, quality_group=0.0, quantity=0.0, quantity_group=0.0, source=0.0, source_type=0.0, source_class=0.0, waterpoint_type=0.0, waterpoint_type_group=0.0, status_group=0.0)"
            ]
          },
          "metadata": {
            "tags": []
          },
          "execution_count": 26
        }
      ]
    },
    {
      "cell_type": "code",
      "metadata": {
        "id": "4IW8I3LJ9WVZ"
      },
      "source": [
        "agg_dict_list = [row.asDict() for row in agg_row]\n",
        "agg_dict = agg_dict_list[0]"
      ],
      "execution_count": null,
      "outputs": []
    },
    {
      "cell_type": "code",
      "metadata": {
        "colab": {
          "base_uri": "https://localhost:8080/"
        },
        "id": "p8pflKjf9V52",
        "outputId": "d5aa0f3f-2515-446a-fe64-9dc22d86b09d"
      },
      "source": [
        "agg_dict"
      ],
      "execution_count": null,
      "outputs": [
        {
          "output_type": "execute_result",
          "data": {
            "text/plain": [
              "{'amount_tsh': 0.0,\n",
              " 'basin': 0.0,\n",
              " 'construction_year': 0.0,\n",
              " 'district_code': 0.0,\n",
              " 'extraction_type': 0.0,\n",
              " 'extraction_type_class': 0.0,\n",
              " 'extraction_type_group': 0.0,\n",
              " 'funder': 0.0611952861952862,\n",
              " 'gps_height': 0.0,\n",
              " 'id': 0.0,\n",
              " 'installer': 0.061531986531986535,\n",
              " 'latitude': 0.0,\n",
              " 'lga': 0.0,\n",
              " 'longitude': 0.0,\n",
              " 'management': 0.0,\n",
              " 'management_group': 0.0,\n",
              " 'num_private': 0.0,\n",
              " 'payment': 0.0,\n",
              " 'payment_type': 0.0,\n",
              " 'population': 0.0,\n",
              " 'quality_group': 0.0,\n",
              " 'quantity': 0.0,\n",
              " 'quantity_group': 0.0,\n",
              " 'recorded_by': 0.0,\n",
              " 'region': 0.0,\n",
              " 'region_code': 0.0,\n",
              " 'scheme_management': 0.06526936026936027,\n",
              " 'scheme_name': 0.4741750841750842,\n",
              " 'source': 0.0,\n",
              " 'source_class': 0.0,\n",
              " 'source_type': 0.0,\n",
              " 'status_group': 0.0,\n",
              " 'subvillage': 0.0062457912457912455,\n",
              " 'ward': 0.0,\n",
              " 'water_quality': 0.0,\n",
              " 'waterpoint_type': 0.0,\n",
              " 'waterpoint_type_group': 0.0,\n",
              " 'wpt_name': 0.0}"
            ]
          },
          "metadata": {
            "tags": []
          },
          "execution_count": 28
        }
      ]
    },
    {
      "cell_type": "code",
      "metadata": {
        "colab": {
          "base_uri": "https://localhost:8080/"
        },
        "id": "b7x372GO91OX",
        "outputId": "202cc22d-092f-4f3d-a834-0a21a6aa7ffd"
      },
      "source": [
        "col_null = list({i for i in agg_dict if agg_dict[i] > 0.4})\n",
        "print(agg_dict)\n",
        "print(col_null)"
      ],
      "execution_count": null,
      "outputs": [
        {
          "output_type": "stream",
          "text": [
            "{'id': 0.0, 'amount_tsh': 0.0, 'funder': 0.0611952861952862, 'gps_height': 0.0, 'installer': 0.061531986531986535, 'longitude': 0.0, 'latitude': 0.0, 'wpt_name': 0.0, 'num_private': 0.0, 'basin': 0.0, 'subvillage': 0.0062457912457912455, 'region': 0.0, 'region_code': 0.0, 'district_code': 0.0, 'lga': 0.0, 'ward': 0.0, 'population': 0.0, 'recorded_by': 0.0, 'scheme_management': 0.06526936026936027, 'scheme_name': 0.4741750841750842, 'construction_year': 0.0, 'extraction_type': 0.0, 'extraction_type_group': 0.0, 'extraction_type_class': 0.0, 'management': 0.0, 'management_group': 0.0, 'payment': 0.0, 'payment_type': 0.0, 'water_quality': 0.0, 'quality_group': 0.0, 'quantity': 0.0, 'quantity_group': 0.0, 'source': 0.0, 'source_type': 0.0, 'source_class': 0.0, 'waterpoint_type': 0.0, 'waterpoint_type_group': 0.0, 'status_group': 0.0}\n",
            "['scheme_name']\n"
          ],
          "name": "stdout"
        }
      ]
    },
    {
      "cell_type": "code",
      "metadata": {
        "id": "vfse4PbE-Ndn"
      },
      "source": [
        "#избавляемся от олонок со слишком большим количеством пропусков \n",
        "data = data.drop(*col_null)"
      ],
      "execution_count": null,
      "outputs": []
    },
    {
      "cell_type": "code",
      "metadata": {
        "id": "HUsdgoahiEXd",
        "colab": {
          "base_uri": "https://localhost:8080/"
        },
        "outputId": "5d904ae8-eba3-414c-81d3-d02297e711ac"
      },
      "source": [
        "data.groupBy('recorded_by').count().show()"
      ],
      "execution_count": null,
      "outputs": [
        {
          "output_type": "stream",
          "text": [
            "+--------------------+-----+\n",
            "|         recorded_by|count|\n",
            "+--------------------+-----+\n",
            "|GeoData Consultan...|59400|\n",
            "+--------------------+-----+\n",
            "\n"
          ],
          "name": "stdout"
        }
      ]
    },
    {
      "cell_type": "code",
      "metadata": {
        "id": "A7zeDN1cx9oP",
        "colab": {
          "base_uri": "https://localhost:8080/"
        },
        "outputId": "501ad1ad-6720-457f-da41-bb37fd45b49f"
      },
      "source": [
        "data.groupBy('water_quality').count()\\\n",
        ".orderBy('count', ascending = False)\\\n",
        ".show()"
      ],
      "execution_count": null,
      "outputs": [
        {
          "output_type": "stream",
          "text": [
            "+------------------+-----+\n",
            "|     water_quality|count|\n",
            "+------------------+-----+\n",
            "|              soft|50818|\n",
            "|             salty| 4856|\n",
            "|           unknown| 1876|\n",
            "|             milky|  804|\n",
            "|          coloured|  490|\n",
            "|   salty abandoned|  339|\n",
            "|          fluoride|  200|\n",
            "|fluoride abandoned|   17|\n",
            "+------------------+-----+\n",
            "\n"
          ],
          "name": "stdout"
        }
      ]
    },
    {
      "cell_type": "code",
      "metadata": {
        "id": "rtu2cMrKyIFk"
      },
      "source": [
        "data = data.drop('recorded_by')"
      ],
      "execution_count": null,
      "outputs": []
    },
    {
      "cell_type": "code",
      "metadata": {
        "id": "VOj2f4fxmdQ1",
        "colab": {
          "base_uri": "https://localhost:8080/"
        },
        "outputId": "a49ad7e4-c177-48dc-9116-b6a933041646"
      },
      "source": [
        "#сводник\n",
        "data\\\n",
        ".groupBy('status_group').pivot('region').sum('amount_tsh').show()"
      ],
      "execution_count": null,
      "outputs": [
        {
          "output_type": "stream",
          "text": [
            "+--------------------+---------+-------------+------+---------+------+--------+------------------+-------+--------+--------+-----+--------+-------+-------+---------+--------+---------+---------+--------+------+--------+\n",
            "|        status_group|   Arusha|Dar es Salaam|Dodoma|   Iringa|Kagera|  Kigoma|       Kilimanjaro|  Lindi| Manyara|    Mara|Mbeya|Morogoro| Mtwara| Mwanza|    Pwani|   Rukwa|   Ruvuma|Shinyanga| Singida|Tabora|   Tanga|\n",
            "+--------------------+---------+-------------+------+---------+------+--------+------------------+-------+--------+--------+-----+--------+-------+-------+---------+--------+---------+---------+--------+------+--------+\n",
            "|functional needs ...|  10280.0|          0.0|   0.0| 118400.0|   0.0|270770.0|          129248.0| 3625.0| 71315.0|   900.0|  0.0| 70005.0|36240.0|10000.0|    520.0|292980.0| 125650.0|   2200.0|  6505.0|   0.0|  4310.0|\n",
            "|          functional|1125485.0|     181175.0|   0.0|5515710.0|   0.0|530725.0|         746942.25|24560.0|312745.0| 96786.0|  0.0|587642.0|52710.0|33550.0|1567765.0|776025.0|1827983.0|  53000.0|863415.0|   0.0|600931.0|\n",
            "|      non functional|  73330.0|       9374.0|   0.0| 752295.0|   0.0|177510.0|248454.40000000002|15730.0| 31420.0|116700.0|  0.0|184120.0|14096.0| 4500.0| 160560.0|416830.0| 414669.0|   1000.0| 74510.2|   0.0|123237.0|\n",
            "+--------------------+---------+-------------+------+---------+------+--------+------------------+-------+--------+--------+-----+--------+-------+-------+---------+--------+---------+---------+--------+------+--------+\n",
            "\n"
          ],
          "name": "stdout"
        }
      ]
    },
    {
      "cell_type": "code",
      "metadata": {
        "id": "3uPpQBZ3CAVc",
        "colab": {
          "base_uri": "https://localhost:8080/"
        },
        "outputId": "68a4406e-9246-41d0-d3b4-ee8793c2c823"
      },
      "source": [
        "print(str_cols)"
      ],
      "execution_count": null,
      "outputs": [
        {
          "output_type": "stream",
          "text": [
            "['date_recorded', 'funder', 'installer', 'wpt_name', 'basin', 'subvillage', 'region', 'region_code', 'district_code', 'lga', 'ward', 'recorded_by', 'scheme_management', 'scheme_name', 'extraction_type', 'extraction_type_group', 'extraction_type_class', 'management', 'management_group', 'payment', 'payment_type', 'water_quality', 'quality_group', 'quantity', 'quantity_group', 'source', 'source_type', 'source_class', 'waterpoint_type', 'waterpoint_type_group', 'status_group']\n"
          ],
          "name": "stdout"
        }
      ]
    },
    {
      "cell_type": "code",
      "metadata": {
        "id": "eXilO8LqByNa",
        "colab": {
          "base_uri": "https://localhost:8080/"
        },
        "outputId": "b0985052-afe9-401a-a135-bb8075b09edc"
      },
      "source": [
        "for column in str_cols[:2]:\n",
        "  print(column)\n",
        "  print(data.groupBy(column).count().orderBy('count', ascending = False).show())\n",
        "  values_cat = data.groupBy(column).count().collect()\n",
        "  lessthan = [x[0] for x in values_cat if x[1] < 1000]\n",
        "  data = data.withColumn(column, when(data[column].isin(lessthan) ,\"others\").otherwise(data[column]))\n",
        "  #data = data.withColumn(column, when(col(column).isin(lessthan), 'Others').overwise(col(column)))\n",
        "  data.groupBy(column).count().orderBy('count', ascending = False).show()"
      ],
      "execution_count": null,
      "outputs": [
        {
          "output_type": "stream",
          "text": [
            "date_recorded\n",
            "+-------------+-----+\n",
            "|date_recorded|count|\n",
            "+-------------+-----+\n",
            "|   2011-03-15|  572|\n",
            "|   2011-03-17|  558|\n",
            "|   2013-02-03|  546|\n",
            "|   2011-03-14|  520|\n",
            "|   2011-03-16|  513|\n",
            "|   2011-03-18|  497|\n",
            "|   2011-03-19|  466|\n",
            "|   2013-02-04|  464|\n",
            "|   2013-01-29|  459|\n",
            "|   2011-03-04|  458|\n",
            "|   2013-02-14|  444|\n",
            "|   2013-01-24|  435|\n",
            "|   2011-03-05|  434|\n",
            "|   2013-02-15|  429|\n",
            "|   2013-03-15|  428|\n",
            "|   2011-03-11|  426|\n",
            "|   2013-01-30|  421|\n",
            "|   2013-02-16|  418|\n",
            "|   2011-03-23|  417|\n",
            "|   2011-03-09|  416|\n",
            "+-------------+-----+\n",
            "only showing top 20 rows\n",
            "\n",
            "None\n",
            "+-------------+-----+\n",
            "|date_recorded|count|\n",
            "+-------------+-----+\n",
            "|       others|59400|\n",
            "+-------------+-----+\n",
            "\n",
            "funder\n",
            "+--------------------+-----+\n",
            "|              funder|count|\n",
            "+--------------------+-----+\n",
            "|Government Of Tan...| 9084|\n",
            "|                null| 3635|\n",
            "|              Danida| 3114|\n",
            "|              Hesawa| 2202|\n",
            "|               Rwssp| 1374|\n",
            "|          World Bank| 1349|\n",
            "|                Kkkt| 1287|\n",
            "|        World Vision| 1246|\n",
            "|              Unicef| 1057|\n",
            "|               Tasaf|  877|\n",
            "|    District Council|  843|\n",
            "|                 Dhv|  829|\n",
            "|  Private Individual|  826|\n",
            "|                Dwsp|  811|\n",
            "|                   0|  777|\n",
            "|               Norad|  765|\n",
            "|     Germany Republi|  610|\n",
            "|                Tcrs|  602|\n",
            "|   Ministry Of Water|  590|\n",
            "|               Water|  583|\n",
            "+--------------------+-----+\n",
            "only showing top 20 rows\n",
            "\n",
            "None\n",
            "+--------------------+-----+\n",
            "|              funder|count|\n",
            "+--------------------+-----+\n",
            "|              others|35052|\n",
            "|Government Of Tan...| 9084|\n",
            "|                null| 3635|\n",
            "|              Danida| 3114|\n",
            "|              Hesawa| 2202|\n",
            "|               Rwssp| 1374|\n",
            "|          World Bank| 1349|\n",
            "|                Kkkt| 1287|\n",
            "|        World Vision| 1246|\n",
            "|              Unicef| 1057|\n",
            "+--------------------+-----+\n",
            "\n"
          ],
          "name": "stdout"
        }
      ]
    },
    {
      "cell_type": "code",
      "metadata": {
        "id": "N-9BCdFEpurr"
      },
      "source": [
        "data.groupBy('population').count().orderBy('population').show()"
      ],
      "execution_count": null,
      "outputs": []
    },
    {
      "cell_type": "code",
      "metadata": {
        "id": "VVj542ZErWZM"
      },
      "source": [
        "data.withColumn('population', when(col('population')<2, lit(None))\\\n",
        "  .otherwise(col('population')))\\\n",
        ".groupBy('population').count()\\\n",
        ".orderBy('population').show()\n"
      ],
      "execution_count": null,
      "outputs": []
    },
    {
      "cell_type": "code",
      "metadata": {
        "id": "-YXlmeZd0UiV"
      },
      "source": [
        "data = data.withColumn('population', when(col('population')<2, lit(None))\\\n",
        "  .otherwise(col('population')))"
      ],
      "execution_count": null,
      "outputs": []
    },
    {
      "cell_type": "code",
      "metadata": {
        "id": "VLubi03lCzMY"
      },
      "source": [
        "from pyspark.sql.types import StringType\n",
        "from pyspark.sql.functions import trim, count, when, isnan, lit, avg\n",
        "from pyspark.sql.window import Window\n",
        "import pyspark.sql.functions as F"
      ],
      "execution_count": null,
      "outputs": []
    },
    {
      "cell_type": "code",
      "metadata": {
        "colab": {
          "base_uri": "https://localhost:8080/"
        },
        "id": "AtM1vCiCDfP9",
        "outputId": "62a64a4b-c8e0-4c65-f5f4-2236dddec3c7"
      },
      "source": [
        "data.select(avg(data['population'])).show()"
      ],
      "execution_count": null,
      "outputs": [
        {
          "output_type": "stream",
          "text": [
            "+-----------------+\n",
            "|  avg(population)|\n",
            "+-----------------+\n",
            "|344.5708201587404|\n",
            "+-----------------+\n",
            "\n"
          ],
          "name": "stdout"
        }
      ]
    },
    {
      "cell_type": "code",
      "metadata": {
        "id": "3Qo3KPhEyKAp"
      },
      "source": [
        "column = 'population'\n",
        "w = Window.partitionBy('district_code')\n",
        "data = data.withColumn(column, when(data[column].isNull() ,avg(data[\"population\"]).over(w)).otherwise(data[column]))"
      ],
      "execution_count": null,
      "outputs": []
    }
  ]
}