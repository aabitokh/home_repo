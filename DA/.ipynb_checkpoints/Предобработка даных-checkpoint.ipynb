{
 "cells": [
  {
   "cell_type": "markdown",
   "metadata": {},
   "source": [
    "# Импорт данных и библиотек "
   ]
  },
  {
   "cell_type": "code",
   "execution_count": null,
   "metadata": {
    "scrolled": false
   },
   "outputs": [],
   "source": [
    "import pandas as pd\n",
    "data = pd.read_csv('/datasets/data.csv')\n",
    "data.info()\n",
    "data.head()"
   ]
  },
  {
   "cell_type": "markdown",
   "metadata": {},
   "source": [
    "### Вывод"
   ]
  },
  {
   "cell_type": "markdown",
   "metadata": {},
   "source": [
    "На обработку дали статистику банка по платежеспособности клиентов. Данные находятся в плачевном состоянии: \n",
    "\n",
    "- Поля стажа и возраста в разных единицах измерения\n",
    "- Поля стажа с отрицательными значениями, скорее всего вбивали с одной даты, до другой и перепутали местами. Возможно, что ставили \"-\" перед цифрой. \n",
    "- Есть выбросы в столбце с детьми\n",
    "- Есть дубликаты в образовании\n",
    "- В доходе зачем-то 4 знака после запятой\n",
    "- Многие поля стажа не совпадают с действительностью, возможно даны в днях\n",
    "- 10% от данных - пропущенные значения, значимая часть выборки для простого удаления\n",
    "- Данные никак не сгруппированы "
   ]
  },
  {
   "cell_type": "markdown",
   "metadata": {},
   "source": [
    "# Предобработка данных"
   ]
  },
  {
   "cell_type": "markdown",
   "metadata": {},
   "source": [
    "### Обработка пропусков"
   ]
  },
  {
   "cell_type": "code",
   "execution_count": 2,
   "metadata": {},
   "outputs": [
    {
     "name": "stdout",
     "output_type": "stream",
     "text": [
      "children               0\n",
      "days_employed       2174\n",
      "dob_years              0\n",
      "education              0\n",
      "education_id           0\n",
      "family_status          0\n",
      "family_status_id       0\n",
      "gender                 0\n",
      "income_type            0\n",
      "debt                   0\n",
      "total_income        2174\n",
      "purpose                0\n",
      "dtype: int64\n"
     ]
    },
    {
     "data": {
      "text/plain": [
       "children            0\n",
       "days_employed       0\n",
       "dob_years           0\n",
       "education           0\n",
       "education_id        0\n",
       "family_status       0\n",
       "family_status_id    0\n",
       "gender              0\n",
       "income_type         0\n",
       "debt                0\n",
       "total_income        0\n",
       "purpose             0\n",
       "dtype: int64"
      ]
     },
     "execution_count": 2,
     "metadata": {},
     "output_type": "execute_result"
    }
   ],
   "source": [
    "print(data.isnull().sum())# почти 10% от всех данных неучтены - выбрасывать нельзя, поэтому заменим на медиану \n",
    "data[['days_employed','children']]=data[['days_employed','children']].abs()#приводим\n",
    "data = data.loc[data['children'] < 6] #уберем незначительное количество выбросов с детьми.\n",
    "\n",
    "def median_for_all (dataframe, column, inc_type): #функция рассчитывает медиану для разных типов данных \n",
    "    dataframe[dataframe[column]==inc_type] = dataframe[dataframe[column]==inc_type].fillna(dataframe.median())\n",
    "    return dataframe\n",
    " \n",
    "for type in list(data['income_type'].unique()): #для всех типов дохода цикл ставит индивидуальную медиану \n",
    "    median_for_all(data,'income_type', type)\n",
    "data.isnull().sum()"
   ]
  },
  {
   "cell_type": "markdown",
   "metadata": {},
   "source": [
    "#### Вывод"
   ]
  },
  {
   "cell_type": "markdown",
   "metadata": {},
   "source": [
    "Пропуски могли быть связаны с неофициальным трудоустройством граждан, т.к. они были в столбцах со стажем и доходом. Их заменил на медианные значения по типу дохода, так как доход пенсионеров, бизнесменов и прочих значительно разнится. "
   ]
  },
  {
   "cell_type": "markdown",
   "metadata": {},
   "source": [
    "### Замена типа данных"
   ]
  },
  {
   "cell_type": "code",
   "execution_count": 3,
   "metadata": {},
   "outputs": [
    {
     "name": "stdout",
     "output_type": "stream",
     "text": [
      "<class 'pandas.core.frame.DataFrame'>\n",
      "Int64Index: 21449 entries, 0 to 21524\n",
      "Data columns (total 12 columns):\n",
      "children            21449 non-null int64\n",
      "years_employed      21449 non-null int64\n",
      "dob_years           21449 non-null int64\n",
      "education           21449 non-null object\n",
      "education_id        21449 non-null int64\n",
      "family_status       21449 non-null object\n",
      "family_status_id    21449 non-null int64\n",
      "gender              21449 non-null object\n",
      "income_type         21449 non-null object\n",
      "debt                21449 non-null int64\n",
      "total_income        21449 non-null int64\n",
      "purpose             21449 non-null object\n",
      "dtypes: int64(7), object(5)\n",
      "memory usage: 2.1+ MB\n"
     ]
    }
   ],
   "source": [
    "data['days_employed'] = data['days_employed']/365 # данные со стажем в годах\n",
    "data[['days_employed','total_income','children']]=data[['days_employed','total_income','children']].astype('int64')  \n",
    "data = data.rename(columns ={'days_employed':'years_employed'})\n",
    "data.info()"
   ]
  },
  {
   "cell_type": "code",
   "execution_count": 4,
   "metadata": {},
   "outputs": [
    {
     "name": "stdout",
     "output_type": "stream",
     "text": [
      "<class 'pandas.core.frame.DataFrame'>\n",
      "Int64Index: 21349 entries, 0 to 21524\n",
      "Data columns (total 12 columns):\n",
      "children            21349 non-null int64\n",
      "years_employed      21349 non-null int64\n",
      "dob_years           21349 non-null int64\n",
      "education           21349 non-null object\n",
      "education_id        21349 non-null int64\n",
      "family_status       21349 non-null object\n",
      "family_status_id    21349 non-null int64\n",
      "gender              21349 non-null object\n",
      "income_type         21349 non-null object\n",
      "debt                21349 non-null int64\n",
      "total_income        21349 non-null int64\n",
      "purpose             21349 non-null object\n",
      "dtypes: int64(7), object(5)\n",
      "memory usage: 2.1+ MB\n"
     ]
    },
    {
     "name": "stderr",
     "output_type": "stream",
     "text": [
      "/opt/conda/lib/python3.7/site-packages/pandas/core/indexing.py:205: SettingWithCopyWarning: \n",
      "A value is trying to be set on a copy of a slice from a DataFrame\n",
      "\n",
      "See the caveats in the documentation: http://pandas.pydata.org/pandas-docs/stable/user_guide/indexing.html#returning-a-view-versus-a-copy\n",
      "  self._setitem_with_indexer(indexer, value)\n"
     ]
    }
   ],
   "source": [
    "data['years_employed'].loc[data['years_employed'] > data['dob_years']] = data['years_employed'].loc[data['years_employed'] > data['dob_years']]//24 # переводит стаж, который указали в часах в дни\n",
    "data.loc[data['years_employed'] == 0, 'years_employed'] = data['years_employed'].median() #заменяет нули на медиану\n",
    "data['years_employed']=data['years_employed'].astype('int64') \n",
    "data[['years_employed', 'dob_years']].sort_values(by = 'years_employed', ascending = False)\n",
    "data.loc[data['dob_years']== 0]\n",
    "data = data.loc[data['dob_years'] > 0] \n",
    "data.info()\n"
   ]
  },
  {
   "cell_type": "markdown",
   "metadata": {},
   "source": [
    "### Вывод"
   ]
  },
  {
   "cell_type": "markdown",
   "metadata": {},
   "source": [
    "Когда таблица заполнена меня сильно смущает, что все данные  в разных величинах, приведем все к единому формату - год, int64. \n",
    "\n",
    "Что заменили:\n",
    "- days_employed на int64 и перевели в год\n",
    "- total_income на int64\n",
    "\n",
    "Сначала преобразуем данные со стажем, таблица все еще существует с ужасными данными, которые надо полировать, но уже выглядит читаемо и понятно. \n",
    " \n",
    "В таблице в некоторых местах стаж сильно превышает возраст  заемщиков, скорее всего при внесении информации о стаже в днях была внесена информация о стаже в часах. Делением на 24 привел данные в порядок. При этом все равно остается 155 строк, где стаж больше возраста - где-то забыли указать возраст, где-то он почему-то просто меньше стажа, этих данных совсем немного, но лучше просто их удалить для верности. Также обнаружились нулевые значения в столбце со стажем, хотя в этих строках присутствует профессия, следственно пропустили по ошибке, сотня значений никак не повлияет на такую выборку, поэтому просто их отбросим "
   ]
  },
  {
   "cell_type": "markdown",
   "metadata": {},
   "source": [
    "### Обработка дубликатов"
   ]
  },
  {
   "cell_type": "code",
   "execution_count": 5,
   "metadata": {},
   "outputs": [
    {
     "data": {
      "text/plain": [
       "0"
      ]
     },
     "execution_count": 5,
     "metadata": {},
     "output_type": "execute_result"
    }
   ],
   "source": [
    "data['education'].unique()\n",
    "data['education'] = data['education'].str.lower()#приводит все записи к нижнему регистру\n",
    "data['education'].unique()\n",
    "data.duplicated().sum()#посмотрим на количество дубликатов\n",
    "data = data.drop_duplicates().reset_index(drop=True)\n",
    "data.duplicated().sum()#проверка"
   ]
  },
  {
   "cell_type": "code",
   "execution_count": 6,
   "metadata": {},
   "outputs": [
    {
     "data": {
      "text/plain": [
       "F    14056\n",
       "M     7221\n",
       "Name: gender, dtype: int64"
      ]
     },
     "execution_count": 6,
     "metadata": {},
     "output_type": "execute_result"
    }
   ],
   "source": [
    "data['family_status'] = data['family_status'].str.lower()\n",
    "data['family_status'].value_counts()\n",
    "data['gender'].value_counts() #проверка уникальных значений пола \n",
    "data.loc[data['gender']=='XNA'] #индекс непонятного значения \n",
    "data = data.drop(index= 10604).reset_index(drop=True) #удаляет строку с индексом\n",
    "data['gender'].value_counts()#проверка"
   ]
  },
  {
   "cell_type": "markdown",
   "metadata": {},
   "source": [
    "### Вывод"
   ]
  },
  {
   "cell_type": "markdown",
   "metadata": {},
   "source": [
    "Теперь, когда численные данные более или менее в адеквате, можно приниматься за категории. Разобрались с блоком образование - часто при вводе данных зажимали shift, отчего появились ненужные новые категории, все записи привели к единому образцу. \n",
    "Те же операции проделали с блоком family status и gender, при этом выяснилось, что в gender есть неопознанный пол XNA - явно ошибочно ввели. Эту строку лучше удалить."
   ]
  },
  {
   "cell_type": "markdown",
   "metadata": {},
   "source": [
    "### Лемматизация"
   ]
  },
  {
   "cell_type": "code",
   "execution_count": 7,
   "metadata": {},
   "outputs": [
    {
     "data": {
      "text/plain": [
       "свадьба                                   785\n",
       "на проведение свадьбы                     760\n",
       "сыграть свадьбу                           756\n",
       "операции с недвижимостью                  671\n",
       "покупка коммерческой недвижимости         655\n",
       "покупка жилья для сдачи                   648\n",
       "операции с коммерческой недвижимостью     644\n",
       "операции с жильем                         642\n",
       "покупка жилья                             637\n",
       "покупка жилья для семьи                   636\n",
       "жилье                                     636\n",
       "недвижимость                              628\n",
       "строительство собственной недвижимости    627\n",
       "операции со своей недвижимостью           626\n",
       "строительство жилой недвижимости          620\n",
       "покупка своего жилья                      619\n",
       "строительство недвижимости                619\n",
       "покупка недвижимости                      615\n",
       "ремонт жилью                              603\n",
       "покупка жилой недвижимости                601\n",
       "на покупку своего автомобиля              502\n",
       "заняться высшим образованием              493\n",
       "автомобиль                                489\n",
       "сделка с подержанным автомобилем          480\n",
       "автомобили                                475\n",
       "свой автомобиль                           472\n",
       "на покупку подержанного автомобиля        472\n",
       "на покупку автомобиля                     466\n",
       "приобретение автомобиля                   459\n",
       "дополнительное образование                455\n",
       "сделка с автомобилем                      454\n",
       "высшее образование                        444\n",
       "получение дополнительного образования     443\n",
       "образование                               442\n",
       "получение образования                     440\n",
       "профильное образование                    433\n",
       "получение высшего образования             423\n",
       "заняться образованием                     407\n",
       "Name: purpose, dtype: int64"
      ]
     },
     "execution_count": 7,
     "metadata": {},
     "output_type": "execute_result"
    }
   ],
   "source": [
    "from pymystem3 import Mystem #импорт библиотек для лемматизации\n",
    "m = Mystem()\n",
    "data['purpose'].value_counts() #можно визуально оценить частоту основных запросов на кредит"
   ]
  },
  {
   "cell_type": "markdown",
   "metadata": {},
   "source": [
    "### Вывод"
   ]
  },
  {
   "cell_type": "markdown",
   "metadata": {},
   "source": [
    "Понятно, что основные группы будут связаны со свадьбой, недвижимостью, покупкой автомобиля, чтобы понять правильное распределение и соотношение надо лемматиризировать и сразу разбить по категориям. "
   ]
  },
  {
   "cell_type": "markdown",
   "metadata": {},
   "source": [
    "### Категоризация данных"
   ]
  },
  {
   "cell_type": "code",
   "execution_count": 8,
   "metadata": {},
   "outputs": [
    {
     "data": {
      "text/html": [
       "<div>\n",
       "<style scoped>\n",
       "    .dataframe tbody tr th:only-of-type {\n",
       "        vertical-align: middle;\n",
       "    }\n",
       "\n",
       "    .dataframe tbody tr th {\n",
       "        vertical-align: top;\n",
       "    }\n",
       "\n",
       "    .dataframe thead th {\n",
       "        text-align: right;\n",
       "    }\n",
       "</style>\n",
       "<table border=\"1\" class=\"dataframe\">\n",
       "  <thead>\n",
       "    <tr style=\"text-align: right;\">\n",
       "      <th></th>\n",
       "      <th>children</th>\n",
       "      <th>years_employed</th>\n",
       "      <th>dob_years</th>\n",
       "      <th>dob_years_group</th>\n",
       "      <th>education</th>\n",
       "      <th>education_id</th>\n",
       "      <th>family_status</th>\n",
       "      <th>family_status_id</th>\n",
       "      <th>gender</th>\n",
       "      <th>income_type</th>\n",
       "      <th>debt</th>\n",
       "      <th>total_income</th>\n",
       "      <th>total_income_group</th>\n",
       "      <th>purpose</th>\n",
       "      <th>purpose_group</th>\n",
       "    </tr>\n",
       "  </thead>\n",
       "  <tbody>\n",
       "    <tr>\n",
       "      <td>0</td>\n",
       "      <td>1</td>\n",
       "      <td>23</td>\n",
       "      <td>42</td>\n",
       "      <td>до 60-ти</td>\n",
       "      <td>высшее</td>\n",
       "      <td>0</td>\n",
       "      <td>женат / замужем</td>\n",
       "      <td>0</td>\n",
       "      <td>F</td>\n",
       "      <td>сотрудник</td>\n",
       "      <td>0</td>\n",
       "      <td>253875</td>\n",
       "      <td>высокий</td>\n",
       "      <td>покупка жилья</td>\n",
       "      <td>операции с недвижимостью</td>\n",
       "    </tr>\n",
       "    <tr>\n",
       "      <td>1</td>\n",
       "      <td>1</td>\n",
       "      <td>11</td>\n",
       "      <td>36</td>\n",
       "      <td>до 60-ти</td>\n",
       "      <td>среднее</td>\n",
       "      <td>1</td>\n",
       "      <td>женат / замужем</td>\n",
       "      <td>0</td>\n",
       "      <td>F</td>\n",
       "      <td>сотрудник</td>\n",
       "      <td>0</td>\n",
       "      <td>112080</td>\n",
       "      <td>средний</td>\n",
       "      <td>приобретение автомобиля</td>\n",
       "      <td>авто</td>\n",
       "    </tr>\n",
       "    <tr>\n",
       "      <td>2</td>\n",
       "      <td>0</td>\n",
       "      <td>15</td>\n",
       "      <td>33</td>\n",
       "      <td>до 60-ти</td>\n",
       "      <td>среднее</td>\n",
       "      <td>1</td>\n",
       "      <td>женат / замужем</td>\n",
       "      <td>0</td>\n",
       "      <td>M</td>\n",
       "      <td>сотрудник</td>\n",
       "      <td>0</td>\n",
       "      <td>145885</td>\n",
       "      <td>средний</td>\n",
       "      <td>покупка жилья</td>\n",
       "      <td>операции с недвижимостью</td>\n",
       "    </tr>\n",
       "    <tr>\n",
       "      <td>3</td>\n",
       "      <td>3</td>\n",
       "      <td>11</td>\n",
       "      <td>32</td>\n",
       "      <td>до 60-ти</td>\n",
       "      <td>среднее</td>\n",
       "      <td>1</td>\n",
       "      <td>женат / замужем</td>\n",
       "      <td>0</td>\n",
       "      <td>M</td>\n",
       "      <td>сотрудник</td>\n",
       "      <td>0</td>\n",
       "      <td>267628</td>\n",
       "      <td>высокий</td>\n",
       "      <td>дополнительное образование</td>\n",
       "      <td>образование</td>\n",
       "    </tr>\n",
       "    <tr>\n",
       "      <td>4</td>\n",
       "      <td>0</td>\n",
       "      <td>38</td>\n",
       "      <td>53</td>\n",
       "      <td>до 60-ти</td>\n",
       "      <td>среднее</td>\n",
       "      <td>1</td>\n",
       "      <td>гражданский брак</td>\n",
       "      <td>1</td>\n",
       "      <td>F</td>\n",
       "      <td>пенсионер</td>\n",
       "      <td>0</td>\n",
       "      <td>158616</td>\n",
       "      <td>высокий</td>\n",
       "      <td>сыграть свадьбу</td>\n",
       "      <td>свадьба</td>\n",
       "    </tr>\n",
       "    <tr>\n",
       "      <td>...</td>\n",
       "      <td>...</td>\n",
       "      <td>...</td>\n",
       "      <td>...</td>\n",
       "      <td>...</td>\n",
       "      <td>...</td>\n",
       "      <td>...</td>\n",
       "      <td>...</td>\n",
       "      <td>...</td>\n",
       "      <td>...</td>\n",
       "      <td>...</td>\n",
       "      <td>...</td>\n",
       "      <td>...</td>\n",
       "      <td>...</td>\n",
       "      <td>...</td>\n",
       "      <td>...</td>\n",
       "    </tr>\n",
       "    <tr>\n",
       "      <td>21272</td>\n",
       "      <td>1</td>\n",
       "      <td>12</td>\n",
       "      <td>43</td>\n",
       "      <td>до 60-ти</td>\n",
       "      <td>среднее</td>\n",
       "      <td>1</td>\n",
       "      <td>гражданский брак</td>\n",
       "      <td>1</td>\n",
       "      <td>F</td>\n",
       "      <td>компаньон</td>\n",
       "      <td>0</td>\n",
       "      <td>224791</td>\n",
       "      <td>высокий</td>\n",
       "      <td>операции с жильем</td>\n",
       "      <td>операции с недвижимостью</td>\n",
       "    </tr>\n",
       "    <tr>\n",
       "      <td>21273</td>\n",
       "      <td>0</td>\n",
       "      <td>39</td>\n",
       "      <td>67</td>\n",
       "      <td>пожилые</td>\n",
       "      <td>среднее</td>\n",
       "      <td>1</td>\n",
       "      <td>женат / замужем</td>\n",
       "      <td>0</td>\n",
       "      <td>F</td>\n",
       "      <td>пенсионер</td>\n",
       "      <td>0</td>\n",
       "      <td>155999</td>\n",
       "      <td>высокий</td>\n",
       "      <td>сделка с автомобилем</td>\n",
       "      <td>авто</td>\n",
       "    </tr>\n",
       "    <tr>\n",
       "      <td>21274</td>\n",
       "      <td>1</td>\n",
       "      <td>5</td>\n",
       "      <td>38</td>\n",
       "      <td>до 60-ти</td>\n",
       "      <td>среднее</td>\n",
       "      <td>1</td>\n",
       "      <td>гражданский брак</td>\n",
       "      <td>1</td>\n",
       "      <td>M</td>\n",
       "      <td>сотрудник</td>\n",
       "      <td>1</td>\n",
       "      <td>89672</td>\n",
       "      <td>средний</td>\n",
       "      <td>недвижимость</td>\n",
       "      <td>операции с недвижимостью</td>\n",
       "    </tr>\n",
       "    <tr>\n",
       "      <td>21275</td>\n",
       "      <td>3</td>\n",
       "      <td>8</td>\n",
       "      <td>38</td>\n",
       "      <td>до 60-ти</td>\n",
       "      <td>среднее</td>\n",
       "      <td>1</td>\n",
       "      <td>женат / замужем</td>\n",
       "      <td>0</td>\n",
       "      <td>M</td>\n",
       "      <td>сотрудник</td>\n",
       "      <td>1</td>\n",
       "      <td>244093</td>\n",
       "      <td>высокий</td>\n",
       "      <td>на покупку своего автомобиля</td>\n",
       "      <td>авто</td>\n",
       "    </tr>\n",
       "    <tr>\n",
       "      <td>21276</td>\n",
       "      <td>2</td>\n",
       "      <td>5</td>\n",
       "      <td>40</td>\n",
       "      <td>до 60-ти</td>\n",
       "      <td>среднее</td>\n",
       "      <td>1</td>\n",
       "      <td>женат / замужем</td>\n",
       "      <td>0</td>\n",
       "      <td>F</td>\n",
       "      <td>сотрудник</td>\n",
       "      <td>0</td>\n",
       "      <td>82047</td>\n",
       "      <td>средний</td>\n",
       "      <td>на покупку автомобиля</td>\n",
       "      <td>авто</td>\n",
       "    </tr>\n",
       "  </tbody>\n",
       "</table>\n",
       "<p>21277 rows × 15 columns</p>\n",
       "</div>"
      ],
      "text/plain": [
       "       children  years_employed  dob_years dob_years_group education  \\\n",
       "0             1              23         42        до 60-ти    высшее   \n",
       "1             1              11         36        до 60-ти   среднее   \n",
       "2             0              15         33        до 60-ти   среднее   \n",
       "3             3              11         32        до 60-ти   среднее   \n",
       "4             0              38         53        до 60-ти   среднее   \n",
       "...         ...             ...        ...             ...       ...   \n",
       "21272         1              12         43        до 60-ти   среднее   \n",
       "21273         0              39         67         пожилые   среднее   \n",
       "21274         1               5         38        до 60-ти   среднее   \n",
       "21275         3               8         38        до 60-ти   среднее   \n",
       "21276         2               5         40        до 60-ти   среднее   \n",
       "\n",
       "       education_id     family_status  family_status_id gender income_type  \\\n",
       "0                 0   женат / замужем                 0      F   сотрудник   \n",
       "1                 1   женат / замужем                 0      F   сотрудник   \n",
       "2                 1   женат / замужем                 0      M   сотрудник   \n",
       "3                 1   женат / замужем                 0      M   сотрудник   \n",
       "4                 1  гражданский брак                 1      F   пенсионер   \n",
       "...             ...               ...               ...    ...         ...   \n",
       "21272             1  гражданский брак                 1      F   компаньон   \n",
       "21273             1   женат / замужем                 0      F   пенсионер   \n",
       "21274             1  гражданский брак                 1      M   сотрудник   \n",
       "21275             1   женат / замужем                 0      M   сотрудник   \n",
       "21276             1   женат / замужем                 0      F   сотрудник   \n",
       "\n",
       "       debt  total_income total_income_group                       purpose  \\\n",
       "0         0        253875            высокий                 покупка жилья   \n",
       "1         0        112080            средний       приобретение автомобиля   \n",
       "2         0        145885            средний                 покупка жилья   \n",
       "3         0        267628            высокий    дополнительное образование   \n",
       "4         0        158616            высокий               сыграть свадьбу   \n",
       "...     ...           ...                ...                           ...   \n",
       "21272     0        224791            высокий             операции с жильем   \n",
       "21273     0        155999            высокий          сделка с автомобилем   \n",
       "21274     1         89672            средний                  недвижимость   \n",
       "21275     1        244093            высокий  на покупку своего автомобиля   \n",
       "21276     0         82047            средний         на покупку автомобиля   \n",
       "\n",
       "                  purpose_group  \n",
       "0      операции с недвижимостью  \n",
       "1                          авто  \n",
       "2      операции с недвижимостью  \n",
       "3                   образование  \n",
       "4                       свадьба  \n",
       "...                         ...  \n",
       "21272  операции с недвижимостью  \n",
       "21273                      авто  \n",
       "21274  операции с недвижимостью  \n",
       "21275                      авто  \n",
       "21276                      авто  \n",
       "\n",
       "[21277 rows x 15 columns]"
      ]
     },
     "execution_count": 8,
     "metadata": {},
     "output_type": "execute_result"
    }
   ],
   "source": [
    "def purpose_group(row): #функция лемматизирует столбец и разбивает его на категории в зависимости от леммы\n",
    "    row_str = str(row)\n",
    "    lemmas = m.lemmatize(row_str)\n",
    "    if 'недвижимость' in lemmas:\n",
    "        return 'операции с недвижимостью'\n",
    "    if 'жилье' in lemmas:\n",
    "        return 'операции с недвижимостью'\n",
    "    if 'автомобиль' in lemmas:\n",
    "        return 'авто'\n",
    "    if 'образование' in lemmas:\n",
    "        return 'образование'\n",
    "    if 'свадьба' in lemmas:\n",
    "        return 'свадьба'\n",
    "    \n",
    "    return 'другое'\n",
    "\n",
    "data['purpose_group']=data['purpose'].apply(purpose_group)\n",
    "\n",
    "def dob_years_group(row): #функция разбивает всех на три большие возрастные группы \n",
    "    if row < 30:\n",
    "        return 'до 30-ти'\n",
    "    if row < 60:\n",
    "        return 'до 60-ти'\n",
    "    if row > 60:\n",
    "        return 'пожилые'\n",
    "data['dob_years_group']=data['dob_years'].apply(dob_years_group)\n",
    "\n",
    "\n",
    "\n",
    "def income_group(row): #функция разбивает всех на три большие  группы по уровню дохода\n",
    "    if row <= 50000:\n",
    "        return 'низкий доход'\n",
    "    if 50000 < row <= 150000:\n",
    "        return 'средний'\n",
    "    if 150000 < row <= 300000:\n",
    "        return 'высокий'\n",
    "    if row > 300000:\n",
    "        return 'очень высокий'\n",
    "    \n",
    "data['total_income_group']=data['total_income'].apply(income_group)\n",
    "\n",
    "\n",
    "\n",
    "data = data[['children', #перестановка столбцов датафрейма в более удобном порядке \n",
    " 'years_employed',\n",
    " 'dob_years',\n",
    " 'dob_years_group',\n",
    " 'education',\n",
    " 'education_id',\n",
    " 'family_status',\n",
    " 'family_status_id',\n",
    " 'gender',\n",
    " 'income_type',\n",
    " 'debt',\n",
    " 'total_income',\n",
    " 'total_income_group',\n",
    " 'purpose',\n",
    " 'purpose_group']]\n",
    "\n",
    "data\n"
   ]
  },
  {
   "cell_type": "code",
   "execution_count": 9,
   "metadata": {},
   "outputs": [
    {
     "data": {
      "text/html": [
       "<div>\n",
       "<style scoped>\n",
       "    .dataframe tbody tr th:only-of-type {\n",
       "        vertical-align: middle;\n",
       "    }\n",
       "\n",
       "    .dataframe tbody tr th {\n",
       "        vertical-align: top;\n",
       "    }\n",
       "\n",
       "    .dataframe thead th {\n",
       "        text-align: right;\n",
       "    }\n",
       "</style>\n",
       "<table border=\"1\" class=\"dataframe\">\n",
       "  <thead>\n",
       "    <tr style=\"text-align: right;\">\n",
       "      <th></th>\n",
       "      <th>children</th>\n",
       "      <th>years_employed</th>\n",
       "      <th>dob_years_group</th>\n",
       "      <th>education_id</th>\n",
       "      <th>family_status_id</th>\n",
       "      <th>gender</th>\n",
       "      <th>income_type</th>\n",
       "      <th>debt</th>\n",
       "      <th>total_income_group</th>\n",
       "      <th>purpose_group</th>\n",
       "    </tr>\n",
       "  </thead>\n",
       "  <tbody>\n",
       "    <tr>\n",
       "      <td>0</td>\n",
       "      <td>1</td>\n",
       "      <td>23</td>\n",
       "      <td>до 60-ти</td>\n",
       "      <td>0</td>\n",
       "      <td>0</td>\n",
       "      <td>F</td>\n",
       "      <td>сотрудник</td>\n",
       "      <td>0</td>\n",
       "      <td>высокий</td>\n",
       "      <td>операции с недвижимостью</td>\n",
       "    </tr>\n",
       "    <tr>\n",
       "      <td>1</td>\n",
       "      <td>1</td>\n",
       "      <td>11</td>\n",
       "      <td>до 60-ти</td>\n",
       "      <td>1</td>\n",
       "      <td>0</td>\n",
       "      <td>F</td>\n",
       "      <td>сотрудник</td>\n",
       "      <td>0</td>\n",
       "      <td>средний</td>\n",
       "      <td>авто</td>\n",
       "    </tr>\n",
       "    <tr>\n",
       "      <td>2</td>\n",
       "      <td>0</td>\n",
       "      <td>15</td>\n",
       "      <td>до 60-ти</td>\n",
       "      <td>1</td>\n",
       "      <td>0</td>\n",
       "      <td>M</td>\n",
       "      <td>сотрудник</td>\n",
       "      <td>0</td>\n",
       "      <td>средний</td>\n",
       "      <td>операции с недвижимостью</td>\n",
       "    </tr>\n",
       "    <tr>\n",
       "      <td>3</td>\n",
       "      <td>3</td>\n",
       "      <td>11</td>\n",
       "      <td>до 60-ти</td>\n",
       "      <td>1</td>\n",
       "      <td>0</td>\n",
       "      <td>M</td>\n",
       "      <td>сотрудник</td>\n",
       "      <td>0</td>\n",
       "      <td>высокий</td>\n",
       "      <td>образование</td>\n",
       "    </tr>\n",
       "    <tr>\n",
       "      <td>4</td>\n",
       "      <td>0</td>\n",
       "      <td>38</td>\n",
       "      <td>до 60-ти</td>\n",
       "      <td>1</td>\n",
       "      <td>1</td>\n",
       "      <td>F</td>\n",
       "      <td>пенсионер</td>\n",
       "      <td>0</td>\n",
       "      <td>высокий</td>\n",
       "      <td>свадьба</td>\n",
       "    </tr>\n",
       "    <tr>\n",
       "      <td>...</td>\n",
       "      <td>...</td>\n",
       "      <td>...</td>\n",
       "      <td>...</td>\n",
       "      <td>...</td>\n",
       "      <td>...</td>\n",
       "      <td>...</td>\n",
       "      <td>...</td>\n",
       "      <td>...</td>\n",
       "      <td>...</td>\n",
       "      <td>...</td>\n",
       "    </tr>\n",
       "    <tr>\n",
       "      <td>21272</td>\n",
       "      <td>1</td>\n",
       "      <td>12</td>\n",
       "      <td>до 60-ти</td>\n",
       "      <td>1</td>\n",
       "      <td>1</td>\n",
       "      <td>F</td>\n",
       "      <td>компаньон</td>\n",
       "      <td>0</td>\n",
       "      <td>высокий</td>\n",
       "      <td>операции с недвижимостью</td>\n",
       "    </tr>\n",
       "    <tr>\n",
       "      <td>21273</td>\n",
       "      <td>0</td>\n",
       "      <td>39</td>\n",
       "      <td>пожилые</td>\n",
       "      <td>1</td>\n",
       "      <td>0</td>\n",
       "      <td>F</td>\n",
       "      <td>пенсионер</td>\n",
       "      <td>0</td>\n",
       "      <td>высокий</td>\n",
       "      <td>авто</td>\n",
       "    </tr>\n",
       "    <tr>\n",
       "      <td>21274</td>\n",
       "      <td>1</td>\n",
       "      <td>5</td>\n",
       "      <td>до 60-ти</td>\n",
       "      <td>1</td>\n",
       "      <td>1</td>\n",
       "      <td>M</td>\n",
       "      <td>сотрудник</td>\n",
       "      <td>1</td>\n",
       "      <td>средний</td>\n",
       "      <td>операции с недвижимостью</td>\n",
       "    </tr>\n",
       "    <tr>\n",
       "      <td>21275</td>\n",
       "      <td>3</td>\n",
       "      <td>8</td>\n",
       "      <td>до 60-ти</td>\n",
       "      <td>1</td>\n",
       "      <td>0</td>\n",
       "      <td>M</td>\n",
       "      <td>сотрудник</td>\n",
       "      <td>1</td>\n",
       "      <td>высокий</td>\n",
       "      <td>авто</td>\n",
       "    </tr>\n",
       "    <tr>\n",
       "      <td>21276</td>\n",
       "      <td>2</td>\n",
       "      <td>5</td>\n",
       "      <td>до 60-ти</td>\n",
       "      <td>1</td>\n",
       "      <td>0</td>\n",
       "      <td>F</td>\n",
       "      <td>сотрудник</td>\n",
       "      <td>0</td>\n",
       "      <td>средний</td>\n",
       "      <td>авто</td>\n",
       "    </tr>\n",
       "  </tbody>\n",
       "</table>\n",
       "<p>21277 rows × 10 columns</p>\n",
       "</div>"
      ],
      "text/plain": [
       "       children  years_employed dob_years_group  education_id  \\\n",
       "0             1              23        до 60-ти             0   \n",
       "1             1              11        до 60-ти             1   \n",
       "2             0              15        до 60-ти             1   \n",
       "3             3              11        до 60-ти             1   \n",
       "4             0              38        до 60-ти             1   \n",
       "...         ...             ...             ...           ...   \n",
       "21272         1              12        до 60-ти             1   \n",
       "21273         0              39         пожилые             1   \n",
       "21274         1               5        до 60-ти             1   \n",
       "21275         3               8        до 60-ти             1   \n",
       "21276         2               5        до 60-ти             1   \n",
       "\n",
       "       family_status_id gender income_type  debt total_income_group  \\\n",
       "0                     0      F   сотрудник     0            высокий   \n",
       "1                     0      F   сотрудник     0            средний   \n",
       "2                     0      M   сотрудник     0            средний   \n",
       "3                     0      M   сотрудник     0            высокий   \n",
       "4                     1      F   пенсионер     0            высокий   \n",
       "...                 ...    ...         ...   ...                ...   \n",
       "21272                 1      F   компаньон     0            высокий   \n",
       "21273                 0      F   пенсионер     0            высокий   \n",
       "21274                 1      M   сотрудник     1            средний   \n",
       "21275                 0      M   сотрудник     1            высокий   \n",
       "21276                 0      F   сотрудник     0            средний   \n",
       "\n",
       "                  purpose_group  \n",
       "0      операции с недвижимостью  \n",
       "1                          авто  \n",
       "2      операции с недвижимостью  \n",
       "3                   образование  \n",
       "4                       свадьба  \n",
       "...                         ...  \n",
       "21272  операции с недвижимостью  \n",
       "21273                      авто  \n",
       "21274  операции с недвижимостью  \n",
       "21275                      авто  \n",
       "21276                      авто  \n",
       "\n",
       "[21277 rows x 10 columns]"
      ]
     },
     "execution_count": 9,
     "metadata": {},
     "output_type": "execute_result"
    }
   ],
   "source": [
    "#Словари - образование, семейное положение, покупки, доход, возраст\n",
    "final_data = data[['children',\n",
    " 'years_employed',\n",
    " 'dob_years_group',\n",
    " 'education_id',\n",
    " 'family_status_id',\n",
    " 'gender',\n",
    " 'income_type',\n",
    " 'debt',\n",
    " 'total_income_group',\n",
    " 'purpose_group']]\n",
    "#семейный статус\n",
    "family_status_dict = data[['family_status','family_status_id']]\n",
    "family_status_dict = family_status_dict.drop_duplicates().reset_index(drop=True)\n",
    "# образование\n",
    "education_dict = data[['education','education_id']]\n",
    "education_dict = education_dict.drop_duplicates().reset_index(drop=True)\n",
    "#покупки\n",
    "purpose_dict = data[['purpose','purpose_group']]\n",
    "#возраст\n",
    "dob_years_dict = data[['dob_years','dob_years_group']]\n",
    "#доход\n",
    "total_income_dict = data[['total_income','total_income_group']]\n",
    "\n",
    "final_data"
   ]
  },
  {
   "cell_type": "markdown",
   "metadata": {},
   "source": [
    "### Вывод"
   ]
  },
  {
   "cell_type": "markdown",
   "metadata": {},
   "source": [
    "Данные были слишком громоздкими и тяжелыми для визуального восприятия, так же сложно было их и группировать. \n",
    "Чтобы это исправить разбил данные на удобные группы: по возрасту, уровню дохода, целям кредита. \n",
    "Часть данных сохранил в словари: образование, семейный статус, цель покупки, доход. Новые данные легче для восприятия и при конечном анализе будут гораздо проще для обработки. "
   ]
  },
  {
   "cell_type": "markdown",
   "metadata": {},
   "source": [
    "### Шаг 3. Ответьте на вопросы"
   ]
  },
  {
   "cell_type": "markdown",
   "metadata": {},
   "source": [
    "- Есть ли зависимость между наличием детей и возвратом кредита в срок?"
   ]
  },
  {
   "cell_type": "code",
   "execution_count": 10,
   "metadata": {},
   "outputs": [
    {
     "name": "stdout",
     "output_type": "stream",
     "text": [
      "debt            0       1    All\n",
      "children                        \n",
      "0         12963.0  1058.0  14021\n",
      "1          4397.0   442.0   4839\n",
      "2          1845.0   194.0   2039\n",
      "3           301.0    27.0    328\n",
      "4            37.0     4.0     41\n",
      "5             9.0     NaN      9\n",
      "All       19552.0  1725.0  21277\n"
     ]
    },
    {
     "data": {
      "text/plain": [
       "children\n",
       "0    0.075458\n",
       "1    0.091341\n",
       "2    0.095145\n",
       "3    0.082317\n",
       "4    0.097561\n",
       "5    0.000000\n",
       "Name: debt, dtype: float64"
      ]
     },
     "execution_count": 10,
     "metadata": {},
     "output_type": "execute_result"
    }
   ],
   "source": [
    "print(final_data.pivot_table(index='children', columns='debt', values='gender', aggfunc='count', margins=True))#сводная таблица между количеством детей и хорошими/плохими заемщиками\n",
    "def dolg(n): #функция для подсчета метрики \n",
    "    return n.sum()/n.count()\n",
    "final_data.groupby('children')['debt'].apply(dolg)"
   ]
  },
  {
   "cell_type": "markdown",
   "metadata": {},
   "source": [
    "### Вывод"
   ]
  },
  {
   "cell_type": "markdown",
   "metadata": {},
   "source": [
    "Ввели специальную метрику dolg - соотношение должников с просрочкой к общему числу заемщиков. Чем ниже этот показатель, тем лучше. Здесь видно, что самый лучший показатель - у людей без детей, скорее всего это связано с тем, что у этих люедй меньше трат в целом и меньше непредвиденных расходов, поэтому кредит они чаще платят вовремя, чем люди с детьми. "
   ]
  },
  {
   "cell_type": "markdown",
   "metadata": {},
   "source": [
    "---\n",
    "## Комментарий от наставника\n",
    "\n",
    "Выводы не противоречат полученным результатам. Столбец с долями лучше прикрепить к сводной таблице. \n",
    "\n",
    "---"
   ]
  },
  {
   "cell_type": "markdown",
   "metadata": {},
   "source": [
    "- Есть ли зависимость между семейным положением и возвратом кредита в срок?"
   ]
  },
  {
   "cell_type": "code",
   "execution_count": 11,
   "metadata": {},
   "outputs": [
    {
     "name": "stdout",
     "output_type": "stream",
     "text": [
      "           family_status  family_status_id\n",
      "0        женат / замужем                 0\n",
      "1       гражданский брак                 1\n",
      "2         вдовец / вдова                 2\n",
      "3              в разводе                 3\n",
      "4  не женат / не замужем                 4\n"
     ]
    },
    {
     "data": {
      "text/plain": [
       "family_status_id\n",
       "0    0.075478\n",
       "1    0.093029\n",
       "2    0.065263\n",
       "3    0.071006\n",
       "4    0.097666\n",
       "Name: debt, dtype: float64"
      ]
     },
     "execution_count": 11,
     "metadata": {},
     "output_type": "execute_result"
    }
   ],
   "source": [
    "final_data.pivot_table(index='family_status_id', columns='debt', values='gender', aggfunc='count', margins=True)\n",
    "\n",
    "print(family_status_dict)\n",
    "final_data.groupby('family_status_id')['debt'].apply(dolg)\n"
   ]
  },
  {
   "cell_type": "markdown",
   "metadata": {},
   "source": [
    "### Вывод"
   ]
  },
  {
   "cell_type": "markdown",
   "metadata": {},
   "source": [
    "По метрике dolg видно, что люди женатые реже просрачивают кредиты, а самые высокие метрики в основном у холостых и людей в гражданском браке. Думаю, это из-за двух факторов :\n",
    "1) возраст, люди становятся старше, женятся или выходят замуж, обретают какую-то финансовую стабильность\n",
    "2) поддержка внутри семьи, так как часто у супругов - долги обшие\n"
   ]
  },
  {
   "cell_type": "raw",
   "metadata": {},
   "source": [
    "- Есть ли зависимость между уровнем дохода и возвратом кредита в срок?"
   ]
  },
  {
   "cell_type": "code",
   "execution_count": 12,
   "metadata": {},
   "outputs": [
    {
     "data": {
      "text/plain": [
       "total_income_group\n",
       "высокий          0.080157\n",
       "низкий доход     0.062162\n",
       "очень высокий    0.071962\n",
       "средний          0.083397\n",
       "Name: debt, dtype: float64"
      ]
     },
     "execution_count": 12,
     "metadata": {},
     "output_type": "execute_result"
    }
   ],
   "source": [
    "final_data.groupby('total_income_group')['debt'].apply(dolg)"
   ]
  },
  {
   "cell_type": "markdown",
   "metadata": {},
   "source": [
    "### Вывод"
   ]
  },
  {
   "cell_type": "markdown",
   "metadata": {},
   "source": [
    "Прямой взаимосвязи в этих группах не наблюдается, но видно, что выделяются группы с очень низким и очень высоким доходом. Скорее всего это объясняется тем, что лбди с низким доходом очень серьезно относятся ко всем тратам и внимательны к своему финансовому здоровью, а люди с очень высоким уровнем дохода меньше просрачивают в силу своей финансовой грамотности и большего количества активов. "
   ]
  },
  {
   "cell_type": "markdown",
   "metadata": {},
   "source": [
    "---\n",
    "## Комментарий от наставника\n",
    "\n",
    "Для количества детей сделано лучше: приведено общее число людей в группе, а также число должников в них. Из этих данных подсчитан процент. Лучше все таблицы оформить в таком стиле.\n",
    "\n",
    "---"
   ]
  },
  {
   "cell_type": "markdown",
   "metadata": {},
   "source": [
    "- Как разные цели кредита влияют на его возврат в срок?"
   ]
  },
  {
   "cell_type": "code",
   "execution_count": 13,
   "metadata": {},
   "outputs": [
    {
     "data": {
      "text/plain": [
       "purpose_group\n",
       "авто                        0.093230\n",
       "образование                 0.092714\n",
       "операции с недвижимостью    0.072434\n",
       "свадьба                     0.078661\n",
       "Name: debt, dtype: float64"
      ]
     },
     "execution_count": 13,
     "metadata": {},
     "output_type": "execute_result"
    }
   ],
   "source": [
    "final_data.groupby('purpose_group')['debt'].apply(dolg)"
   ]
  },
  {
   "cell_type": "markdown",
   "metadata": {},
   "source": [
    "### Вывод"
   ]
  },
  {
   "cell_type": "markdown",
   "metadata": {},
   "source": [
    "Лучше всего показывают себя группы с долгосрочными и \"семейными\" покупками - кнедвижимость и свадьбу. Часто долги на свадьбу закрывают сразу после мероприятия с подарков, поэтому у нее довольно низкий уровень просрочки. "
   ]
  },
  {
   "cell_type": "markdown",
   "metadata": {},
   "source": [
    "---\n",
    "## Комментарий от наставника\n",
    "\n",
    "Здорово, что использован метод сводных таблиц при получении результатов. \n",
    "\n",
    "Выводы верные по всем пунктам.\n",
    "\n",
    "---"
   ]
  },
  {
   "cell_type": "markdown",
   "metadata": {},
   "source": [
    "### Шаг 4. Общий вывод"
   ]
  },
  {
   "cell_type": "markdown",
   "metadata": {},
   "source": [
    "В целом видно, что лучше всего давать в долг людям семейным с высоким доходам, так как они с большей вероятностью отдадут все в срок. \n",
    "Если выдавать только займы на автомобили молодым сорвиголовам - явно нужно будет активно работать с кредитным портфелем, в нем будет много просрочки. "
   ]
  },
  {
   "cell_type": "markdown",
   "metadata": {},
   "source": [
    "---\n",
    "## Комментарий от наставника\n",
    "\n",
    "Выводы описаны грамотно. В выводах можно приводить полученные ранее значения. Стоит также больше уделить внимания получаемым результатам. Именно для этого вывод и нужен. Также можно расписать все, что было сделано и какими методами. \n",
    "\n",
    "---"
   ]
  },
  {
   "cell_type": "markdown",
   "metadata": {},
   "source": []
  },
  {
   "cell_type": "markdown",
   "metadata": {},
   "source": [
    "### Чек-лист готовности проекта\n",
    "\n",
    "Поставьте 'x' в выполненных пунктах. Далее нажмите Shift+Enter."
   ]
  },
  {
   "cell_type": "markdown",
   "metadata": {},
   "source": [
    "- [x]  открыт файл;\n",
    "- [x]  файл изучен;\n",
    "- [x]  определены пропущенные значения;\n",
    "- [x]  заполнены пропущенные значения;\n",
    "- [x]  есть пояснение какие пропущенные значения обнаружены;\n",
    "- [x]  описаны возможные причины появления пропусков в данных;\n",
    "- [x]  объяснено по какому принципу заполнены пропуски;\n",
    "- [x]  заменен вещественный тип данных на целочисленный;\n",
    "- [x]  есть пояснение какой метод используется для изменения типа данных и почему;\n",
    "- [x]  удалены дубликаты;\n",
    "- [x]  есть пояснение какой метод используется для поиска и удаления дубликатов;\n",
    "- [x]  описаны возможные причины появления дубликатов в данных;\n",
    "- [x]  выделены леммы в значениях столбца с целями получения кредита;\n",
    "- [x]  описан процесс лемматизации;\n",
    "- [x]  данные категоризированы;\n",
    "- [x]  есть объяснение принципа категоризации данных;\n",
    "- [x]  есть ответ на вопрос \"Есть ли зависимость между наличием детей и возвратом кредита в срок?\";\n",
    "- [x]  есть ответ на вопрос \"Есть ли зависимость между семейным положением и возвратом кредита в срок?\";\n",
    "- [x]  есть ответ на вопрос \"Есть ли зависимость между уровнем дохода и возвратом кредита в срок?\";\n",
    "- [x]  есть ответ на вопрос \"Как разные цели кредита влияют на его возврат в срок?\";\n",
    "- [x]  в каждом этапе есть выводы;\n",
    "- [x]  есть общий вывод."
   ]
  },
  {
   "cell_type": "code",
   "execution_count": null,
   "metadata": {},
   "outputs": [],
   "source": []
  }
 ],
 "metadata": {
  "kernelspec": {
   "display_name": "Python 3",
   "language": "python",
   "name": "python3"
  },
  "language_info": {
   "codemirror_mode": {
    "name": "ipython",
    "version": 3
   },
   "file_extension": ".py",
   "mimetype": "text/x-python",
   "name": "python",
   "nbconvert_exporter": "python",
   "pygments_lexer": "ipython3",
   "version": "3.7.3"
  }
 },
 "nbformat": 4,
 "nbformat_minor": 2
}
