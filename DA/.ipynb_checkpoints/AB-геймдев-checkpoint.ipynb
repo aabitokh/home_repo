{
 "cells": [
  {
   "cell_type": "markdown",
   "metadata": {},
   "source": [
    "### Техническое задание\n",
    "\n",
    "- Название теста: `recommender_system_test`;\n",
    "- Группы: А (контрольная), B (новая платежная воронка);\n",
    "- Дата запуска: 2020-12-07\n",
    "- Дата остановки набора новых пользователей: 2020-12-21;\n",
    "- Дата остановки: 2021-01-04\n",
    "- Аудитория: 15% новых пользователей из региона EU;\n",
    "- Назначение теста: тестирование изменений, связанных с внедрением улучшенной рекомендательной системы;\n",
    "- Ожидаемый эфект: за 14 дней с момента регистрации в системе пользователи покажут лучшую конверсию в просмотр карточек товаров (событие `product_page`), просмотр  корзины товаров (событие `product_card`) и покупку (`purchase`). На каждом из шагов воронки `product_page → product_card → purchase` улучшение составит не менее 10%;\n",
    "- Ожидаемое количество участников теста: 6000.\n",
    "\n",
    "Загрузите данные теста, проверьте корректность его проведения и проанализируйте полученные результаты."
   ]
  },
  {
   "cell_type": "markdown",
   "metadata": {},
   "source": [
    "# Цель: \n",
    "\n",
    "Проверить как повлияли изменения рекомендательной системы на количество заказов. \n",
    "\n",
    "### Проверка гипотезы: \n",
    "\n",
    "за 14 дней с момента регистрации в системе пользователи покажут лучшую конверсию в просмотр карточек товаров (событие  product_page), просмотр корзины товаров (событие product_card) и покупку (purchase). На каждом из шагов воронки product_page → product_card → purchase улучшение составит не менее 10%;\n",
    "Ожидаемое количество участников теста: 6000."
   ]
  },
  {
   "cell_type": "markdown",
   "metadata": {},
   "source": [
    "# Импорт библиотек, данных и функций"
   ]
  },
  {
   "cell_type": "code",
   "execution_count": 1,
   "metadata": {},
   "outputs": [],
   "source": [
    "import pandas as pd\n",
    "from IPython.display import display\n",
    "from scipy import stats as st\n",
    "import numpy as np\n",
    "import math as mth\n",
    "import matplotlib.pyplot as plt \n",
    "import seaborn as sns"
   ]
  },
  {
   "cell_type": "code",
   "execution_count": 2,
   "metadata": {},
   "outputs": [],
   "source": [
    "def z_test(df_a, df_b, event): \n",
    "    \n",
    "    #Функция для z-теста\n",
    "    \n",
    "    successes = [df_a.query('event_name==@event')['user_id'].nunique(), df_b.query('event_name==@event')['user_id'].nunique()]\n",
    "    trials = [df_a.query('event_name== \"login\"')['user_id'].nunique(), df_b.query('event_name== \"login\"')['user_id'].nunique()]\n",
    "    \n",
    "    # пропорция успехов в первой группе:\n",
    "    p1 = successes[0]/trials[0]\n",
    "\n",
    "    # пропорция успехов во второй группе:\n",
    "    p2 = successes[1]/trials[1]\n",
    "\n",
    "    # пропорция успехов в комбинированном датасете:\n",
    "    p_combined = (successes[0] + successes[1]) / (trials[0] + trials[1])\n",
    "\n",
    "    # разница пропорций в датасетах\n",
    "    difference = p1 - p2\n",
    "\n",
    "    # считаем статистику в ст.отклонениях стандартного нормального распределения\n",
    "    z_value = difference / mth.sqrt(p_combined * (1 - p_combined) * (1/trials[0] + 1/trials[1]))\n",
    "\n",
    "    # задаем стандартное нормальное распределение (среднее 0, ст.отклонение 1)\n",
    "    distr = st.norm(0, 1)\n",
    "\n",
    "    # считаем статистику в ст.отклонениях стандартного нормального распределения\n",
    "    z_value = difference / mth.sqrt(p_combined * (1 - p_combined) * (1/trials[0] + 1/trials[1]))\n",
    "\n",
    "    # задаем стандартное нормальное распределение (среднее 0, ст.отклонение 1)\n",
    "    distr = st.norm(0, 1) \n",
    "\n",
    "    p_value = (1 - distr.cdf(abs(z_value))) * 2\n",
    "\n",
    "    print('p-значение: ', p_value)\n",
    "\n",
    "    if (p_value < alpha):\n",
    "        print(\"Отвергаем нулевую гипотезу: между долями есть значимая разница\")\n",
    "    else:\n",
    "        print(\"Не получилось отвергнуть нулевую гипотезу, нет оснований считать доли разными\")"
   ]
  },
  {
   "cell_type": "code",
   "execution_count": 3,
   "metadata": {},
   "outputs": [],
   "source": [
    "#функция для первичного анализа датасетов\n",
    "def start (x):\n",
    "    display(x.head()),\n",
    "    print('Типы данных:')\n",
    "    display(x.info()),\n",
    "    print('Пропусков в данных:')\n",
    "    display(x.isnull().sum()),\n",
    "    print('Дубликатов в данных -', x.duplicated().sum())"
   ]
  },
  {
   "cell_type": "code",
   "execution_count": 4,
   "metadata": {},
   "outputs": [],
   "source": [
    "ab_project_marketing_events = pd.read_csv('ab_project_marketing_events.csv')"
   ]
  },
  {
   "cell_type": "markdown",
   "metadata": {},
   "source": [
    "Структура файла `ab_project_marketing_events.csv`:\n",
    "\n",
    "- `name` — название маркетингового события;\n",
    "- `regions` — регионы, в которых будет проводиться рекламная кампания;\n",
    "- `start_dt` — дата начала кампании;\n",
    "- `finish_dt` — дата завершения кампании."
   ]
  },
  {
   "cell_type": "code",
   "execution_count": 5,
   "metadata": {},
   "outputs": [],
   "source": [
    "final_ab_new_users = pd.read_csv('final_ab_new_users.csv')"
   ]
  },
  {
   "cell_type": "markdown",
   "metadata": {},
   "source": [
    "Структура файла `final_ab_new_users.csv`:\n",
    "\n",
    "- `user_id` — уникальный идентификатор пользователя;\n",
    "- `first_date` — дата регистрации;\n",
    "- `region` — регион, к которому относится пользователь;\n",
    "- `device` — устройство, с которого происходила регистрация."
   ]
  },
  {
   "cell_type": "code",
   "execution_count": 6,
   "metadata": {},
   "outputs": [],
   "source": [
    "final_ab_events = pd.read_csv('final_ab_events.csv')"
   ]
  },
  {
   "cell_type": "markdown",
   "metadata": {},
   "source": [
    "Структура файла `final_ab_events.csv`:\n",
    "\n",
    "- `user_id` — уникальный идентификатор пользователя;\n",
    "- `event_dt` — дата и время покупки;\n",
    "- `event_name` — наименование типа события;\n",
    "- `details` — дополнительные данные о событии. Например, в этом поле хранится стоимость покупки (USD) для события «покупка» (`purchase`);"
   ]
  },
  {
   "cell_type": "code",
   "execution_count": 7,
   "metadata": {},
   "outputs": [],
   "source": [
    "final_ab_participants = pd.read_csv('final_ab_participants.csv')"
   ]
  },
  {
   "cell_type": "markdown",
   "metadata": {},
   "source": [
    "Структура файла `final_ab_participants.csv`:\n",
    "\n",
    "- `user_id` — уникальный идентификатор пользователя;\n",
    "- `ab_test` — название теста;\n",
    "- `group` — группа, в которой находился пользователь в рамках теста."
   ]
  },
  {
   "cell_type": "markdown",
   "metadata": {},
   "source": [
    "## Исследовательский анализ данных "
   ]
  },
  {
   "cell_type": "code",
   "execution_count": 8,
   "metadata": {},
   "outputs": [
    {
     "data": {
      "text/html": [
       "<div>\n",
       "<style scoped>\n",
       "    .dataframe tbody tr th:only-of-type {\n",
       "        vertical-align: middle;\n",
       "    }\n",
       "\n",
       "    .dataframe tbody tr th {\n",
       "        vertical-align: top;\n",
       "    }\n",
       "\n",
       "    .dataframe thead th {\n",
       "        text-align: right;\n",
       "    }\n",
       "</style>\n",
       "<table border=\"1\" class=\"dataframe\">\n",
       "  <thead>\n",
       "    <tr style=\"text-align: right;\">\n",
       "      <th></th>\n",
       "      <th>name</th>\n",
       "      <th>regions</th>\n",
       "      <th>start_dt</th>\n",
       "      <th>finish_dt</th>\n",
       "    </tr>\n",
       "  </thead>\n",
       "  <tbody>\n",
       "    <tr>\n",
       "      <th>0</th>\n",
       "      <td>Christmas&amp;New Year Promo</td>\n",
       "      <td>EU, N.America</td>\n",
       "      <td>2020-12-25</td>\n",
       "      <td>2021-01-03</td>\n",
       "    </tr>\n",
       "    <tr>\n",
       "      <th>1</th>\n",
       "      <td>St. Valentine's Day Giveaway</td>\n",
       "      <td>EU, CIS, APAC, N.America</td>\n",
       "      <td>2020-02-14</td>\n",
       "      <td>2020-02-16</td>\n",
       "    </tr>\n",
       "    <tr>\n",
       "      <th>2</th>\n",
       "      <td>St. Patric's Day Promo</td>\n",
       "      <td>EU, N.America</td>\n",
       "      <td>2020-03-17</td>\n",
       "      <td>2020-03-19</td>\n",
       "    </tr>\n",
       "    <tr>\n",
       "      <th>3</th>\n",
       "      <td>Easter Promo</td>\n",
       "      <td>EU, CIS, APAC, N.America</td>\n",
       "      <td>2020-04-12</td>\n",
       "      <td>2020-04-19</td>\n",
       "    </tr>\n",
       "    <tr>\n",
       "      <th>4</th>\n",
       "      <td>4th of July Promo</td>\n",
       "      <td>N.America</td>\n",
       "      <td>2020-07-04</td>\n",
       "      <td>2020-07-11</td>\n",
       "    </tr>\n",
       "  </tbody>\n",
       "</table>\n",
       "</div>"
      ],
      "text/plain": [
       "                           name                   regions    start_dt  \\\n",
       "0      Christmas&New Year Promo             EU, N.America  2020-12-25   \n",
       "1  St. Valentine's Day Giveaway  EU, CIS, APAC, N.America  2020-02-14   \n",
       "2        St. Patric's Day Promo             EU, N.America  2020-03-17   \n",
       "3                  Easter Promo  EU, CIS, APAC, N.America  2020-04-12   \n",
       "4             4th of July Promo                 N.America  2020-07-04   \n",
       "\n",
       "    finish_dt  \n",
       "0  2021-01-03  \n",
       "1  2020-02-16  \n",
       "2  2020-03-19  \n",
       "3  2020-04-19  \n",
       "4  2020-07-11  "
      ]
     },
     "metadata": {},
     "output_type": "display_data"
    },
    {
     "name": "stdout",
     "output_type": "stream",
     "text": [
      "Типы данных:\n",
      "<class 'pandas.core.frame.DataFrame'>\n",
      "RangeIndex: 14 entries, 0 to 13\n",
      "Data columns (total 4 columns):\n",
      " #   Column     Non-Null Count  Dtype \n",
      "---  ------     --------------  ----- \n",
      " 0   name       14 non-null     object\n",
      " 1   regions    14 non-null     object\n",
      " 2   start_dt   14 non-null     object\n",
      " 3   finish_dt  14 non-null     object\n",
      "dtypes: object(4)\n",
      "memory usage: 576.0+ bytes\n"
     ]
    },
    {
     "data": {
      "text/plain": [
       "None"
      ]
     },
     "metadata": {},
     "output_type": "display_data"
    },
    {
     "name": "stdout",
     "output_type": "stream",
     "text": [
      "Пропусков в данных:\n"
     ]
    },
    {
     "data": {
      "text/plain": [
       "name         0\n",
       "regions      0\n",
       "start_dt     0\n",
       "finish_dt    0\n",
       "dtype: int64"
      ]
     },
     "metadata": {},
     "output_type": "display_data"
    },
    {
     "name": "stdout",
     "output_type": "stream",
     "text": [
      "Дубликатов в данных - 0\n"
     ]
    }
   ],
   "source": [
    "#первичный анализ календаря маркетинговых активностей\n",
    "start(ab_project_marketing_events)"
   ]
  },
  {
   "cell_type": "markdown",
   "metadata": {
    "collapsed": true
   },
   "source": [
    "В целом данные без пропусков и дубликатов, но начало и конец маркетинговой активности - строковые. \n",
    "Лучше привести их к формату даты.  "
   ]
  },
  {
   "cell_type": "code",
   "execution_count": 9,
   "metadata": {},
   "outputs": [],
   "source": [
    "ab_project_marketing_events['start_dt'] = pd.to_datetime(ab_project_marketing_events['start_dt'])\n",
    "ab_project_marketing_events['finish_dt'] = pd.to_datetime(ab_project_marketing_events['finish_dt'])"
   ]
  },
  {
   "cell_type": "code",
   "execution_count": 10,
   "metadata": {},
   "outputs": [
    {
     "data": {
      "text/html": [
       "<div>\n",
       "<style scoped>\n",
       "    .dataframe tbody tr th:only-of-type {\n",
       "        vertical-align: middle;\n",
       "    }\n",
       "\n",
       "    .dataframe tbody tr th {\n",
       "        vertical-align: top;\n",
       "    }\n",
       "\n",
       "    .dataframe thead th {\n",
       "        text-align: right;\n",
       "    }\n",
       "</style>\n",
       "<table border=\"1\" class=\"dataframe\">\n",
       "  <thead>\n",
       "    <tr style=\"text-align: right;\">\n",
       "      <th></th>\n",
       "      <th>user_id</th>\n",
       "      <th>first_date</th>\n",
       "      <th>region</th>\n",
       "      <th>device</th>\n",
       "    </tr>\n",
       "  </thead>\n",
       "  <tbody>\n",
       "    <tr>\n",
       "      <th>0</th>\n",
       "      <td>D72A72121175D8BE</td>\n",
       "      <td>2020-12-07</td>\n",
       "      <td>EU</td>\n",
       "      <td>PC</td>\n",
       "    </tr>\n",
       "    <tr>\n",
       "      <th>1</th>\n",
       "      <td>F1C668619DFE6E65</td>\n",
       "      <td>2020-12-07</td>\n",
       "      <td>N.America</td>\n",
       "      <td>Android</td>\n",
       "    </tr>\n",
       "    <tr>\n",
       "      <th>2</th>\n",
       "      <td>2E1BF1D4C37EA01F</td>\n",
       "      <td>2020-12-07</td>\n",
       "      <td>EU</td>\n",
       "      <td>PC</td>\n",
       "    </tr>\n",
       "    <tr>\n",
       "      <th>3</th>\n",
       "      <td>50734A22C0C63768</td>\n",
       "      <td>2020-12-07</td>\n",
       "      <td>EU</td>\n",
       "      <td>iPhone</td>\n",
       "    </tr>\n",
       "    <tr>\n",
       "      <th>4</th>\n",
       "      <td>E1BDDCE0DAFA2679</td>\n",
       "      <td>2020-12-07</td>\n",
       "      <td>N.America</td>\n",
       "      <td>iPhone</td>\n",
       "    </tr>\n",
       "  </tbody>\n",
       "</table>\n",
       "</div>"
      ],
      "text/plain": [
       "            user_id  first_date     region   device\n",
       "0  D72A72121175D8BE  2020-12-07         EU       PC\n",
       "1  F1C668619DFE6E65  2020-12-07  N.America  Android\n",
       "2  2E1BF1D4C37EA01F  2020-12-07         EU       PC\n",
       "3  50734A22C0C63768  2020-12-07         EU   iPhone\n",
       "4  E1BDDCE0DAFA2679  2020-12-07  N.America   iPhone"
      ]
     },
     "metadata": {},
     "output_type": "display_data"
    },
    {
     "name": "stdout",
     "output_type": "stream",
     "text": [
      "Типы данных:\n",
      "<class 'pandas.core.frame.DataFrame'>\n",
      "RangeIndex: 61733 entries, 0 to 61732\n",
      "Data columns (total 4 columns):\n",
      " #   Column      Non-Null Count  Dtype \n",
      "---  ------      --------------  ----- \n",
      " 0   user_id     61733 non-null  object\n",
      " 1   first_date  61733 non-null  object\n",
      " 2   region      61733 non-null  object\n",
      " 3   device      61733 non-null  object\n",
      "dtypes: object(4)\n",
      "memory usage: 1.9+ MB\n"
     ]
    },
    {
     "data": {
      "text/plain": [
       "None"
      ]
     },
     "metadata": {},
     "output_type": "display_data"
    },
    {
     "name": "stdout",
     "output_type": "stream",
     "text": [
      "Пропусков в данных:\n"
     ]
    },
    {
     "data": {
      "text/plain": [
       "user_id       0\n",
       "first_date    0\n",
       "region        0\n",
       "device        0\n",
       "dtype: int64"
      ]
     },
     "metadata": {},
     "output_type": "display_data"
    },
    {
     "name": "stdout",
     "output_type": "stream",
     "text": [
      "Дубликатов в данных - 0\n"
     ]
    }
   ],
   "source": [
    "#первичный анализ карточек пользователей \n",
    "start(final_ab_new_users)"
   ]
  },
  {
   "cell_type": "markdown",
   "metadata": {},
   "source": [
    "Здесь данные тоже в порядке, стоит исправить только поле first_date на тип \"даты\". "
   ]
  },
  {
   "cell_type": "code",
   "execution_count": 11,
   "metadata": {},
   "outputs": [],
   "source": [
    "final_ab_new_users['first_date'] = pd.to_datetime(final_ab_new_users['first_date'])"
   ]
  },
  {
   "cell_type": "code",
   "execution_count": 12,
   "metadata": {},
   "outputs": [
    {
     "data": {
      "text/html": [
       "<div>\n",
       "<style scoped>\n",
       "    .dataframe tbody tr th:only-of-type {\n",
       "        vertical-align: middle;\n",
       "    }\n",
       "\n",
       "    .dataframe tbody tr th {\n",
       "        vertical-align: top;\n",
       "    }\n",
       "\n",
       "    .dataframe thead th {\n",
       "        text-align: right;\n",
       "    }\n",
       "</style>\n",
       "<table border=\"1\" class=\"dataframe\">\n",
       "  <thead>\n",
       "    <tr style=\"text-align: right;\">\n",
       "      <th></th>\n",
       "      <th>user_id</th>\n",
       "      <th>event_dt</th>\n",
       "      <th>event_name</th>\n",
       "      <th>details</th>\n",
       "    </tr>\n",
       "  </thead>\n",
       "  <tbody>\n",
       "    <tr>\n",
       "      <th>0</th>\n",
       "      <td>E1BDDCE0DAFA2679</td>\n",
       "      <td>2020-12-07 20:22:03</td>\n",
       "      <td>purchase</td>\n",
       "      <td>99.99</td>\n",
       "    </tr>\n",
       "    <tr>\n",
       "      <th>1</th>\n",
       "      <td>7B6452F081F49504</td>\n",
       "      <td>2020-12-07 09:22:53</td>\n",
       "      <td>purchase</td>\n",
       "      <td>9.99</td>\n",
       "    </tr>\n",
       "    <tr>\n",
       "      <th>2</th>\n",
       "      <td>9CD9F34546DF254C</td>\n",
       "      <td>2020-12-07 12:59:29</td>\n",
       "      <td>purchase</td>\n",
       "      <td>4.99</td>\n",
       "    </tr>\n",
       "    <tr>\n",
       "      <th>3</th>\n",
       "      <td>96F27A054B191457</td>\n",
       "      <td>2020-12-07 04:02:40</td>\n",
       "      <td>purchase</td>\n",
       "      <td>4.99</td>\n",
       "    </tr>\n",
       "    <tr>\n",
       "      <th>4</th>\n",
       "      <td>1FD7660FDF94CA1F</td>\n",
       "      <td>2020-12-07 10:15:09</td>\n",
       "      <td>purchase</td>\n",
       "      <td>4.99</td>\n",
       "    </tr>\n",
       "  </tbody>\n",
       "</table>\n",
       "</div>"
      ],
      "text/plain": [
       "            user_id             event_dt event_name  details\n",
       "0  E1BDDCE0DAFA2679  2020-12-07 20:22:03   purchase    99.99\n",
       "1  7B6452F081F49504  2020-12-07 09:22:53   purchase     9.99\n",
       "2  9CD9F34546DF254C  2020-12-07 12:59:29   purchase     4.99\n",
       "3  96F27A054B191457  2020-12-07 04:02:40   purchase     4.99\n",
       "4  1FD7660FDF94CA1F  2020-12-07 10:15:09   purchase     4.99"
      ]
     },
     "metadata": {},
     "output_type": "display_data"
    },
    {
     "name": "stdout",
     "output_type": "stream",
     "text": [
      "Типы данных:\n",
      "<class 'pandas.core.frame.DataFrame'>\n",
      "RangeIndex: 440317 entries, 0 to 440316\n",
      "Data columns (total 4 columns):\n",
      " #   Column      Non-Null Count   Dtype  \n",
      "---  ------      --------------   -----  \n",
      " 0   user_id     440317 non-null  object \n",
      " 1   event_dt    440317 non-null  object \n",
      " 2   event_name  440317 non-null  object \n",
      " 3   details     62740 non-null   float64\n",
      "dtypes: float64(1), object(3)\n",
      "memory usage: 13.4+ MB\n"
     ]
    },
    {
     "data": {
      "text/plain": [
       "None"
      ]
     },
     "metadata": {},
     "output_type": "display_data"
    },
    {
     "name": "stdout",
     "output_type": "stream",
     "text": [
      "Пропусков в данных:\n"
     ]
    },
    {
     "data": {
      "text/plain": [
       "user_id            0\n",
       "event_dt           0\n",
       "event_name         0\n",
       "details       377577\n",
       "dtype: int64"
      ]
     },
     "metadata": {},
     "output_type": "display_data"
    },
    {
     "name": "stdout",
     "output_type": "stream",
     "text": [
      "Дубликатов в данных - 0\n"
     ]
    }
   ],
   "source": [
    "#первичный анализ событий клиентов\n",
    "start(final_ab_events)"
   ]
  },
  {
   "cell_type": "code",
   "execution_count": 13,
   "metadata": {},
   "outputs": [
    {
     "data": {
      "text/html": [
       "<div>\n",
       "<style scoped>\n",
       "    .dataframe tbody tr th:only-of-type {\n",
       "        vertical-align: middle;\n",
       "    }\n",
       "\n",
       "    .dataframe tbody tr th {\n",
       "        vertical-align: top;\n",
       "    }\n",
       "\n",
       "    .dataframe thead th {\n",
       "        text-align: right;\n",
       "    }\n",
       "</style>\n",
       "<table border=\"1\" class=\"dataframe\">\n",
       "  <thead>\n",
       "    <tr style=\"text-align: right;\">\n",
       "      <th></th>\n",
       "      <th>user_id</th>\n",
       "      <th>group</th>\n",
       "      <th>ab_test</th>\n",
       "    </tr>\n",
       "  </thead>\n",
       "  <tbody>\n",
       "    <tr>\n",
       "      <th>0</th>\n",
       "      <td>D1ABA3E2887B6A73</td>\n",
       "      <td>A</td>\n",
       "      <td>recommender_system_test</td>\n",
       "    </tr>\n",
       "    <tr>\n",
       "      <th>1</th>\n",
       "      <td>A7A3664BD6242119</td>\n",
       "      <td>A</td>\n",
       "      <td>recommender_system_test</td>\n",
       "    </tr>\n",
       "    <tr>\n",
       "      <th>2</th>\n",
       "      <td>DABC14FDDFADD29E</td>\n",
       "      <td>A</td>\n",
       "      <td>recommender_system_test</td>\n",
       "    </tr>\n",
       "    <tr>\n",
       "      <th>3</th>\n",
       "      <td>04988C5DF189632E</td>\n",
       "      <td>A</td>\n",
       "      <td>recommender_system_test</td>\n",
       "    </tr>\n",
       "    <tr>\n",
       "      <th>4</th>\n",
       "      <td>482F14783456D21B</td>\n",
       "      <td>B</td>\n",
       "      <td>recommender_system_test</td>\n",
       "    </tr>\n",
       "  </tbody>\n",
       "</table>\n",
       "</div>"
      ],
      "text/plain": [
       "            user_id group                  ab_test\n",
       "0  D1ABA3E2887B6A73     A  recommender_system_test\n",
       "1  A7A3664BD6242119     A  recommender_system_test\n",
       "2  DABC14FDDFADD29E     A  recommender_system_test\n",
       "3  04988C5DF189632E     A  recommender_system_test\n",
       "4  482F14783456D21B     B  recommender_system_test"
      ]
     },
     "metadata": {},
     "output_type": "display_data"
    },
    {
     "name": "stdout",
     "output_type": "stream",
     "text": [
      "Типы данных:\n",
      "<class 'pandas.core.frame.DataFrame'>\n",
      "RangeIndex: 18268 entries, 0 to 18267\n",
      "Data columns (total 3 columns):\n",
      " #   Column   Non-Null Count  Dtype \n",
      "---  ------   --------------  ----- \n",
      " 0   user_id  18268 non-null  object\n",
      " 1   group    18268 non-null  object\n",
      " 2   ab_test  18268 non-null  object\n",
      "dtypes: object(3)\n",
      "memory usage: 428.3+ KB\n"
     ]
    },
    {
     "data": {
      "text/plain": [
       "None"
      ]
     },
     "metadata": {},
     "output_type": "display_data"
    },
    {
     "name": "stdout",
     "output_type": "stream",
     "text": [
      "Пропусков в данных:\n"
     ]
    },
    {
     "data": {
      "text/plain": [
       "user_id    0\n",
       "group      0\n",
       "ab_test    0\n",
       "dtype: int64"
      ]
     },
     "metadata": {},
     "output_type": "display_data"
    },
    {
     "name": "stdout",
     "output_type": "stream",
     "text": [
      "Дубликатов в данных - 0\n"
     ]
    }
   ],
   "source": [
    "#первичный анализ событий клиентов\n",
    "start(final_ab_participants)"
   ]
  },
  {
   "cell_type": "markdown",
   "metadata": {},
   "source": [
    "К этому датасету претензий ноль. Четенько. "
   ]
  },
  {
   "cell_type": "markdown",
   "metadata": {},
   "source": [
    "# Подготовка основной таблицы"
   ]
  },
  {
   "cell_type": "code",
   "execution_count": 14,
   "metadata": {},
   "outputs": [
    {
     "data": {
      "text/html": [
       "<div>\n",
       "<style scoped>\n",
       "    .dataframe tbody tr th:only-of-type {\n",
       "        vertical-align: middle;\n",
       "    }\n",
       "\n",
       "    .dataframe tbody tr th {\n",
       "        vertical-align: top;\n",
       "    }\n",
       "\n",
       "    .dataframe thead th {\n",
       "        text-align: right;\n",
       "    }\n",
       "</style>\n",
       "<table border=\"1\" class=\"dataframe\">\n",
       "  <thead>\n",
       "    <tr style=\"text-align: right;\">\n",
       "      <th></th>\n",
       "      <th>user_id</th>\n",
       "      <th>event_dt</th>\n",
       "      <th>event_name</th>\n",
       "      <th>details</th>\n",
       "      <th>group</th>\n",
       "      <th>ab_test</th>\n",
       "    </tr>\n",
       "  </thead>\n",
       "  <tbody>\n",
       "    <tr>\n",
       "      <th>0</th>\n",
       "      <td>E1BDDCE0DAFA2679</td>\n",
       "      <td>2020-12-07 20:22:03</td>\n",
       "      <td>purchase</td>\n",
       "      <td>99.99</td>\n",
       "      <td>NaN</td>\n",
       "      <td>NaN</td>\n",
       "    </tr>\n",
       "    <tr>\n",
       "      <th>1</th>\n",
       "      <td>7B6452F081F49504</td>\n",
       "      <td>2020-12-07 09:22:53</td>\n",
       "      <td>purchase</td>\n",
       "      <td>9.99</td>\n",
       "      <td>NaN</td>\n",
       "      <td>NaN</td>\n",
       "    </tr>\n",
       "    <tr>\n",
       "      <th>2</th>\n",
       "      <td>9CD9F34546DF254C</td>\n",
       "      <td>2020-12-07 12:59:29</td>\n",
       "      <td>purchase</td>\n",
       "      <td>4.99</td>\n",
       "      <td>NaN</td>\n",
       "      <td>NaN</td>\n",
       "    </tr>\n",
       "    <tr>\n",
       "      <th>3</th>\n",
       "      <td>96F27A054B191457</td>\n",
       "      <td>2020-12-07 04:02:40</td>\n",
       "      <td>purchase</td>\n",
       "      <td>4.99</td>\n",
       "      <td>B</td>\n",
       "      <td>interface_eu_test</td>\n",
       "    </tr>\n",
       "    <tr>\n",
       "      <th>4</th>\n",
       "      <td>1FD7660FDF94CA1F</td>\n",
       "      <td>2020-12-07 10:15:09</td>\n",
       "      <td>purchase</td>\n",
       "      <td>4.99</td>\n",
       "      <td>NaN</td>\n",
       "      <td>NaN</td>\n",
       "    </tr>\n",
       "  </tbody>\n",
       "</table>\n",
       "</div>"
      ],
      "text/plain": [
       "            user_id             event_dt event_name  details group  \\\n",
       "0  E1BDDCE0DAFA2679  2020-12-07 20:22:03   purchase    99.99   NaN   \n",
       "1  7B6452F081F49504  2020-12-07 09:22:53   purchase     9.99   NaN   \n",
       "2  9CD9F34546DF254C  2020-12-07 12:59:29   purchase     4.99   NaN   \n",
       "3  96F27A054B191457  2020-12-07 04:02:40   purchase     4.99     B   \n",
       "4  1FD7660FDF94CA1F  2020-12-07 10:15:09   purchase     4.99   NaN   \n",
       "\n",
       "             ab_test  \n",
       "0                NaN  \n",
       "1                NaN  \n",
       "2                NaN  \n",
       "3  interface_eu_test  \n",
       "4                NaN  "
      ]
     },
     "execution_count": 14,
     "metadata": {},
     "output_type": "execute_result"
    }
   ],
   "source": [
    "#к логам пользователей прибавим информацию группе и AB-тесте\n",
    "ab_table = final_ab_events.merge(final_ab_participants, how = 'left', on = 'user_id')\n",
    "ab_table.head()"
   ]
  },
  {
   "cell_type": "markdown",
   "metadata": {},
   "source": [
    "Видно, что не все пользователи входят в группы нужного AB теста, а какие-то участвуют в других AB тестах. \n",
    "\n",
    "Лишнее можно убрать. "
   ]
  },
  {
   "cell_type": "code",
   "execution_count": 15,
   "metadata": {},
   "outputs": [],
   "source": [
    "ab_table = ab_table.query('ab_test == \"recommender_system_test\"')"
   ]
  },
  {
   "cell_type": "code",
   "execution_count": 16,
   "metadata": {},
   "outputs": [],
   "source": [
    "#проверим все ли пользователи из европы\n",
    "ab_table = ab_table.merge(final_ab_new_users, how = 'left', on = 'user_id')"
   ]
  },
  {
   "cell_type": "code",
   "execution_count": 17,
   "metadata": {},
   "outputs": [
    {
     "data": {
      "text/plain": [
       "array(['EU', 'N.America', 'CIS', 'APAC'], dtype=object)"
      ]
     },
     "execution_count": 17,
     "metadata": {},
     "output_type": "execute_result"
    }
   ],
   "source": [
    "ab_table.region.unique()"
   ]
  },
  {
   "cell_type": "markdown",
   "metadata": {},
   "source": [
    "В тест случайно попали пользователи из CIS(?), APAC и Северной Америки. Их можно тоже откинуть. "
   ]
  },
  {
   "cell_type": "code",
   "execution_count": 18,
   "metadata": {},
   "outputs": [],
   "source": [
    "ab_table = ab_table.query('region==\"EU\"')"
   ]
  },
  {
   "cell_type": "code",
   "execution_count": 19,
   "metadata": {},
   "outputs": [
    {
     "data": {
      "text/plain": [
       "23420"
      ]
     },
     "execution_count": 19,
     "metadata": {},
     "output_type": "execute_result"
    }
   ],
   "source": [
    "ab_table.shape[0]"
   ]
  },
  {
   "cell_type": "code",
   "execution_count": 20,
   "metadata": {},
   "outputs": [
    {
     "data": {
      "text/html": [
       "<div>\n",
       "<style scoped>\n",
       "    .dataframe tbody tr th:only-of-type {\n",
       "        vertical-align: middle;\n",
       "    }\n",
       "\n",
       "    .dataframe tbody tr th {\n",
       "        vertical-align: top;\n",
       "    }\n",
       "\n",
       "    .dataframe thead th {\n",
       "        text-align: right;\n",
       "    }\n",
       "</style>\n",
       "<table border=\"1\" class=\"dataframe\">\n",
       "  <thead>\n",
       "    <tr style=\"text-align: right;\">\n",
       "      <th></th>\n",
       "      <th>user_id</th>\n",
       "      <th>event_dt</th>\n",
       "      <th>event_name</th>\n",
       "      <th>details</th>\n",
       "      <th>group</th>\n",
       "      <th>ab_test</th>\n",
       "      <th>first_date</th>\n",
       "      <th>region</th>\n",
       "      <th>device</th>\n",
       "    </tr>\n",
       "  </thead>\n",
       "  <tbody>\n",
       "    <tr>\n",
       "      <th>0</th>\n",
       "      <td>831887FE7F2D6CBA</td>\n",
       "      <td>2020-12-07 06:50:29</td>\n",
       "      <td>purchase</td>\n",
       "      <td>4.99</td>\n",
       "      <td>A</td>\n",
       "      <td>recommender_system_test</td>\n",
       "      <td>2020-12-07</td>\n",
       "      <td>EU</td>\n",
       "      <td>Android</td>\n",
       "    </tr>\n",
       "    <tr>\n",
       "      <th>1</th>\n",
       "      <td>3C5DD0288AC4FE23</td>\n",
       "      <td>2020-12-07 19:42:40</td>\n",
       "      <td>purchase</td>\n",
       "      <td>4.99</td>\n",
       "      <td>A</td>\n",
       "      <td>recommender_system_test</td>\n",
       "      <td>2020-12-07</td>\n",
       "      <td>EU</td>\n",
       "      <td>PC</td>\n",
       "    </tr>\n",
       "    <tr>\n",
       "      <th>2</th>\n",
       "      <td>49EA242586C87836</td>\n",
       "      <td>2020-12-07 06:31:24</td>\n",
       "      <td>purchase</td>\n",
       "      <td>99.99</td>\n",
       "      <td>B</td>\n",
       "      <td>recommender_system_test</td>\n",
       "      <td>2020-12-07</td>\n",
       "      <td>EU</td>\n",
       "      <td>iPhone</td>\n",
       "    </tr>\n",
       "    <tr>\n",
       "      <th>3</th>\n",
       "      <td>2B06EB547B7AAD08</td>\n",
       "      <td>2020-12-07 21:36:38</td>\n",
       "      <td>purchase</td>\n",
       "      <td>4.99</td>\n",
       "      <td>A</td>\n",
       "      <td>recommender_system_test</td>\n",
       "      <td>2020-12-07</td>\n",
       "      <td>EU</td>\n",
       "      <td>PC</td>\n",
       "    </tr>\n",
       "    <tr>\n",
       "      <th>4</th>\n",
       "      <td>A640F31CAC7823A6</td>\n",
       "      <td>2020-12-07 18:48:26</td>\n",
       "      <td>purchase</td>\n",
       "      <td>4.99</td>\n",
       "      <td>B</td>\n",
       "      <td>recommender_system_test</td>\n",
       "      <td>2020-12-07</td>\n",
       "      <td>EU</td>\n",
       "      <td>PC</td>\n",
       "    </tr>\n",
       "  </tbody>\n",
       "</table>\n",
       "</div>"
      ],
      "text/plain": [
       "            user_id             event_dt event_name  details group  \\\n",
       "0  831887FE7F2D6CBA  2020-12-07 06:50:29   purchase     4.99     A   \n",
       "1  3C5DD0288AC4FE23  2020-12-07 19:42:40   purchase     4.99     A   \n",
       "2  49EA242586C87836  2020-12-07 06:31:24   purchase    99.99     B   \n",
       "3  2B06EB547B7AAD08  2020-12-07 21:36:38   purchase     4.99     A   \n",
       "4  A640F31CAC7823A6  2020-12-07 18:48:26   purchase     4.99     B   \n",
       "\n",
       "                   ab_test first_date region   device  \n",
       "0  recommender_system_test 2020-12-07     EU  Android  \n",
       "1  recommender_system_test 2020-12-07     EU       PC  \n",
       "2  recommender_system_test 2020-12-07     EU   iPhone  \n",
       "3  recommender_system_test 2020-12-07     EU       PC  \n",
       "4  recommender_system_test 2020-12-07     EU       PC  "
      ]
     },
     "execution_count": 20,
     "metadata": {},
     "output_type": "execute_result"
    }
   ],
   "source": [
    "ab_table.head()"
   ]
  },
  {
   "cell_type": "markdown",
   "metadata": {},
   "source": [
    "Получилась таблица с логами событий, деталями заказа, информацией по принадлежности к группе теста, дате появления клиента, регионе и его девайсе. "
   ]
  },
  {
   "cell_type": "code",
   "execution_count": 21,
   "metadata": {},
   "outputs": [
    {
     "name": "stdout",
     "output_type": "stream",
     "text": [
      "Данные начинаются с:\n"
     ]
    },
    {
     "data": {
      "text/plain": [
       "'2020-12-07 00:05:57'"
      ]
     },
     "metadata": {},
     "output_type": "display_data"
    },
    {
     "name": "stdout",
     "output_type": "stream",
     "text": [
      "И заканчиваются:\n"
     ]
    },
    {
     "data": {
      "text/plain": [
       "'2020-12-30 12:42:57'"
      ]
     },
     "execution_count": 21,
     "metadata": {},
     "output_type": "execute_result"
    }
   ],
   "source": [
    "print('Данные начинаются с:')\n",
    "display(ab_table['event_dt'].min())\n",
    "print('И заканчиваются:')\n",
    "ab_table['event_dt'].max()"
   ]
  },
  {
   "cell_type": "markdown",
   "metadata": {},
   "source": [
    "Из условий ТЗ: \n",
    "\n",
    "Дата остановки набора новых пользователей: 2020-12-21. \n",
    "\n",
    "Дата запуска теста: 2020-12-07\n",
    "\n",
    "Дата остановки теста: 2021-01-04\n",
    "\n",
    "\n",
    "Поэтому всех пользователей, которые появились после этой даты - в эксперимент не включаем и ставим фильтр по времени. "
   ]
  },
  {
   "cell_type": "code",
   "execution_count": 22,
   "metadata": {},
   "outputs": [],
   "source": [
    "ab_table = ab_table\\\n",
    ".query('first_date > \"2020-12-07\" & first_date < \"2020-12-21\"')\\\n",
    ".query('event_dt > \"2020-12-07 00:00:00\" & event_dt < \"2021-01-04 23:59:59\"')"
   ]
  },
  {
   "cell_type": "code",
   "execution_count": 23,
   "metadata": {},
   "outputs": [
    {
     "data": {
      "text/plain": [
       "2675"
      ]
     },
     "execution_count": 23,
     "metadata": {},
     "output_type": "execute_result"
    }
   ],
   "source": [
    "#Всего уникальных пользователей в эксперименте\n",
    "len(ab_table['user_id'].unique())"
   ]
  },
  {
   "cell_type": "markdown",
   "metadata": {},
   "source": [
    "По ТЗ пользователе должно было быть около 6000. Здесь сильный недобор. \n",
    "\n",
    "Пользователей мало, разобьем данные по группам. "
   ]
  },
  {
   "cell_type": "code",
   "execution_count": 24,
   "metadata": {},
   "outputs": [],
   "source": [
    "group_a = ab_table.query('group==\"A\"')"
   ]
  },
  {
   "cell_type": "code",
   "execution_count": 25,
   "metadata": {},
   "outputs": [],
   "source": [
    "group_b = ab_table.query('group==\"B\"')"
   ]
  },
  {
   "cell_type": "code",
   "execution_count": 26,
   "metadata": {},
   "outputs": [
    {
     "name": "stdout",
     "output_type": "stream",
     "text": [
      "В группу А попало:\n"
     ]
    },
    {
     "data": {
      "text/plain": [
       "2052"
      ]
     },
     "metadata": {},
     "output_type": "display_data"
    },
    {
     "name": "stdout",
     "output_type": "stream",
     "text": [
      "В группу В попало:\n"
     ]
    },
    {
     "data": {
      "text/plain": [
       "623"
      ]
     },
     "metadata": {},
     "output_type": "display_data"
    }
   ],
   "source": [
    "print('В группу А попало:')\n",
    "display(len(group_a['user_id'].unique()))\n",
    "print('В группу В попало:')\n",
    "display(len(group_b['user_id'].unique()))"
   ]
  },
  {
   "cell_type": "markdown",
   "metadata": {},
   "source": [
    "Группы разбились неравномерно, хотя обычно для  АВ группы должны быть приблизительно одного размера, но в z-тесте речь идет о равенстве долей, поэтмоу продолжим.  \n",
    "Сама группа B - слишком уж маленькая, выборка всего из шестиста человек может исказить результат из-за шумов, хотя срок у эксперимента был адекватный.\n",
    "\n"
   ]
  },
  {
   "cell_type": "markdown",
   "metadata": {},
   "source": [
    "# Анализ воронок"
   ]
  },
  {
   "cell_type": "code",
   "execution_count": 27,
   "metadata": {},
   "outputs": [
    {
     "data": {
      "text/html": [
       "<div>\n",
       "<style scoped>\n",
       "    .dataframe tbody tr th:only-of-type {\n",
       "        vertical-align: middle;\n",
       "    }\n",
       "\n",
       "    .dataframe tbody tr th {\n",
       "        vertical-align: top;\n",
       "    }\n",
       "\n",
       "    .dataframe thead th {\n",
       "        text-align: right;\n",
       "    }\n",
       "</style>\n",
       "<table border=\"1\" class=\"dataframe\">\n",
       "  <thead>\n",
       "    <tr style=\"text-align: right;\">\n",
       "      <th></th>\n",
       "      <th>event_name</th>\n",
       "      <th>user_id</th>\n",
       "      <th>part</th>\n",
       "      <th>events_on_user</th>\n",
       "    </tr>\n",
       "    <tr>\n",
       "      <th>event_name</th>\n",
       "      <th></th>\n",
       "      <th></th>\n",
       "      <th></th>\n",
       "      <th></th>\n",
       "    </tr>\n",
       "  </thead>\n",
       "  <tbody>\n",
       "    <tr>\n",
       "      <th>login</th>\n",
       "      <td>8199</td>\n",
       "      <td>2675</td>\n",
       "      <td>100.00</td>\n",
       "      <td>3.07</td>\n",
       "    </tr>\n",
       "    <tr>\n",
       "      <th>product_page</th>\n",
       "      <td>5019</td>\n",
       "      <td>1661</td>\n",
       "      <td>61.21</td>\n",
       "      <td>3.02</td>\n",
       "    </tr>\n",
       "    <tr>\n",
       "      <th>purchase</th>\n",
       "      <td>2423</td>\n",
       "      <td>820</td>\n",
       "      <td>29.55</td>\n",
       "      <td>2.95</td>\n",
       "    </tr>\n",
       "    <tr>\n",
       "      <th>product_cart</th>\n",
       "      <td>2428</td>\n",
       "      <td>813</td>\n",
       "      <td>29.61</td>\n",
       "      <td>2.99</td>\n",
       "    </tr>\n",
       "  </tbody>\n",
       "</table>\n",
       "</div>"
      ],
      "text/plain": [
       "              event_name  user_id    part  events_on_user\n",
       "event_name                                               \n",
       "login               8199     2675  100.00            3.07\n",
       "product_page        5019     1661   61.21            3.02\n",
       "purchase            2423      820   29.55            2.95\n",
       "product_cart        2428      813   29.61            2.99"
      ]
     },
     "execution_count": 27,
     "metadata": {},
     "output_type": "execute_result"
    }
   ],
   "source": [
    "#общая воронка\n",
    "main_funnel = ab_table.groupby('event_name')\\\n",
    "    .agg({'event_name':'count', 'user_id':'nunique'})\\\n",
    "    .sort_values(by = 'user_id', ascending = False)\n",
    "    \n",
    "main_funnel['part'] = main_funnel['event_name'].apply(lambda x: ((x/main_funnel['event_name'][0])*100)).round(2)\n",
    "main_funnel['events_on_user'] = (main_funnel['event_name'] /main_funnel['user_id']).round(2)\n",
    "main_funnel"
   ]
  },
  {
   "cell_type": "markdown",
   "metadata": {},
   "source": [
    "Если смотреть на всех клиентов, то видно, что конверсия довольно высокая 62% доходят до нужного продукта и 30% от общего числа - складывают его в корзину и покупают. \n",
    "По непонятным причинам покупок чуть больше, чем складываний в корзину. \n",
    "Может быть это баг? \n",
    "А может быть и фича такая. \n",
    "\n",
    "Каждый пользователь примерно три раза заходит на сайт, три раза успешно находит товар, три раза покупает. \n",
    "Возможно это одна группа пользователей с очень прямым клиентским путем? "
   ]
  },
  {
   "cell_type": "code",
   "execution_count": 28,
   "metadata": {},
   "outputs": [],
   "source": [
    "#воронка группы А\n",
    "funnel_a = group_a.groupby('event_name').agg({'event_name':'count', 'user_id':'nunique'}).sort_values(by = 'user_id', ascending = False)\n",
    "funnel_a['part'] = funnel_a['user_id'].apply(lambda x: ((x/funnel_a['user_id'][0])*100)).round(2)\n",
    "funnel_a['events_on_user'] = (funnel_a['event_name'] /funnel_a['user_id']).round(2)\n",
    "\n",
    "#воронка группы B\n",
    "funnel_b = group_b.groupby('event_name').agg({'event_name':'count', 'user_id':'nunique'}).sort_values(by = 'user_id', ascending = False)\n",
    "funnel_b['part'] = funnel_b['user_id'].apply(lambda x: ((x/funnel_b['user_id'][0])*100)).round(2)\n",
    "funnel_b['events_on_user'] = (funnel_b['event_name'] /funnel_b['user_id']).round(2)"
   ]
  },
  {
   "cell_type": "code",
   "execution_count": 29,
   "metadata": {},
   "outputs": [
    {
     "data": {
      "text/html": [
       "<div>\n",
       "<style scoped>\n",
       "    .dataframe tbody tr th:only-of-type {\n",
       "        vertical-align: middle;\n",
       "    }\n",
       "\n",
       "    .dataframe tbody tr th {\n",
       "        vertical-align: top;\n",
       "    }\n",
       "\n",
       "    .dataframe thead th {\n",
       "        text-align: right;\n",
       "    }\n",
       "</style>\n",
       "<table border=\"1\" class=\"dataframe\">\n",
       "  <thead>\n",
       "    <tr style=\"text-align: right;\">\n",
       "      <th></th>\n",
       "      <th>event_name</th>\n",
       "      <th>user_id</th>\n",
       "      <th>part</th>\n",
       "      <th>events_on_user</th>\n",
       "    </tr>\n",
       "    <tr>\n",
       "      <th>event_name</th>\n",
       "      <th></th>\n",
       "      <th></th>\n",
       "      <th></th>\n",
       "      <th></th>\n",
       "    </tr>\n",
       "  </thead>\n",
       "  <tbody>\n",
       "    <tr>\n",
       "      <th>login</th>\n",
       "      <td>6491</td>\n",
       "      <td>2052</td>\n",
       "      <td>100.00</td>\n",
       "      <td>3.16</td>\n",
       "    </tr>\n",
       "    <tr>\n",
       "      <th>product_page</th>\n",
       "      <td>4155</td>\n",
       "      <td>1326</td>\n",
       "      <td>64.62</td>\n",
       "      <td>3.13</td>\n",
       "    </tr>\n",
       "    <tr>\n",
       "      <th>purchase</th>\n",
       "      <td>2018</td>\n",
       "      <td>655</td>\n",
       "      <td>31.92</td>\n",
       "      <td>3.08</td>\n",
       "    </tr>\n",
       "    <tr>\n",
       "      <th>product_cart</th>\n",
       "      <td>1972</td>\n",
       "      <td>634</td>\n",
       "      <td>30.90</td>\n",
       "      <td>3.11</td>\n",
       "    </tr>\n",
       "  </tbody>\n",
       "</table>\n",
       "</div>"
      ],
      "text/plain": [
       "              event_name  user_id    part  events_on_user\n",
       "event_name                                               \n",
       "login               6491     2052  100.00            3.16\n",
       "product_page        4155     1326   64.62            3.13\n",
       "purchase            2018      655   31.92            3.08\n",
       "product_cart        1972      634   30.90            3.11"
      ]
     },
     "execution_count": 29,
     "metadata": {},
     "output_type": "execute_result"
    }
   ],
   "source": [
    "funnel_a"
   ]
  },
  {
   "cell_type": "markdown",
   "metadata": {},
   "source": [
    "Группа А чуть более активная, чем общая группа, показывает немного большую конверсию. "
   ]
  },
  {
   "cell_type": "code",
   "execution_count": 30,
   "metadata": {},
   "outputs": [
    {
     "data": {
      "text/html": [
       "<div>\n",
       "<style scoped>\n",
       "    .dataframe tbody tr th:only-of-type {\n",
       "        vertical-align: middle;\n",
       "    }\n",
       "\n",
       "    .dataframe tbody tr th {\n",
       "        vertical-align: top;\n",
       "    }\n",
       "\n",
       "    .dataframe thead th {\n",
       "        text-align: right;\n",
       "    }\n",
       "</style>\n",
       "<table border=\"1\" class=\"dataframe\">\n",
       "  <thead>\n",
       "    <tr style=\"text-align: right;\">\n",
       "      <th></th>\n",
       "      <th>event_name</th>\n",
       "      <th>user_id</th>\n",
       "      <th>part</th>\n",
       "      <th>events_on_user</th>\n",
       "    </tr>\n",
       "    <tr>\n",
       "      <th>event_name</th>\n",
       "      <th></th>\n",
       "      <th></th>\n",
       "      <th></th>\n",
       "      <th></th>\n",
       "    </tr>\n",
       "  </thead>\n",
       "  <tbody>\n",
       "    <tr>\n",
       "      <th>login</th>\n",
       "      <td>1708</td>\n",
       "      <td>623</td>\n",
       "      <td>100.00</td>\n",
       "      <td>2.74</td>\n",
       "    </tr>\n",
       "    <tr>\n",
       "      <th>product_page</th>\n",
       "      <td>864</td>\n",
       "      <td>335</td>\n",
       "      <td>53.77</td>\n",
       "      <td>2.58</td>\n",
       "    </tr>\n",
       "    <tr>\n",
       "      <th>product_cart</th>\n",
       "      <td>456</td>\n",
       "      <td>179</td>\n",
       "      <td>28.73</td>\n",
       "      <td>2.55</td>\n",
       "    </tr>\n",
       "    <tr>\n",
       "      <th>purchase</th>\n",
       "      <td>405</td>\n",
       "      <td>165</td>\n",
       "      <td>26.48</td>\n",
       "      <td>2.45</td>\n",
       "    </tr>\n",
       "  </tbody>\n",
       "</table>\n",
       "</div>"
      ],
      "text/plain": [
       "              event_name  user_id    part  events_on_user\n",
       "event_name                                               \n",
       "login               1708      623  100.00            2.74\n",
       "product_page         864      335   53.77            2.58\n",
       "product_cart         456      179   28.73            2.55\n",
       "purchase             405      165   26.48            2.45"
      ]
     },
     "execution_count": 30,
     "metadata": {},
     "output_type": "execute_result"
    }
   ],
   "source": [
    "funnel_b"
   ]
  },
  {
   "cell_type": "markdown",
   "metadata": {},
   "source": [
    "Группа В не только значительно меньше, но и по всем показателям ощутимо проигрывает группе А. У нее значительно меньше финальная конверсия - 26,5% против 31%, эти пользователи явно холоднее относятся к сервису, новая рекомендательная система сломала то, что работало. "
   ]
  },
  {
   "cell_type": "markdown",
   "metadata": {},
   "source": [
    "Для чистоты эксперимента надо проверить присутсвуют ли в группах пользователи, которые попали в обе группы."
   ]
  },
  {
   "cell_type": "code",
   "execution_count": 31,
   "metadata": {},
   "outputs": [],
   "source": [
    "#список клиентов из группы А\n",
    "g_a = list(group_a['user_id'].unique())"
   ]
  },
  {
   "cell_type": "code",
   "execution_count": 32,
   "metadata": {},
   "outputs": [
    {
     "data": {
      "text/html": [
       "<div>\n",
       "<style scoped>\n",
       "    .dataframe tbody tr th:only-of-type {\n",
       "        vertical-align: middle;\n",
       "    }\n",
       "\n",
       "    .dataframe tbody tr th {\n",
       "        vertical-align: top;\n",
       "    }\n",
       "\n",
       "    .dataframe thead th {\n",
       "        text-align: right;\n",
       "    }\n",
       "</style>\n",
       "<table border=\"1\" class=\"dataframe\">\n",
       "  <thead>\n",
       "    <tr style=\"text-align: right;\">\n",
       "      <th></th>\n",
       "      <th>user_id</th>\n",
       "      <th>event_dt</th>\n",
       "      <th>event_name</th>\n",
       "      <th>details</th>\n",
       "      <th>group</th>\n",
       "      <th>ab_test</th>\n",
       "      <th>first_date</th>\n",
       "      <th>region</th>\n",
       "      <th>device</th>\n",
       "    </tr>\n",
       "  </thead>\n",
       "  <tbody>\n",
       "  </tbody>\n",
       "</table>\n",
       "</div>"
      ],
      "text/plain": [
       "Empty DataFrame\n",
       "Columns: [user_id, event_dt, event_name, details, group, ab_test, first_date, region, device]\n",
       "Index: []"
      ]
     },
     "execution_count": 32,
     "metadata": {},
     "output_type": "execute_result"
    }
   ],
   "source": [
    "#пересечения \n",
    "group_b.query('user_id in@g_a')"
   ]
  },
  {
   "cell_type": "code",
   "execution_count": 33,
   "metadata": {},
   "outputs": [
    {
     "data": {
      "text/html": [
       "<div>\n",
       "<style scoped>\n",
       "    .dataframe tbody tr th:only-of-type {\n",
       "        vertical-align: middle;\n",
       "    }\n",
       "\n",
       "    .dataframe tbody tr th {\n",
       "        vertical-align: top;\n",
       "    }\n",
       "\n",
       "    .dataframe thead th {\n",
       "        text-align: right;\n",
       "    }\n",
       "</style>\n",
       "<table border=\"1\" class=\"dataframe\">\n",
       "  <thead>\n",
       "    <tr style=\"text-align: right;\">\n",
       "      <th></th>\n",
       "      <th>user_id</th>\n",
       "      <th>event_dt</th>\n",
       "      <th>event_name</th>\n",
       "      <th>details</th>\n",
       "      <th>group</th>\n",
       "      <th>ab_test</th>\n",
       "      <th>first_date</th>\n",
       "      <th>region</th>\n",
       "      <th>device</th>\n",
       "    </tr>\n",
       "  </thead>\n",
       "  <tbody>\n",
       "    <tr>\n",
       "      <th>141</th>\n",
       "      <td>10C2A2FB00BD9AE2</td>\n",
       "      <td>2020-12-08 21:18:41</td>\n",
       "      <td>purchase</td>\n",
       "      <td>4.99</td>\n",
       "      <td>B</td>\n",
       "      <td>recommender_system_test</td>\n",
       "      <td>2020-12-08</td>\n",
       "      <td>EU</td>\n",
       "      <td>Android</td>\n",
       "    </tr>\n",
       "    <tr>\n",
       "      <th>142</th>\n",
       "      <td>8EB70A4733EED0BA</td>\n",
       "      <td>2020-12-08 11:25:39</td>\n",
       "      <td>purchase</td>\n",
       "      <td>4.99</td>\n",
       "      <td>A</td>\n",
       "      <td>recommender_system_test</td>\n",
       "      <td>2020-12-08</td>\n",
       "      <td>EU</td>\n",
       "      <td>Android</td>\n",
       "    </tr>\n",
       "    <tr>\n",
       "      <th>144</th>\n",
       "      <td>FBF31896CD930197</td>\n",
       "      <td>2020-12-08 13:37:43</td>\n",
       "      <td>purchase</td>\n",
       "      <td>4.99</td>\n",
       "      <td>B</td>\n",
       "      <td>recommender_system_test</td>\n",
       "      <td>2020-12-08</td>\n",
       "      <td>EU</td>\n",
       "      <td>Android</td>\n",
       "    </tr>\n",
       "    <tr>\n",
       "      <th>145</th>\n",
       "      <td>FCFCADE5FBB3D95A</td>\n",
       "      <td>2020-12-08 02:43:46</td>\n",
       "      <td>purchase</td>\n",
       "      <td>4.99</td>\n",
       "      <td>A</td>\n",
       "      <td>recommender_system_test</td>\n",
       "      <td>2020-12-08</td>\n",
       "      <td>EU</td>\n",
       "      <td>iPhone</td>\n",
       "    </tr>\n",
       "    <tr>\n",
       "      <th>146</th>\n",
       "      <td>5E26340B4933987D</td>\n",
       "      <td>2020-12-08 23:28:03</td>\n",
       "      <td>purchase</td>\n",
       "      <td>9.99</td>\n",
       "      <td>B</td>\n",
       "      <td>recommender_system_test</td>\n",
       "      <td>2020-12-08</td>\n",
       "      <td>EU</td>\n",
       "      <td>iPhone</td>\n",
       "    </tr>\n",
       "  </tbody>\n",
       "</table>\n",
       "</div>"
      ],
      "text/plain": [
       "              user_id             event_dt event_name  details group  \\\n",
       "141  10C2A2FB00BD9AE2  2020-12-08 21:18:41   purchase     4.99     B   \n",
       "142  8EB70A4733EED0BA  2020-12-08 11:25:39   purchase     4.99     A   \n",
       "144  FBF31896CD930197  2020-12-08 13:37:43   purchase     4.99     B   \n",
       "145  FCFCADE5FBB3D95A  2020-12-08 02:43:46   purchase     4.99     A   \n",
       "146  5E26340B4933987D  2020-12-08 23:28:03   purchase     9.99     B   \n",
       "\n",
       "                     ab_test first_date region   device  \n",
       "141  recommender_system_test 2020-12-08     EU  Android  \n",
       "142  recommender_system_test 2020-12-08     EU  Android  \n",
       "144  recommender_system_test 2020-12-08     EU  Android  \n",
       "145  recommender_system_test 2020-12-08     EU   iPhone  \n",
       "146  recommender_system_test 2020-12-08     EU   iPhone  "
      ]
     },
     "execution_count": 33,
     "metadata": {},
     "output_type": "execute_result"
    }
   ],
   "source": [
    "ab_table.head()"
   ]
  },
  {
   "cell_type": "markdown",
   "metadata": {},
   "source": [
    "в группах нет пересечений по пользователям"
   ]
  },
  {
   "cell_type": "code",
   "execution_count": 34,
   "metadata": {},
   "outputs": [
    {
     "data": {
      "text/html": [
       "<div>\n",
       "<style scoped>\n",
       "    .dataframe tbody tr th:only-of-type {\n",
       "        vertical-align: middle;\n",
       "    }\n",
       "\n",
       "    .dataframe tbody tr th {\n",
       "        vertical-align: top;\n",
       "    }\n",
       "\n",
       "    .dataframe thead th {\n",
       "        text-align: right;\n",
       "    }\n",
       "</style>\n",
       "<table border=\"1\" class=\"dataframe\">\n",
       "  <thead>\n",
       "    <tr style=\"text-align: right;\">\n",
       "      <th></th>\n",
       "      <th>group</th>\n",
       "    </tr>\n",
       "    <tr>\n",
       "      <th>user_id</th>\n",
       "      <th></th>\n",
       "    </tr>\n",
       "  </thead>\n",
       "  <tbody>\n",
       "    <tr>\n",
       "      <th>001064FEAAB631A1</th>\n",
       "      <td>1</td>\n",
       "    </tr>\n",
       "    <tr>\n",
       "      <th>A8294E42CCC07445</th>\n",
       "      <td>1</td>\n",
       "    </tr>\n",
       "    <tr>\n",
       "      <th>A8514C09C055B131</th>\n",
       "      <td>1</td>\n",
       "    </tr>\n",
       "    <tr>\n",
       "      <th>A8533224E9384B16</th>\n",
       "      <td>1</td>\n",
       "    </tr>\n",
       "    <tr>\n",
       "      <th>A880134551CFF8B7</th>\n",
       "      <td>1</td>\n",
       "    </tr>\n",
       "  </tbody>\n",
       "</table>\n",
       "</div>"
      ],
      "text/plain": [
       "                  group\n",
       "user_id                \n",
       "001064FEAAB631A1      1\n",
       "A8294E42CCC07445      1\n",
       "A8514C09C055B131      1\n",
       "A8533224E9384B16      1\n",
       "A880134551CFF8B7      1"
      ]
     },
     "execution_count": 34,
     "metadata": {},
     "output_type": "execute_result"
    }
   ],
   "source": [
    "ab_table.groupby('user_id').agg({'group':'nunique'}).sort_values(by = 'group', ascending = False).head()"
   ]
  },
  {
   "cell_type": "code",
   "execution_count": 35,
   "metadata": {},
   "outputs": [],
   "source": [
    "tests = pd.read_csv('final_ab_participants.csv')"
   ]
  },
  {
   "cell_type": "code",
   "execution_count": 36,
   "metadata": {},
   "outputs": [
    {
     "data": {
      "text/plain": [
       "array(['recommender_system_test', 'interface_eu_test'], dtype=object)"
      ]
     },
     "execution_count": 36,
     "metadata": {},
     "output_type": "execute_result"
    }
   ],
   "source": [
    "tests.ab_test.unique()"
   ]
  },
  {
   "cell_type": "code",
   "execution_count": 37,
   "metadata": {},
   "outputs": [
    {
     "data": {
      "text/plain": [
       "1602"
      ]
     },
     "execution_count": 37,
     "metadata": {},
     "output_type": "execute_result"
    }
   ],
   "source": [
    "tests.groupby('user_id').agg({'ab_test':'nunique'}).sort_values(by = 'ab_test', ascending = False).query('ab_test>1').shape[0]"
   ]
  },
  {
   "cell_type": "code",
   "execution_count": 38,
   "metadata": {},
   "outputs": [],
   "source": [
    "two_tests_users = list(tests.groupby('user_id').agg({'ab_test':'nunique'})\\\n",
    ".sort_values(by = 'ab_test', ascending = False)\\\n",
    ".query('ab_test>1').reset_index()['user_id'])"
   ]
  },
  {
   "cell_type": "markdown",
   "metadata": {},
   "source": [
    "Да, действительно 1602 пользователя принимали участие в обоих тестах. \n",
    "Это тоже могло исказить результаты, учитывая, что тест называется interface_eu_test, логично, что он связан с интерфейсом и напрямую будет влиять на конверсию. \n",
    "\n",
    "Лучше такие смежные тесты проводить отдельно. Возможно, стоило бы выкинуть вообще пользователей в разные группы, чтобы не было пересечений между тестами, но это очен сильно уменьшит и без того небольшую выборку."
   ]
  },
  {
   "cell_type": "markdown",
   "metadata": {},
   "source": [
    "## Распределение числа событий по дням"
   ]
  },
  {
   "cell_type": "code",
   "execution_count": 39,
   "metadata": {},
   "outputs": [
    {
     "data": {
      "text/html": [
       "<div>\n",
       "<style scoped>\n",
       "    .dataframe tbody tr th:only-of-type {\n",
       "        vertical-align: middle;\n",
       "    }\n",
       "\n",
       "    .dataframe tbody tr th {\n",
       "        vertical-align: top;\n",
       "    }\n",
       "\n",
       "    .dataframe thead th {\n",
       "        text-align: right;\n",
       "    }\n",
       "</style>\n",
       "<table border=\"1\" class=\"dataframe\">\n",
       "  <thead>\n",
       "    <tr style=\"text-align: right;\">\n",
       "      <th></th>\n",
       "      <th>event_day</th>\n",
       "      <th>event_name</th>\n",
       "      <th>user_id</th>\n",
       "    </tr>\n",
       "  </thead>\n",
       "  <tbody>\n",
       "    <tr>\n",
       "      <th>0</th>\n",
       "      <td>2020-12-08</td>\n",
       "      <td>278</td>\n",
       "      <td>132</td>\n",
       "    </tr>\n",
       "    <tr>\n",
       "      <th>1</th>\n",
       "      <td>2020-12-09</td>\n",
       "      <td>482</td>\n",
       "      <td>229</td>\n",
       "    </tr>\n",
       "    <tr>\n",
       "      <th>2</th>\n",
       "      <td>2020-12-10</td>\n",
       "      <td>419</td>\n",
       "      <td>205</td>\n",
       "    </tr>\n",
       "    <tr>\n",
       "      <th>3</th>\n",
       "      <td>2020-12-11</td>\n",
       "      <td>397</td>\n",
       "      <td>204</td>\n",
       "    </tr>\n",
       "    <tr>\n",
       "      <th>4</th>\n",
       "      <td>2020-12-12</td>\n",
       "      <td>446</td>\n",
       "      <td>223</td>\n",
       "    </tr>\n",
       "    <tr>\n",
       "      <th>5</th>\n",
       "      <td>2020-12-13</td>\n",
       "      <td>386</td>\n",
       "      <td>196</td>\n",
       "    </tr>\n",
       "    <tr>\n",
       "      <th>6</th>\n",
       "      <td>2020-12-14</td>\n",
       "      <td>1180</td>\n",
       "      <td>545</td>\n",
       "    </tr>\n",
       "    <tr>\n",
       "      <th>7</th>\n",
       "      <td>2020-12-15</td>\n",
       "      <td>1187</td>\n",
       "      <td>536</td>\n",
       "    </tr>\n",
       "    <tr>\n",
       "      <th>8</th>\n",
       "      <td>2020-12-16</td>\n",
       "      <td>1310</td>\n",
       "      <td>578</td>\n",
       "    </tr>\n",
       "    <tr>\n",
       "      <th>9</th>\n",
       "      <td>2020-12-17</td>\n",
       "      <td>1428</td>\n",
       "      <td>622</td>\n",
       "    </tr>\n",
       "    <tr>\n",
       "      <th>10</th>\n",
       "      <td>2020-12-18</td>\n",
       "      <td>1458</td>\n",
       "      <td>650</td>\n",
       "    </tr>\n",
       "    <tr>\n",
       "      <th>11</th>\n",
       "      <td>2020-12-19</td>\n",
       "      <td>1667</td>\n",
       "      <td>733</td>\n",
       "    </tr>\n",
       "    <tr>\n",
       "      <th>12</th>\n",
       "      <td>2020-12-20</td>\n",
       "      <td>1715</td>\n",
       "      <td>769</td>\n",
       "    </tr>\n",
       "    <tr>\n",
       "      <th>13</th>\n",
       "      <td>2020-12-21</td>\n",
       "      <td>1185</td>\n",
       "      <td>529</td>\n",
       "    </tr>\n",
       "    <tr>\n",
       "      <th>14</th>\n",
       "      <td>2020-12-22</td>\n",
       "      <td>854</td>\n",
       "      <td>391</td>\n",
       "    </tr>\n",
       "    <tr>\n",
       "      <th>15</th>\n",
       "      <td>2020-12-23</td>\n",
       "      <td>749</td>\n",
       "      <td>340</td>\n",
       "    </tr>\n",
       "    <tr>\n",
       "      <th>16</th>\n",
       "      <td>2020-12-24</td>\n",
       "      <td>701</td>\n",
       "      <td>305</td>\n",
       "    </tr>\n",
       "    <tr>\n",
       "      <th>17</th>\n",
       "      <td>2020-12-25</td>\n",
       "      <td>508</td>\n",
       "      <td>229</td>\n",
       "    </tr>\n",
       "    <tr>\n",
       "      <th>18</th>\n",
       "      <td>2020-12-26</td>\n",
       "      <td>489</td>\n",
       "      <td>218</td>\n",
       "    </tr>\n",
       "    <tr>\n",
       "      <th>19</th>\n",
       "      <td>2020-12-27</td>\n",
       "      <td>466</td>\n",
       "      <td>210</td>\n",
       "    </tr>\n",
       "    <tr>\n",
       "      <th>20</th>\n",
       "      <td>2020-12-28</td>\n",
       "      <td>411</td>\n",
       "      <td>187</td>\n",
       "    </tr>\n",
       "    <tr>\n",
       "      <th>21</th>\n",
       "      <td>2020-12-29</td>\n",
       "      <td>353</td>\n",
       "      <td>168</td>\n",
       "    </tr>\n",
       "  </tbody>\n",
       "</table>\n",
       "</div>"
      ],
      "text/plain": [
       "     event_day  event_name  user_id\n",
       "0   2020-12-08         278      132\n",
       "1   2020-12-09         482      229\n",
       "2   2020-12-10         419      205\n",
       "3   2020-12-11         397      204\n",
       "4   2020-12-12         446      223\n",
       "5   2020-12-13         386      196\n",
       "6   2020-12-14        1180      545\n",
       "7   2020-12-15        1187      536\n",
       "8   2020-12-16        1310      578\n",
       "9   2020-12-17        1428      622\n",
       "10  2020-12-18        1458      650\n",
       "11  2020-12-19        1667      733\n",
       "12  2020-12-20        1715      769\n",
       "13  2020-12-21        1185      529\n",
       "14  2020-12-22         854      391\n",
       "15  2020-12-23         749      340\n",
       "16  2020-12-24         701      305\n",
       "17  2020-12-25         508      229\n",
       "18  2020-12-26         489      218\n",
       "19  2020-12-27         466      210\n",
       "20  2020-12-28         411      187\n",
       "21  2020-12-29         353      168"
      ]
     },
     "execution_count": 39,
     "metadata": {},
     "output_type": "execute_result"
    }
   ],
   "source": [
    "#событий в день и уников \n",
    "ab_table['event_dt'] = pd.to_datetime(ab_table['event_dt'])\n",
    "ab_table['event_day'] = ab_table['event_dt'].dt.date\n",
    "events = ab_table.groupby('event_day').agg({'event_name':'count', 'user_id':'nunique'}).reset_index()\n",
    "events"
   ]
  },
  {
   "cell_type": "code",
   "execution_count": 40,
   "metadata": {},
   "outputs": [
    {
     "data": {
      "image/png": "[encoded data removed]",
      "text/plain": [
       "<Figure size 432x288 with 1 Axes>"
      ]
     },
     "metadata": {
      "needs_background": "light"
     },
     "output_type": "display_data"
    }
   ],
   "source": [
    "sns.barplot(x = 'event_day', y = 'event_name', data = events)\n",
    "plt.xticks(rotation=45)\n",
    "plt.show()"
   ]
  },
  {
   "cell_type": "markdown",
   "metadata": {},
   "source": [
    "Большая часть активностей пользователей приходится на период с 14-го по 21-ое число, на середину эксперимента. "
   ]
  },
  {
   "cell_type": "code",
   "execution_count": 41,
   "metadata": {},
   "outputs": [
    {
     "data": {
      "text/html": [
       "<div>\n",
       "<style scoped>\n",
       "    .dataframe tbody tr th:only-of-type {\n",
       "        vertical-align: middle;\n",
       "    }\n",
       "\n",
       "    .dataframe tbody tr th {\n",
       "        vertical-align: top;\n",
       "    }\n",
       "\n",
       "    .dataframe thead th {\n",
       "        text-align: right;\n",
       "    }\n",
       "</style>\n",
       "<table border=\"1\" class=\"dataframe\">\n",
       "  <thead>\n",
       "    <tr style=\"text-align: right;\">\n",
       "      <th></th>\n",
       "      <th>event_day</th>\n",
       "      <th>event_name</th>\n",
       "      <th>user_id</th>\n",
       "    </tr>\n",
       "  </thead>\n",
       "  <tbody>\n",
       "    <tr>\n",
       "      <th>0</th>\n",
       "      <td>2020-12-08</td>\n",
       "      <td>196</td>\n",
       "      <td>90</td>\n",
       "    </tr>\n",
       "    <tr>\n",
       "      <th>1</th>\n",
       "      <td>2020-12-09</td>\n",
       "      <td>277</td>\n",
       "      <td>128</td>\n",
       "    </tr>\n",
       "    <tr>\n",
       "      <th>2</th>\n",
       "      <td>2020-12-10</td>\n",
       "      <td>266</td>\n",
       "      <td>125</td>\n",
       "    </tr>\n",
       "    <tr>\n",
       "      <th>3</th>\n",
       "      <td>2020-12-11</td>\n",
       "      <td>305</td>\n",
       "      <td>152</td>\n",
       "    </tr>\n",
       "    <tr>\n",
       "      <th>4</th>\n",
       "      <td>2020-12-12</td>\n",
       "      <td>297</td>\n",
       "      <td>145</td>\n",
       "    </tr>\n",
       "    <tr>\n",
       "      <th>5</th>\n",
       "      <td>2020-12-13</td>\n",
       "      <td>270</td>\n",
       "      <td>136</td>\n",
       "    </tr>\n",
       "    <tr>\n",
       "      <th>6</th>\n",
       "      <td>2020-12-14</td>\n",
       "      <td>969</td>\n",
       "      <td>441</td>\n",
       "    </tr>\n",
       "    <tr>\n",
       "      <th>7</th>\n",
       "      <td>2020-12-15</td>\n",
       "      <td>1002</td>\n",
       "      <td>441</td>\n",
       "    </tr>\n",
       "    <tr>\n",
       "      <th>8</th>\n",
       "      <td>2020-12-16</td>\n",
       "      <td>983</td>\n",
       "      <td>431</td>\n",
       "    </tr>\n",
       "    <tr>\n",
       "      <th>9</th>\n",
       "      <td>2020-12-17</td>\n",
       "      <td>1172</td>\n",
       "      <td>508</td>\n",
       "    </tr>\n",
       "    <tr>\n",
       "      <th>10</th>\n",
       "      <td>2020-12-18</td>\n",
       "      <td>1219</td>\n",
       "      <td>532</td>\n",
       "    </tr>\n",
       "    <tr>\n",
       "      <th>11</th>\n",
       "      <td>2020-12-19</td>\n",
       "      <td>1407</td>\n",
       "      <td>606</td>\n",
       "    </tr>\n",
       "    <tr>\n",
       "      <th>12</th>\n",
       "      <td>2020-12-20</td>\n",
       "      <td>1422</td>\n",
       "      <td>622</td>\n",
       "    </tr>\n",
       "    <tr>\n",
       "      <th>13</th>\n",
       "      <td>2020-12-21</td>\n",
       "      <td>980</td>\n",
       "      <td>432</td>\n",
       "    </tr>\n",
       "    <tr>\n",
       "      <th>14</th>\n",
       "      <td>2020-12-22</td>\n",
       "      <td>750</td>\n",
       "      <td>335</td>\n",
       "    </tr>\n",
       "    <tr>\n",
       "      <th>15</th>\n",
       "      <td>2020-12-23</td>\n",
       "      <td>617</td>\n",
       "      <td>273</td>\n",
       "    </tr>\n",
       "    <tr>\n",
       "      <th>16</th>\n",
       "      <td>2020-12-24</td>\n",
       "      <td>602</td>\n",
       "      <td>256</td>\n",
       "    </tr>\n",
       "    <tr>\n",
       "      <th>17</th>\n",
       "      <td>2020-12-25</td>\n",
       "      <td>446</td>\n",
       "      <td>195</td>\n",
       "    </tr>\n",
       "    <tr>\n",
       "      <th>18</th>\n",
       "      <td>2020-12-26</td>\n",
       "      <td>410</td>\n",
       "      <td>178</td>\n",
       "    </tr>\n",
       "    <tr>\n",
       "      <th>19</th>\n",
       "      <td>2020-12-27</td>\n",
       "      <td>394</td>\n",
       "      <td>173</td>\n",
       "    </tr>\n",
       "    <tr>\n",
       "      <th>20</th>\n",
       "      <td>2020-12-28</td>\n",
       "      <td>342</td>\n",
       "      <td>147</td>\n",
       "    </tr>\n",
       "    <tr>\n",
       "      <th>21</th>\n",
       "      <td>2020-12-29</td>\n",
       "      <td>310</td>\n",
       "      <td>145</td>\n",
       "    </tr>\n",
       "  </tbody>\n",
       "</table>\n",
       "</div>"
      ],
      "text/plain": [
       "     event_day  event_name  user_id\n",
       "0   2020-12-08         196       90\n",
       "1   2020-12-09         277      128\n",
       "2   2020-12-10         266      125\n",
       "3   2020-12-11         305      152\n",
       "4   2020-12-12         297      145\n",
       "5   2020-12-13         270      136\n",
       "6   2020-12-14         969      441\n",
       "7   2020-12-15        1002      441\n",
       "8   2020-12-16         983      431\n",
       "9   2020-12-17        1172      508\n",
       "10  2020-12-18        1219      532\n",
       "11  2020-12-19        1407      606\n",
       "12  2020-12-20        1422      622\n",
       "13  2020-12-21         980      432\n",
       "14  2020-12-22         750      335\n",
       "15  2020-12-23         617      273\n",
       "16  2020-12-24         602      256\n",
       "17  2020-12-25         446      195\n",
       "18  2020-12-26         410      178\n",
       "19  2020-12-27         394      173\n",
       "20  2020-12-28         342      147\n",
       "21  2020-12-29         310      145"
      ]
     },
     "execution_count": 41,
     "metadata": {},
     "output_type": "execute_result"
    }
   ],
   "source": [
    "#событий в день и уников для группы А\n",
    "events_a = ab_table.query('group==\"A\"').groupby('event_day').agg({'event_name':'count', 'user_id':'nunique'}).reset_index()\n",
    "events_a"
   ]
  },
  {
   "cell_type": "code",
   "execution_count": 42,
   "metadata": {},
   "outputs": [
    {
     "data": {
      "image/png": "[encoded data removed]",
      "text/plain": [
       "<Figure size 432x288 with 1 Axes>"
      ]
     },
     "metadata": {
      "needs_background": "light"
     },
     "output_type": "display_data"
    }
   ],
   "source": [
    "sns.barplot(x = 'event_day', y = 'event_name', data = events_a)\n",
    "plt.xticks(rotation=45)\n",
    "plt.show()"
   ]
  },
  {
   "cell_type": "code",
   "execution_count": 43,
   "metadata": {},
   "outputs": [
    {
     "data": {
      "text/html": [
       "<div>\n",
       "<style scoped>\n",
       "    .dataframe tbody tr th:only-of-type {\n",
       "        vertical-align: middle;\n",
       "    }\n",
       "\n",
       "    .dataframe tbody tr th {\n",
       "        vertical-align: top;\n",
       "    }\n",
       "\n",
       "    .dataframe thead th {\n",
       "        text-align: right;\n",
       "    }\n",
       "</style>\n",
       "<table border=\"1\" class=\"dataframe\">\n",
       "  <thead>\n",
       "    <tr style=\"text-align: right;\">\n",
       "      <th></th>\n",
       "      <th>event_day</th>\n",
       "      <th>event_name</th>\n",
       "      <th>user_id</th>\n",
       "    </tr>\n",
       "  </thead>\n",
       "  <tbody>\n",
       "    <tr>\n",
       "      <th>0</th>\n",
       "      <td>2020-12-08</td>\n",
       "      <td>82</td>\n",
       "      <td>42</td>\n",
       "    </tr>\n",
       "    <tr>\n",
       "      <th>1</th>\n",
       "      <td>2020-12-09</td>\n",
       "      <td>205</td>\n",
       "      <td>101</td>\n",
       "    </tr>\n",
       "    <tr>\n",
       "      <th>2</th>\n",
       "      <td>2020-12-10</td>\n",
       "      <td>153</td>\n",
       "      <td>80</td>\n",
       "    </tr>\n",
       "    <tr>\n",
       "      <th>3</th>\n",
       "      <td>2020-12-11</td>\n",
       "      <td>92</td>\n",
       "      <td>52</td>\n",
       "    </tr>\n",
       "    <tr>\n",
       "      <th>4</th>\n",
       "      <td>2020-12-12</td>\n",
       "      <td>149</td>\n",
       "      <td>78</td>\n",
       "    </tr>\n",
       "    <tr>\n",
       "      <th>5</th>\n",
       "      <td>2020-12-13</td>\n",
       "      <td>116</td>\n",
       "      <td>60</td>\n",
       "    </tr>\n",
       "    <tr>\n",
       "      <th>6</th>\n",
       "      <td>2020-12-14</td>\n",
       "      <td>211</td>\n",
       "      <td>104</td>\n",
       "    </tr>\n",
       "    <tr>\n",
       "      <th>7</th>\n",
       "      <td>2020-12-15</td>\n",
       "      <td>185</td>\n",
       "      <td>95</td>\n",
       "    </tr>\n",
       "    <tr>\n",
       "      <th>8</th>\n",
       "      <td>2020-12-16</td>\n",
       "      <td>327</td>\n",
       "      <td>147</td>\n",
       "    </tr>\n",
       "    <tr>\n",
       "      <th>9</th>\n",
       "      <td>2020-12-17</td>\n",
       "      <td>256</td>\n",
       "      <td>114</td>\n",
       "    </tr>\n",
       "    <tr>\n",
       "      <th>10</th>\n",
       "      <td>2020-12-18</td>\n",
       "      <td>239</td>\n",
       "      <td>118</td>\n",
       "    </tr>\n",
       "    <tr>\n",
       "      <th>11</th>\n",
       "      <td>2020-12-19</td>\n",
       "      <td>260</td>\n",
       "      <td>127</td>\n",
       "    </tr>\n",
       "    <tr>\n",
       "      <th>12</th>\n",
       "      <td>2020-12-20</td>\n",
       "      <td>293</td>\n",
       "      <td>147</td>\n",
       "    </tr>\n",
       "    <tr>\n",
       "      <th>13</th>\n",
       "      <td>2020-12-21</td>\n",
       "      <td>205</td>\n",
       "      <td>97</td>\n",
       "    </tr>\n",
       "    <tr>\n",
       "      <th>14</th>\n",
       "      <td>2020-12-22</td>\n",
       "      <td>104</td>\n",
       "      <td>56</td>\n",
       "    </tr>\n",
       "    <tr>\n",
       "      <th>15</th>\n",
       "      <td>2020-12-23</td>\n",
       "      <td>132</td>\n",
       "      <td>67</td>\n",
       "    </tr>\n",
       "    <tr>\n",
       "      <th>16</th>\n",
       "      <td>2020-12-24</td>\n",
       "      <td>99</td>\n",
       "      <td>49</td>\n",
       "    </tr>\n",
       "    <tr>\n",
       "      <th>17</th>\n",
       "      <td>2020-12-25</td>\n",
       "      <td>62</td>\n",
       "      <td>34</td>\n",
       "    </tr>\n",
       "    <tr>\n",
       "      <th>18</th>\n",
       "      <td>2020-12-26</td>\n",
       "      <td>79</td>\n",
       "      <td>40</td>\n",
       "    </tr>\n",
       "    <tr>\n",
       "      <th>19</th>\n",
       "      <td>2020-12-27</td>\n",
       "      <td>72</td>\n",
       "      <td>37</td>\n",
       "    </tr>\n",
       "    <tr>\n",
       "      <th>20</th>\n",
       "      <td>2020-12-28</td>\n",
       "      <td>69</td>\n",
       "      <td>40</td>\n",
       "    </tr>\n",
       "    <tr>\n",
       "      <th>21</th>\n",
       "      <td>2020-12-29</td>\n",
       "      <td>43</td>\n",
       "      <td>23</td>\n",
       "    </tr>\n",
       "  </tbody>\n",
       "</table>\n",
       "</div>"
      ],
      "text/plain": [
       "     event_day  event_name  user_id\n",
       "0   2020-12-08          82       42\n",
       "1   2020-12-09         205      101\n",
       "2   2020-12-10         153       80\n",
       "3   2020-12-11          92       52\n",
       "4   2020-12-12         149       78\n",
       "5   2020-12-13         116       60\n",
       "6   2020-12-14         211      104\n",
       "7   2020-12-15         185       95\n",
       "8   2020-12-16         327      147\n",
       "9   2020-12-17         256      114\n",
       "10  2020-12-18         239      118\n",
       "11  2020-12-19         260      127\n",
       "12  2020-12-20         293      147\n",
       "13  2020-12-21         205       97\n",
       "14  2020-12-22         104       56\n",
       "15  2020-12-23         132       67\n",
       "16  2020-12-24          99       49\n",
       "17  2020-12-25          62       34\n",
       "18  2020-12-26          79       40\n",
       "19  2020-12-27          72       37\n",
       "20  2020-12-28          69       40\n",
       "21  2020-12-29          43       23"
      ]
     },
     "execution_count": 43,
     "metadata": {},
     "output_type": "execute_result"
    }
   ],
   "source": [
    "#событий в день и уников для группы B\n",
    "events_b = ab_table.query('group==\"B\"').groupby('event_day').agg({'event_name':'count', 'user_id':'nunique'}).reset_index()\n",
    "events_b"
   ]
  },
  {
   "cell_type": "code",
   "execution_count": 44,
   "metadata": {},
   "outputs": [
    {
     "data": {
      "image/png": "[encoded data removed]",
      "text/plain": [
       "<Figure size 432x288 with 1 Axes>"
      ]
     },
     "metadata": {
      "needs_background": "light"
     },
     "output_type": "display_data"
    }
   ],
   "source": [
    "sns.barplot(x = 'event_day', y = 'event_name', data = events_b)\n",
    "plt.xticks(rotation=45)\n",
    "\n",
    "plt.show()"
   ]
  },
  {
   "cell_type": "markdown",
   "metadata": {},
   "source": [
    "В группе В распределение числа событий более шумное. Думаю это связано со слишком маленьким размером группы. "
   ]
  },
  {
   "cell_type": "markdown",
   "metadata": {},
   "source": [
    "# AA и АВ тесты. "
   ]
  },
  {
   "cell_type": "markdown",
   "metadata": {},
   "source": [
    "## AA - тест"
   ]
  },
  {
   "cell_type": "markdown",
   "metadata": {},
   "source": [
    "- Ожидаемый эфект: за 14 дней с момента регистрации в системе пользователи покажут лучшую конверсию в просмотр карточек товаров (событие `product_page`), просмотр  корзины товаров (событие `product_card`) и покупку (`purchase`). На каждом из шагов воронки `product_page → product_card → purchase` улучшение составит не менее 10%;"
   ]
  },
  {
   "cell_type": "code",
   "execution_count": 45,
   "metadata": {},
   "outputs": [],
   "source": [
    "events_for_test = ['product_page', 'product_cart', 'purchase']"
   ]
  },
  {
   "cell_type": "markdown",
   "metadata": {},
   "source": [
    "Для АА-теста мы случайным образом разделим группу А на выборки А_1 и А_2. Так как вся группы А была чуть больше 2000, возьмем в случайном порядке 1200 человек."
   ]
  },
  {
   "cell_type": "markdown",
   "metadata": {},
   "source": [
    "АА проводят, чтобы убедиться в том, что: \n",
    "\n",
    "- на результаты не влияют аномалии и выбросы в генеральной совокупности;\n",
    "- инструмент «деления» трафика работает безошибочно;\n",
    "- данные отправляются в системы аналитики корректно.\n",
    "\n",
    "Если трафик делится правильно и на тест не влияют какие-то аномалии, то группы не будут отличаться, если отличаются - значит что-то не так и в исследование вмешался еще какой-то фактор."
   ]
  },
  {
   "cell_type": "markdown",
   "metadata": {},
   "source": [
    "Критерии успешного A/A-теста:\n",
    "\n",
    "- Количество пользователей в различных группах различается не более, чем на 1%; (возможно в нашем случае) \n",
    "- Для всех групп фиксируют и отправляют в системы аналитики данные об одном и том же; (возможно в нашем случае)\n",
    "- Различие ключевых метрик по группам не превышает 1% и не имеет статистической значимости; (не про нас)\n",
    "- Попавший в одну из групп посетитель остаётся в этой группе до конца теста. (не про нас, он еще в другой группе другого теста, а значит видит разные версии сайта)\n",
    "\n",
    "Если пользователь видит разные версии исследуемой страницы в ходе одного исследования, неизвестно, какая именно повлияла на его решения. Значит, и результаты такого теста нельзя интерпретировать однозначно."
   ]
  },
  {
   "cell_type": "code",
   "execution_count": 46,
   "metadata": {},
   "outputs": [],
   "source": [
    "list_1 = group_a['user_id'].sample(1200)\n",
    "\n",
    "group_a_1 = group_a.query('user_id in @list_1')\n",
    "group_a_2 = group_a.query('user_id not in @list_1')"
   ]
  },
  {
   "cell_type": "code",
   "execution_count": 47,
   "metadata": {},
   "outputs": [
    {
     "data": {
      "text/plain": [
       "24.856815578465064"
      ]
     },
     "execution_count": 47,
     "metadata": {},
     "output_type": "execute_result"
    }
   ],
   "source": [
    "#участвуют в двух тестах в группе \n",
    "len(group_a_1.query('user_id in @two_tests_users')['user_id'].unique())/len(group_a_1['user_id'].unique())*100"
   ]
  },
  {
   "cell_type": "code",
   "execution_count": 48,
   "metadata": {},
   "outputs": [
    {
     "data": {
      "text/plain": [
       "24.851569126378287"
      ]
     },
     "execution_count": 48,
     "metadata": {},
     "output_type": "execute_result"
    }
   ],
   "source": [
    "#участвуют в двух тестах в группе \n",
    "len(group_a_2.query('user_id in @two_tests_users')['user_id'].unique())/len(group_a_2['user_id'].unique())*100"
   ]
  },
  {
   "cell_type": "markdown",
   "metadata": {},
   "source": [
    "В групппах А_1 и А_2 около 25% еще участвуют в другом тесте, а значит сравнивать их через АА неправильно. \n",
    "Чтобы провести АА, лучше попробовать их сначала удалить"
   ]
  },
  {
   "cell_type": "code",
   "execution_count": 49,
   "metadata": {},
   "outputs": [],
   "source": [
    "#воронка группы А_1\n",
    "funnel_a_1 = group_a_1.groupby('event_name').agg({'event_name':'count', 'user_id':'nunique'}).sort_values(by = 'user_id', ascending = False)\n",
    "funnel_a_1['part'] = funnel_a_1['user_id'].apply(lambda x: ((x/funnel_a_1['user_id'][0])*100)).round(2)\n",
    "funnel_a_1['events_on_user'] = (funnel_a_1['event_name'] /funnel_a_1['user_id']).round(2)"
   ]
  },
  {
   "cell_type": "code",
   "execution_count": 50,
   "metadata": {},
   "outputs": [],
   "source": [
    "#воронка группы А_2\n",
    "funnel_a_2 = group_a_2.groupby('event_name').agg({'event_name':'count', 'user_id':'nunique'}).sort_values(by = 'user_id', ascending = False)\n",
    "funnel_a_2['part'] = funnel_a_2['user_id'].apply(lambda x: ((x/funnel_a_2['user_id'][0])*100)).round(2)\n",
    "funnel_a_2['events_on_user'] = (funnel_a_2['event_name'] /funnel_a_2['user_id']).round(2)"
   ]
  },
  {
   "cell_type": "code",
   "execution_count": 51,
   "metadata": {},
   "outputs": [
    {
     "data": {
      "text/html": [
       "<div>\n",
       "<style scoped>\n",
       "    .dataframe tbody tr th:only-of-type {\n",
       "        vertical-align: middle;\n",
       "    }\n",
       "\n",
       "    .dataframe tbody tr th {\n",
       "        vertical-align: top;\n",
       "    }\n",
       "\n",
       "    .dataframe thead th {\n",
       "        text-align: right;\n",
       "    }\n",
       "</style>\n",
       "<table border=\"1\" class=\"dataframe\">\n",
       "  <thead>\n",
       "    <tr style=\"text-align: right;\">\n",
       "      <th></th>\n",
       "      <th>event_name</th>\n",
       "      <th>user_id</th>\n",
       "      <th>part</th>\n",
       "      <th>events_on_user</th>\n",
       "    </tr>\n",
       "    <tr>\n",
       "      <th>event_name</th>\n",
       "      <th></th>\n",
       "      <th></th>\n",
       "      <th></th>\n",
       "      <th></th>\n",
       "    </tr>\n",
       "  </thead>\n",
       "  <tbody>\n",
       "    <tr>\n",
       "      <th>login</th>\n",
       "      <td>3083</td>\n",
       "      <td>873</td>\n",
       "      <td>100.00</td>\n",
       "      <td>3.53</td>\n",
       "    </tr>\n",
       "    <tr>\n",
       "      <th>product_page</th>\n",
       "      <td>2269</td>\n",
       "      <td>645</td>\n",
       "      <td>73.88</td>\n",
       "      <td>3.52</td>\n",
       "    </tr>\n",
       "    <tr>\n",
       "      <th>purchase</th>\n",
       "      <td>1173</td>\n",
       "      <td>347</td>\n",
       "      <td>39.75</td>\n",
       "      <td>3.38</td>\n",
       "    </tr>\n",
       "    <tr>\n",
       "      <th>product_cart</th>\n",
       "      <td>1115</td>\n",
       "      <td>320</td>\n",
       "      <td>36.66</td>\n",
       "      <td>3.48</td>\n",
       "    </tr>\n",
       "  </tbody>\n",
       "</table>\n",
       "</div>"
      ],
      "text/plain": [
       "              event_name  user_id    part  events_on_user\n",
       "event_name                                               \n",
       "login               3083      873  100.00            3.53\n",
       "product_page        2269      645   73.88            3.52\n",
       "purchase            1173      347   39.75            3.38\n",
       "product_cart        1115      320   36.66            3.48"
      ]
     },
     "execution_count": 51,
     "metadata": {},
     "output_type": "execute_result"
    }
   ],
   "source": [
    "funnel_a_1"
   ]
  },
  {
   "cell_type": "code",
   "execution_count": 52,
   "metadata": {},
   "outputs": [
    {
     "data": {
      "text/html": [
       "<div>\n",
       "<style scoped>\n",
       "    .dataframe tbody tr th:only-of-type {\n",
       "        vertical-align: middle;\n",
       "    }\n",
       "\n",
       "    .dataframe tbody tr th {\n",
       "        vertical-align: top;\n",
       "    }\n",
       "\n",
       "    .dataframe thead th {\n",
       "        text-align: right;\n",
       "    }\n",
       "</style>\n",
       "<table border=\"1\" class=\"dataframe\">\n",
       "  <thead>\n",
       "    <tr style=\"text-align: right;\">\n",
       "      <th></th>\n",
       "      <th>event_name</th>\n",
       "      <th>user_id</th>\n",
       "      <th>part</th>\n",
       "      <th>events_on_user</th>\n",
       "    </tr>\n",
       "    <tr>\n",
       "      <th>event_name</th>\n",
       "      <th></th>\n",
       "      <th></th>\n",
       "      <th></th>\n",
       "      <th></th>\n",
       "    </tr>\n",
       "  </thead>\n",
       "  <tbody>\n",
       "    <tr>\n",
       "      <th>login</th>\n",
       "      <td>3408</td>\n",
       "      <td>1179</td>\n",
       "      <td>100.00</td>\n",
       "      <td>2.89</td>\n",
       "    </tr>\n",
       "    <tr>\n",
       "      <th>product_page</th>\n",
       "      <td>1886</td>\n",
       "      <td>681</td>\n",
       "      <td>57.76</td>\n",
       "      <td>2.77</td>\n",
       "    </tr>\n",
       "    <tr>\n",
       "      <th>product_cart</th>\n",
       "      <td>857</td>\n",
       "      <td>314</td>\n",
       "      <td>26.63</td>\n",
       "      <td>2.73</td>\n",
       "    </tr>\n",
       "    <tr>\n",
       "      <th>purchase</th>\n",
       "      <td>845</td>\n",
       "      <td>308</td>\n",
       "      <td>26.12</td>\n",
       "      <td>2.74</td>\n",
       "    </tr>\n",
       "  </tbody>\n",
       "</table>\n",
       "</div>"
      ],
      "text/plain": [
       "              event_name  user_id    part  events_on_user\n",
       "event_name                                               \n",
       "login               3408     1179  100.00            2.89\n",
       "product_page        1886      681   57.76            2.77\n",
       "product_cart         857      314   26.63            2.73\n",
       "purchase             845      308   26.12            2.74"
      ]
     },
     "execution_count": 52,
     "metadata": {},
     "output_type": "execute_result"
    }
   ],
   "source": [
    "funnel_a_2"
   ]
  },
  {
   "cell_type": "code",
   "execution_count": 53,
   "metadata": {},
   "outputs": [],
   "source": [
    "#классика никогда не устареет\n",
    "alpha = 0.05"
   ]
  },
  {
   "cell_type": "code",
   "execution_count": 54,
   "metadata": {},
   "outputs": [
    {
     "name": "stdout",
     "output_type": "stream",
     "text": [
      "Z-тест для события product_page\n",
      "p-значение:  4.3076653355456074e-14\n",
      "Отвергаем нулевую гипотезу: между долями есть значимая разница\n",
      "Z-тест для события product_cart\n",
      "p-значение:  1.1866240996472044e-06\n",
      "Отвергаем нулевую гипотезу: между долями есть значимая разница\n",
      "Z-тест для события purchase\n",
      "p-значение:  5.929190471931634e-11\n",
      "Отвергаем нулевую гипотезу: между долями есть значимая разница\n"
     ]
    }
   ],
   "source": [
    "for event in events_for_test:\n",
    "    print('Z-тест для события', event)\n",
    "    z_test(group_a_1, group_a_2, event)"
   ]
  },
  {
   "cell_type": "markdown",
   "metadata": {},
   "source": [
    "В целом получилось, что конверсия в АА тесте отличается слишком сильно. Такой трафик бы не прошел АА тест. "
   ]
  },
  {
   "cell_type": "markdown",
   "metadata": {},
   "source": [
    "## AB"
   ]
  },
  {
   "cell_type": "markdown",
   "metadata": {},
   "source": [
    "## Тест между группами A и В. "
   ]
  },
  {
   "cell_type": "code",
   "execution_count": 55,
   "metadata": {},
   "outputs": [
    {
     "name": "stdout",
     "output_type": "stream",
     "text": [
      "Z-тест для события product_page\n",
      "p-значение:  1.0185522369976496e-06\n",
      "Отвергаем нулевую гипотезу: между долями есть значимая разница\n",
      "Z-тест для события product_cart\n",
      "p-значение:  0.30353462928670316\n",
      "Не получилось отвергнуть нулевую гипотезу, нет оснований считать доли разными\n",
      "Z-тест для события purchase\n",
      "p-значение:  0.00996158484051235\n",
      "Отвергаем нулевую гипотезу: между долями есть значимая разница\n"
     ]
    }
   ],
   "source": [
    "for event in events_for_test:\n",
    "    print('Z-тест для события', event)\n",
    "    z_test(group_a, group_b, event)"
   ]
  },
  {
   "cell_type": "markdown",
   "metadata": {},
   "source": [
    "Разница в конверсиях есть, но не в пользу группы В, на воронке было четко видно, что у группы А конверсия значительно лучше. \n",
    "При этом конверсия в шаг product_cart не сильно отличается  у групп А и В."
   ]
  },
  {
   "cell_type": "markdown",
   "metadata": {},
   "source": [
    "## Тест между группами A_1 и В. \n"
   ]
  },
  {
   "cell_type": "code",
   "execution_count": 56,
   "metadata": {},
   "outputs": [
    {
     "name": "stdout",
     "output_type": "stream",
     "text": [
      "Z-тест для события product_page\n",
      "p-значение:  6.661338147750939e-16\n",
      "Отвергаем нулевую гипотезу: между долями есть значимая разница\n",
      "Z-тест для события product_cart\n",
      "p-значение:  0.0013542477608399217\n",
      "Отвергаем нулевую гипотезу: между долями есть значимая разница\n",
      "Z-тест для события purchase\n",
      "p-значение:  9.816652046801266e-08\n",
      "Отвергаем нулевую гипотезу: между долями есть значимая разница\n"
     ]
    }
   ],
   "source": [
    "for event in events_for_test:\n",
    "    print('Z-тест для события', event)\n",
    "    z_test(group_a_1, group_b, event)"
   ]
  },
  {
   "cell_type": "markdown",
   "metadata": {},
   "source": [
    "Ощутимые отличия. Статистически значимая разница есть. Это связано с тем, что у группы A_1 самые высокие показатели конверсии. "
   ]
  },
  {
   "cell_type": "markdown",
   "metadata": {},
   "source": [
    "## Тест между группами A_2 и В. "
   ]
  },
  {
   "cell_type": "code",
   "execution_count": 57,
   "metadata": {},
   "outputs": [
    {
     "name": "stdout",
     "output_type": "stream",
     "text": [
      "Z-тест для события product_page\n",
      "p-значение:  0.10439952046892631\n",
      "Не получилось отвергнуть нулевую гипотезу, нет оснований считать доли разными\n",
      "Z-тест для события product_cart\n",
      "p-значение:  0.34176124666672103\n",
      "Не получилось отвергнуть нулевую гипотезу, нет оснований считать доли разными\n",
      "Z-тест для события purchase\n",
      "p-значение:  0.8684619031932679\n",
      "Не получилось отвергнуть нулевую гипотезу, нет оснований считать доли разными\n"
     ]
    }
   ],
   "source": [
    "for event in events_for_test:\n",
    "    print('Z-тест для события', event)\n",
    "    z_test(group_a_2, group_b, event)"
   ]
  },
  {
   "cell_type": "markdown",
   "metadata": {},
   "source": [
    "А вот группа А_2 показала себя хуже общей группы А и А_1. Поэтому не сильно отличается от группы B. Есть гипотеза о том, что часть трафика из группы В перетекла в группу А - возможны ошибки при маркировке. "
   ]
  },
  {
   "cell_type": "markdown",
   "metadata": {},
   "source": [
    "# Выводы: \n",
    "\n",
    "В подобном тестировании слишком много ошибок и неточностей. Хоть и время для эксперимента было достаточным, порядок и логика не кажутся правильными. \n",
    "\n",
    "Есть два способа решить проблему: можно провести заново такой тест, но уже в нужном порядке - сначала провести АА тест, потом АВ, постараться сделать группы примерно одного размера. Сроки и условия можно оставить аналогичными. \n",
    "\n",
    "Второй: дешевле и, наверное, надежнее, стоит признать, что разница слишком очевидная и, скорее всего, новая рекомендательная система не отрабаывает так, как надо. \n",
    "\n",
    "При такой высокой конверсии для группы А (31% в покупку), может вообще не стоило ничего трогать. \n",
    "\n",
    "Группа В не только значительно меньше, но и по всем показателям ощутимо проигрывает группе А. У нее значительно меньше финальная конверсия - 23% против 31%, эти пользователи явно холоднее относятся к сервису, новая рекомендательная система сломала то, что работало. \n",
    "\n",
    "\n",
    "По-хорошему клиентов надо бы кластеризовать с помощью ML, тогда может удасться выделить группы самых лояльных клиентов из группы А_1. "
   ]
  }
 ],
 "metadata": {
  "kernelspec": {
   "display_name": "Python 3",
   "language": "python",
   "name": "python3"
  },
  "language_info": {
   "codemirror_mode": {
    "name": "ipython",
    "version": 3
   },
   "file_extension": ".py",
   "mimetype": "text/x-python",
   "name": "python",
   "nbconvert_exporter": "python",
   "pygments_lexer": "ipython3",
   "version": "3.8.2"
  }
 },
 "nbformat": 4,
 "nbformat_minor": 2
}
