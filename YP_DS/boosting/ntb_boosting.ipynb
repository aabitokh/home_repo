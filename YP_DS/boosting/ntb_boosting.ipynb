{
 "cells": [
  {
   "cell_type": "code",
   "execution_count": 169,
   "metadata": {},
   "outputs": [],
   "source": [
    "import pandas as pd \n",
    "import numpy as np \n",
    "\n",
    "import warnings\n",
    "warnings.filterwarnings(\"ignore\")\n",
    "\n",
    "\n",
    "from sklearn.compose import make_column_transformer\n",
    "from sklearn.ensemble import RandomForestRegressor\n",
    "from sklearn.linear_model import Ridge\n",
    "from sklearn.metrics import mean_squared_error\n",
    "from sklearn.model_selection import (\n",
    "    GridSearchCV, \n",
    "    RandomizedSearchCV,\n",
    "    train_test_split\n",
    ")\n",
    "from sklearn.pipeline import make_pipeline\n",
    "from sklearn.preprocessing import (\n",
    "    OneHotEncoder,\n",
    "    OrdinalEncoder,\n",
    "    StandardScaler, \n",
    "    LabelEncoder\n",
    ")\n",
    "\n",
    "import phik\n",
    "from phik.report import plot_correlation_matrix\n",
    "from phik import report\n",
    "\n",
    "\n",
    "from matplotlib import pyplot as plt \n",
    "import seaborn as sns \n",
    "plt.style.use('dark_background')\n",
    "plt.rcParams[\"figure.figsize\"] = (15,5)\n",
    "\n",
    "RANDOM_STATE = 42\n",
    "\n",
    "DATA_PATH = 'autos.csv'\n",
    "#DATA_PATH = '/datasets/autos.csv'"
   ]
  },
  {
   "attachments": {},
   "cell_type": "markdown",
   "metadata": {},
   "source": [
    "# dq "
   ]
  },
  {
   "attachments": {},
   "cell_type": "markdown",
   "metadata": {},
   "source": [
    "## first check "
   ]
  },
  {
   "cell_type": "code",
   "execution_count": 170,
   "metadata": {},
   "outputs": [],
   "source": [
    "df = pd.read_csv('autos.csv')"
   ]
  },
  {
   "cell_type": "code",
   "execution_count": 171,
   "metadata": {},
   "outputs": [
    {
     "data": {
      "text/html": [
       "<div>\n",
       "<style scoped>\n",
       "    .dataframe tbody tr th:only-of-type {\n",
       "        vertical-align: middle;\n",
       "    }\n",
       "\n",
       "    .dataframe tbody tr th {\n",
       "        vertical-align: top;\n",
       "    }\n",
       "\n",
       "    .dataframe thead th {\n",
       "        text-align: right;\n",
       "    }\n",
       "</style>\n",
       "<table border=\"1\" class=\"dataframe\">\n",
       "  <thead>\n",
       "    <tr style=\"text-align: right;\">\n",
       "      <th></th>\n",
       "      <th>DateCrawled</th>\n",
       "      <th>Price</th>\n",
       "      <th>VehicleType</th>\n",
       "      <th>RegistrationYear</th>\n",
       "      <th>Gearbox</th>\n",
       "      <th>Power</th>\n",
       "      <th>Model</th>\n",
       "      <th>Kilometer</th>\n",
       "      <th>RegistrationMonth</th>\n",
       "      <th>FuelType</th>\n",
       "      <th>Brand</th>\n",
       "      <th>Repaired</th>\n",
       "      <th>DateCreated</th>\n",
       "      <th>NumberOfPictures</th>\n",
       "      <th>PostalCode</th>\n",
       "      <th>LastSeen</th>\n",
       "    </tr>\n",
       "  </thead>\n",
       "  <tbody>\n",
       "    <tr>\n",
       "      <th>49426</th>\n",
       "      <td>2016-03-07 15:49:43</td>\n",
       "      <td>15000</td>\n",
       "      <td>suv</td>\n",
       "      <td>2007</td>\n",
       "      <td>auto</td>\n",
       "      <td>190</td>\n",
       "      <td>m_klasse</td>\n",
       "      <td>150000</td>\n",
       "      <td>7</td>\n",
       "      <td>gasoline</td>\n",
       "      <td>mercedes_benz</td>\n",
       "      <td>no</td>\n",
       "      <td>2016-03-07 00:00:00</td>\n",
       "      <td>0</td>\n",
       "      <td>89079</td>\n",
       "      <td>2016-03-10 05:16:17</td>\n",
       "    </tr>\n",
       "    <tr>\n",
       "      <th>47892</th>\n",
       "      <td>2016-03-27 18:57:59</td>\n",
       "      <td>1499</td>\n",
       "      <td>wagon</td>\n",
       "      <td>2004</td>\n",
       "      <td>manual</td>\n",
       "      <td>90</td>\n",
       "      <td>focus</td>\n",
       "      <td>150000</td>\n",
       "      <td>1</td>\n",
       "      <td>gasoline</td>\n",
       "      <td>ford</td>\n",
       "      <td>no</td>\n",
       "      <td>2016-03-27 00:00:00</td>\n",
       "      <td>0</td>\n",
       "      <td>1445</td>\n",
       "      <td>2016-03-31 01:16:09</td>\n",
       "    </tr>\n",
       "    <tr>\n",
       "      <th>182888</th>\n",
       "      <td>2016-03-29 00:56:53</td>\n",
       "      <td>7500</td>\n",
       "      <td>sedan</td>\n",
       "      <td>2008</td>\n",
       "      <td>auto</td>\n",
       "      <td>122</td>\n",
       "      <td>golf</td>\n",
       "      <td>150000</td>\n",
       "      <td>5</td>\n",
       "      <td>petrol</td>\n",
       "      <td>volkswagen</td>\n",
       "      <td>no</td>\n",
       "      <td>2016-03-29 00:00:00</td>\n",
       "      <td>0</td>\n",
       "      <td>41238</td>\n",
       "      <td>2016-04-07 07:45:47</td>\n",
       "    </tr>\n",
       "    <tr>\n",
       "      <th>243654</th>\n",
       "      <td>2016-03-21 19:39:04</td>\n",
       "      <td>250</td>\n",
       "      <td>NaN</td>\n",
       "      <td>2016</td>\n",
       "      <td>manual</td>\n",
       "      <td>0</td>\n",
       "      <td>astra</td>\n",
       "      <td>150000</td>\n",
       "      <td>5</td>\n",
       "      <td>NaN</td>\n",
       "      <td>opel</td>\n",
       "      <td>NaN</td>\n",
       "      <td>2016-03-21 00:00:00</td>\n",
       "      <td>0</td>\n",
       "      <td>89522</td>\n",
       "      <td>2016-04-02 21:18:57</td>\n",
       "    </tr>\n",
       "    <tr>\n",
       "      <th>198118</th>\n",
       "      <td>2016-03-26 19:45:24</td>\n",
       "      <td>3999</td>\n",
       "      <td>coupe</td>\n",
       "      <td>1999</td>\n",
       "      <td>manual</td>\n",
       "      <td>170</td>\n",
       "      <td>3er</td>\n",
       "      <td>150000</td>\n",
       "      <td>2</td>\n",
       "      <td>petrol</td>\n",
       "      <td>bmw</td>\n",
       "      <td>no</td>\n",
       "      <td>2016-03-26 00:00:00</td>\n",
       "      <td>0</td>\n",
       "      <td>10369</td>\n",
       "      <td>2016-04-06 09:17:46</td>\n",
       "    </tr>\n",
       "  </tbody>\n",
       "</table>\n",
       "</div>"
      ],
      "text/plain": [
       "                DateCrawled  Price VehicleType  RegistrationYear Gearbox  \\\n",
       "49426   2016-03-07 15:49:43  15000         suv              2007    auto   \n",
       "47892   2016-03-27 18:57:59   1499       wagon              2004  manual   \n",
       "182888  2016-03-29 00:56:53   7500       sedan              2008    auto   \n",
       "243654  2016-03-21 19:39:04    250         NaN              2016  manual   \n",
       "198118  2016-03-26 19:45:24   3999       coupe              1999  manual   \n",
       "\n",
       "        Power     Model  Kilometer  RegistrationMonth  FuelType  \\\n",
       "49426     190  m_klasse     150000                  7  gasoline   \n",
       "47892      90     focus     150000                  1  gasoline   \n",
       "182888    122      golf     150000                  5    petrol   \n",
       "243654      0     astra     150000                  5       NaN   \n",
       "198118    170       3er     150000                  2    petrol   \n",
       "\n",
       "                Brand Repaired          DateCreated  NumberOfPictures  \\\n",
       "49426   mercedes_benz       no  2016-03-07 00:00:00                 0   \n",
       "47892            ford       no  2016-03-27 00:00:00                 0   \n",
       "182888     volkswagen       no  2016-03-29 00:00:00                 0   \n",
       "243654           opel      NaN  2016-03-21 00:00:00                 0   \n",
       "198118            bmw       no  2016-03-26 00:00:00                 0   \n",
       "\n",
       "        PostalCode             LastSeen  \n",
       "49426        89079  2016-03-10 05:16:17  \n",
       "47892         1445  2016-03-31 01:16:09  \n",
       "182888       41238  2016-04-07 07:45:47  \n",
       "243654       89522  2016-04-02 21:18:57  \n",
       "198118       10369  2016-04-06 09:17:46  "
      ]
     },
     "execution_count": 171,
     "metadata": {},
     "output_type": "execute_result"
    }
   ],
   "source": [
    "df.sample(5)"
   ]
  },
  {
   "cell_type": "code",
   "execution_count": 172,
   "metadata": {},
   "outputs": [
    {
     "name": "stdout",
     "output_type": "stream",
     "text": [
      "<class 'pandas.core.frame.DataFrame'>\n",
      "RangeIndex: 354369 entries, 0 to 354368\n",
      "Data columns (total 16 columns):\n",
      " #   Column             Non-Null Count   Dtype \n",
      "---  ------             --------------   ----- \n",
      " 0   DateCrawled        354369 non-null  object\n",
      " 1   Price              354369 non-null  int64 \n",
      " 2   VehicleType        316879 non-null  object\n",
      " 3   RegistrationYear   354369 non-null  int64 \n",
      " 4   Gearbox            334536 non-null  object\n",
      " 5   Power              354369 non-null  int64 \n",
      " 6   Model              334664 non-null  object\n",
      " 7   Kilometer          354369 non-null  int64 \n",
      " 8   RegistrationMonth  354369 non-null  int64 \n",
      " 9   FuelType           321474 non-null  object\n",
      " 10  Brand              354369 non-null  object\n",
      " 11  Repaired           283215 non-null  object\n",
      " 12  DateCreated        354369 non-null  object\n",
      " 13  NumberOfPictures   354369 non-null  int64 \n",
      " 14  PostalCode         354369 non-null  int64 \n",
      " 15  LastSeen           354369 non-null  object\n",
      "dtypes: int64(7), object(9)\n",
      "memory usage: 43.3+ MB\n"
     ]
    }
   ],
   "source": [
    "df.info()"
   ]
  },
  {
   "cell_type": "code",
   "execution_count": 173,
   "metadata": {},
   "outputs": [],
   "source": [
    "df['LastSeen'] = df['LastSeen'].astype('datetime64')\n",
    "df['DateCrawled'] = df['DateCrawled'].astype('datetime64')\n",
    "df['DateCreated'] = df['DateCreated'].astype('datetime64')\n",
    "df.columns = [col.lower() for col in df.columns]"
   ]
  },
  {
   "attachments": {},
   "cell_type": "markdown",
   "metadata": {},
   "source": [
    "## NaN's"
   ]
  },
  {
   "cell_type": "code",
   "execution_count": 174,
   "metadata": {},
   "outputs": [
    {
     "data": {
      "text/plain": [
       "repaired             20.08\n",
       "vehicletype          10.58\n",
       "fueltype              9.28\n",
       "gearbox               5.60\n",
       "model                 5.56\n",
       "datecrawled           0.00\n",
       "price                 0.00\n",
       "registrationyear      0.00\n",
       "power                 0.00\n",
       "kilometer             0.00\n",
       "registrationmonth     0.00\n",
       "brand                 0.00\n",
       "datecreated           0.00\n",
       "numberofpictures      0.00\n",
       "postalcode            0.00\n",
       "lastseen              0.00\n",
       "dtype: float64"
      ]
     },
     "execution_count": 174,
     "metadata": {},
     "output_type": "execute_result"
    }
   ],
   "source": [
    "round(df.isnull().mean().sort_values(ascending=False)*100,2)"
   ]
  },
  {
   "attachments": {},
   "cell_type": "markdown",
   "metadata": {},
   "source": [
    "получается, что очень много пропусков в колонках repaired, venicletype, fueltype, gearbox, model. \n",
    "\n",
    "местами пропусков слишком много, чтобы просто так выкинуть, но и замазать средним не получится, признаки категориальные. \n",
    "\n",
    "лучше просто в датасете так и прошим: неизвестно. станет отдельной категорией "
   ]
  },
  {
   "cell_type": "code",
   "execution_count": 175,
   "metadata": {},
   "outputs": [],
   "source": [
    "df['repaired'] = df['repaired'].fillna('unknown')\n",
    "df['vehicletype'] = df['vehicletype'].fillna('unknown')\n",
    "df['gearbox'] = df['gearbox'].fillna('unknown')\n",
    "df['model'] = df['model'].fillna('unknown')"
   ]
  },
  {
   "attachments": {},
   "cell_type": "markdown",
   "metadata": {},
   "source": [
    "## EDA + features clean up "
   ]
  },
  {
   "cell_type": "code",
   "execution_count": 176,
   "metadata": {},
   "outputs": [
    {
     "data": {
      "text/html": [
       "<div>\n",
       "<style scoped>\n",
       "    .dataframe tbody tr th:only-of-type {\n",
       "        vertical-align: middle;\n",
       "    }\n",
       "\n",
       "    .dataframe tbody tr th {\n",
       "        vertical-align: top;\n",
       "    }\n",
       "\n",
       "    .dataframe thead th {\n",
       "        text-align: right;\n",
       "    }\n",
       "</style>\n",
       "<table border=\"1\" class=\"dataframe\">\n",
       "  <thead>\n",
       "    <tr style=\"text-align: right;\">\n",
       "      <th></th>\n",
       "      <th>datecrawled</th>\n",
       "      <th>datecreated</th>\n",
       "      <th>lastseen</th>\n",
       "    </tr>\n",
       "  </thead>\n",
       "  <tbody>\n",
       "    <tr>\n",
       "      <th>count</th>\n",
       "      <td>354369</td>\n",
       "      <td>354369</td>\n",
       "      <td>354369</td>\n",
       "    </tr>\n",
       "    <tr>\n",
       "      <th>unique</th>\n",
       "      <td>271174</td>\n",
       "      <td>109</td>\n",
       "      <td>179150</td>\n",
       "    </tr>\n",
       "    <tr>\n",
       "      <th>top</th>\n",
       "      <td>2016-03-24 14:49:47</td>\n",
       "      <td>2016-04-03 00:00:00</td>\n",
       "      <td>2016-04-06 13:45:54</td>\n",
       "    </tr>\n",
       "    <tr>\n",
       "      <th>freq</th>\n",
       "      <td>7</td>\n",
       "      <td>13719</td>\n",
       "      <td>17</td>\n",
       "    </tr>\n",
       "    <tr>\n",
       "      <th>first</th>\n",
       "      <td>2016-03-05 14:06:22</td>\n",
       "      <td>2014-03-10 00:00:00</td>\n",
       "      <td>2016-03-05 14:15:08</td>\n",
       "    </tr>\n",
       "    <tr>\n",
       "      <th>last</th>\n",
       "      <td>2016-04-07 14:36:58</td>\n",
       "      <td>2016-04-07 00:00:00</td>\n",
       "      <td>2016-04-07 14:58:51</td>\n",
       "    </tr>\n",
       "  </tbody>\n",
       "</table>\n",
       "</div>"
      ],
      "text/plain": [
       "                datecrawled          datecreated             lastseen\n",
       "count                354369               354369               354369\n",
       "unique               271174                  109               179150\n",
       "top     2016-03-24 14:49:47  2016-04-03 00:00:00  2016-04-06 13:45:54\n",
       "freq                      7                13719                   17\n",
       "first   2016-03-05 14:06:22  2014-03-10 00:00:00  2016-03-05 14:15:08\n",
       "last    2016-04-07 14:36:58  2016-04-07 00:00:00  2016-04-07 14:58:51"
      ]
     },
     "metadata": {},
     "output_type": "display_data"
    }
   ],
   "source": [
    "display(df.select_dtypes(include='datetime').describe())\n",
    "df.drop(df.select_dtypes(include='datetime').columns, axis = 1, inplace=True) "
   ]
  },
  {
   "attachments": {},
   "cell_type": "markdown",
   "metadata": {},
   "source": [
    "в данных с датами особо нет аномалий, но выглядят они как данные о юзерах/объявлениях и на цену машины влиять не должны. \n",
    "лучше бы их удалить. "
   ]
  },
  {
   "cell_type": "code",
   "execution_count": 177,
   "metadata": {},
   "outputs": [
    {
     "data": {
      "image/png": "[encoded data removed]",
      "text/plain": [
       "<Figure size 1080x360 with 1 Axes>"
      ]
     },
     "metadata": {},
     "output_type": "display_data"
    }
   ],
   "source": [
    "plt.title('price distr')\n",
    "df.price.hist()\n",
    "plt.show()"
   ]
  },
  {
   "attachments": {},
   "cell_type": "markdown",
   "metadata": {},
   "source": [
    "в целом все ок, распределение цены выглядят логичным"
   ]
  },
  {
   "cell_type": "code",
   "execution_count": 178,
   "metadata": {},
   "outputs": [
    {
     "data": {
      "text/plain": [
       "sedan          0.258084\n",
       "small          0.225276\n",
       "wagon          0.183893\n",
       "unknown        0.105794\n",
       "bus            0.081201\n",
       "convertible    0.057011\n",
       "coupe          0.045611\n",
       "suv            0.033852\n",
       "other          0.009278\n",
       "Name: vehicletype, dtype: float64"
      ]
     },
     "execution_count": 178,
     "metadata": {},
     "output_type": "execute_result"
    }
   ],
   "source": [
    "df.vehicletype.value_counts(normalize=True)"
   ]
  },
  {
   "cell_type": "code",
   "execution_count": 179,
   "metadata": {},
   "outputs": [
    {
     "data": {
      "image/png": "[encoded data removed]",
      "text/plain": [
       "<Figure size 1080x360 with 1 Axes>"
      ]
     },
     "metadata": {},
     "output_type": "display_data"
    },
    {
     "data": {
      "text/plain": [
       "count    354369.000000\n",
       "mean       2004.234448\n",
       "std          90.227958\n",
       "min        1000.000000\n",
       "0%         1000.000000\n",
       "1%         1980.000000\n",
       "50%        2003.000000\n",
       "90%        2012.000000\n",
       "95%        2016.000000\n",
       "99%        2018.000000\n",
       "max        9999.000000\n",
       "Name: registrationyear, dtype: float64"
      ]
     },
     "metadata": {},
     "output_type": "display_data"
    },
    {
     "data": {
      "image/png": "[encoded data removed]",
      "text/plain": [
       "<Figure size 1080x360 with 1 Axes>"
      ]
     },
     "metadata": {},
     "output_type": "display_data"
    },
    {
     "data": {
      "text/plain": [
       "count    350787.000000\n",
       "mean       2003.421911\n",
       "std           6.610245\n",
       "min        1980.000000\n",
       "0%         1980.000000\n",
       "1%         1987.000000\n",
       "50%        2003.000000\n",
       "90%        2012.000000\n",
       "95%        2016.000000\n",
       "99%        2018.000000\n",
       "max        2018.000000\n",
       "Name: registrationyear, dtype: float64"
      ]
     },
     "metadata": {},
     "output_type": "display_data"
    }
   ],
   "source": [
    "plt.title('year_distr')\n",
    "df['registrationyear'].hist(bins = 25)\n",
    "plt.show() \n",
    "\n",
    "display(df['registrationyear'].describe(percentiles=[0, 0.01, 0.5, 0.9, 0.95, 0.99]))\n",
    "\n",
    "df = df.query('registrationyear > = 1980 and registrationyear <= 2018')\n",
    "\n",
    "plt.title('year_distr after cleaning')\n",
    "df['registrationyear'].hist(bins = 25)\n",
    "plt.show() \n",
    "\n",
    "display(df['registrationyear'].describe(percentiles=[0, 0.01, 0.5, 0.9, 0.95, 0.99]))"
   ]
  },
  {
   "attachments": {},
   "cell_type": "markdown",
   "metadata": {},
   "source": [
    "есть какие-то нереально старые машины, которым практически тысяяча лет в обед. \n",
    "их, пожалуй, лучше выкинуть из выборки"
   ]
  },
  {
   "cell_type": "code",
   "execution_count": 180,
   "metadata": {},
   "outputs": [
    {
     "data": {
      "text/plain": [
       "manual     0.758777\n",
       "auto       0.187088\n",
       "unknown    0.054135\n",
       "Name: gearbox, dtype: float64"
      ]
     },
     "execution_count": 180,
     "metadata": {},
     "output_type": "execute_result"
    }
   ],
   "source": [
    "df['gearbox'].value_counts(normalize=True)"
   ]
  },
  {
   "cell_type": "code",
   "execution_count": 181,
   "metadata": {},
   "outputs": [
    {
     "data": {
      "image/png": "[encoded data removed]",
      "text/plain": [
       "<Figure size 1080x360 with 1 Axes>"
      ]
     },
     "metadata": {},
     "output_type": "display_data"
    },
    {
     "data": {
      "text/plain": [
       "count    350787.000000\n",
       "mean        110.422701\n",
       "std         188.275356\n",
       "min           0.000000\n",
       "0%            0.000000\n",
       "1%            0.000000\n",
       "2%            0.000000\n",
       "5%            0.000000\n",
       "10%           0.000000\n",
       "50%         105.000000\n",
       "90%         179.000000\n",
       "95%         218.000000\n",
       "99%         300.000000\n",
       "max       20000.000000\n",
       "Name: power, dtype: float64"
      ]
     },
     "metadata": {},
     "output_type": "display_data"
    },
    {
     "data": {
      "image/png": "[encoded data removed]",
      "text/plain": [
       "<Figure size 1080x360 with 1 Axes>"
      ]
     },
     "metadata": {},
     "output_type": "display_data"
    },
    {
     "data": {
      "text/plain": [
       "count    347354.000000\n",
       "mean        104.772656\n",
       "std          59.083956\n",
       "min           0.000000\n",
       "0%            0.000000\n",
       "1%            0.000000\n",
       "2%            0.000000\n",
       "5%            0.000000\n",
       "10%           0.000000\n",
       "50%         103.000000\n",
       "90%         177.000000\n",
       "95%         204.000000\n",
       "99%         258.000000\n",
       "max         300.000000\n",
       "Name: power, dtype: float64"
      ]
     },
     "metadata": {},
     "output_type": "display_data"
    }
   ],
   "source": [
    "plt.title('power distr')\n",
    "df['power'].hist(bins = 25)\n",
    "plt.show()\n",
    "display(df['power'].describe(percentiles=[0, 0.01, 0.02, 0.1, 0.05,  0.5, 0.9, 0.95, 0.99]))\n",
    "\n",
    "df = df.query('power <= 300') \n",
    "\n",
    "plt.title('power distr after cleaning')\n",
    "df['power'].hist(bins = 25)\n",
    "plt.show()\n",
    "display(df['power'].describe(percentiles=[0, 0.01, 0.02, 0.1, 0.05,  0.5, 0.9, 0.95, 0.99]))\n"
   ]
  },
  {
   "attachments": {},
   "cell_type": "markdown",
   "metadata": {},
   "source": [
    "вот с мощностью тоже куча объявлений с 0, удалить не получится -- слишком много, лучше заполнить условным средним"
   ]
  },
  {
   "cell_type": "code",
   "execution_count": 182,
   "metadata": {},
   "outputs": [],
   "source": [
    "df['power'] = np.where(df['power'] > 5, df['power'], df['power'] + df['power'].mean())"
   ]
  },
  {
   "cell_type": "code",
   "execution_count": 183,
   "metadata": {},
   "outputs": [
    {
     "data": {
      "image/png": "[encoded data removed]",
      "text/plain": [
       "<Figure size 1080x360 with 1 Axes>"
      ]
     },
     "metadata": {},
     "output_type": "display_data"
    },
    {
     "data": {
      "text/plain": [
       "count    347354.000000\n",
       "mean        116.589644\n",
       "std          45.973850\n",
       "min           6.000000\n",
       "0%            6.000000\n",
       "1%           45.000000\n",
       "2%           50.000000\n",
       "5%           55.000000\n",
       "10%          60.000000\n",
       "50%         104.772656\n",
       "90%         177.000000\n",
       "95%         204.000000\n",
       "99%         258.000000\n",
       "max         300.000000\n",
       "Name: power, dtype: float64"
      ]
     },
     "metadata": {},
     "output_type": "display_data"
    }
   ],
   "source": [
    "plt.title('power distr after cleaning')\n",
    "df['power'].hist(bins = 25)\n",
    "plt.show()\n",
    "display(df['power'].describe(percentiles=[0, 0.01, 0.02, 0.1, 0.05,  0.5, 0.9, 0.95, 0.99]))"
   ]
  },
  {
   "cell_type": "code",
   "execution_count": 184,
   "metadata": {},
   "outputs": [
    {
     "data": {
      "text/plain": [
       "golf                  8.375030\n",
       "other                 6.484163\n",
       "3er                   5.632582\n",
       "unknown               5.315039\n",
       "polo                  3.752080\n",
       "                        ...   \n",
       "i3                    0.002303\n",
       "rangerover            0.001152\n",
       "serie_2               0.000864\n",
       "range_rover_evoque    0.000576\n",
       "serie_3               0.000288\n",
       "Name: model, Length: 250, dtype: float64"
      ]
     },
     "execution_count": 184,
     "metadata": {},
     "output_type": "execute_result"
    }
   ],
   "source": [
    "df['model'].value_counts(normalize=True).sort_values(ascending=False)*100"
   ]
  },
  {
   "cell_type": "code",
   "execution_count": 185,
   "metadata": {},
   "outputs": [
    {
     "data": {
      "image/png": "[encoded data removed]",
      "text/plain": [
       "<Figure size 1080x360 with 1 Axes>"
      ]
     },
     "metadata": {},
     "output_type": "display_data"
    },
    {
     "name": "stdout",
     "output_type": "stream",
     "text": [
      "уникальных категорий километража 13\n"
     ]
    },
    {
     "data": {
      "text/plain": [
       "150000    0.675694\n",
       "125000    0.103192\n",
       "100000    0.041258\n",
       "90000     0.032563\n",
       "80000     0.028170\n",
       "70000     0.024062\n",
       "60000     0.020901\n",
       "50000     0.017400\n",
       "5000      0.016496\n",
       "40000     0.013755\n",
       "30000     0.012391\n",
       "20000     0.011032\n",
       "10000     0.003086\n",
       "Name: kilometer, dtype: float64"
      ]
     },
     "execution_count": 185,
     "metadata": {},
     "output_type": "execute_result"
    }
   ],
   "source": [
    "plt.title('km distr')\n",
    "df['kilometer'].hist(bins=30)\n",
    "plt.show()\n",
    "\n",
    "print('уникальных категорий километража', df['kilometer'].nunique())\n",
    "\n",
    "df['kilometer'].value_counts(normalize='True')"
   ]
  },
  {
   "attachments": {},
   "cell_type": "markdown",
   "metadata": {},
   "source": [
    "интересно, что километраж выглядит скорее категориальной фичей, всего 13 уникальных значений, при этом видно, что большая часть машин с ощутимым пробегом"
   ]
  },
  {
   "cell_type": "code",
   "execution_count": 186,
   "metadata": {},
   "outputs": [
    {
     "data": {
      "text/plain": [
       "<AxesSubplot:>"
      ]
     },
     "execution_count": 186,
     "metadata": {},
     "output_type": "execute_result"
    },
    {
     "data": {
      "image/png": "[encoded data removed]",
      "text/plain": [
       "<Figure size 1080x360 with 1 Axes>"
      ]
     },
     "metadata": {},
     "output_type": "display_data"
    }
   ],
   "source": [
    "df['registrationmonth'].hist()"
   ]
  },
  {
   "cell_type": "code",
   "execution_count": 187,
   "metadata": {},
   "outputs": [
    {
     "data": {
      "text/plain": [
       "petrol      0.669536\n",
       "gasoline    0.311310\n",
       "lpg         0.015846\n",
       "cng         0.001768\n",
       "hybrid      0.000729\n",
       "other       0.000536\n",
       "electric    0.000276\n",
       "Name: fueltype, dtype: float64"
      ]
     },
     "execution_count": 187,
     "metadata": {},
     "output_type": "execute_result"
    }
   ],
   "source": [
    "df['fueltype'].value_counts(normalize=True)"
   ]
  },
  {
   "cell_type": "code",
   "execution_count": 188,
   "metadata": {},
   "outputs": [
    {
     "data": {
      "text/plain": [
       "volkswagen       0.219131\n",
       "opel             0.113668\n",
       "bmw              0.103744\n",
       "mercedes_benz    0.088167\n",
       "audi             0.082861\n",
       "ford             0.071354\n",
       "renault          0.051406\n",
       "peugeot          0.031550\n",
       "fiat             0.027125\n",
       "seat             0.019801\n",
       "Name: brand, dtype: float64"
      ]
     },
     "execution_count": 188,
     "metadata": {},
     "output_type": "execute_result"
    }
   ],
   "source": [
    "df['brand'].value_counts(normalize=True).head(10)"
   ]
  },
  {
   "cell_type": "code",
   "execution_count": 189,
   "metadata": {},
   "outputs": [
    {
     "data": {
      "text/plain": [
       "no         0.698253\n",
       "unknown    0.199670\n",
       "yes        0.102077\n",
       "Name: repaired, dtype: float64"
      ]
     },
     "execution_count": 189,
     "metadata": {},
     "output_type": "execute_result"
    }
   ],
   "source": [
    "df['repaired'].value_counts(normalize=True)"
   ]
  },
  {
   "attachments": {},
   "cell_type": "markdown",
   "metadata": {},
   "source": [
    "в данных довольно много фирм и моделей, в основном представлены дизельные и бензиновые автомобили. \n",
    "\n",
    "после прпоусков в repaired получилось, около 20% машин без определенного статуса по ремонту. "
   ]
  },
  {
   "cell_type": "code",
   "execution_count": 190,
   "metadata": {},
   "outputs": [
    {
     "data": {
      "text/plain": [
       "count    347354.0\n",
       "mean          0.0\n",
       "std           0.0\n",
       "min           0.0\n",
       "25%           0.0\n",
       "50%           0.0\n",
       "75%           0.0\n",
       "max           0.0\n",
       "Name: numberofpictures, dtype: float64"
      ]
     },
     "metadata": {},
     "output_type": "display_data"
    }
   ],
   "source": [
    "display(df['numberofpictures'].describe())\n",
    "df.drop(['numberofpictures'], axis = 1, inplace = True)"
   ]
  },
  {
   "attachments": {},
   "cell_type": "markdown",
   "metadata": {},
   "source": [
    "в признаке df['numberofpictures'] только нулевые значения, его лучше удалить полностью"
   ]
  },
  {
   "cell_type": "code",
   "execution_count": 191,
   "metadata": {},
   "outputs": [
    {
     "data": {
      "text/plain": [
       "10115    795\n",
       "65428    609\n",
       "66333    341\n",
       "32257    313\n",
       "44145    310\n",
       "        ... \n",
       "6638       1\n",
       "29487      1\n",
       "89368      1\n",
       "95356      1\n",
       "31096      1\n",
       "Name: postalcode, Length: 8140, dtype: int64"
      ]
     },
     "execution_count": 191,
     "metadata": {},
     "output_type": "execute_result"
    }
   ],
   "source": [
    "df['postalcode'].value_counts()"
   ]
  },
  {
   "attachments": {},
   "cell_type": "markdown",
   "metadata": {},
   "source": [
    "с postal code все немного сложнее. с одной стороны -- это явно признак категориальный, с другой стороны парсить его на флаги невыгодно, слишком много уникальных значений. сам код может отражать город, а в разных городах цены на атвомобили могут отличаться в теории."
   ]
  },
  {
   "attachments": {},
   "cell_type": "markdown",
   "metadata": {},
   "source": [
    "# feature correlation"
   ]
  },
  {
   "cell_type": "code",
   "execution_count": 192,
   "metadata": {},
   "outputs": [
    {
     "name": "stdout",
     "output_type": "stream",
     "text": [
      "interval columns not set, guessing: ['price', 'registrationyear', 'power', 'kilometer', 'registrationmonth', 'postalcode']\n"
     ]
    },
    {
     "data": {
      "text/html": [
       "<div>\n",
       "<style scoped>\n",
       "    .dataframe tbody tr th:only-of-type {\n",
       "        vertical-align: middle;\n",
       "    }\n",
       "\n",
       "    .dataframe tbody tr th {\n",
       "        vertical-align: top;\n",
       "    }\n",
       "\n",
       "    .dataframe thead th {\n",
       "        text-align: right;\n",
       "    }\n",
       "</style>\n",
       "<table border=\"1\" class=\"dataframe\">\n",
       "  <thead>\n",
       "    <tr style=\"text-align: right;\">\n",
       "      <th></th>\n",
       "      <th>price</th>\n",
       "      <th>vehicletype</th>\n",
       "      <th>registrationyear</th>\n",
       "      <th>gearbox</th>\n",
       "      <th>power</th>\n",
       "      <th>model</th>\n",
       "      <th>kilometer</th>\n",
       "      <th>registrationmonth</th>\n",
       "      <th>fueltype</th>\n",
       "      <th>brand</th>\n",
       "      <th>repaired</th>\n",
       "      <th>postalcode</th>\n",
       "    </tr>\n",
       "  </thead>\n",
       "  <tbody>\n",
       "    <tr>\n",
       "      <th>price</th>\n",
       "      <td>1.00</td>\n",
       "      <td>0.28</td>\n",
       "      <td>0.69</td>\n",
       "      <td>0.30</td>\n",
       "      <td>0.51</td>\n",
       "      <td>0.58</td>\n",
       "      <td>0.32</td>\n",
       "      <td>0.19</td>\n",
       "      <td>0.27</td>\n",
       "      <td>0.35</td>\n",
       "      <td>0.37</td>\n",
       "      <td>0.10</td>\n",
       "    </tr>\n",
       "    <tr>\n",
       "      <th>vehicletype</th>\n",
       "      <td>0.28</td>\n",
       "      <td>1.00</td>\n",
       "      <td>0.55</td>\n",
       "      <td>0.51</td>\n",
       "      <td>0.48</td>\n",
       "      <td>0.89</td>\n",
       "      <td>0.24</td>\n",
       "      <td>0.20</td>\n",
       "      <td>0.33</td>\n",
       "      <td>0.58</td>\n",
       "      <td>0.45</td>\n",
       "      <td>0.07</td>\n",
       "    </tr>\n",
       "    <tr>\n",
       "      <th>registrationyear</th>\n",
       "      <td>0.69</td>\n",
       "      <td>0.55</td>\n",
       "      <td>1.00</td>\n",
       "      <td>0.19</td>\n",
       "      <td>0.34</td>\n",
       "      <td>0.61</td>\n",
       "      <td>0.43</td>\n",
       "      <td>0.19</td>\n",
       "      <td>0.28</td>\n",
       "      <td>0.36</td>\n",
       "      <td>0.31</td>\n",
       "      <td>0.09</td>\n",
       "    </tr>\n",
       "    <tr>\n",
       "      <th>gearbox</th>\n",
       "      <td>0.30</td>\n",
       "      <td>0.51</td>\n",
       "      <td>0.19</td>\n",
       "      <td>1.00</td>\n",
       "      <td>0.48</td>\n",
       "      <td>0.62</td>\n",
       "      <td>0.07</td>\n",
       "      <td>0.27</td>\n",
       "      <td>0.18</td>\n",
       "      <td>0.51</td>\n",
       "      <td>0.48</td>\n",
       "      <td>0.09</td>\n",
       "    </tr>\n",
       "    <tr>\n",
       "      <th>power</th>\n",
       "      <td>0.51</td>\n",
       "      <td>0.48</td>\n",
       "      <td>0.34</td>\n",
       "      <td>0.48</td>\n",
       "      <td>1.00</td>\n",
       "      <td>0.80</td>\n",
       "      <td>0.13</td>\n",
       "      <td>0.14</td>\n",
       "      <td>0.27</td>\n",
       "      <td>0.63</td>\n",
       "      <td>0.20</td>\n",
       "      <td>0.09</td>\n",
       "    </tr>\n",
       "    <tr>\n",
       "      <th>model</th>\n",
       "      <td>0.58</td>\n",
       "      <td>0.89</td>\n",
       "      <td>0.61</td>\n",
       "      <td>0.62</td>\n",
       "      <td>0.80</td>\n",
       "      <td>1.00</td>\n",
       "      <td>0.44</td>\n",
       "      <td>0.20</td>\n",
       "      <td>0.54</td>\n",
       "      <td>1.00</td>\n",
       "      <td>0.33</td>\n",
       "      <td>0.22</td>\n",
       "    </tr>\n",
       "    <tr>\n",
       "      <th>kilometer</th>\n",
       "      <td>0.32</td>\n",
       "      <td>0.24</td>\n",
       "      <td>0.43</td>\n",
       "      <td>0.07</td>\n",
       "      <td>0.13</td>\n",
       "      <td>0.44</td>\n",
       "      <td>1.00</td>\n",
       "      <td>0.06</td>\n",
       "      <td>0.15</td>\n",
       "      <td>0.27</td>\n",
       "      <td>0.23</td>\n",
       "      <td>0.04</td>\n",
       "    </tr>\n",
       "    <tr>\n",
       "      <th>registrationmonth</th>\n",
       "      <td>0.19</td>\n",
       "      <td>0.20</td>\n",
       "      <td>0.19</td>\n",
       "      <td>0.27</td>\n",
       "      <td>0.14</td>\n",
       "      <td>0.20</td>\n",
       "      <td>0.06</td>\n",
       "      <td>1.00</td>\n",
       "      <td>0.06</td>\n",
       "      <td>0.11</td>\n",
       "      <td>0.30</td>\n",
       "      <td>0.05</td>\n",
       "    </tr>\n",
       "    <tr>\n",
       "      <th>fueltype</th>\n",
       "      <td>0.27</td>\n",
       "      <td>0.33</td>\n",
       "      <td>0.28</td>\n",
       "      <td>0.18</td>\n",
       "      <td>0.27</td>\n",
       "      <td>0.54</td>\n",
       "      <td>0.15</td>\n",
       "      <td>0.06</td>\n",
       "      <td>1.00</td>\n",
       "      <td>0.33</td>\n",
       "      <td>0.06</td>\n",
       "      <td>0.05</td>\n",
       "    </tr>\n",
       "    <tr>\n",
       "      <th>brand</th>\n",
       "      <td>0.35</td>\n",
       "      <td>0.58</td>\n",
       "      <td>0.36</td>\n",
       "      <td>0.51</td>\n",
       "      <td>0.63</td>\n",
       "      <td>1.00</td>\n",
       "      <td>0.27</td>\n",
       "      <td>0.11</td>\n",
       "      <td>0.33</td>\n",
       "      <td>1.00</td>\n",
       "      <td>0.16</td>\n",
       "      <td>0.18</td>\n",
       "    </tr>\n",
       "    <tr>\n",
       "      <th>repaired</th>\n",
       "      <td>0.37</td>\n",
       "      <td>0.45</td>\n",
       "      <td>0.31</td>\n",
       "      <td>0.48</td>\n",
       "      <td>0.20</td>\n",
       "      <td>0.33</td>\n",
       "      <td>0.23</td>\n",
       "      <td>0.30</td>\n",
       "      <td>0.06</td>\n",
       "      <td>0.16</td>\n",
       "      <td>1.00</td>\n",
       "      <td>0.06</td>\n",
       "    </tr>\n",
       "    <tr>\n",
       "      <th>postalcode</th>\n",
       "      <td>0.10</td>\n",
       "      <td>0.07</td>\n",
       "      <td>0.09</td>\n",
       "      <td>0.09</td>\n",
       "      <td>0.09</td>\n",
       "      <td>0.22</td>\n",
       "      <td>0.04</td>\n",
       "      <td>0.05</td>\n",
       "      <td>0.05</td>\n",
       "      <td>0.18</td>\n",
       "      <td>0.06</td>\n",
       "      <td>1.00</td>\n",
       "    </tr>\n",
       "  </tbody>\n",
       "</table>\n",
       "</div>"
      ],
      "text/plain": [
       "                   price  vehicletype  registrationyear  gearbox  power  \\\n",
       "price               1.00         0.28              0.69     0.30   0.51   \n",
       "vehicletype         0.28         1.00              0.55     0.51   0.48   \n",
       "registrationyear    0.69         0.55              1.00     0.19   0.34   \n",
       "gearbox             0.30         0.51              0.19     1.00   0.48   \n",
       "power               0.51         0.48              0.34     0.48   1.00   \n",
       "model               0.58         0.89              0.61     0.62   0.80   \n",
       "kilometer           0.32         0.24              0.43     0.07   0.13   \n",
       "registrationmonth   0.19         0.20              0.19     0.27   0.14   \n",
       "fueltype            0.27         0.33              0.28     0.18   0.27   \n",
       "brand               0.35         0.58              0.36     0.51   0.63   \n",
       "repaired            0.37         0.45              0.31     0.48   0.20   \n",
       "postalcode          0.10         0.07              0.09     0.09   0.09   \n",
       "\n",
       "                   model  kilometer  registrationmonth  fueltype  brand  \\\n",
       "price               0.58       0.32               0.19      0.27   0.35   \n",
       "vehicletype         0.89       0.24               0.20      0.33   0.58   \n",
       "registrationyear    0.61       0.43               0.19      0.28   0.36   \n",
       "gearbox             0.62       0.07               0.27      0.18   0.51   \n",
       "power               0.80       0.13               0.14      0.27   0.63   \n",
       "model               1.00       0.44               0.20      0.54   1.00   \n",
       "kilometer           0.44       1.00               0.06      0.15   0.27   \n",
       "registrationmonth   0.20       0.06               1.00      0.06   0.11   \n",
       "fueltype            0.54       0.15               0.06      1.00   0.33   \n",
       "brand               1.00       0.27               0.11      0.33   1.00   \n",
       "repaired            0.33       0.23               0.30      0.06   0.16   \n",
       "postalcode          0.22       0.04               0.05      0.05   0.18   \n",
       "\n",
       "                   repaired  postalcode  \n",
       "price                  0.37        0.10  \n",
       "vehicletype            0.45        0.07  \n",
       "registrationyear       0.31        0.09  \n",
       "gearbox                0.48        0.09  \n",
       "power                  0.20        0.09  \n",
       "model                  0.33        0.22  \n",
       "kilometer              0.23        0.04  \n",
       "registrationmonth      0.30        0.05  \n",
       "fueltype               0.06        0.05  \n",
       "brand                  0.16        0.18  \n",
       "repaired               1.00        0.06  \n",
       "postalcode             0.06        1.00  "
      ]
     },
     "execution_count": 192,
     "metadata": {},
     "output_type": "execute_result"
    }
   ],
   "source": [
    "phik_overview = df.phik_matrix()\n",
    "phik_overview.round(2)"
   ]
  },
  {
   "cell_type": "code",
   "execution_count": 193,
   "metadata": {},
   "outputs": [
    {
     "data": {
      "text/plain": [
       "price                1.000000\n",
       "registrationyear     0.694443\n",
       "model                0.575421\n",
       "power                0.505408\n",
       "repaired             0.368737\n",
       "brand                0.351754\n",
       "kilometer            0.319092\n",
       "gearbox              0.295854\n",
       "vehicletype          0.277590\n",
       "fueltype             0.267931\n",
       "registrationmonth    0.185336\n",
       "postalcode           0.095222\n",
       "Name: price, dtype: float64"
      ]
     },
     "execution_count": 193,
     "metadata": {},
     "output_type": "execute_result"
    }
   ],
   "source": [
    "phik_overview['price'].sort_values(ascending = False)"
   ]
  },
  {
   "cell_type": "code",
   "execution_count": 194,
   "metadata": {},
   "outputs": [
    {
     "data": {
      "image/png": "[encoded data removed]",
      "text/plain": [
       "<Figure size 720x576 with 2 Axes>"
      ]
     },
     "metadata": {},
     "output_type": "display_data"
    }
   ],
   "source": [
    "plot_correlation_matrix(phik_overview.values, \n",
    "                        x_labels=phik_overview.columns, \n",
    "                        y_labels=phik_overview.index, \n",
    "                        vmin=0, vmax=1, color_map=\"Greens\", \n",
    "                        title=r\"correlation $\\phi_K$\", \n",
    "                        fontsize_factor=1.5, \n",
    "                        figsize=(10, 8))\n",
    "plt.tight_layout()"
   ]
  },
  {
   "attachments": {},
   "cell_type": "markdown",
   "metadata": {},
   "source": [
    "больше всего цена коррелирует с registrationyear, model, power и repaired. postcode слабо влияет на цену, поэтому от этой колонки лучше избавиться"
   ]
  },
  {
   "cell_type": "code",
   "execution_count": 195,
   "metadata": {},
   "outputs": [],
   "source": [
    "df.drop(['postalcode'], axis=1, inplace=True)"
   ]
  },
  {
   "cell_type": "code",
   "execution_count": 196,
   "metadata": {},
   "outputs": [
    {
     "data": {
      "text/html": [
       "<div>\n",
       "<style scoped>\n",
       "    .dataframe tbody tr th:only-of-type {\n",
       "        vertical-align: middle;\n",
       "    }\n",
       "\n",
       "    .dataframe tbody tr th {\n",
       "        vertical-align: top;\n",
       "    }\n",
       "\n",
       "    .dataframe thead th {\n",
       "        text-align: right;\n",
       "    }\n",
       "</style>\n",
       "<table border=\"1\" class=\"dataframe\">\n",
       "  <thead>\n",
       "    <tr style=\"text-align: right;\">\n",
       "      <th></th>\n",
       "      <th>price</th>\n",
       "      <th>vehicletype</th>\n",
       "      <th>registrationyear</th>\n",
       "      <th>gearbox</th>\n",
       "      <th>power</th>\n",
       "      <th>model</th>\n",
       "      <th>kilometer</th>\n",
       "      <th>registrationmonth</th>\n",
       "      <th>fueltype</th>\n",
       "      <th>brand</th>\n",
       "      <th>repaired</th>\n",
       "    </tr>\n",
       "  </thead>\n",
       "  <tbody>\n",
       "    <tr>\n",
       "      <th>0</th>\n",
       "      <td>480</td>\n",
       "      <td>unknown</td>\n",
       "      <td>1993</td>\n",
       "      <td>manual</td>\n",
       "      <td>104.772656</td>\n",
       "      <td>golf</td>\n",
       "      <td>150000</td>\n",
       "      <td>0</td>\n",
       "      <td>petrol</td>\n",
       "      <td>volkswagen</td>\n",
       "      <td>unknown</td>\n",
       "    </tr>\n",
       "    <tr>\n",
       "      <th>1</th>\n",
       "      <td>18300</td>\n",
       "      <td>coupe</td>\n",
       "      <td>2011</td>\n",
       "      <td>manual</td>\n",
       "      <td>190.000000</td>\n",
       "      <td>unknown</td>\n",
       "      <td>125000</td>\n",
       "      <td>5</td>\n",
       "      <td>gasoline</td>\n",
       "      <td>audi</td>\n",
       "      <td>yes</td>\n",
       "    </tr>\n",
       "    <tr>\n",
       "      <th>2</th>\n",
       "      <td>9800</td>\n",
       "      <td>suv</td>\n",
       "      <td>2004</td>\n",
       "      <td>auto</td>\n",
       "      <td>163.000000</td>\n",
       "      <td>grand</td>\n",
       "      <td>125000</td>\n",
       "      <td>8</td>\n",
       "      <td>gasoline</td>\n",
       "      <td>jeep</td>\n",
       "      <td>unknown</td>\n",
       "    </tr>\n",
       "    <tr>\n",
       "      <th>3</th>\n",
       "      <td>1500</td>\n",
       "      <td>small</td>\n",
       "      <td>2001</td>\n",
       "      <td>manual</td>\n",
       "      <td>75.000000</td>\n",
       "      <td>golf</td>\n",
       "      <td>150000</td>\n",
       "      <td>6</td>\n",
       "      <td>petrol</td>\n",
       "      <td>volkswagen</td>\n",
       "      <td>no</td>\n",
       "    </tr>\n",
       "    <tr>\n",
       "      <th>4</th>\n",
       "      <td>3600</td>\n",
       "      <td>small</td>\n",
       "      <td>2008</td>\n",
       "      <td>manual</td>\n",
       "      <td>69.000000</td>\n",
       "      <td>fabia</td>\n",
       "      <td>90000</td>\n",
       "      <td>7</td>\n",
       "      <td>gasoline</td>\n",
       "      <td>skoda</td>\n",
       "      <td>no</td>\n",
       "    </tr>\n",
       "    <tr>\n",
       "      <th>...</th>\n",
       "      <td>...</td>\n",
       "      <td>...</td>\n",
       "      <td>...</td>\n",
       "      <td>...</td>\n",
       "      <td>...</td>\n",
       "      <td>...</td>\n",
       "      <td>...</td>\n",
       "      <td>...</td>\n",
       "      <td>...</td>\n",
       "      <td>...</td>\n",
       "      <td>...</td>\n",
       "    </tr>\n",
       "    <tr>\n",
       "      <th>354364</th>\n",
       "      <td>0</td>\n",
       "      <td>unknown</td>\n",
       "      <td>2005</td>\n",
       "      <td>manual</td>\n",
       "      <td>104.772656</td>\n",
       "      <td>colt</td>\n",
       "      <td>150000</td>\n",
       "      <td>7</td>\n",
       "      <td>petrol</td>\n",
       "      <td>mitsubishi</td>\n",
       "      <td>yes</td>\n",
       "    </tr>\n",
       "    <tr>\n",
       "      <th>354365</th>\n",
       "      <td>2200</td>\n",
       "      <td>unknown</td>\n",
       "      <td>2005</td>\n",
       "      <td>unknown</td>\n",
       "      <td>104.772656</td>\n",
       "      <td>unknown</td>\n",
       "      <td>20000</td>\n",
       "      <td>1</td>\n",
       "      <td>NaN</td>\n",
       "      <td>sonstige_autos</td>\n",
       "      <td>unknown</td>\n",
       "    </tr>\n",
       "    <tr>\n",
       "      <th>354366</th>\n",
       "      <td>1199</td>\n",
       "      <td>convertible</td>\n",
       "      <td>2000</td>\n",
       "      <td>auto</td>\n",
       "      <td>101.000000</td>\n",
       "      <td>fortwo</td>\n",
       "      <td>125000</td>\n",
       "      <td>3</td>\n",
       "      <td>petrol</td>\n",
       "      <td>smart</td>\n",
       "      <td>no</td>\n",
       "    </tr>\n",
       "    <tr>\n",
       "      <th>354367</th>\n",
       "      <td>9200</td>\n",
       "      <td>bus</td>\n",
       "      <td>1996</td>\n",
       "      <td>manual</td>\n",
       "      <td>102.000000</td>\n",
       "      <td>transporter</td>\n",
       "      <td>150000</td>\n",
       "      <td>3</td>\n",
       "      <td>gasoline</td>\n",
       "      <td>volkswagen</td>\n",
       "      <td>no</td>\n",
       "    </tr>\n",
       "    <tr>\n",
       "      <th>354368</th>\n",
       "      <td>3400</td>\n",
       "      <td>wagon</td>\n",
       "      <td>2002</td>\n",
       "      <td>manual</td>\n",
       "      <td>100.000000</td>\n",
       "      <td>golf</td>\n",
       "      <td>150000</td>\n",
       "      <td>6</td>\n",
       "      <td>gasoline</td>\n",
       "      <td>volkswagen</td>\n",
       "      <td>unknown</td>\n",
       "    </tr>\n",
       "  </tbody>\n",
       "</table>\n",
       "<p>347354 rows × 11 columns</p>\n",
       "</div>"
      ],
      "text/plain": [
       "        price  vehicletype  registrationyear  gearbox       power  \\\n",
       "0         480      unknown              1993   manual  104.772656   \n",
       "1       18300        coupe              2011   manual  190.000000   \n",
       "2        9800          suv              2004     auto  163.000000   \n",
       "3        1500        small              2001   manual   75.000000   \n",
       "4        3600        small              2008   manual   69.000000   \n",
       "...       ...          ...               ...      ...         ...   \n",
       "354364      0      unknown              2005   manual  104.772656   \n",
       "354365   2200      unknown              2005  unknown  104.772656   \n",
       "354366   1199  convertible              2000     auto  101.000000   \n",
       "354367   9200          bus              1996   manual  102.000000   \n",
       "354368   3400        wagon              2002   manual  100.000000   \n",
       "\n",
       "              model  kilometer  registrationmonth  fueltype           brand  \\\n",
       "0              golf     150000                  0    petrol      volkswagen   \n",
       "1           unknown     125000                  5  gasoline            audi   \n",
       "2             grand     125000                  8  gasoline            jeep   \n",
       "3              golf     150000                  6    petrol      volkswagen   \n",
       "4             fabia      90000                  7  gasoline           skoda   \n",
       "...             ...        ...                ...       ...             ...   \n",
       "354364         colt     150000                  7    petrol      mitsubishi   \n",
       "354365      unknown      20000                  1       NaN  sonstige_autos   \n",
       "354366       fortwo     125000                  3    petrol           smart   \n",
       "354367  transporter     150000                  3  gasoline      volkswagen   \n",
       "354368         golf     150000                  6  gasoline      volkswagen   \n",
       "\n",
       "       repaired  \n",
       "0       unknown  \n",
       "1           yes  \n",
       "2       unknown  \n",
       "3            no  \n",
       "4            no  \n",
       "...         ...  \n",
       "354364      yes  \n",
       "354365  unknown  \n",
       "354366       no  \n",
       "354367       no  \n",
       "354368  unknown  \n",
       "\n",
       "[347354 rows x 11 columns]"
      ]
     },
     "execution_count": 196,
     "metadata": {},
     "output_type": "execute_result"
    }
   ],
   "source": [
    "df"
   ]
  },
  {
   "cell_type": "code",
   "execution_count": 197,
   "metadata": {},
   "outputs": [
    {
     "name": "stdout",
     "output_type": "stream",
     "text": [
      "<class 'pandas.core.frame.DataFrame'>\n",
      "Int64Index: 347354 entries, 0 to 354368\n",
      "Data columns (total 11 columns):\n",
      " #   Column             Non-Null Count   Dtype  \n",
      "---  ------             --------------   -----  \n",
      " 0   price              347354 non-null  int64  \n",
      " 1   vehicletype        347354 non-null  object \n",
      " 2   registrationyear   347354 non-null  int64  \n",
      " 3   gearbox            347354 non-null  object \n",
      " 4   power              347354 non-null  float64\n",
      " 5   model              347354 non-null  object \n",
      " 6   kilometer          347354 non-null  int64  \n",
      " 7   registrationmonth  347354 non-null  int64  \n",
      " 8   fueltype           315538 non-null  object \n",
      " 9   brand              347354 non-null  object \n",
      " 10  repaired           347354 non-null  object \n",
      "dtypes: float64(1), int64(4), object(6)\n",
      "memory usage: 31.8+ MB\n"
     ]
    }
   ],
   "source": [
    "df.info()"
   ]
  },
  {
   "cell_type": "markdown",
   "metadata": {},
   "source": [
    "итоговые данные получились размера 347354 на 11, много категориальных признаков, более или менее вычистили все неиформативные признаки и аномалии в данных. "
   ]
  },
  {
   "attachments": {},
   "cell_type": "markdown",
   "metadata": {},
   "source": [
    "# modeling"
   ]
  },
  {
   "attachments": {},
   "cell_type": "markdown",
   "metadata": {},
   "source": [
    "какие модели планируется использовать: \n",
    "\n",
    "1. ridge регрессия \n",
    "2. LightGBM\n",
    "3. CatBoost "
   ]
  },
  {
   "cell_type": "code",
   "execution_count": 198,
   "metadata": {},
   "outputs": [],
   "source": [
    "original_df = df.copy() "
   ]
  },
  {
   "attachments": {},
   "cell_type": "markdown",
   "metadata": {},
   "source": [
    "## ridge regression"
   ]
  },
  {
   "attachments": {},
   "cell_type": "markdown",
   "metadata": {},
   "source": [
    "### data prep "
   ]
  },
  {
   "attachments": {},
   "cell_type": "markdown",
   "metadata": {},
   "source": [
    "вот тут надо кодировать все данные вроде уже ПОСЛЕ разления на тестовую и обучающую выборки"
   ]
  },
  {
   "cell_type": "code",
   "execution_count": 199,
   "metadata": {},
   "outputs": [
    {
     "name": "stdout",
     "output_type": "stream",
     "text": [
      "категориальные фичи ['vehicletype', 'gearbox', 'model', 'fueltype', 'brand', 'repaired']\n"
     ]
    },
    {
     "data": {
      "text/plain": [
       "gearbox          3\n",
       "repaired         3\n",
       "fueltype         7\n",
       "vehicletype      9\n",
       "brand           40\n",
       "model          250\n",
       "dtype: int64"
      ]
     },
     "metadata": {},
     "output_type": "display_data"
    }
   ],
   "source": [
    "cat_features = df.select_dtypes(include='object').columns\n",
    "print('категориальные фичи', list(cat_features))\n",
    "\n",
    "display(df[cat_features].nunique().sort_values())"
   ]
  },
  {
   "attachments": {},
   "cell_type": "markdown",
   "metadata": {},
   "source": [
    "если засовывать таким способом фичи в one hot encoder, то получатся лишние фичи: \n",
    "\n",
    "любая машина по сути это уникальное сочетение бренда + модели, чтобы не кодировать эти две взаимосвязаныые фичи, лучше создать дополнительную: auto_model. \n",
    "\n",
    "таким образом мы сможем значительно уменьшить время обучения модели (сложность регрессии ~np^2), а это является одним из важных компонентов для заказчика "
   ]
  },
  {
   "cell_type": "code",
   "execution_count": 200,
   "metadata": {},
   "outputs": [],
   "source": [
    "df['auto_model'] = df['brand'] + '_' + df['model'] \n",
    "df.drop(['brand', 'model'], axis=1, inplace=True)"
   ]
  },
  {
   "cell_type": "code",
   "execution_count": 201,
   "metadata": {},
   "outputs": [
    {
     "name": "stdout",
     "output_type": "stream",
     "text": [
      "категориальные фичи ['vehicletype', 'gearbox', 'fueltype', 'repaired', 'auto_model']\n"
     ]
    },
    {
     "data": {
      "text/plain": [
       "gearbox          3\n",
       "repaired         3\n",
       "fueltype         7\n",
       "vehicletype      9\n",
       "auto_model     336\n",
       "dtype: int64"
      ]
     },
     "metadata": {},
     "output_type": "display_data"
    }
   ],
   "source": [
    "cat_features = df.select_dtypes(include='object').columns\n",
    "print('категориальные фичи', list(cat_features))\n",
    "\n",
    "display(df[cat_features].nunique().sort_values())"
   ]
  },
  {
   "cell_type": "code",
   "execution_count": 202,
   "metadata": {},
   "outputs": [],
   "source": [
    "encoder = LabelEncoder() \n",
    "df['auto_model'] = encoder.fit_transform(df['auto_model'])"
   ]
  },
  {
   "attachments": {},
   "cell_type": "markdown",
   "metadata": {},
   "source": [
    "оставшиеся фичи можно закодировать OHE"
   ]
  },
  {
   "cell_type": "code",
   "execution_count": 203,
   "metadata": {},
   "outputs": [
    {
     "name": "stdout",
     "output_type": "stream",
     "text": [
      "категориальные фичи ['vehicletype', 'gearbox', 'fueltype', 'repaired']\n"
     ]
    },
    {
     "data": {
      "text/plain": [
       "gearbox        3\n",
       "repaired       3\n",
       "fueltype       7\n",
       "vehicletype    9\n",
       "dtype: int64"
      ]
     },
     "metadata": {},
     "output_type": "display_data"
    }
   ],
   "source": [
    "cat_features = df.select_dtypes(include='object').columns\n",
    "print('категориальные фичи', list(cat_features))\n",
    "\n",
    "display(df[cat_features].nunique().sort_values())"
   ]
  },
  {
   "cell_type": "code",
   "execution_count": 207,
   "metadata": {},
   "outputs": [],
   "source": [
    "encoder_ohe = OneHotEncoder(drop='first', handle_unknown='ignore', sparse=False)\n",
    "\n",
    "encoder_ohe.fit(df[cat_features])\n",
    "\n",
    "df[encoder_ohe.get_feature_names_out()] = encoder_ohe.transform(df[cat_features])\n",
    "\n",
    "df = df.drop(cat_features, axis=1)"
   ]
  },
  {
   "cell_type": "code",
   "execution_count": 209,
   "metadata": {},
   "outputs": [
    {
     "data": {
      "text/html": [
       "<div>\n",
       "<style scoped>\n",
       "    .dataframe tbody tr th:only-of-type {\n",
       "        vertical-align: middle;\n",
       "    }\n",
       "\n",
       "    .dataframe tbody tr th {\n",
       "        vertical-align: top;\n",
       "    }\n",
       "\n",
       "    .dataframe thead th {\n",
       "        text-align: right;\n",
       "    }\n",
       "</style>\n",
       "<table border=\"1\" class=\"dataframe\">\n",
       "  <thead>\n",
       "    <tr style=\"text-align: right;\">\n",
       "      <th></th>\n",
       "      <th>price</th>\n",
       "      <th>registrationyear</th>\n",
       "      <th>power</th>\n",
       "      <th>kilometer</th>\n",
       "      <th>registrationmonth</th>\n",
       "      <th>auto_model</th>\n",
       "      <th>vehicletype_convertible</th>\n",
       "      <th>vehicletype_coupe</th>\n",
       "      <th>vehicletype_other</th>\n",
       "      <th>vehicletype_sedan</th>\n",
       "      <th>...</th>\n",
       "      <th>gearbox_unknown</th>\n",
       "      <th>fueltype_electric</th>\n",
       "      <th>fueltype_gasoline</th>\n",
       "      <th>fueltype_hybrid</th>\n",
       "      <th>fueltype_lpg</th>\n",
       "      <th>fueltype_other</th>\n",
       "      <th>fueltype_petrol</th>\n",
       "      <th>fueltype_nan</th>\n",
       "      <th>repaired_unknown</th>\n",
       "      <th>repaired_yes</th>\n",
       "    </tr>\n",
       "  </thead>\n",
       "  <tbody>\n",
       "    <tr>\n",
       "      <th>0</th>\n",
       "      <td>480</td>\n",
       "      <td>1993</td>\n",
       "      <td>104.772656</td>\n",
       "      <td>150000</td>\n",
       "      <td>0</td>\n",
       "      <td>310</td>\n",
       "      <td>0.0</td>\n",
       "      <td>0.0</td>\n",
       "      <td>0.0</td>\n",
       "      <td>0.0</td>\n",
       "      <td>...</td>\n",
       "      <td>0.0</td>\n",
       "      <td>0.0</td>\n",
       "      <td>0.0</td>\n",
       "      <td>0.0</td>\n",
       "      <td>0.0</td>\n",
       "      <td>0.0</td>\n",
       "      <td>1.0</td>\n",
       "      <td>0.0</td>\n",
       "      <td>1.0</td>\n",
       "      <td>0.0</td>\n",
       "    </tr>\n",
       "    <tr>\n",
       "      <th>1</th>\n",
       "      <td>18300</td>\n",
       "      <td>2011</td>\n",
       "      <td>190.000000</td>\n",
       "      <td>125000</td>\n",
       "      <td>5</td>\n",
       "      <td>23</td>\n",
       "      <td>0.0</td>\n",
       "      <td>1.0</td>\n",
       "      <td>0.0</td>\n",
       "      <td>0.0</td>\n",
       "      <td>...</td>\n",
       "      <td>0.0</td>\n",
       "      <td>0.0</td>\n",
       "      <td>1.0</td>\n",
       "      <td>0.0</td>\n",
       "      <td>0.0</td>\n",
       "      <td>0.0</td>\n",
       "      <td>0.0</td>\n",
       "      <td>0.0</td>\n",
       "      <td>0.0</td>\n",
       "      <td>1.0</td>\n",
       "    </tr>\n",
       "    <tr>\n",
       "      <th>2</th>\n",
       "      <td>9800</td>\n",
       "      <td>2004</td>\n",
       "      <td>163.000000</td>\n",
       "      <td>125000</td>\n",
       "      <td>8</td>\n",
       "      <td>119</td>\n",
       "      <td>0.0</td>\n",
       "      <td>0.0</td>\n",
       "      <td>0.0</td>\n",
       "      <td>0.0</td>\n",
       "      <td>...</td>\n",
       "      <td>0.0</td>\n",
       "      <td>0.0</td>\n",
       "      <td>1.0</td>\n",
       "      <td>0.0</td>\n",
       "      <td>0.0</td>\n",
       "      <td>0.0</td>\n",
       "      <td>0.0</td>\n",
       "      <td>0.0</td>\n",
       "      <td>1.0</td>\n",
       "      <td>0.0</td>\n",
       "    </tr>\n",
       "    <tr>\n",
       "      <th>3</th>\n",
       "      <td>1500</td>\n",
       "      <td>2001</td>\n",
       "      <td>75.000000</td>\n",
       "      <td>150000</td>\n",
       "      <td>6</td>\n",
       "      <td>310</td>\n",
       "      <td>0.0</td>\n",
       "      <td>0.0</td>\n",
       "      <td>0.0</td>\n",
       "      <td>0.0</td>\n",
       "      <td>...</td>\n",
       "      <td>0.0</td>\n",
       "      <td>0.0</td>\n",
       "      <td>0.0</td>\n",
       "      <td>0.0</td>\n",
       "      <td>0.0</td>\n",
       "      <td>0.0</td>\n",
       "      <td>1.0</td>\n",
       "      <td>0.0</td>\n",
       "      <td>0.0</td>\n",
       "      <td>0.0</td>\n",
       "    </tr>\n",
       "    <tr>\n",
       "      <th>4</th>\n",
       "      <td>3600</td>\n",
       "      <td>2008</td>\n",
       "      <td>69.000000</td>\n",
       "      <td>90000</td>\n",
       "      <td>7</td>\n",
       "      <td>267</td>\n",
       "      <td>0.0</td>\n",
       "      <td>0.0</td>\n",
       "      <td>0.0</td>\n",
       "      <td>0.0</td>\n",
       "      <td>...</td>\n",
       "      <td>0.0</td>\n",
       "      <td>0.0</td>\n",
       "      <td>1.0</td>\n",
       "      <td>0.0</td>\n",
       "      <td>0.0</td>\n",
       "      <td>0.0</td>\n",
       "      <td>0.0</td>\n",
       "      <td>0.0</td>\n",
       "      <td>0.0</td>\n",
       "      <td>0.0</td>\n",
       "    </tr>\n",
       "    <tr>\n",
       "      <th>...</th>\n",
       "      <td>...</td>\n",
       "      <td>...</td>\n",
       "      <td>...</td>\n",
       "      <td>...</td>\n",
       "      <td>...</td>\n",
       "      <td>...</td>\n",
       "      <td>...</td>\n",
       "      <td>...</td>\n",
       "      <td>...</td>\n",
       "      <td>...</td>\n",
       "      <td>...</td>\n",
       "      <td>...</td>\n",
       "      <td>...</td>\n",
       "      <td>...</td>\n",
       "      <td>...</td>\n",
       "      <td>...</td>\n",
       "      <td>...</td>\n",
       "      <td>...</td>\n",
       "      <td>...</td>\n",
       "      <td>...</td>\n",
       "      <td>...</td>\n",
       "    </tr>\n",
       "    <tr>\n",
       "      <th>354364</th>\n",
       "      <td>0</td>\n",
       "      <td>2005</td>\n",
       "      <td>104.772656</td>\n",
       "      <td>150000</td>\n",
       "      <td>7</td>\n",
       "      <td>188</td>\n",
       "      <td>0.0</td>\n",
       "      <td>0.0</td>\n",
       "      <td>0.0</td>\n",
       "      <td>0.0</td>\n",
       "      <td>...</td>\n",
       "      <td>0.0</td>\n",
       "      <td>0.0</td>\n",
       "      <td>0.0</td>\n",
       "      <td>0.0</td>\n",
       "      <td>0.0</td>\n",
       "      <td>0.0</td>\n",
       "      <td>1.0</td>\n",
       "      <td>0.0</td>\n",
       "      <td>0.0</td>\n",
       "      <td>1.0</td>\n",
       "    </tr>\n",
       "    <tr>\n",
       "      <th>354365</th>\n",
       "      <td>2200</td>\n",
       "      <td>2005</td>\n",
       "      <td>104.772656</td>\n",
       "      <td>20000</td>\n",
       "      <td>1</td>\n",
       "      <td>279</td>\n",
       "      <td>0.0</td>\n",
       "      <td>0.0</td>\n",
       "      <td>0.0</td>\n",
       "      <td>0.0</td>\n",
       "      <td>...</td>\n",
       "      <td>1.0</td>\n",
       "      <td>0.0</td>\n",
       "      <td>0.0</td>\n",
       "      <td>0.0</td>\n",
       "      <td>0.0</td>\n",
       "      <td>0.0</td>\n",
       "      <td>0.0</td>\n",
       "      <td>1.0</td>\n",
       "      <td>1.0</td>\n",
       "      <td>0.0</td>\n",
       "    </tr>\n",
       "    <tr>\n",
       "      <th>354366</th>\n",
       "      <td>1199</td>\n",
       "      <td>2000</td>\n",
       "      <td>101.000000</td>\n",
       "      <td>125000</td>\n",
       "      <td>3</td>\n",
       "      <td>275</td>\n",
       "      <td>1.0</td>\n",
       "      <td>0.0</td>\n",
       "      <td>0.0</td>\n",
       "      <td>0.0</td>\n",
       "      <td>...</td>\n",
       "      <td>0.0</td>\n",
       "      <td>0.0</td>\n",
       "      <td>0.0</td>\n",
       "      <td>0.0</td>\n",
       "      <td>0.0</td>\n",
       "      <td>0.0</td>\n",
       "      <td>1.0</td>\n",
       "      <td>0.0</td>\n",
       "      <td>0.0</td>\n",
       "      <td>0.0</td>\n",
       "    </tr>\n",
       "    <tr>\n",
       "      <th>354367</th>\n",
       "      <td>9200</td>\n",
       "      <td>1996</td>\n",
       "      <td>102.000000</td>\n",
       "      <td>150000</td>\n",
       "      <td>3</td>\n",
       "      <td>323</td>\n",
       "      <td>0.0</td>\n",
       "      <td>0.0</td>\n",
       "      <td>0.0</td>\n",
       "      <td>0.0</td>\n",
       "      <td>...</td>\n",
       "      <td>0.0</td>\n",
       "      <td>0.0</td>\n",
       "      <td>1.0</td>\n",
       "      <td>0.0</td>\n",
       "      <td>0.0</td>\n",
       "      <td>0.0</td>\n",
       "      <td>0.0</td>\n",
       "      <td>0.0</td>\n",
       "      <td>0.0</td>\n",
       "      <td>0.0</td>\n",
       "    </tr>\n",
       "    <tr>\n",
       "      <th>354368</th>\n",
       "      <td>3400</td>\n",
       "      <td>2002</td>\n",
       "      <td>100.000000</td>\n",
       "      <td>150000</td>\n",
       "      <td>6</td>\n",
       "      <td>310</td>\n",
       "      <td>0.0</td>\n",
       "      <td>0.0</td>\n",
       "      <td>0.0</td>\n",
       "      <td>0.0</td>\n",
       "      <td>...</td>\n",
       "      <td>0.0</td>\n",
       "      <td>0.0</td>\n",
       "      <td>1.0</td>\n",
       "      <td>0.0</td>\n",
       "      <td>0.0</td>\n",
       "      <td>0.0</td>\n",
       "      <td>0.0</td>\n",
       "      <td>0.0</td>\n",
       "      <td>1.0</td>\n",
       "      <td>0.0</td>\n",
       "    </tr>\n",
       "  </tbody>\n",
       "</table>\n",
       "<p>347354 rows × 25 columns</p>\n",
       "</div>"
      ],
      "text/plain": [
       "        price  registrationyear       power  kilometer  registrationmonth  \\\n",
       "0         480              1993  104.772656     150000                  0   \n",
       "1       18300              2011  190.000000     125000                  5   \n",
       "2        9800              2004  163.000000     125000                  8   \n",
       "3        1500              2001   75.000000     150000                  6   \n",
       "4        3600              2008   69.000000      90000                  7   \n",
       "...       ...               ...         ...        ...                ...   \n",
       "354364      0              2005  104.772656     150000                  7   \n",
       "354365   2200              2005  104.772656      20000                  1   \n",
       "354366   1199              2000  101.000000     125000                  3   \n",
       "354367   9200              1996  102.000000     150000                  3   \n",
       "354368   3400              2002  100.000000     150000                  6   \n",
       "\n",
       "        auto_model  vehicletype_convertible  vehicletype_coupe  \\\n",
       "0              310                      0.0                0.0   \n",
       "1               23                      0.0                1.0   \n",
       "2              119                      0.0                0.0   \n",
       "3              310                      0.0                0.0   \n",
       "4              267                      0.0                0.0   \n",
       "...            ...                      ...                ...   \n",
       "354364         188                      0.0                0.0   \n",
       "354365         279                      0.0                0.0   \n",
       "354366         275                      1.0                0.0   \n",
       "354367         323                      0.0                0.0   \n",
       "354368         310                      0.0                0.0   \n",
       "\n",
       "        vehicletype_other  vehicletype_sedan  ...  gearbox_unknown  \\\n",
       "0                     0.0                0.0  ...              0.0   \n",
       "1                     0.0                0.0  ...              0.0   \n",
       "2                     0.0                0.0  ...              0.0   \n",
       "3                     0.0                0.0  ...              0.0   \n",
       "4                     0.0                0.0  ...              0.0   \n",
       "...                   ...                ...  ...              ...   \n",
       "354364                0.0                0.0  ...              0.0   \n",
       "354365                0.0                0.0  ...              1.0   \n",
       "354366                0.0                0.0  ...              0.0   \n",
       "354367                0.0                0.0  ...              0.0   \n",
       "354368                0.0                0.0  ...              0.0   \n",
       "\n",
       "        fueltype_electric  fueltype_gasoline  fueltype_hybrid  fueltype_lpg  \\\n",
       "0                     0.0                0.0              0.0           0.0   \n",
       "1                     0.0                1.0              0.0           0.0   \n",
       "2                     0.0                1.0              0.0           0.0   \n",
       "3                     0.0                0.0              0.0           0.0   \n",
       "4                     0.0                1.0              0.0           0.0   \n",
       "...                   ...                ...              ...           ...   \n",
       "354364                0.0                0.0              0.0           0.0   \n",
       "354365                0.0                0.0              0.0           0.0   \n",
       "354366                0.0                0.0              0.0           0.0   \n",
       "354367                0.0                1.0              0.0           0.0   \n",
       "354368                0.0                1.0              0.0           0.0   \n",
       "\n",
       "        fueltype_other  fueltype_petrol  fueltype_nan  repaired_unknown  \\\n",
       "0                  0.0              1.0           0.0               1.0   \n",
       "1                  0.0              0.0           0.0               0.0   \n",
       "2                  0.0              0.0           0.0               1.0   \n",
       "3                  0.0              1.0           0.0               0.0   \n",
       "4                  0.0              0.0           0.0               0.0   \n",
       "...                ...              ...           ...               ...   \n",
       "354364             0.0              1.0           0.0               0.0   \n",
       "354365             0.0              0.0           1.0               1.0   \n",
       "354366             0.0              1.0           0.0               0.0   \n",
       "354367             0.0              0.0           0.0               0.0   \n",
       "354368             0.0              0.0           0.0               1.0   \n",
       "\n",
       "        repaired_yes  \n",
       "0                0.0  \n",
       "1                1.0  \n",
       "2                0.0  \n",
       "3                0.0  \n",
       "4                0.0  \n",
       "...              ...  \n",
       "354364           1.0  \n",
       "354365           0.0  \n",
       "354366           0.0  \n",
       "354367           0.0  \n",
       "354368           0.0  \n",
       "\n",
       "[347354 rows x 25 columns]"
      ]
     },
     "execution_count": 209,
     "metadata": {},
     "output_type": "execute_result"
    }
   ],
   "source": [
    "df"
   ]
  },
  {
   "attachments": {},
   "cell_type": "markdown",
   "metadata": {},
   "source": [
    "итоговый датафрейм разроссся, но не критично, колонк стало 25"
   ]
  },
  {
   "cell_type": "code",
   "execution_count": 210,
   "metadata": {},
   "outputs": [],
   "source": [
    "#подготовим выборки для обучения  \n",
    "features = df.drop(['price'], axis=1)\n",
    "target = df['price']\n",
    "\n",
    "X_train, X_test, y_train, y_test = train_test_split(\n",
    "    features, target, test_size=0.25, random_state=RANDOM_STATE)"
   ]
  },
  {
   "attachments": {},
   "cell_type": "markdown",
   "metadata": {},
   "source": [
    "данные еще и получились разнокалиберные, поэтому лучше использовать Standart Scaler для их преобразования "
   ]
  },
  {
   "cell_type": "code",
   "execution_count": 208,
   "metadata": {},
   "outputs": [
    {
     "data": {
      "text/html": [
       "<div>\n",
       "<style scoped>\n",
       "    .dataframe tbody tr th:only-of-type {\n",
       "        vertical-align: middle;\n",
       "    }\n",
       "\n",
       "    .dataframe tbody tr th {\n",
       "        vertical-align: top;\n",
       "    }\n",
       "\n",
       "    .dataframe thead th {\n",
       "        text-align: right;\n",
       "    }\n",
       "</style>\n",
       "<table border=\"1\" class=\"dataframe\">\n",
       "  <thead>\n",
       "    <tr style=\"text-align: right;\">\n",
       "      <th></th>\n",
       "      <th>price</th>\n",
       "      <th>registrationyear</th>\n",
       "      <th>power</th>\n",
       "      <th>kilometer</th>\n",
       "      <th>registrationmonth</th>\n",
       "      <th>auto_model</th>\n",
       "      <th>vehicletype_convertible</th>\n",
       "      <th>vehicletype_coupe</th>\n",
       "      <th>vehicletype_other</th>\n",
       "      <th>vehicletype_sedan</th>\n",
       "      <th>...</th>\n",
       "      <th>gearbox_unknown</th>\n",
       "      <th>fueltype_electric</th>\n",
       "      <th>fueltype_gasoline</th>\n",
       "      <th>fueltype_hybrid</th>\n",
       "      <th>fueltype_lpg</th>\n",
       "      <th>fueltype_other</th>\n",
       "      <th>fueltype_petrol</th>\n",
       "      <th>fueltype_nan</th>\n",
       "      <th>repaired_unknown</th>\n",
       "      <th>repaired_yes</th>\n",
       "    </tr>\n",
       "  </thead>\n",
       "  <tbody>\n",
       "    <tr>\n",
       "      <th>0</th>\n",
       "      <td>480</td>\n",
       "      <td>1993</td>\n",
       "      <td>104.772656</td>\n",
       "      <td>150000</td>\n",
       "      <td>0</td>\n",
       "      <td>310</td>\n",
       "      <td>0.0</td>\n",
       "      <td>0.0</td>\n",
       "      <td>0.0</td>\n",
       "      <td>0.0</td>\n",
       "      <td>...</td>\n",
       "      <td>0.0</td>\n",
       "      <td>0.0</td>\n",
       "      <td>0.0</td>\n",
       "      <td>0.0</td>\n",
       "      <td>0.0</td>\n",
       "      <td>0.0</td>\n",
       "      <td>1.0</td>\n",
       "      <td>0.0</td>\n",
       "      <td>1.0</td>\n",
       "      <td>0.0</td>\n",
       "    </tr>\n",
       "    <tr>\n",
       "      <th>1</th>\n",
       "      <td>18300</td>\n",
       "      <td>2011</td>\n",
       "      <td>190.000000</td>\n",
       "      <td>125000</td>\n",
       "      <td>5</td>\n",
       "      <td>23</td>\n",
       "      <td>0.0</td>\n",
       "      <td>1.0</td>\n",
       "      <td>0.0</td>\n",
       "      <td>0.0</td>\n",
       "      <td>...</td>\n",
       "      <td>0.0</td>\n",
       "      <td>0.0</td>\n",
       "      <td>1.0</td>\n",
       "      <td>0.0</td>\n",
       "      <td>0.0</td>\n",
       "      <td>0.0</td>\n",
       "      <td>0.0</td>\n",
       "      <td>0.0</td>\n",
       "      <td>0.0</td>\n",
       "      <td>1.0</td>\n",
       "    </tr>\n",
       "    <tr>\n",
       "      <th>2</th>\n",
       "      <td>9800</td>\n",
       "      <td>2004</td>\n",
       "      <td>163.000000</td>\n",
       "      <td>125000</td>\n",
       "      <td>8</td>\n",
       "      <td>119</td>\n",
       "      <td>0.0</td>\n",
       "      <td>0.0</td>\n",
       "      <td>0.0</td>\n",
       "      <td>0.0</td>\n",
       "      <td>...</td>\n",
       "      <td>0.0</td>\n",
       "      <td>0.0</td>\n",
       "      <td>1.0</td>\n",
       "      <td>0.0</td>\n",
       "      <td>0.0</td>\n",
       "      <td>0.0</td>\n",
       "      <td>0.0</td>\n",
       "      <td>0.0</td>\n",
       "      <td>1.0</td>\n",
       "      <td>0.0</td>\n",
       "    </tr>\n",
       "    <tr>\n",
       "      <th>3</th>\n",
       "      <td>1500</td>\n",
       "      <td>2001</td>\n",
       "      <td>75.000000</td>\n",
       "      <td>150000</td>\n",
       "      <td>6</td>\n",
       "      <td>310</td>\n",
       "      <td>0.0</td>\n",
       "      <td>0.0</td>\n",
       "      <td>0.0</td>\n",
       "      <td>0.0</td>\n",
       "      <td>...</td>\n",
       "      <td>0.0</td>\n",
       "      <td>0.0</td>\n",
       "      <td>0.0</td>\n",
       "      <td>0.0</td>\n",
       "      <td>0.0</td>\n",
       "      <td>0.0</td>\n",
       "      <td>1.0</td>\n",
       "      <td>0.0</td>\n",
       "      <td>0.0</td>\n",
       "      <td>0.0</td>\n",
       "    </tr>\n",
       "    <tr>\n",
       "      <th>4</th>\n",
       "      <td>3600</td>\n",
       "      <td>2008</td>\n",
       "      <td>69.000000</td>\n",
       "      <td>90000</td>\n",
       "      <td>7</td>\n",
       "      <td>267</td>\n",
       "      <td>0.0</td>\n",
       "      <td>0.0</td>\n",
       "      <td>0.0</td>\n",
       "      <td>0.0</td>\n",
       "      <td>...</td>\n",
       "      <td>0.0</td>\n",
       "      <td>0.0</td>\n",
       "      <td>1.0</td>\n",
       "      <td>0.0</td>\n",
       "      <td>0.0</td>\n",
       "      <td>0.0</td>\n",
       "      <td>0.0</td>\n",
       "      <td>0.0</td>\n",
       "      <td>0.0</td>\n",
       "      <td>0.0</td>\n",
       "    </tr>\n",
       "    <tr>\n",
       "      <th>...</th>\n",
       "      <td>...</td>\n",
       "      <td>...</td>\n",
       "      <td>...</td>\n",
       "      <td>...</td>\n",
       "      <td>...</td>\n",
       "      <td>...</td>\n",
       "      <td>...</td>\n",
       "      <td>...</td>\n",
       "      <td>...</td>\n",
       "      <td>...</td>\n",
       "      <td>...</td>\n",
       "      <td>...</td>\n",
       "      <td>...</td>\n",
       "      <td>...</td>\n",
       "      <td>...</td>\n",
       "      <td>...</td>\n",
       "      <td>...</td>\n",
       "      <td>...</td>\n",
       "      <td>...</td>\n",
       "      <td>...</td>\n",
       "      <td>...</td>\n",
       "    </tr>\n",
       "    <tr>\n",
       "      <th>354364</th>\n",
       "      <td>0</td>\n",
       "      <td>2005</td>\n",
       "      <td>104.772656</td>\n",
       "      <td>150000</td>\n",
       "      <td>7</td>\n",
       "      <td>188</td>\n",
       "      <td>0.0</td>\n",
       "      <td>0.0</td>\n",
       "      <td>0.0</td>\n",
       "      <td>0.0</td>\n",
       "      <td>...</td>\n",
       "      <td>0.0</td>\n",
       "      <td>0.0</td>\n",
       "      <td>0.0</td>\n",
       "      <td>0.0</td>\n",
       "      <td>0.0</td>\n",
       "      <td>0.0</td>\n",
       "      <td>1.0</td>\n",
       "      <td>0.0</td>\n",
       "      <td>0.0</td>\n",
       "      <td>1.0</td>\n",
       "    </tr>\n",
       "    <tr>\n",
       "      <th>354365</th>\n",
       "      <td>2200</td>\n",
       "      <td>2005</td>\n",
       "      <td>104.772656</td>\n",
       "      <td>20000</td>\n",
       "      <td>1</td>\n",
       "      <td>279</td>\n",
       "      <td>0.0</td>\n",
       "      <td>0.0</td>\n",
       "      <td>0.0</td>\n",
       "      <td>0.0</td>\n",
       "      <td>...</td>\n",
       "      <td>1.0</td>\n",
       "      <td>0.0</td>\n",
       "      <td>0.0</td>\n",
       "      <td>0.0</td>\n",
       "      <td>0.0</td>\n",
       "      <td>0.0</td>\n",
       "      <td>0.0</td>\n",
       "      <td>1.0</td>\n",
       "      <td>1.0</td>\n",
       "      <td>0.0</td>\n",
       "    </tr>\n",
       "    <tr>\n",
       "      <th>354366</th>\n",
       "      <td>1199</td>\n",
       "      <td>2000</td>\n",
       "      <td>101.000000</td>\n",
       "      <td>125000</td>\n",
       "      <td>3</td>\n",
       "      <td>275</td>\n",
       "      <td>1.0</td>\n",
       "      <td>0.0</td>\n",
       "      <td>0.0</td>\n",
       "      <td>0.0</td>\n",
       "      <td>...</td>\n",
       "      <td>0.0</td>\n",
       "      <td>0.0</td>\n",
       "      <td>0.0</td>\n",
       "      <td>0.0</td>\n",
       "      <td>0.0</td>\n",
       "      <td>0.0</td>\n",
       "      <td>1.0</td>\n",
       "      <td>0.0</td>\n",
       "      <td>0.0</td>\n",
       "      <td>0.0</td>\n",
       "    </tr>\n",
       "    <tr>\n",
       "      <th>354367</th>\n",
       "      <td>9200</td>\n",
       "      <td>1996</td>\n",
       "      <td>102.000000</td>\n",
       "      <td>150000</td>\n",
       "      <td>3</td>\n",
       "      <td>323</td>\n",
       "      <td>0.0</td>\n",
       "      <td>0.0</td>\n",
       "      <td>0.0</td>\n",
       "      <td>0.0</td>\n",
       "      <td>...</td>\n",
       "      <td>0.0</td>\n",
       "      <td>0.0</td>\n",
       "      <td>1.0</td>\n",
       "      <td>0.0</td>\n",
       "      <td>0.0</td>\n",
       "      <td>0.0</td>\n",
       "      <td>0.0</td>\n",
       "      <td>0.0</td>\n",
       "      <td>0.0</td>\n",
       "      <td>0.0</td>\n",
       "    </tr>\n",
       "    <tr>\n",
       "      <th>354368</th>\n",
       "      <td>3400</td>\n",
       "      <td>2002</td>\n",
       "      <td>100.000000</td>\n",
       "      <td>150000</td>\n",
       "      <td>6</td>\n",
       "      <td>310</td>\n",
       "      <td>0.0</td>\n",
       "      <td>0.0</td>\n",
       "      <td>0.0</td>\n",
       "      <td>0.0</td>\n",
       "      <td>...</td>\n",
       "      <td>0.0</td>\n",
       "      <td>0.0</td>\n",
       "      <td>1.0</td>\n",
       "      <td>0.0</td>\n",
       "      <td>0.0</td>\n",
       "      <td>0.0</td>\n",
       "      <td>0.0</td>\n",
       "      <td>0.0</td>\n",
       "      <td>1.0</td>\n",
       "      <td>0.0</td>\n",
       "    </tr>\n",
       "  </tbody>\n",
       "</table>\n",
       "<p>347354 rows × 25 columns</p>\n",
       "</div>"
      ],
      "text/plain": [
       "        price  registrationyear       power  kilometer  registrationmonth  \\\n",
       "0         480              1993  104.772656     150000                  0   \n",
       "1       18300              2011  190.000000     125000                  5   \n",
       "2        9800              2004  163.000000     125000                  8   \n",
       "3        1500              2001   75.000000     150000                  6   \n",
       "4        3600              2008   69.000000      90000                  7   \n",
       "...       ...               ...         ...        ...                ...   \n",
       "354364      0              2005  104.772656     150000                  7   \n",
       "354365   2200              2005  104.772656      20000                  1   \n",
       "354366   1199              2000  101.000000     125000                  3   \n",
       "354367   9200              1996  102.000000     150000                  3   \n",
       "354368   3400              2002  100.000000     150000                  6   \n",
       "\n",
       "        auto_model  vehicletype_convertible  vehicletype_coupe  \\\n",
       "0              310                      0.0                0.0   \n",
       "1               23                      0.0                1.0   \n",
       "2              119                      0.0                0.0   \n",
       "3              310                      0.0                0.0   \n",
       "4              267                      0.0                0.0   \n",
       "...            ...                      ...                ...   \n",
       "354364         188                      0.0                0.0   \n",
       "354365         279                      0.0                0.0   \n",
       "354366         275                      1.0                0.0   \n",
       "354367         323                      0.0                0.0   \n",
       "354368         310                      0.0                0.0   \n",
       "\n",
       "        vehicletype_other  vehicletype_sedan  ...  gearbox_unknown  \\\n",
       "0                     0.0                0.0  ...              0.0   \n",
       "1                     0.0                0.0  ...              0.0   \n",
       "2                     0.0                0.0  ...              0.0   \n",
       "3                     0.0                0.0  ...              0.0   \n",
       "4                     0.0                0.0  ...              0.0   \n",
       "...                   ...                ...  ...              ...   \n",
       "354364                0.0                0.0  ...              0.0   \n",
       "354365                0.0                0.0  ...              1.0   \n",
       "354366                0.0                0.0  ...              0.0   \n",
       "354367                0.0                0.0  ...              0.0   \n",
       "354368                0.0                0.0  ...              0.0   \n",
       "\n",
       "        fueltype_electric  fueltype_gasoline  fueltype_hybrid  fueltype_lpg  \\\n",
       "0                     0.0                0.0              0.0           0.0   \n",
       "1                     0.0                1.0              0.0           0.0   \n",
       "2                     0.0                1.0              0.0           0.0   \n",
       "3                     0.0                0.0              0.0           0.0   \n",
       "4                     0.0                1.0              0.0           0.0   \n",
       "...                   ...                ...              ...           ...   \n",
       "354364                0.0                0.0              0.0           0.0   \n",
       "354365                0.0                0.0              0.0           0.0   \n",
       "354366                0.0                0.0              0.0           0.0   \n",
       "354367                0.0                1.0              0.0           0.0   \n",
       "354368                0.0                1.0              0.0           0.0   \n",
       "\n",
       "        fueltype_other  fueltype_petrol  fueltype_nan  repaired_unknown  \\\n",
       "0                  0.0              1.0           0.0               1.0   \n",
       "1                  0.0              0.0           0.0               0.0   \n",
       "2                  0.0              0.0           0.0               1.0   \n",
       "3                  0.0              1.0           0.0               0.0   \n",
       "4                  0.0              0.0           0.0               0.0   \n",
       "...                ...              ...           ...               ...   \n",
       "354364             0.0              1.0           0.0               0.0   \n",
       "354365             0.0              0.0           1.0               1.0   \n",
       "354366             0.0              1.0           0.0               0.0   \n",
       "354367             0.0              0.0           0.0               0.0   \n",
       "354368             0.0              0.0           0.0               1.0   \n",
       "\n",
       "        repaired_yes  \n",
       "0                0.0  \n",
       "1                1.0  \n",
       "2                0.0  \n",
       "3                0.0  \n",
       "4                0.0  \n",
       "...              ...  \n",
       "354364           1.0  \n",
       "354365           0.0  \n",
       "354366           0.0  \n",
       "354367           0.0  \n",
       "354368           0.0  \n",
       "\n",
       "[347354 rows x 25 columns]"
      ]
     },
     "execution_count": 208,
     "metadata": {},
     "output_type": "execute_result"
    }
   ],
   "source": [
    "df"
   ]
  },
  {
   "attachments": {},
   "cell_type": "markdown",
   "metadata": {},
   "source": [
    "## ridge regression"
   ]
  },
  {
   "cell_type": "code",
   "execution_count": null,
   "metadata": {},
   "outputs": [],
   "source": []
  }
 ],
 "metadata": {
  "kernelspec": {
   "display_name": "Python 3",
   "language": "python",
   "name": "python3"
  },
  "language_info": {
   "codemirror_mode": {
    "name": "ipython",
    "version": 3
   },
   "file_extension": ".py",
   "mimetype": "text/x-python",
   "name": "python",
   "nbconvert_exporter": "python",
   "pygments_lexer": "ipython3",
   "version": "3.10.2"
  },
  "orig_nbformat": 4,
  "vscode": {
   "interpreter": {
    "hash": "aee8b7b246df8f9039afb4144a1f6fd8d2ca17a180786b69acc140d282b71a49"
   }
  }
 },
 "nbformat": 4,
 "nbformat_minor": 2
}
