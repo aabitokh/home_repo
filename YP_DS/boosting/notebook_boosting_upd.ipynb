{
  "cells": [
    {
      "cell_type": "code",
      "execution_count": 1,
      "metadata": {
        "colab": {
          "base_uri": "https://localhost:8080/"
        },
        "id": "lxG_4ebDmxmt",
        "outputId": "d5bc685e-fcd3-4d96-fb38-ef1b0462f7c9",
        "trusted": false
      },
      "outputs": [
        {
          "name": "stdout",
          "output_type": "stream",
          "text": [
            "Looking in indexes: https://pypi.org/simple, https://us-python.pkg.dev/colab-wheels/public/simple/\n",
            "Requirement already satisfied: catboost in /usr/local/lib/python3.8/dist-packages (1.1.1)\n",
            "Requirement already satisfied: matplotlib in /usr/local/lib/python3.8/dist-packages (from catboost) (3.5.3)\n",
            "Requirement already satisfied: numpy>=1.16.0 in /usr/local/lib/python3.8/dist-packages (from catboost) (1.22.4)\n",
            "Requirement already satisfied: plotly in /usr/local/lib/python3.8/dist-packages (from catboost) (5.5.0)\n",
            "Requirement already satisfied: pandas>=0.24.0 in /usr/local/lib/python3.8/dist-packages (from catboost) (1.3.5)\n",
            "Requirement already satisfied: six in /usr/local/lib/python3.8/dist-packages (from catboost) (1.15.0)\n",
            "Requirement already satisfied: scipy in /usr/local/lib/python3.8/dist-packages (from catboost) (1.10.1)\n",
            "Requirement already satisfied: graphviz in /usr/local/lib/python3.8/dist-packages (from catboost) (0.10.1)\n",
            "Requirement already satisfied: pytz>=2017.3 in /usr/local/lib/python3.8/dist-packages (from pandas>=0.24.0->catboost) (2022.7.1)\n",
            "Requirement already satisfied: python-dateutil>=2.7.3 in /usr/local/lib/python3.8/dist-packages (from pandas>=0.24.0->catboost) (2.8.2)\n",
            "Requirement already satisfied: cycler>=0.10 in /usr/local/lib/python3.8/dist-packages (from matplotlib->catboost) (0.11.0)\n",
            "Requirement already satisfied: fonttools>=4.22.0 in /usr/local/lib/python3.8/dist-packages (from matplotlib->catboost) (4.38.0)\n",
            "Requirement already satisfied: packaging>=20.0 in /usr/local/lib/python3.8/dist-packages (from matplotlib->catboost) (23.0)\n",
            "Requirement already satisfied: pyparsing>=2.2.1 in /usr/local/lib/python3.8/dist-packages (from matplotlib->catboost) (3.0.9)\n",
            "Requirement already satisfied: kiwisolver>=1.0.1 in /usr/local/lib/python3.8/dist-packages (from matplotlib->catboost) (1.4.4)\n",
            "Requirement already satisfied: pillow>=6.2.0 in /usr/local/lib/python3.8/dist-packages (from matplotlib->catboost) (8.4.0)\n",
            "Requirement already satisfied: tenacity>=6.2.0 in /usr/local/lib/python3.8/dist-packages (from plotly->catboost) (8.2.2)\n",
            "Looking in indexes: https://pypi.org/simple, https://us-python.pkg.dev/colab-wheels/public/simple/\n",
            "Requirement already satisfied: phik in /usr/local/lib/python3.8/dist-packages (0.12.3)\n",
            "Requirement already satisfied: pandas>=0.25.1 in /usr/local/lib/python3.8/dist-packages (from phik) (1.3.5)\n",
            "Requirement already satisfied: scipy>=1.5.2 in /usr/local/lib/python3.8/dist-packages (from phik) (1.10.1)\n",
            "Requirement already satisfied: joblib>=0.14.1 in /usr/local/lib/python3.8/dist-packages (from phik) (1.2.0)\n",
            "Requirement already satisfied: numpy>=1.18.0 in /usr/local/lib/python3.8/dist-packages (from phik) (1.22.4)\n",
            "Requirement already satisfied: matplotlib>=2.2.3 in /usr/local/lib/python3.8/dist-packages (from phik) (3.5.3)\n",
            "Requirement already satisfied: fonttools>=4.22.0 in /usr/local/lib/python3.8/dist-packages (from matplotlib>=2.2.3->phik) (4.38.0)\n",
            "Requirement already satisfied: packaging>=20.0 in /usr/local/lib/python3.8/dist-packages (from matplotlib>=2.2.3->phik) (23.0)\n",
            "Requirement already satisfied: python-dateutil>=2.7 in /usr/local/lib/python3.8/dist-packages (from matplotlib>=2.2.3->phik) (2.8.2)\n",
            "Requirement already satisfied: pillow>=6.2.0 in /usr/local/lib/python3.8/dist-packages (from matplotlib>=2.2.3->phik) (8.4.0)\n",
            "Requirement already satisfied: pyparsing>=2.2.1 in /usr/local/lib/python3.8/dist-packages (from matplotlib>=2.2.3->phik) (3.0.9)\n",
            "Requirement already satisfied: cycler>=0.10 in /usr/local/lib/python3.8/dist-packages (from matplotlib>=2.2.3->phik) (0.11.0)\n",
            "Requirement already satisfied: kiwisolver>=1.0.1 in /usr/local/lib/python3.8/dist-packages (from matplotlib>=2.2.3->phik) (1.4.4)\n",
            "Requirement already satisfied: pytz>=2017.3 in /usr/local/lib/python3.8/dist-packages (from pandas>=0.25.1->phik) (2022.7.1)\n",
            "Requirement already satisfied: six>=1.5 in /usr/local/lib/python3.8/dist-packages (from python-dateutil>=2.7->matplotlib>=2.2.3->phik) (1.15.0)\n",
            "Looking in indexes: https://pypi.org/simple, https://us-python.pkg.dev/colab-wheels/public/simple/\n",
            "Requirement already satisfied: lightgbm in /usr/local/lib/python3.8/dist-packages (3.3.5)\n",
            "Requirement already satisfied: wheel in /usr/local/lib/python3.8/dist-packages (from lightgbm) (0.38.4)\n",
            "Requirement already satisfied: scipy in /usr/local/lib/python3.8/dist-packages (from lightgbm) (1.10.1)\n",
            "Requirement already satisfied: numpy in /usr/local/lib/python3.8/dist-packages (from lightgbm) (1.22.4)\n",
            "Requirement already satisfied: scikit-learn!=0.22.0 in /usr/local/lib/python3.8/dist-packages (from lightgbm) (1.2.1)\n",
            "Requirement already satisfied: threadpoolctl>=2.0.0 in /usr/local/lib/python3.8/dist-packages (from scikit-learn!=0.22.0->lightgbm) (3.1.0)\n",
            "Requirement already satisfied: joblib>=1.1.1 in /usr/local/lib/python3.8/dist-packages (from scikit-learn!=0.22.0->lightgbm) (1.2.0)\n"
          ]
        }
      ],
      "source": [
        "#установка библиотек, которых нет в стандартном пакете \n",
        "!pip install catboost\n",
        "!pip install phik \n",
        "!pip install --upgrade lightgbm"
      ]
    },
    {
      "cell_type": "markdown",
      "metadata": {
        "id": "Pe-6jq2mUGQx"
      },
      "source": [
        "# imports"
      ]
    },
    {
      "cell_type": "code",
      "execution_count": 56,
      "metadata": {
        "id": "Ofl1KKQCmooj",
        "trusted": false
      },
      "outputs": [],
      "source": [
        "import pandas as pd \n",
        "import numpy as np \n",
        "\n",
        "import warnings\n",
        "warnings.filterwarnings(\"ignore\")\n",
        "\n",
        "\n",
        "from sklearn.compose import make_column_transformer\n",
        "from sklearn.ensemble import RandomForestRegressor\n",
        "from sklearn.linear_model import Ridge\n",
        "from sklearn.metrics import mean_squared_error\n",
        "from sklearn.model_selection import (\n",
        "    GridSearchCV, cross_val_score,\n",
        "    RandomizedSearchCV,\n",
        "    train_test_split\n",
        ")\n",
        "\n",
        "from sklearn.pipeline import make_pipeline\n",
        "from sklearn.preprocessing import (\n",
        "    OneHotEncoder,\n",
        "    OrdinalEncoder,\n",
        "    StandardScaler, \n",
        "    LabelEncoder\n",
        ")\n",
        "\n",
        "from catboost import CatBoostRegressor\n",
        "from catboost import Pool\n",
        "\n",
        "import lightgbm as lgb\n",
        "\n",
        "import phik\n",
        "from phik.report import plot_correlation_matrix\n",
        "from phik import report\n",
        "\n",
        "import time \n",
        "from datetime import datetime\n",
        "\n",
        "from matplotlib import pyplot as plt \n",
        "import seaborn as sns \n",
        "plt.style.use('dark_background')\n",
        "plt.rcParams[\"figure.figsize\"] = (15,5)\n",
        "\n",
        "RANDOM_STATE = 42\n",
        "\n",
        "#DATA_PATH = 'autos.csv'\n",
        "DATA_PATH = '/datasets/autos.csv'"
      ]
    },
    {
      "cell_type": "markdown",
      "metadata": {
        "id": "wJNVHbThFULD"
      },
      "source": [
        "<div class=\"alert alert-block alert-success\">\n",
        "<b>✔️ Успех:</b>\n",
        "\n",
        "Импорт выглядит отлично 👍\n",
        "</div>"
      ]
    },
    {
      "cell_type": "markdown",
      "metadata": {
        "id": "80NBIgb_mook"
      },
      "source": [
        "# dq "
      ]
    },
    {
      "cell_type": "markdown",
      "metadata": {
        "id": "A7DG269amool"
      },
      "source": [
        "## first check "
      ]
    },
    {
      "cell_type": "code",
      "execution_count": 3,
      "metadata": {
        "id": "MtfurH-Nmool",
        "trusted": false
      },
      "outputs": [],
      "source": [
        "df = pd.read_csv(DATA_PATH)"
      ]
    },
    {
      "cell_type": "code",
      "execution_count": 4,
      "metadata": {
        "colab": {
          "base_uri": "https://localhost:8080/",
          "height": 431
        },
        "id": "Sm2vUvOzmoom",
        "outputId": "22429976-1fbd-4a8d-d5ea-678237640a9d",
        "trusted": false
      },
      "outputs": [
        {
          "data": {
            "text/html": [
              "\n",
              "  <div id=\"df-c437ec6f-3e33-4a7d-8445-c3bdefbea689\">\n",
              "    <div class=\"colab-df-container\">\n",
              "      <div>\n",
              "<style scoped>\n",
              "    .dataframe tbody tr th:only-of-type {\n",
              "        vertical-align: middle;\n",
              "    }\n",
              "\n",
              "    .dataframe tbody tr th {\n",
              "        vertical-align: top;\n",
              "    }\n",
              "\n",
              "    .dataframe thead th {\n",
              "        text-align: right;\n",
              "    }\n",
              "</style>\n",
              "<table border=\"1\" class=\"dataframe\">\n",
              "  <thead>\n",
              "    <tr style=\"text-align: right;\">\n",
              "      <th></th>\n",
              "      <th>DateCrawled</th>\n",
              "      <th>Price</th>\n",
              "      <th>VehicleType</th>\n",
              "      <th>RegistrationYear</th>\n",
              "      <th>Gearbox</th>\n",
              "      <th>Power</th>\n",
              "      <th>Model</th>\n",
              "      <th>Kilometer</th>\n",
              "      <th>RegistrationMonth</th>\n",
              "      <th>FuelType</th>\n",
              "      <th>Brand</th>\n",
              "      <th>Repaired</th>\n",
              "      <th>DateCreated</th>\n",
              "      <th>NumberOfPictures</th>\n",
              "      <th>PostalCode</th>\n",
              "      <th>LastSeen</th>\n",
              "    </tr>\n",
              "  </thead>\n",
              "  <tbody>\n",
              "    <tr>\n",
              "      <th>334517</th>\n",
              "      <td>2016-03-22 20:45:43</td>\n",
              "      <td>1500</td>\n",
              "      <td>wagon</td>\n",
              "      <td>2001</td>\n",
              "      <td>manual</td>\n",
              "      <td>0</td>\n",
              "      <td>NaN</td>\n",
              "      <td>150000</td>\n",
              "      <td>6</td>\n",
              "      <td>petrol</td>\n",
              "      <td>ford</td>\n",
              "      <td>yes</td>\n",
              "      <td>2016-03-22 00:00:00</td>\n",
              "      <td>0</td>\n",
              "      <td>88400</td>\n",
              "      <td>2016-03-22 20:45:43</td>\n",
              "    </tr>\n",
              "    <tr>\n",
              "      <th>57357</th>\n",
              "      <td>2016-03-05 14:48:18</td>\n",
              "      <td>2900</td>\n",
              "      <td>bus</td>\n",
              "      <td>2004</td>\n",
              "      <td>manual</td>\n",
              "      <td>114</td>\n",
              "      <td>other</td>\n",
              "      <td>150000</td>\n",
              "      <td>4</td>\n",
              "      <td>gasoline</td>\n",
              "      <td>renault</td>\n",
              "      <td>no</td>\n",
              "      <td>2016-03-05 00:00:00</td>\n",
              "      <td>0</td>\n",
              "      <td>63128</td>\n",
              "      <td>2016-03-12 17:48:46</td>\n",
              "    </tr>\n",
              "    <tr>\n",
              "      <th>190892</th>\n",
              "      <td>2016-03-16 18:56:02</td>\n",
              "      <td>15898</td>\n",
              "      <td>bus</td>\n",
              "      <td>2006</td>\n",
              "      <td>manual</td>\n",
              "      <td>174</td>\n",
              "      <td>transporter</td>\n",
              "      <td>150000</td>\n",
              "      <td>9</td>\n",
              "      <td>gasoline</td>\n",
              "      <td>volkswagen</td>\n",
              "      <td>no</td>\n",
              "      <td>2016-03-16 00:00:00</td>\n",
              "      <td>0</td>\n",
              "      <td>99096</td>\n",
              "      <td>2016-04-01 06:44:38</td>\n",
              "    </tr>\n",
              "    <tr>\n",
              "      <th>57224</th>\n",
              "      <td>2016-03-15 13:58:19</td>\n",
              "      <td>3299</td>\n",
              "      <td>wagon</td>\n",
              "      <td>2002</td>\n",
              "      <td>manual</td>\n",
              "      <td>130</td>\n",
              "      <td>a4</td>\n",
              "      <td>150000</td>\n",
              "      <td>4</td>\n",
              "      <td>petrol</td>\n",
              "      <td>audi</td>\n",
              "      <td>yes</td>\n",
              "      <td>2016-03-15 00:00:00</td>\n",
              "      <td>0</td>\n",
              "      <td>65620</td>\n",
              "      <td>2016-03-17 08:11:52</td>\n",
              "    </tr>\n",
              "    <tr>\n",
              "      <th>352262</th>\n",
              "      <td>2016-03-16 15:38:40</td>\n",
              "      <td>13500</td>\n",
              "      <td>wagon</td>\n",
              "      <td>2010</td>\n",
              "      <td>auto</td>\n",
              "      <td>155</td>\n",
              "      <td>6_reihe</td>\n",
              "      <td>70000</td>\n",
              "      <td>3</td>\n",
              "      <td>petrol</td>\n",
              "      <td>mazda</td>\n",
              "      <td>no</td>\n",
              "      <td>2016-03-16 00:00:00</td>\n",
              "      <td>0</td>\n",
              "      <td>88079</td>\n",
              "      <td>2016-04-06 16:44:57</td>\n",
              "    </tr>\n",
              "  </tbody>\n",
              "</table>\n",
              "</div>\n",
              "      <button class=\"colab-df-convert\" onclick=\"convertToInteractive('df-c437ec6f-3e33-4a7d-8445-c3bdefbea689')\"\n",
              "              title=\"Convert this dataframe to an interactive table.\"\n",
              "              style=\"display:none;\">\n",
              "        \n",
              "  <svg xmlns=\"http://www.w3.org/2000/svg\" height=\"24px\"viewBox=\"0 0 24 24\"\n",
              "       width=\"24px\">\n",
              "    <path d=\"M0 0h24v24H0V0z\" fill=\"none\"/>\n",
              "    <path d=\"M18.56 5.44l.94 2.06.94-2.06 2.06-.94-2.06-.94-.94-2.06-.94 2.06-2.06.94zm-11 1L8.5 8.5l.94-2.06 2.06-.94-2.06-.94L8.5 2.5l-.94 2.06-2.06.94zm10 10l.94 2.06.94-2.06 2.06-.94-2.06-.94-.94-2.06-.94 2.06-2.06.94z\"/><path d=\"M17.41 7.96l-1.37-1.37c-.4-.4-.92-.59-1.43-.59-.52 0-1.04.2-1.43.59L10.3 9.45l-7.72 7.72c-.78.78-.78 2.05 0 2.83L4 21.41c.39.39.9.59 1.41.59.51 0 1.02-.2 1.41-.59l7.78-7.78 2.81-2.81c.8-.78.8-2.07 0-2.86zM5.41 20L4 18.59l7.72-7.72 1.47 1.35L5.41 20z\"/>\n",
              "  </svg>\n",
              "      </button>\n",
              "      \n",
              "  <style>\n",
              "    .colab-df-container {\n",
              "      display:flex;\n",
              "      flex-wrap:wrap;\n",
              "      gap: 12px;\n",
              "    }\n",
              "\n",
              "    .colab-df-convert {\n",
              "      background-color: #E8F0FE;\n",
              "      border: none;\n",
              "      border-radius: 50%;\n",
              "      cursor: pointer;\n",
              "      display: none;\n",
              "      fill: #1967D2;\n",
              "      height: 32px;\n",
              "      padding: 0 0 0 0;\n",
              "      width: 32px;\n",
              "    }\n",
              "\n",
              "    .colab-df-convert:hover {\n",
              "      background-color: #E2EBFA;\n",
              "      box-shadow: 0px 1px 2px rgba(60, 64, 67, 0.3), 0px 1px 3px 1px rgba(60, 64, 67, 0.15);\n",
              "      fill: #174EA6;\n",
              "    }\n",
              "\n",
              "    [theme=dark] .colab-df-convert {\n",
              "      background-color: #3B4455;\n",
              "      fill: #D2E3FC;\n",
              "    }\n",
              "\n",
              "    [theme=dark] .colab-df-convert:hover {\n",
              "      background-color: #434B5C;\n",
              "      box-shadow: 0px 1px 3px 1px rgba(0, 0, 0, 0.15);\n",
              "      filter: drop-shadow(0px 1px 2px rgba(0, 0, 0, 0.3));\n",
              "      fill: #FFFFFF;\n",
              "    }\n",
              "  </style>\n",
              "\n",
              "      <script>\n",
              "        const buttonEl =\n",
              "          document.querySelector('#df-c437ec6f-3e33-4a7d-8445-c3bdefbea689 button.colab-df-convert');\n",
              "        buttonEl.style.display =\n",
              "          google.colab.kernel.accessAllowed ? 'block' : 'none';\n",
              "\n",
              "        async function convertToInteractive(key) {\n",
              "          const element = document.querySelector('#df-c437ec6f-3e33-4a7d-8445-c3bdefbea689');\n",
              "          const dataTable =\n",
              "            await google.colab.kernel.invokeFunction('convertToInteractive',\n",
              "                                                     [key], {});\n",
              "          if (!dataTable) return;\n",
              "\n",
              "          const docLinkHtml = 'Like what you see? Visit the ' +\n",
              "            '<a target=\"_blank\" href=https://colab.research.google.com/notebooks/data_table.ipynb>data table notebook</a>'\n",
              "            + ' to learn more about interactive tables.';\n",
              "          element.innerHTML = '';\n",
              "          dataTable['output_type'] = 'display_data';\n",
              "          await google.colab.output.renderOutput(dataTable, element);\n",
              "          const docLink = document.createElement('div');\n",
              "          docLink.innerHTML = docLinkHtml;\n",
              "          element.appendChild(docLink);\n",
              "        }\n",
              "      </script>\n",
              "    </div>\n",
              "  </div>\n",
              "  "
            ],
            "text/plain": [
              "                DateCrawled  Price VehicleType  RegistrationYear Gearbox  \\\n",
              "334517  2016-03-22 20:45:43   1500       wagon              2001  manual   \n",
              "57357   2016-03-05 14:48:18   2900         bus              2004  manual   \n",
              "190892  2016-03-16 18:56:02  15898         bus              2006  manual   \n",
              "57224   2016-03-15 13:58:19   3299       wagon              2002  manual   \n",
              "352262  2016-03-16 15:38:40  13500       wagon              2010    auto   \n",
              "\n",
              "        Power        Model  Kilometer  RegistrationMonth  FuelType  \\\n",
              "334517      0          NaN     150000                  6    petrol   \n",
              "57357     114        other     150000                  4  gasoline   \n",
              "190892    174  transporter     150000                  9  gasoline   \n",
              "57224     130           a4     150000                  4    petrol   \n",
              "352262    155      6_reihe      70000                  3    petrol   \n",
              "\n",
              "             Brand Repaired          DateCreated  NumberOfPictures  \\\n",
              "334517        ford      yes  2016-03-22 00:00:00                 0   \n",
              "57357      renault       no  2016-03-05 00:00:00                 0   \n",
              "190892  volkswagen       no  2016-03-16 00:00:00                 0   \n",
              "57224         audi      yes  2016-03-15 00:00:00                 0   \n",
              "352262       mazda       no  2016-03-16 00:00:00                 0   \n",
              "\n",
              "        PostalCode             LastSeen  \n",
              "334517       88400  2016-03-22 20:45:43  \n",
              "57357        63128  2016-03-12 17:48:46  \n",
              "190892       99096  2016-04-01 06:44:38  \n",
              "57224        65620  2016-03-17 08:11:52  \n",
              "352262       88079  2016-04-06 16:44:57  "
            ]
          },
          "execution_count": 4,
          "metadata": {},
          "output_type": "execute_result"
        }
      ],
      "source": [
        "df.sample(5)"
      ]
    },
    {
      "cell_type": "code",
      "execution_count": 5,
      "metadata": {
        "colab": {
          "base_uri": "https://localhost:8080/"
        },
        "id": "47IouLDImoom",
        "outputId": "a207e919-3375-46bd-fb78-e8bf70c690a2",
        "trusted": false
      },
      "outputs": [
        {
          "name": "stdout",
          "output_type": "stream",
          "text": [
            "<class 'pandas.core.frame.DataFrame'>\n",
            "RangeIndex: 354369 entries, 0 to 354368\n",
            "Data columns (total 16 columns):\n",
            " #   Column             Non-Null Count   Dtype \n",
            "---  ------             --------------   ----- \n",
            " 0   DateCrawled        354369 non-null  object\n",
            " 1   Price              354369 non-null  int64 \n",
            " 2   VehicleType        316879 non-null  object\n",
            " 3   RegistrationYear   354369 non-null  int64 \n",
            " 4   Gearbox            334536 non-null  object\n",
            " 5   Power              354369 non-null  int64 \n",
            " 6   Model              334664 non-null  object\n",
            " 7   Kilometer          354369 non-null  int64 \n",
            " 8   RegistrationMonth  354369 non-null  int64 \n",
            " 9   FuelType           321474 non-null  object\n",
            " 10  Brand              354369 non-null  object\n",
            " 11  Repaired           283215 non-null  object\n",
            " 12  DateCreated        354369 non-null  object\n",
            " 13  NumberOfPictures   354369 non-null  int64 \n",
            " 14  PostalCode         354369 non-null  int64 \n",
            " 15  LastSeen           354369 non-null  object\n",
            "dtypes: int64(7), object(9)\n",
            "memory usage: 43.3+ MB\n"
          ]
        }
      ],
      "source": [
        "df.info()"
      ]
    },
    {
      "cell_type": "code",
      "execution_count": 6,
      "metadata": {
        "id": "KQ4RLOv6moom",
        "trusted": false
      },
      "outputs": [],
      "source": [
        "df['LastSeen'] = df['LastSeen'].astype('datetime64')\n",
        "df['DateCrawled'] = df['DateCrawled'].astype('datetime64')\n",
        "df['DateCreated'] = df['DateCreated'].astype('datetime64')\n",
        "df.columns = [col.lower() for col in df.columns]"
      ]
    },
    {
      "cell_type": "markdown",
      "metadata": {
        "id": "dh_n09dlFULG"
      },
      "source": [
        "<div class=\"alert alert-block alert-success\">\n",
        "<b>✔️ Успех:</b> 👍\n",
        "</div>"
      ]
    },
    {
      "cell_type": "markdown",
      "metadata": {
        "id": "VrU4GQxkmoon"
      },
      "source": [
        "## NaN's"
      ]
    },
    {
      "cell_type": "code",
      "execution_count": 7,
      "metadata": {
        "colab": {
          "base_uri": "https://localhost:8080/"
        },
        "id": "9Pq32ibvmoon",
        "outputId": "851075e8-d4cc-4ffb-ad35-ed3ae3c47a08",
        "trusted": false
      },
      "outputs": [
        {
          "data": {
            "text/plain": [
              "repaired             20.08\n",
              "vehicletype          10.58\n",
              "fueltype              9.28\n",
              "gearbox               5.60\n",
              "model                 5.56\n",
              "datecrawled           0.00\n",
              "price                 0.00\n",
              "registrationyear      0.00\n",
              "power                 0.00\n",
              "kilometer             0.00\n",
              "registrationmonth     0.00\n",
              "brand                 0.00\n",
              "datecreated           0.00\n",
              "numberofpictures      0.00\n",
              "postalcode            0.00\n",
              "lastseen              0.00\n",
              "dtype: float64"
            ]
          },
          "execution_count": 7,
          "metadata": {},
          "output_type": "execute_result"
        }
      ],
      "source": [
        "round(df.isnull().mean().sort_values(ascending=False)*100,2)"
      ]
    },
    {
      "cell_type": "markdown",
      "metadata": {
        "id": "e14m11cdmoon"
      },
      "source": [
        "получается, что очень много пропусков в колонках repaired, venicletype, fueltype, gearbox, model. \n",
        "\n",
        "местами пропусков слишком много, чтобы просто так выкинуть, но и замазать средним не получится, признаки категориальные. \n",
        "\n",
        "лучше просто в датасете так и пропишем: неизвестно. станет отдельной категорией "
      ]
    },
    {
      "cell_type": "code",
      "execution_count": 8,
      "metadata": {
        "id": "SmLdkPAvmooo",
        "trusted": false
      },
      "outputs": [],
      "source": [
        "df['repaired'] = df['repaired'].fillna('unknown')\n",
        "df['vehicletype'] = df['vehicletype'].fillna('unknown')\n",
        "df['gearbox'] = df['gearbox'].fillna('unknown')\n",
        "df['model'] = df['model'].fillna('unknown')\n",
        "df['fueltype'] = df['fueltype'].fillna('unknown')"
      ]
    },
    {
      "cell_type": "markdown",
      "metadata": {
        "id": "RF3inwmmFULI"
      },
      "source": [
        "<div class=\"alert alert-block alert-success\">\n",
        "<b>✔️ Успех:</b>\n",
        "\n",
        "Пропуски успешно заполнены 👍 Модели теперь не будут капризничать)\n",
        "</div>"
      ]
    },
    {
      "cell_type": "markdown",
      "metadata": {
        "id": "Lanc1GG7mooo"
      },
      "source": [
        "## EDA + features clean up "
      ]
    },
    {
      "cell_type": "code",
      "execution_count": 9,
      "metadata": {
        "colab": {
          "base_uri": "https://localhost:8080/",
          "height": 252
        },
        "id": "hWy2ZNqVmooo",
        "outputId": "6632733f-53b3-4cda-a056-797e8b51997b",
        "trusted": false
      },
      "outputs": [
        {
          "data": {
            "text/html": [
              "\n",
              "  <div id=\"df-80255f02-60c5-4410-a2d6-325e0d5469ae\">\n",
              "    <div class=\"colab-df-container\">\n",
              "      <div>\n",
              "<style scoped>\n",
              "    .dataframe tbody tr th:only-of-type {\n",
              "        vertical-align: middle;\n",
              "    }\n",
              "\n",
              "    .dataframe tbody tr th {\n",
              "        vertical-align: top;\n",
              "    }\n",
              "\n",
              "    .dataframe thead th {\n",
              "        text-align: right;\n",
              "    }\n",
              "</style>\n",
              "<table border=\"1\" class=\"dataframe\">\n",
              "  <thead>\n",
              "    <tr style=\"text-align: right;\">\n",
              "      <th></th>\n",
              "      <th>datecrawled</th>\n",
              "      <th>datecreated</th>\n",
              "      <th>lastseen</th>\n",
              "    </tr>\n",
              "  </thead>\n",
              "  <tbody>\n",
              "    <tr>\n",
              "      <th>count</th>\n",
              "      <td>354369</td>\n",
              "      <td>354369</td>\n",
              "      <td>354369</td>\n",
              "    </tr>\n",
              "    <tr>\n",
              "      <th>unique</th>\n",
              "      <td>271174</td>\n",
              "      <td>109</td>\n",
              "      <td>179150</td>\n",
              "    </tr>\n",
              "    <tr>\n",
              "      <th>top</th>\n",
              "      <td>2016-03-24 14:49:47</td>\n",
              "      <td>2016-04-03 00:00:00</td>\n",
              "      <td>2016-04-06 13:45:54</td>\n",
              "    </tr>\n",
              "    <tr>\n",
              "      <th>freq</th>\n",
              "      <td>7</td>\n",
              "      <td>13719</td>\n",
              "      <td>17</td>\n",
              "    </tr>\n",
              "    <tr>\n",
              "      <th>first</th>\n",
              "      <td>2016-03-05 14:06:22</td>\n",
              "      <td>2014-03-10 00:00:00</td>\n",
              "      <td>2016-03-05 14:15:08</td>\n",
              "    </tr>\n",
              "    <tr>\n",
              "      <th>last</th>\n",
              "      <td>2016-04-07 14:36:58</td>\n",
              "      <td>2016-04-07 00:00:00</td>\n",
              "      <td>2016-04-07 14:58:51</td>\n",
              "    </tr>\n",
              "  </tbody>\n",
              "</table>\n",
              "</div>\n",
              "      <button class=\"colab-df-convert\" onclick=\"convertToInteractive('df-80255f02-60c5-4410-a2d6-325e0d5469ae')\"\n",
              "              title=\"Convert this dataframe to an interactive table.\"\n",
              "              style=\"display:none;\">\n",
              "        \n",
              "  <svg xmlns=\"http://www.w3.org/2000/svg\" height=\"24px\"viewBox=\"0 0 24 24\"\n",
              "       width=\"24px\">\n",
              "    <path d=\"M0 0h24v24H0V0z\" fill=\"none\"/>\n",
              "    <path d=\"M18.56 5.44l.94 2.06.94-2.06 2.06-.94-2.06-.94-.94-2.06-.94 2.06-2.06.94zm-11 1L8.5 8.5l.94-2.06 2.06-.94-2.06-.94L8.5 2.5l-.94 2.06-2.06.94zm10 10l.94 2.06.94-2.06 2.06-.94-2.06-.94-.94-2.06-.94 2.06-2.06.94z\"/><path d=\"M17.41 7.96l-1.37-1.37c-.4-.4-.92-.59-1.43-.59-.52 0-1.04.2-1.43.59L10.3 9.45l-7.72 7.72c-.78.78-.78 2.05 0 2.83L4 21.41c.39.39.9.59 1.41.59.51 0 1.02-.2 1.41-.59l7.78-7.78 2.81-2.81c.8-.78.8-2.07 0-2.86zM5.41 20L4 18.59l7.72-7.72 1.47 1.35L5.41 20z\"/>\n",
              "  </svg>\n",
              "      </button>\n",
              "      \n",
              "  <style>\n",
              "    .colab-df-container {\n",
              "      display:flex;\n",
              "      flex-wrap:wrap;\n",
              "      gap: 12px;\n",
              "    }\n",
              "\n",
              "    .colab-df-convert {\n",
              "      background-color: #E8F0FE;\n",
              "      border: none;\n",
              "      border-radius: 50%;\n",
              "      cursor: pointer;\n",
              "      display: none;\n",
              "      fill: #1967D2;\n",
              "      height: 32px;\n",
              "      padding: 0 0 0 0;\n",
              "      width: 32px;\n",
              "    }\n",
              "\n",
              "    .colab-df-convert:hover {\n",
              "      background-color: #E2EBFA;\n",
              "      box-shadow: 0px 1px 2px rgba(60, 64, 67, 0.3), 0px 1px 3px 1px rgba(60, 64, 67, 0.15);\n",
              "      fill: #174EA6;\n",
              "    }\n",
              "\n",
              "    [theme=dark] .colab-df-convert {\n",
              "      background-color: #3B4455;\n",
              "      fill: #D2E3FC;\n",
              "    }\n",
              "\n",
              "    [theme=dark] .colab-df-convert:hover {\n",
              "      background-color: #434B5C;\n",
              "      box-shadow: 0px 1px 3px 1px rgba(0, 0, 0, 0.15);\n",
              "      filter: drop-shadow(0px 1px 2px rgba(0, 0, 0, 0.3));\n",
              "      fill: #FFFFFF;\n",
              "    }\n",
              "  </style>\n",
              "\n",
              "      <script>\n",
              "        const buttonEl =\n",
              "          document.querySelector('#df-80255f02-60c5-4410-a2d6-325e0d5469ae button.colab-df-convert');\n",
              "        buttonEl.style.display =\n",
              "          google.colab.kernel.accessAllowed ? 'block' : 'none';\n",
              "\n",
              "        async function convertToInteractive(key) {\n",
              "          const element = document.querySelector('#df-80255f02-60c5-4410-a2d6-325e0d5469ae');\n",
              "          const dataTable =\n",
              "            await google.colab.kernel.invokeFunction('convertToInteractive',\n",
              "                                                     [key], {});\n",
              "          if (!dataTable) return;\n",
              "\n",
              "          const docLinkHtml = 'Like what you see? Visit the ' +\n",
              "            '<a target=\"_blank\" href=https://colab.research.google.com/notebooks/data_table.ipynb>data table notebook</a>'\n",
              "            + ' to learn more about interactive tables.';\n",
              "          element.innerHTML = '';\n",
              "          dataTable['output_type'] = 'display_data';\n",
              "          await google.colab.output.renderOutput(dataTable, element);\n",
              "          const docLink = document.createElement('div');\n",
              "          docLink.innerHTML = docLinkHtml;\n",
              "          element.appendChild(docLink);\n",
              "        }\n",
              "      </script>\n",
              "    </div>\n",
              "  </div>\n",
              "  "
            ],
            "text/plain": [
              "                datecrawled          datecreated             lastseen\n",
              "count                354369               354369               354369\n",
              "unique               271174                  109               179150\n",
              "top     2016-03-24 14:49:47  2016-04-03 00:00:00  2016-04-06 13:45:54\n",
              "freq                      7                13719                   17\n",
              "first   2016-03-05 14:06:22  2014-03-10 00:00:00  2016-03-05 14:15:08\n",
              "last    2016-04-07 14:36:58  2016-04-07 00:00:00  2016-04-07 14:58:51"
            ]
          },
          "metadata": {},
          "output_type": "display_data"
        }
      ],
      "source": [
        "display(df.select_dtypes(include='datetime').describe())\n",
        "df.drop(df.select_dtypes(include='datetime').columns, axis = 1, inplace=True) "
      ]
    },
    {
      "cell_type": "markdown",
      "metadata": {
        "id": "0vOm_t09mooo"
      },
      "source": [
        "в данных с датами особо нет аномалий, но выглядят они как данные о юзерах/объявлениях и на цену машины влиять не должны. \n",
        "лучше бы их удалить. "
      ]
    },
    {
      "cell_type": "code",
      "execution_count": 10,
      "metadata": {
        "colab": {
          "base_uri": "https://localhost:8080/",
          "height": 357
        },
        "id": "YwM2oqyXmooo",
        "outputId": "5d5252e2-f98b-4740-a6ed-4a8e13edc23b",
        "trusted": false
      },
      "outputs": [
        {
          "data": {
            "image/png": "[encoded data removed]",
            "text/plain": [
              "<Figure size 1080x360 with 1 Axes>"
            ]
          },
          "metadata": {},
          "output_type": "display_data"
        }
      ],
      "source": [
        "plt.title('price distr')\n",
        "df.price.hist(bins=50)\n",
        "plt.show()"
      ]
    },
    {
      "cell_type": "code",
      "execution_count": 11,
      "metadata": {
        "id": "GkQbME612pRa",
        "trusted": false
      },
      "outputs": [],
      "source": [
        "cat_features = ['model', 'registrationyear']"
      ]
    },
    {
      "cell_type": "code",
      "execution_count": 12,
      "metadata": {
        "id": "TxTcDziJ1UPH",
        "trusted": false
      },
      "outputs": [],
      "source": [
        "price_grouped = df.groupby(cat_features).agg({'price':'mean'}).rename(columns = {'price':'avg_price'}).reset_index()"
      ]
    },
    {
      "cell_type": "code",
      "execution_count": 13,
      "metadata": {
        "colab": {
          "base_uri": "https://localhost:8080/",
          "height": 433
        },
        "id": "TBsgdkW745r6",
        "outputId": "9132cad8-4922-4e9d-f97f-6309898e0763",
        "trusted": false
      },
      "outputs": [
        {
          "data": {
            "text/html": [
              "\n",
              "  <div id=\"df-6b8f6de0-963a-4bf1-93cf-fcbcd8d2a59f\">\n",
              "    <div class=\"colab-df-container\">\n",
              "      <div>\n",
              "<style scoped>\n",
              "    .dataframe tbody tr th:only-of-type {\n",
              "        vertical-align: middle;\n",
              "    }\n",
              "\n",
              "    .dataframe tbody tr th {\n",
              "        vertical-align: top;\n",
              "    }\n",
              "\n",
              "    .dataframe thead th {\n",
              "        text-align: right;\n",
              "    }\n",
              "</style>\n",
              "<table border=\"1\" class=\"dataframe\">\n",
              "  <thead>\n",
              "    <tr style=\"text-align: right;\">\n",
              "      <th></th>\n",
              "      <th>model</th>\n",
              "      <th>registrationyear</th>\n",
              "      <th>avg_price</th>\n",
              "    </tr>\n",
              "  </thead>\n",
              "  <tbody>\n",
              "    <tr>\n",
              "      <th>0</th>\n",
              "      <td>100</td>\n",
              "      <td>1910</td>\n",
              "      <td>0.0</td>\n",
              "    </tr>\n",
              "    <tr>\n",
              "      <th>40</th>\n",
              "      <td>145</td>\n",
              "      <td>2002</td>\n",
              "      <td>0.0</td>\n",
              "    </tr>\n",
              "    <tr>\n",
              "      <th>56</th>\n",
              "      <td>147</td>\n",
              "      <td>2015</td>\n",
              "      <td>0.0</td>\n",
              "    </tr>\n",
              "    <tr>\n",
              "      <th>74</th>\n",
              "      <td>156</td>\n",
              "      <td>2007</td>\n",
              "      <td>0.0</td>\n",
              "    </tr>\n",
              "    <tr>\n",
              "      <th>125</th>\n",
              "      <td>1er</td>\n",
              "      <td>1980</td>\n",
              "      <td>0.0</td>\n",
              "    </tr>\n",
              "    <tr>\n",
              "      <th>...</th>\n",
              "      <td>...</td>\n",
              "      <td>...</td>\n",
              "      <td>...</td>\n",
              "    </tr>\n",
              "    <tr>\n",
              "      <th>4954</th>\n",
              "      <td>unknown</td>\n",
              "      <td>8455</td>\n",
              "      <td>0.0</td>\n",
              "    </tr>\n",
              "    <tr>\n",
              "      <th>4957</th>\n",
              "      <td>unknown</td>\n",
              "      <td>9229</td>\n",
              "      <td>0.0</td>\n",
              "    </tr>\n",
              "    <tr>\n",
              "      <th>4959</th>\n",
              "      <td>unknown</td>\n",
              "      <td>9996</td>\n",
              "      <td>0.0</td>\n",
              "    </tr>\n",
              "    <tr>\n",
              "      <th>5178</th>\n",
              "      <td>wrangler</td>\n",
              "      <td>1985</td>\n",
              "      <td>0.0</td>\n",
              "    </tr>\n",
              "    <tr>\n",
              "      <th>5243</th>\n",
              "      <td>x_type</td>\n",
              "      <td>1976</td>\n",
              "      <td>0.0</td>\n",
              "    </tr>\n",
              "  </tbody>\n",
              "</table>\n",
              "<p>84 rows × 3 columns</p>\n",
              "</div>\n",
              "      <button class=\"colab-df-convert\" onclick=\"convertToInteractive('df-6b8f6de0-963a-4bf1-93cf-fcbcd8d2a59f')\"\n",
              "              title=\"Convert this dataframe to an interactive table.\"\n",
              "              style=\"display:none;\">\n",
              "        \n",
              "  <svg xmlns=\"http://www.w3.org/2000/svg\" height=\"24px\"viewBox=\"0 0 24 24\"\n",
              "       width=\"24px\">\n",
              "    <path d=\"M0 0h24v24H0V0z\" fill=\"none\"/>\n",
              "    <path d=\"M18.56 5.44l.94 2.06.94-2.06 2.06-.94-2.06-.94-.94-2.06-.94 2.06-2.06.94zm-11 1L8.5 8.5l.94-2.06 2.06-.94-2.06-.94L8.5 2.5l-.94 2.06-2.06.94zm10 10l.94 2.06.94-2.06 2.06-.94-2.06-.94-.94-2.06-.94 2.06-2.06.94z\"/><path d=\"M17.41 7.96l-1.37-1.37c-.4-.4-.92-.59-1.43-.59-.52 0-1.04.2-1.43.59L10.3 9.45l-7.72 7.72c-.78.78-.78 2.05 0 2.83L4 21.41c.39.39.9.59 1.41.59.51 0 1.02-.2 1.41-.59l7.78-7.78 2.81-2.81c.8-.78.8-2.07 0-2.86zM5.41 20L4 18.59l7.72-7.72 1.47 1.35L5.41 20z\"/>\n",
              "  </svg>\n",
              "      </button>\n",
              "      \n",
              "  <style>\n",
              "    .colab-df-container {\n",
              "      display:flex;\n",
              "      flex-wrap:wrap;\n",
              "      gap: 12px;\n",
              "    }\n",
              "\n",
              "    .colab-df-convert {\n",
              "      background-color: #E8F0FE;\n",
              "      border: none;\n",
              "      border-radius: 50%;\n",
              "      cursor: pointer;\n",
              "      display: none;\n",
              "      fill: #1967D2;\n",
              "      height: 32px;\n",
              "      padding: 0 0 0 0;\n",
              "      width: 32px;\n",
              "    }\n",
              "\n",
              "    .colab-df-convert:hover {\n",
              "      background-color: #E2EBFA;\n",
              "      box-shadow: 0px 1px 2px rgba(60, 64, 67, 0.3), 0px 1px 3px 1px rgba(60, 64, 67, 0.15);\n",
              "      fill: #174EA6;\n",
              "    }\n",
              "\n",
              "    [theme=dark] .colab-df-convert {\n",
              "      background-color: #3B4455;\n",
              "      fill: #D2E3FC;\n",
              "    }\n",
              "\n",
              "    [theme=dark] .colab-df-convert:hover {\n",
              "      background-color: #434B5C;\n",
              "      box-shadow: 0px 1px 3px 1px rgba(0, 0, 0, 0.15);\n",
              "      filter: drop-shadow(0px 1px 2px rgba(0, 0, 0, 0.3));\n",
              "      fill: #FFFFFF;\n",
              "    }\n",
              "  </style>\n",
              "\n",
              "      <script>\n",
              "        const buttonEl =\n",
              "          document.querySelector('#df-6b8f6de0-963a-4bf1-93cf-fcbcd8d2a59f button.colab-df-convert');\n",
              "        buttonEl.style.display =\n",
              "          google.colab.kernel.accessAllowed ? 'block' : 'none';\n",
              "\n",
              "        async function convertToInteractive(key) {\n",
              "          const element = document.querySelector('#df-6b8f6de0-963a-4bf1-93cf-fcbcd8d2a59f');\n",
              "          const dataTable =\n",
              "            await google.colab.kernel.invokeFunction('convertToInteractive',\n",
              "                                                     [key], {});\n",
              "          if (!dataTable) return;\n",
              "\n",
              "          const docLinkHtml = 'Like what you see? Visit the ' +\n",
              "            '<a target=\"_blank\" href=https://colab.research.google.com/notebooks/data_table.ipynb>data table notebook</a>'\n",
              "            + ' to learn more about interactive tables.';\n",
              "          element.innerHTML = '';\n",
              "          dataTable['output_type'] = 'display_data';\n",
              "          await google.colab.output.renderOutput(dataTable, element);\n",
              "          const docLink = document.createElement('div');\n",
              "          docLink.innerHTML = docLinkHtml;\n",
              "          element.appendChild(docLink);\n",
              "        }\n",
              "      </script>\n",
              "    </div>\n",
              "  </div>\n",
              "  "
            ],
            "text/plain": [
              "         model  registrationyear  avg_price\n",
              "0          100              1910        0.0\n",
              "40         145              2002        0.0\n",
              "56         147              2015        0.0\n",
              "74         156              2007        0.0\n",
              "125        1er              1980        0.0\n",
              "...        ...               ...        ...\n",
              "4954   unknown              8455        0.0\n",
              "4957   unknown              9229        0.0\n",
              "4959   unknown              9996        0.0\n",
              "5178  wrangler              1985        0.0\n",
              "5243    x_type              1976        0.0\n",
              "\n",
              "[84 rows x 3 columns]"
            ]
          },
          "execution_count": 13,
          "metadata": {},
          "output_type": "execute_result"
        }
      ],
      "source": [
        "price_grouped[price_grouped['avg_price']==0]"
      ]
    },
    {
      "cell_type": "code",
      "execution_count": 14,
      "metadata": {
        "id": "_ZzNHu3c3Ist",
        "trusted": false
      },
      "outputs": [],
      "source": [
        "df = df.merge(price_grouped, on = cat_features, how = 'left')"
      ]
    },
    {
      "cell_type": "code",
      "execution_count": 15,
      "metadata": {
        "id": "r-PRSkdy3WYc",
        "trusted": false
      },
      "outputs": [],
      "source": [
        "def price_upd(row): \n",
        "  if row['price'] == 0:\n",
        "    row['price'] = row['avg_price']\n",
        "  else:\n",
        "    pass\n",
        "  return row"
      ]
    },
    {
      "cell_type": "code",
      "execution_count": 16,
      "metadata": {
        "id": "GSarXIje4UTl",
        "trusted": false
      },
      "outputs": [],
      "source": [
        "df = df.apply(lambda x: price_upd(x), axis = 1)"
      ]
    },
    {
      "cell_type": "code",
      "execution_count": 17,
      "metadata": {
        "colab": {
          "base_uri": "https://localhost:8080/",
          "height": 54
        },
        "id": "huBcoE2T4mpL",
        "outputId": "3086a6f3-a60e-427e-8733-78a154aededb",
        "trusted": false
      },
      "outputs": [
        {
          "data": {
            "text/plain": [
              "(88, 14)"
            ]
          },
          "metadata": {},
          "output_type": "display_data"
        }
      ],
      "source": [
        "display(df.query('price==0').shape)\n",
        "df = df.query('price != 0')"
      ]
    },
    {
      "cell_type": "markdown",
      "metadata": {
        "id": "vcl6rVzwmoop"
      },
      "source": [
        "в ценах много было моделей с 0 знаением цены -- выглядит очень странно, поэтому заполнил средним по модели и году выпуска, а где не получилось -- удалил: строк было совсем немного"
      ]
    },
    {
      "cell_type": "code",
      "execution_count": 18,
      "metadata": {
        "colab": {
          "base_uri": "https://localhost:8080/"
        },
        "id": "zs-tFhGOmoop",
        "outputId": "ac7a2eb5-aec4-4b83-8a2e-afb92a2528cf",
        "trusted": false
      },
      "outputs": [
        {
          "data": {
            "text/plain": [
              "sedan          0.258109\n",
              "small          0.225313\n",
              "wagon          0.183927\n",
              "unknown        0.105696\n",
              "bus            0.081210\n",
              "convertible    0.057020\n",
              "coupe          0.045611\n",
              "suv            0.033846\n",
              "other          0.009269\n",
              "Name: vehicletype, dtype: float64"
            ]
          },
          "execution_count": 18,
          "metadata": {},
          "output_type": "execute_result"
        }
      ],
      "source": [
        "df.vehicletype.value_counts(normalize=True)"
      ]
    },
    {
      "cell_type": "code",
      "execution_count": 19,
      "metadata": {
        "colab": {
          "base_uri": "https://localhost:8080/",
          "height": 1000
        },
        "id": "10eKvPG5moop",
        "outputId": "0312299a-2c99-4e83-a393-be1ce5ec7f88",
        "trusted": false
      },
      "outputs": [
        {
          "data": {
            "image/png": "[encoded data removed]",
            "text/plain": [
              "<Figure size 1080x360 with 1 Axes>"
            ]
          },
          "metadata": {},
          "output_type": "display_data"
        },
        {
          "data": {
            "text/plain": [
              "count    354281.000000\n",
              "mean       2004.116605\n",
              "std          85.146414\n",
              "min        1000.000000\n",
              "0%         1000.000000\n",
              "1%         1980.000000\n",
              "50%        2003.000000\n",
              "90%        2012.000000\n",
              "95%        2016.000000\n",
              "99%        2018.000000\n",
              "max        9999.000000\n",
              "Name: registrationyear, dtype: float64"
            ]
          },
          "metadata": {},
          "output_type": "display_data"
        },
        {
          "data": {
            "image/png": "[encoded data removed]",
            "text/plain": [
              "<Figure size 1080x360 with 1 Axes>"
            ]
          },
          "metadata": {},
          "output_type": "display_data"
        },
        {
          "data": {
            "text/plain": [
              "count    350738.000000\n",
              "mean       2003.422275\n",
              "std           6.608803\n",
              "min        1980.000000\n",
              "0%         1980.000000\n",
              "1%         1987.000000\n",
              "50%        2003.000000\n",
              "90%        2012.000000\n",
              "95%        2016.000000\n",
              "99%        2018.000000\n",
              "max        2018.000000\n",
              "Name: registrationyear, dtype: float64"
            ]
          },
          "metadata": {},
          "output_type": "display_data"
        }
      ],
      "source": [
        "plt.title('year_distr')\n",
        "df['registrationyear'].hist(bins = 25)\n",
        "plt.show() \n",
        "\n",
        "display(df['registrationyear'].describe(percentiles=[0, 0.01, 0.5, 0.9, 0.95, 0.99]))\n",
        "\n",
        "df = df.query('registrationyear > = 1980 and registrationyear <= 2018')\n",
        "\n",
        "plt.title('year_distr after cleaning')\n",
        "df['registrationyear'].hist(bins = 25)\n",
        "plt.show() \n",
        "\n",
        "display(df['registrationyear'].describe(percentiles=[0, 0.01, 0.5, 0.9, 0.95, 0.99]))"
      ]
    },
    {
      "cell_type": "markdown",
      "metadata": {
        "id": "x-au1axBmooq"
      },
      "source": [
        "есть какие-то нереально старые машины, которым практически тысяча лет в обед. \n",
        "их, пожалуй, лучше выкинуть из выборки"
      ]
    },
    {
      "cell_type": "code",
      "execution_count": 20,
      "metadata": {
        "colab": {
          "base_uri": "https://localhost:8080/"
        },
        "id": "TWKVhshFmoor",
        "outputId": "ae5c0215-7a7e-4b75-ee9c-ab73a56dac0d",
        "trusted": false
      },
      "outputs": [
        {
          "data": {
            "text/plain": [
              "manual     0.758806\n",
              "auto       0.187097\n",
              "unknown    0.054097\n",
              "Name: gearbox, dtype: float64"
            ]
          },
          "execution_count": 20,
          "metadata": {},
          "output_type": "execute_result"
        }
      ],
      "source": [
        "df['gearbox'].value_counts(normalize=True)"
      ]
    },
    {
      "cell_type": "code",
      "execution_count": 21,
      "metadata": {
        "colab": {
          "base_uri": "https://localhost:8080/",
          "height": 1000
        },
        "id": "St-9oYqrmoor",
        "outputId": "aa4b98cc-d8cd-4267-cd52-c0602a5d7954",
        "trusted": false
      },
      "outputs": [
        {
          "data": {
            "image/png": "[encoded data removed]",
            "text/plain": [
              "<Figure size 1080x360 with 1 Axes>"
            ]
          },
          "metadata": {},
          "output_type": "display_data"
        },
        {
          "data": {
            "text/plain": [
              "count    350738.000000\n",
              "mean        110.425269\n",
              "std         188.283177\n",
              "min           0.000000\n",
              "0%            0.000000\n",
              "1%            0.000000\n",
              "2%            0.000000\n",
              "5%            0.000000\n",
              "10%           0.000000\n",
              "50%         105.000000\n",
              "90%         179.000000\n",
              "95%         218.000000\n",
              "99%         300.000000\n",
              "max       20000.000000\n",
              "Name: power, dtype: float64"
            ]
          },
          "metadata": {},
          "output_type": "display_data"
        },
        {
          "data": {
            "image/png": "[encoded data removed]",
            "text/plain": [
              "<Figure size 1080x360 with 1 Axes>"
            ]
          },
          "metadata": {},
          "output_type": "display_data"
        },
        {
          "data": {
            "text/plain": [
              "count    347308.000000\n",
              "mean        104.777186\n",
              "std          59.079175\n",
              "min           0.000000\n",
              "0%            0.000000\n",
              "1%            0.000000\n",
              "2%            0.000000\n",
              "5%            0.000000\n",
              "10%           0.000000\n",
              "50%         103.000000\n",
              "90%         177.000000\n",
              "95%         204.000000\n",
              "99%         258.000000\n",
              "max         300.000000\n",
              "Name: power, dtype: float64"
            ]
          },
          "metadata": {},
          "output_type": "display_data"
        }
      ],
      "source": [
        "plt.title('power distr')\n",
        "df['power'].hist(bins = 25)\n",
        "plt.show()\n",
        "display(df['power'].describe(percentiles=[0, 0.01, 0.02, 0.1, 0.05,  0.5, 0.9, 0.95, 0.99]))\n",
        "\n",
        "df = df.query('power <= 300') \n",
        "\n",
        "plt.title('power distr after cleaning')\n",
        "df['power'].hist(bins = 25)\n",
        "plt.show()\n",
        "display(df['power'].describe(percentiles=[0, 0.01, 0.02, 0.1, 0.05,  0.5, 0.9, 0.95, 0.99]))\n"
      ]
    },
    {
      "cell_type": "markdown",
      "metadata": {
        "id": "-L_98bfRmoos"
      },
      "source": [
        "вот с мощностью тоже куча объявлений с 0, удалить не получится -- слишком много, лучше заполнить условным средним"
      ]
    },
    {
      "cell_type": "code",
      "execution_count": 22,
      "metadata": {
        "id": "ZTnFJGrImoos",
        "trusted": false
      },
      "outputs": [],
      "source": [
        "df['power'] = np.where(df['power'] > 5, df['power'], df['power'] + df['power'].mean())"
      ]
    },
    {
      "cell_type": "code",
      "execution_count": 23,
      "metadata": {
        "colab": {
          "base_uri": "https://localhost:8080/",
          "height": 605
        },
        "id": "OEs18zyJmoos",
        "outputId": "74269d92-b0d5-4a34-c535-c6b031863260",
        "trusted": false
      },
      "outputs": [
        {
          "data": {
            "image/png": "[encoded data removed]",
            "text/plain": [
              "<Figure size 1080x360 with 1 Axes>"
            ]
          },
          "metadata": {},
          "output_type": "display_data"
        },
        {
          "data": {
            "text/plain": [
              "count    347308.000000\n",
              "mean        116.589916\n",
              "std          45.973059\n",
              "min           6.000000\n",
              "0%            6.000000\n",
              "1%           45.000000\n",
              "2%           50.000000\n",
              "5%           55.000000\n",
              "10%          60.000000\n",
              "50%         104.777186\n",
              "90%         177.000000\n",
              "95%         204.000000\n",
              "99%         258.000000\n",
              "max         300.000000\n",
              "Name: power, dtype: float64"
            ]
          },
          "metadata": {},
          "output_type": "display_data"
        }
      ],
      "source": [
        "plt.title('power distr after cleaning')\n",
        "df['power'].hist(bins = 25)\n",
        "plt.show()\n",
        "display(df['power'].describe(percentiles=[0, 0.01, 0.02, 0.1, 0.05,  0.5, 0.9, 0.95, 0.99]))"
      ]
    },
    {
      "cell_type": "markdown",
      "metadata": {
        "id": "1BzWxzwlYMpd"
      },
      "source": [
        "с мощность тоже происходит странное, обработаем, но есть идея подумать над качеством датасета "
      ]
    },
    {
      "cell_type": "code",
      "execution_count": 24,
      "metadata": {
        "colab": {
          "base_uri": "https://localhost:8080/"
        },
        "id": "ikf38ddfmoos",
        "outputId": "edf2212b-f5f2-4032-de8c-51ff213b8293",
        "trusted": false
      },
      "outputs": [
        {
          "data": {
            "text/plain": [
              "golf                  8.376139\n",
              "other                 6.485022\n",
              "3er                   5.633328\n",
              "unknown               5.315743\n",
              "polo                  3.752577\n",
              "                        ...   \n",
              "gl                    0.002303\n",
              "i3                    0.002303\n",
              "rangerover            0.001152\n",
              "serie_2               0.000864\n",
              "range_rover_evoque    0.000576\n",
              "Name: model, Length: 249, dtype: float64"
            ]
          },
          "execution_count": 24,
          "metadata": {},
          "output_type": "execute_result"
        }
      ],
      "source": [
        "df['model'].value_counts(normalize=True).sort_values(ascending=False)*100"
      ]
    },
    {
      "cell_type": "code",
      "execution_count": 25,
      "metadata": {
        "colab": {
          "base_uri": "https://localhost:8080/",
          "height": 605
        },
        "id": "7XLM97Pwmoot",
        "outputId": "4013a79f-5da8-4038-9e0c-db2557868b10",
        "trusted": false
      },
      "outputs": [
        {
          "data": {
            "image/png": "[encoded data removed]",
            "text/plain": [
              "<Figure size 1080x360 with 1 Axes>"
            ]
          },
          "metadata": {},
          "output_type": "display_data"
        },
        {
          "name": "stdout",
          "output_type": "stream",
          "text": [
            "уникальных категорий километража 13\n"
          ]
        },
        {
          "data": {
            "text/plain": [
              "150000    0.675717\n",
              "125000    0.103199\n",
              "100000    0.041249\n",
              "90000     0.032562\n",
              "80000     0.028174\n",
              "70000     0.024062\n",
              "60000     0.020904\n",
              "50000     0.017402\n",
              "5000      0.016481\n",
              "40000     0.013754\n",
              "30000     0.012381\n",
              "20000     0.011031\n",
              "10000     0.003084\n",
              "Name: kilometer, dtype: float64"
            ]
          },
          "execution_count": 25,
          "metadata": {},
          "output_type": "execute_result"
        }
      ],
      "source": [
        "plt.title('km distr')\n",
        "df['kilometer'].hist(bins=30)\n",
        "plt.show()\n",
        "\n",
        "print('уникальных категорий километража', df['kilometer'].nunique())\n",
        "\n",
        "df['kilometer'].value_counts(normalize='True')"
      ]
    },
    {
      "cell_type": "markdown",
      "metadata": {
        "id": "ElC4Akcomoot"
      },
      "source": [
        "интересно, что километраж выглядит скорее категориальной фичей, всего 13 уникальных значений, при этом видно, что большая часть машин с ощутимым пробегом"
      ]
    },
    {
      "cell_type": "code",
      "execution_count": 26,
      "metadata": {
        "colab": {
          "base_uri": "https://localhost:8080/",
          "height": 357
        },
        "id": "lxGFUeIEmoot",
        "outputId": "80982183-3a28-4711-d391-00478e15c688",
        "trusted": false
      },
      "outputs": [
        {
          "data": {
            "text/plain": [
              "<AxesSubplot:>"
            ]
          },
          "execution_count": 26,
          "metadata": {},
          "output_type": "execute_result"
        },
        {
          "data": {
            "image/png": "[encoded data removed]",
            "text/plain": [
              "<Figure size 1080x360 with 1 Axes>"
            ]
          },
          "metadata": {},
          "output_type": "display_data"
        }
      ],
      "source": [
        "df['registrationmonth'].hist()"
      ]
    },
    {
      "cell_type": "code",
      "execution_count": 27,
      "metadata": {
        "colab": {
          "base_uri": "https://localhost:8080/"
        },
        "id": "175zdKEkmoot",
        "outputId": "6b3a583d-75b3-495f-9851-e20c5b9cd180",
        "trusted": false
      },
      "outputs": [
        {
          "data": {
            "text/plain": [
              "petrol      0.608253\n",
              "gasoline    0.282798\n",
              "unknown     0.091550\n",
              "lpg         0.014396\n",
              "cng         0.001607\n",
              "hybrid      0.000662\n",
              "other       0.000487\n",
              "electric    0.000248\n",
              "Name: fueltype, dtype: float64"
            ]
          },
          "execution_count": 27,
          "metadata": {},
          "output_type": "execute_result"
        }
      ],
      "source": [
        "df['fueltype'].value_counts(normalize=True)"
      ]
    },
    {
      "cell_type": "code",
      "execution_count": 28,
      "metadata": {
        "colab": {
          "base_uri": "https://localhost:8080/"
        },
        "id": "KkJS4z7amoot",
        "outputId": "d033f0ca-10c4-42ca-f2fa-630147e19600",
        "trusted": false
      },
      "outputs": [
        {
          "data": {
            "text/plain": [
              "volkswagen       0.219154\n",
              "opel             0.113680\n",
              "bmw              0.103749\n",
              "mercedes_benz    0.088170\n",
              "audi             0.082860\n",
              "ford             0.071355\n",
              "renault          0.051413\n",
              "peugeot          0.031554\n",
              "fiat             0.027117\n",
              "seat             0.019801\n",
              "Name: brand, dtype: float64"
            ]
          },
          "execution_count": 28,
          "metadata": {},
          "output_type": "execute_result"
        }
      ],
      "source": [
        "df['brand'].value_counts(normalize=True).head(10)"
      ]
    },
    {
      "cell_type": "code",
      "execution_count": 29,
      "metadata": {
        "colab": {
          "base_uri": "https://localhost:8080/"
        },
        "id": "e5lJaepBmoou",
        "outputId": "f013bdc9-0c1b-441c-add0-9cf986f1ce2a",
        "trusted": false
      },
      "outputs": [
        {
          "data": {
            "text/plain": [
              "no         0.698299\n",
              "unknown    0.199630\n",
              "yes        0.102071\n",
              "Name: repaired, dtype: float64"
            ]
          },
          "execution_count": 29,
          "metadata": {},
          "output_type": "execute_result"
        }
      ],
      "source": [
        "df['repaired'].value_counts(normalize=True)"
      ]
    },
    {
      "cell_type": "markdown",
      "metadata": {
        "id": "Fw3u5--umoou"
      },
      "source": [
        "в данных довольно много фирм и моделей, в основном представлены дизельные и бензиновые автомобили. \n",
        "\n",
        "после прпоусков в repaired получилось, около 20% машин без определенного статуса по ремонту. "
      ]
    },
    {
      "cell_type": "code",
      "execution_count": 30,
      "metadata": {
        "colab": {
          "base_uri": "https://localhost:8080/",
          "height": 186
        },
        "id": "EcvZs2grmoou",
        "outputId": "911d7b54-94ec-4f7b-bc53-54fec73e01e7",
        "trusted": false
      },
      "outputs": [
        {
          "data": {
            "text/plain": [
              "count    347308.0\n",
              "mean          0.0\n",
              "std           0.0\n",
              "min           0.0\n",
              "25%           0.0\n",
              "50%           0.0\n",
              "75%           0.0\n",
              "max           0.0\n",
              "Name: numberofpictures, dtype: float64"
            ]
          },
          "metadata": {},
          "output_type": "display_data"
        }
      ],
      "source": [
        "display(df['numberofpictures'].describe())\n",
        "df.drop(['numberofpictures'], axis = 1, inplace = True)"
      ]
    },
    {
      "cell_type": "markdown",
      "metadata": {
        "id": "0dimAfyHmoou"
      },
      "source": [
        "в признаке df['numberofpictures'] только нулевые значения, его лучше удалить полностью"
      ]
    },
    {
      "cell_type": "code",
      "execution_count": 31,
      "metadata": {
        "colab": {
          "base_uri": "https://localhost:8080/"
        },
        "id": "QUXDS_jEmoou",
        "outputId": "83e013ae-a906-45e3-fed1-9eaa7f531f91",
        "trusted": false
      },
      "outputs": [
        {
          "data": {
            "text/plain": [
              "10115    795\n",
              "65428    609\n",
              "66333    341\n",
              "32257    313\n",
              "44145    310\n",
              "        ... \n",
              "6638       1\n",
              "29487      1\n",
              "89368      1\n",
              "95356      1\n",
              "31096      1\n",
              "Name: postalcode, Length: 8140, dtype: int64"
            ]
          },
          "execution_count": 31,
          "metadata": {},
          "output_type": "execute_result"
        }
      ],
      "source": [
        "df['postalcode'].value_counts()"
      ]
    },
    {
      "cell_type": "markdown",
      "metadata": {
        "id": "dwwLjmIJmoou"
      },
      "source": [
        "с postal code все немного сложнее. с одной стороны -- это явно признак категориальный, с другой стороны парсить его на флаги невыгодно, слишком много уникальных значений. сам код может отражать город, а в разных городах цены на атвомобили могут отличаться в теории."
      ]
    },
    {
      "cell_type": "markdown",
      "metadata": {
        "id": "eR_ixWFsmoov"
      },
      "source": [
        "# feature correlation"
      ]
    },
    {
      "cell_type": "code",
      "execution_count": 32,
      "metadata": {
        "colab": {
          "base_uri": "https://localhost:8080/",
          "height": 526
        },
        "id": "5YXtCBU1moov",
        "outputId": "ac2b0854-9388-4e17-862b-5db4fdb4c321",
        "trusted": false
      },
      "outputs": [
        {
          "name": "stdout",
          "output_type": "stream",
          "text": [
            "interval columns not set, guessing: ['price', 'registrationyear', 'power', 'kilometer', 'registrationmonth', 'postalcode', 'avg_price']\n"
          ]
        },
        {
          "data": {
            "text/html": [
              "\n",
              "  <div id=\"df-363972d7-4fed-4cd5-af44-4b142624c01e\">\n",
              "    <div class=\"colab-df-container\">\n",
              "      <div>\n",
              "<style scoped>\n",
              "    .dataframe tbody tr th:only-of-type {\n",
              "        vertical-align: middle;\n",
              "    }\n",
              "\n",
              "    .dataframe tbody tr th {\n",
              "        vertical-align: top;\n",
              "    }\n",
              "\n",
              "    .dataframe thead th {\n",
              "        text-align: right;\n",
              "    }\n",
              "</style>\n",
              "<table border=\"1\" class=\"dataframe\">\n",
              "  <thead>\n",
              "    <tr style=\"text-align: right;\">\n",
              "      <th></th>\n",
              "      <th>price</th>\n",
              "      <th>vehicletype</th>\n",
              "      <th>registrationyear</th>\n",
              "      <th>gearbox</th>\n",
              "      <th>power</th>\n",
              "      <th>model</th>\n",
              "      <th>kilometer</th>\n",
              "      <th>registrationmonth</th>\n",
              "      <th>fueltype</th>\n",
              "      <th>brand</th>\n",
              "      <th>repaired</th>\n",
              "      <th>postalcode</th>\n",
              "      <th>avg_price</th>\n",
              "    </tr>\n",
              "  </thead>\n",
              "  <tbody>\n",
              "    <tr>\n",
              "      <th>price</th>\n",
              "      <td>1.00</td>\n",
              "      <td>0.27</td>\n",
              "      <td>0.70</td>\n",
              "      <td>0.29</td>\n",
              "      <td>0.51</td>\n",
              "      <td>0.57</td>\n",
              "      <td>0.32</td>\n",
              "      <td>0.17</td>\n",
              "      <td>0.28</td>\n",
              "      <td>0.36</td>\n",
              "      <td>0.36</td>\n",
              "      <td>0.09</td>\n",
              "      <td>0.85</td>\n",
              "    </tr>\n",
              "    <tr>\n",
              "      <th>vehicletype</th>\n",
              "      <td>0.27</td>\n",
              "      <td>1.00</td>\n",
              "      <td>0.55</td>\n",
              "      <td>0.51</td>\n",
              "      <td>0.48</td>\n",
              "      <td>0.89</td>\n",
              "      <td>0.24</td>\n",
              "      <td>0.20</td>\n",
              "      <td>0.43</td>\n",
              "      <td>0.58</td>\n",
              "      <td>0.45</td>\n",
              "      <td>0.07</td>\n",
              "      <td>0.29</td>\n",
              "    </tr>\n",
              "    <tr>\n",
              "      <th>registrationyear</th>\n",
              "      <td>0.70</td>\n",
              "      <td>0.55</td>\n",
              "      <td>1.00</td>\n",
              "      <td>0.19</td>\n",
              "      <td>0.34</td>\n",
              "      <td>0.61</td>\n",
              "      <td>0.43</td>\n",
              "      <td>0.19</td>\n",
              "      <td>0.34</td>\n",
              "      <td>0.36</td>\n",
              "      <td>0.31</td>\n",
              "      <td>0.09</td>\n",
              "      <td>0.78</td>\n",
              "    </tr>\n",
              "    <tr>\n",
              "      <th>gearbox</th>\n",
              "      <td>0.29</td>\n",
              "      <td>0.51</td>\n",
              "      <td>0.19</td>\n",
              "      <td>1.00</td>\n",
              "      <td>0.48</td>\n",
              "      <td>0.62</td>\n",
              "      <td>0.07</td>\n",
              "      <td>0.27</td>\n",
              "      <td>0.34</td>\n",
              "      <td>0.51</td>\n",
              "      <td>0.48</td>\n",
              "      <td>0.09</td>\n",
              "      <td>0.25</td>\n",
              "    </tr>\n",
              "    <tr>\n",
              "      <th>power</th>\n",
              "      <td>0.51</td>\n",
              "      <td>0.48</td>\n",
              "      <td>0.34</td>\n",
              "      <td>0.48</td>\n",
              "      <td>1.00</td>\n",
              "      <td>0.80</td>\n",
              "      <td>0.13</td>\n",
              "      <td>0.14</td>\n",
              "      <td>0.27</td>\n",
              "      <td>0.63</td>\n",
              "      <td>0.20</td>\n",
              "      <td>0.09</td>\n",
              "      <td>0.46</td>\n",
              "    </tr>\n",
              "    <tr>\n",
              "      <th>model</th>\n",
              "      <td>0.57</td>\n",
              "      <td>0.89</td>\n",
              "      <td>0.61</td>\n",
              "      <td>0.62</td>\n",
              "      <td>0.80</td>\n",
              "      <td>1.00</td>\n",
              "      <td>0.44</td>\n",
              "      <td>0.20</td>\n",
              "      <td>0.55</td>\n",
              "      <td>1.00</td>\n",
              "      <td>0.33</td>\n",
              "      <td>0.21</td>\n",
              "      <td>0.73</td>\n",
              "    </tr>\n",
              "    <tr>\n",
              "      <th>kilometer</th>\n",
              "      <td>0.32</td>\n",
              "      <td>0.24</td>\n",
              "      <td>0.43</td>\n",
              "      <td>0.07</td>\n",
              "      <td>0.13</td>\n",
              "      <td>0.44</td>\n",
              "      <td>1.00</td>\n",
              "      <td>0.06</td>\n",
              "      <td>0.15</td>\n",
              "      <td>0.27</td>\n",
              "      <td>0.23</td>\n",
              "      <td>0.04</td>\n",
              "      <td>0.29</td>\n",
              "    </tr>\n",
              "    <tr>\n",
              "      <th>registrationmonth</th>\n",
              "      <td>0.17</td>\n",
              "      <td>0.20</td>\n",
              "      <td>0.19</td>\n",
              "      <td>0.27</td>\n",
              "      <td>0.14</td>\n",
              "      <td>0.20</td>\n",
              "      <td>0.06</td>\n",
              "      <td>1.00</td>\n",
              "      <td>0.20</td>\n",
              "      <td>0.11</td>\n",
              "      <td>0.30</td>\n",
              "      <td>0.05</td>\n",
              "      <td>0.14</td>\n",
              "    </tr>\n",
              "    <tr>\n",
              "      <th>fueltype</th>\n",
              "      <td>0.28</td>\n",
              "      <td>0.43</td>\n",
              "      <td>0.34</td>\n",
              "      <td>0.34</td>\n",
              "      <td>0.27</td>\n",
              "      <td>0.55</td>\n",
              "      <td>0.15</td>\n",
              "      <td>0.20</td>\n",
              "      <td>1.00</td>\n",
              "      <td>0.33</td>\n",
              "      <td>0.27</td>\n",
              "      <td>0.06</td>\n",
              "      <td>0.31</td>\n",
              "    </tr>\n",
              "    <tr>\n",
              "      <th>brand</th>\n",
              "      <td>0.36</td>\n",
              "      <td>0.58</td>\n",
              "      <td>0.36</td>\n",
              "      <td>0.51</td>\n",
              "      <td>0.63</td>\n",
              "      <td>1.00</td>\n",
              "      <td>0.27</td>\n",
              "      <td>0.11</td>\n",
              "      <td>0.33</td>\n",
              "      <td>1.00</td>\n",
              "      <td>0.16</td>\n",
              "      <td>0.18</td>\n",
              "      <td>0.42</td>\n",
              "    </tr>\n",
              "    <tr>\n",
              "      <th>repaired</th>\n",
              "      <td>0.36</td>\n",
              "      <td>0.45</td>\n",
              "      <td>0.31</td>\n",
              "      <td>0.48</td>\n",
              "      <td>0.20</td>\n",
              "      <td>0.33</td>\n",
              "      <td>0.23</td>\n",
              "      <td>0.30</td>\n",
              "      <td>0.27</td>\n",
              "      <td>0.16</td>\n",
              "      <td>1.00</td>\n",
              "      <td>0.06</td>\n",
              "      <td>0.27</td>\n",
              "    </tr>\n",
              "    <tr>\n",
              "      <th>postalcode</th>\n",
              "      <td>0.09</td>\n",
              "      <td>0.07</td>\n",
              "      <td>0.09</td>\n",
              "      <td>0.09</td>\n",
              "      <td>0.09</td>\n",
              "      <td>0.21</td>\n",
              "      <td>0.04</td>\n",
              "      <td>0.05</td>\n",
              "      <td>0.06</td>\n",
              "      <td>0.18</td>\n",
              "      <td>0.06</td>\n",
              "      <td>1.00</td>\n",
              "      <td>0.09</td>\n",
              "    </tr>\n",
              "    <tr>\n",
              "      <th>avg_price</th>\n",
              "      <td>0.85</td>\n",
              "      <td>0.29</td>\n",
              "      <td>0.78</td>\n",
              "      <td>0.25</td>\n",
              "      <td>0.46</td>\n",
              "      <td>0.73</td>\n",
              "      <td>0.29</td>\n",
              "      <td>0.14</td>\n",
              "      <td>0.31</td>\n",
              "      <td>0.42</td>\n",
              "      <td>0.27</td>\n",
              "      <td>0.09</td>\n",
              "      <td>1.00</td>\n",
              "    </tr>\n",
              "  </tbody>\n",
              "</table>\n",
              "</div>\n",
              "      <button class=\"colab-df-convert\" onclick=\"convertToInteractive('df-363972d7-4fed-4cd5-af44-4b142624c01e')\"\n",
              "              title=\"Convert this dataframe to an interactive table.\"\n",
              "              style=\"display:none;\">\n",
              "        \n",
              "  <svg xmlns=\"http://www.w3.org/2000/svg\" height=\"24px\"viewBox=\"0 0 24 24\"\n",
              "       width=\"24px\">\n",
              "    <path d=\"M0 0h24v24H0V0z\" fill=\"none\"/>\n",
              "    <path d=\"M18.56 5.44l.94 2.06.94-2.06 2.06-.94-2.06-.94-.94-2.06-.94 2.06-2.06.94zm-11 1L8.5 8.5l.94-2.06 2.06-.94-2.06-.94L8.5 2.5l-.94 2.06-2.06.94zm10 10l.94 2.06.94-2.06 2.06-.94-2.06-.94-.94-2.06-.94 2.06-2.06.94z\"/><path d=\"M17.41 7.96l-1.37-1.37c-.4-.4-.92-.59-1.43-.59-.52 0-1.04.2-1.43.59L10.3 9.45l-7.72 7.72c-.78.78-.78 2.05 0 2.83L4 21.41c.39.39.9.59 1.41.59.51 0 1.02-.2 1.41-.59l7.78-7.78 2.81-2.81c.8-.78.8-2.07 0-2.86zM5.41 20L4 18.59l7.72-7.72 1.47 1.35L5.41 20z\"/>\n",
              "  </svg>\n",
              "      </button>\n",
              "      \n",
              "  <style>\n",
              "    .colab-df-container {\n",
              "      display:flex;\n",
              "      flex-wrap:wrap;\n",
              "      gap: 12px;\n",
              "    }\n",
              "\n",
              "    .colab-df-convert {\n",
              "      background-color: #E8F0FE;\n",
              "      border: none;\n",
              "      border-radius: 50%;\n",
              "      cursor: pointer;\n",
              "      display: none;\n",
              "      fill: #1967D2;\n",
              "      height: 32px;\n",
              "      padding: 0 0 0 0;\n",
              "      width: 32px;\n",
              "    }\n",
              "\n",
              "    .colab-df-convert:hover {\n",
              "      background-color: #E2EBFA;\n",
              "      box-shadow: 0px 1px 2px rgba(60, 64, 67, 0.3), 0px 1px 3px 1px rgba(60, 64, 67, 0.15);\n",
              "      fill: #174EA6;\n",
              "    }\n",
              "\n",
              "    [theme=dark] .colab-df-convert {\n",
              "      background-color: #3B4455;\n",
              "      fill: #D2E3FC;\n",
              "    }\n",
              "\n",
              "    [theme=dark] .colab-df-convert:hover {\n",
              "      background-color: #434B5C;\n",
              "      box-shadow: 0px 1px 3px 1px rgba(0, 0, 0, 0.15);\n",
              "      filter: drop-shadow(0px 1px 2px rgba(0, 0, 0, 0.3));\n",
              "      fill: #FFFFFF;\n",
              "    }\n",
              "  </style>\n",
              "\n",
              "      <script>\n",
              "        const buttonEl =\n",
              "          document.querySelector('#df-363972d7-4fed-4cd5-af44-4b142624c01e button.colab-df-convert');\n",
              "        buttonEl.style.display =\n",
              "          google.colab.kernel.accessAllowed ? 'block' : 'none';\n",
              "\n",
              "        async function convertToInteractive(key) {\n",
              "          const element = document.querySelector('#df-363972d7-4fed-4cd5-af44-4b142624c01e');\n",
              "          const dataTable =\n",
              "            await google.colab.kernel.invokeFunction('convertToInteractive',\n",
              "                                                     [key], {});\n",
              "          if (!dataTable) return;\n",
              "\n",
              "          const docLinkHtml = 'Like what you see? Visit the ' +\n",
              "            '<a target=\"_blank\" href=https://colab.research.google.com/notebooks/data_table.ipynb>data table notebook</a>'\n",
              "            + ' to learn more about interactive tables.';\n",
              "          element.innerHTML = '';\n",
              "          dataTable['output_type'] = 'display_data';\n",
              "          await google.colab.output.renderOutput(dataTable, element);\n",
              "          const docLink = document.createElement('div');\n",
              "          docLink.innerHTML = docLinkHtml;\n",
              "          element.appendChild(docLink);\n",
              "        }\n",
              "      </script>\n",
              "    </div>\n",
              "  </div>\n",
              "  "
            ],
            "text/plain": [
              "                   price  vehicletype  registrationyear  gearbox  power  \\\n",
              "price               1.00         0.27              0.70     0.29   0.51   \n",
              "vehicletype         0.27         1.00              0.55     0.51   0.48   \n",
              "registrationyear    0.70         0.55              1.00     0.19   0.34   \n",
              "gearbox             0.29         0.51              0.19     1.00   0.48   \n",
              "power               0.51         0.48              0.34     0.48   1.00   \n",
              "model               0.57         0.89              0.61     0.62   0.80   \n",
              "kilometer           0.32         0.24              0.43     0.07   0.13   \n",
              "registrationmonth   0.17         0.20              0.19     0.27   0.14   \n",
              "fueltype            0.28         0.43              0.34     0.34   0.27   \n",
              "brand               0.36         0.58              0.36     0.51   0.63   \n",
              "repaired            0.36         0.45              0.31     0.48   0.20   \n",
              "postalcode          0.09         0.07              0.09     0.09   0.09   \n",
              "avg_price           0.85         0.29              0.78     0.25   0.46   \n",
              "\n",
              "                   model  kilometer  registrationmonth  fueltype  brand  \\\n",
              "price               0.57       0.32               0.17      0.28   0.36   \n",
              "vehicletype         0.89       0.24               0.20      0.43   0.58   \n",
              "registrationyear    0.61       0.43               0.19      0.34   0.36   \n",
              "gearbox             0.62       0.07               0.27      0.34   0.51   \n",
              "power               0.80       0.13               0.14      0.27   0.63   \n",
              "model               1.00       0.44               0.20      0.55   1.00   \n",
              "kilometer           0.44       1.00               0.06      0.15   0.27   \n",
              "registrationmonth   0.20       0.06               1.00      0.20   0.11   \n",
              "fueltype            0.55       0.15               0.20      1.00   0.33   \n",
              "brand               1.00       0.27               0.11      0.33   1.00   \n",
              "repaired            0.33       0.23               0.30      0.27   0.16   \n",
              "postalcode          0.21       0.04               0.05      0.06   0.18   \n",
              "avg_price           0.73       0.29               0.14      0.31   0.42   \n",
              "\n",
              "                   repaired  postalcode  avg_price  \n",
              "price                  0.36        0.09       0.85  \n",
              "vehicletype            0.45        0.07       0.29  \n",
              "registrationyear       0.31        0.09       0.78  \n",
              "gearbox                0.48        0.09       0.25  \n",
              "power                  0.20        0.09       0.46  \n",
              "model                  0.33        0.21       0.73  \n",
              "kilometer              0.23        0.04       0.29  \n",
              "registrationmonth      0.30        0.05       0.14  \n",
              "fueltype               0.27        0.06       0.31  \n",
              "brand                  0.16        0.18       0.42  \n",
              "repaired               1.00        0.06       0.27  \n",
              "postalcode             0.06        1.00       0.09  \n",
              "avg_price              0.27        0.09       1.00  "
            ]
          },
          "execution_count": 32,
          "metadata": {},
          "output_type": "execute_result"
        }
      ],
      "source": [
        "phik_overview = df.phik_matrix()\n",
        "phik_overview.round(2)"
      ]
    },
    {
      "cell_type": "code",
      "execution_count": 33,
      "metadata": {
        "colab": {
          "base_uri": "https://localhost:8080/"
        },
        "id": "-hzgvFegmoov",
        "outputId": "10aec006-0b6c-4674-b932-a0ed75fd7eca",
        "trusted": false
      },
      "outputs": [
        {
          "data": {
            "text/plain": [
              "price                1.000000\n",
              "avg_price            0.848960\n",
              "registrationyear     0.698094\n",
              "model                0.574773\n",
              "power                0.509635\n",
              "repaired             0.357874\n",
              "brand                0.356514\n",
              "kilometer            0.319545\n",
              "gearbox              0.292771\n",
              "fueltype             0.279460\n",
              "vehicletype          0.274921\n",
              "registrationmonth    0.170379\n",
              "postalcode           0.092852\n",
              "Name: price, dtype: float64"
            ]
          },
          "execution_count": 33,
          "metadata": {},
          "output_type": "execute_result"
        }
      ],
      "source": [
        "phik_overview['price'].sort_values(ascending = False)"
      ]
    },
    {
      "cell_type": "code",
      "execution_count": 34,
      "metadata": {
        "colab": {
          "base_uri": "https://localhost:8080/",
          "height": 606
        },
        "id": "-RlmKr6cmoov",
        "outputId": "37b2d0f8-2404-4638-f8d3-bc7a147f48ce",
        "trusted": false
      },
      "outputs": [
        {
          "data": {
            "image/png": "[encoded data removed]",
            "text/plain": [
              "<Figure size 720x576 with 2 Axes>"
            ]
          },
          "metadata": {},
          "output_type": "display_data"
        }
      ],
      "source": [
        "plot_correlation_matrix(phik_overview.values, \n",
        "                        x_labels=phik_overview.columns, \n",
        "                        y_labels=phik_overview.index, \n",
        "                        vmin=0, vmax=1, color_map=\"Greens\", \n",
        "                        title=r\"correlation $\\phi_K$\", \n",
        "                        fontsize_factor=1.5, \n",
        "                        figsize=(10, 8))\n",
        "plt.tight_layout()"
      ]
    },
    {
      "cell_type": "markdown",
      "metadata": {
        "id": "NsaGu_7hmoov"
      },
      "source": [
        "больше всего цена коррелирует с registrationyear, model, power и repaired. postcode слабо влияет на цену, поэтому от этой колонки лучше избавиться"
      ]
    },
    {
      "cell_type": "code",
      "execution_count": 35,
      "metadata": {
        "id": "rMjHBILBmoov",
        "trusted": false
      },
      "outputs": [],
      "source": [
        "df.drop(['postalcode'], axis=1, inplace=True)\n",
        "df.drop(['avg_price'], axis = 1, inplace = True) "
      ]
    },
    {
      "cell_type": "code",
      "execution_count": 36,
      "metadata": {
        "colab": {
          "base_uri": "https://localhost:8080/",
          "height": 433
        },
        "id": "FOB2Zppjmoov",
        "outputId": "44d5a130-39b5-4c76-e6f2-60ddd6be4687",
        "trusted": false
      },
      "outputs": [
        {
          "data": {
            "text/html": [
              "\n",
              "  <div id=\"df-6c532780-86bb-414e-8c44-89d27ea611cf\">\n",
              "    <div class=\"colab-df-container\">\n",
              "      <div>\n",
              "<style scoped>\n",
              "    .dataframe tbody tr th:only-of-type {\n",
              "        vertical-align: middle;\n",
              "    }\n",
              "\n",
              "    .dataframe tbody tr th {\n",
              "        vertical-align: top;\n",
              "    }\n",
              "\n",
              "    .dataframe thead th {\n",
              "        text-align: right;\n",
              "    }\n",
              "</style>\n",
              "<table border=\"1\" class=\"dataframe\">\n",
              "  <thead>\n",
              "    <tr style=\"text-align: right;\">\n",
              "      <th></th>\n",
              "      <th>price</th>\n",
              "      <th>vehicletype</th>\n",
              "      <th>registrationyear</th>\n",
              "      <th>gearbox</th>\n",
              "      <th>power</th>\n",
              "      <th>model</th>\n",
              "      <th>kilometer</th>\n",
              "      <th>registrationmonth</th>\n",
              "      <th>fueltype</th>\n",
              "      <th>brand</th>\n",
              "      <th>repaired</th>\n",
              "    </tr>\n",
              "  </thead>\n",
              "  <tbody>\n",
              "    <tr>\n",
              "      <th>0</th>\n",
              "      <td>480.000000</td>\n",
              "      <td>unknown</td>\n",
              "      <td>1993</td>\n",
              "      <td>manual</td>\n",
              "      <td>104.777186</td>\n",
              "      <td>golf</td>\n",
              "      <td>150000</td>\n",
              "      <td>0</td>\n",
              "      <td>petrol</td>\n",
              "      <td>volkswagen</td>\n",
              "      <td>unknown</td>\n",
              "    </tr>\n",
              "    <tr>\n",
              "      <th>1</th>\n",
              "      <td>18300.000000</td>\n",
              "      <td>coupe</td>\n",
              "      <td>2011</td>\n",
              "      <td>manual</td>\n",
              "      <td>190.000000</td>\n",
              "      <td>unknown</td>\n",
              "      <td>125000</td>\n",
              "      <td>5</td>\n",
              "      <td>gasoline</td>\n",
              "      <td>audi</td>\n",
              "      <td>yes</td>\n",
              "    </tr>\n",
              "    <tr>\n",
              "      <th>2</th>\n",
              "      <td>9800.000000</td>\n",
              "      <td>suv</td>\n",
              "      <td>2004</td>\n",
              "      <td>auto</td>\n",
              "      <td>163.000000</td>\n",
              "      <td>grand</td>\n",
              "      <td>125000</td>\n",
              "      <td>8</td>\n",
              "      <td>gasoline</td>\n",
              "      <td>jeep</td>\n",
              "      <td>unknown</td>\n",
              "    </tr>\n",
              "    <tr>\n",
              "      <th>3</th>\n",
              "      <td>1500.000000</td>\n",
              "      <td>small</td>\n",
              "      <td>2001</td>\n",
              "      <td>manual</td>\n",
              "      <td>75.000000</td>\n",
              "      <td>golf</td>\n",
              "      <td>150000</td>\n",
              "      <td>6</td>\n",
              "      <td>petrol</td>\n",
              "      <td>volkswagen</td>\n",
              "      <td>no</td>\n",
              "    </tr>\n",
              "    <tr>\n",
              "      <th>4</th>\n",
              "      <td>3600.000000</td>\n",
              "      <td>small</td>\n",
              "      <td>2008</td>\n",
              "      <td>manual</td>\n",
              "      <td>69.000000</td>\n",
              "      <td>fabia</td>\n",
              "      <td>90000</td>\n",
              "      <td>7</td>\n",
              "      <td>gasoline</td>\n",
              "      <td>skoda</td>\n",
              "      <td>no</td>\n",
              "    </tr>\n",
              "    <tr>\n",
              "      <th>...</th>\n",
              "      <td>...</td>\n",
              "      <td>...</td>\n",
              "      <td>...</td>\n",
              "      <td>...</td>\n",
              "      <td>...</td>\n",
              "      <td>...</td>\n",
              "      <td>...</td>\n",
              "      <td>...</td>\n",
              "      <td>...</td>\n",
              "      <td>...</td>\n",
              "      <td>...</td>\n",
              "    </tr>\n",
              "    <tr>\n",
              "      <th>354364</th>\n",
              "      <td>2473.589474</td>\n",
              "      <td>unknown</td>\n",
              "      <td>2005</td>\n",
              "      <td>manual</td>\n",
              "      <td>104.777186</td>\n",
              "      <td>colt</td>\n",
              "      <td>150000</td>\n",
              "      <td>7</td>\n",
              "      <td>petrol</td>\n",
              "      <td>mitsubishi</td>\n",
              "      <td>yes</td>\n",
              "    </tr>\n",
              "    <tr>\n",
              "      <th>354365</th>\n",
              "      <td>2200.000000</td>\n",
              "      <td>unknown</td>\n",
              "      <td>2005</td>\n",
              "      <td>unknown</td>\n",
              "      <td>104.777186</td>\n",
              "      <td>unknown</td>\n",
              "      <td>20000</td>\n",
              "      <td>1</td>\n",
              "      <td>unknown</td>\n",
              "      <td>sonstige_autos</td>\n",
              "      <td>unknown</td>\n",
              "    </tr>\n",
              "    <tr>\n",
              "      <th>354366</th>\n",
              "      <td>1199.000000</td>\n",
              "      <td>convertible</td>\n",
              "      <td>2000</td>\n",
              "      <td>auto</td>\n",
              "      <td>101.000000</td>\n",
              "      <td>fortwo</td>\n",
              "      <td>125000</td>\n",
              "      <td>3</td>\n",
              "      <td>petrol</td>\n",
              "      <td>smart</td>\n",
              "      <td>no</td>\n",
              "    </tr>\n",
              "    <tr>\n",
              "      <th>354367</th>\n",
              "      <td>9200.000000</td>\n",
              "      <td>bus</td>\n",
              "      <td>1996</td>\n",
              "      <td>manual</td>\n",
              "      <td>102.000000</td>\n",
              "      <td>transporter</td>\n",
              "      <td>150000</td>\n",
              "      <td>3</td>\n",
              "      <td>gasoline</td>\n",
              "      <td>volkswagen</td>\n",
              "      <td>no</td>\n",
              "    </tr>\n",
              "    <tr>\n",
              "      <th>354368</th>\n",
              "      <td>3400.000000</td>\n",
              "      <td>wagon</td>\n",
              "      <td>2002</td>\n",
              "      <td>manual</td>\n",
              "      <td>100.000000</td>\n",
              "      <td>golf</td>\n",
              "      <td>150000</td>\n",
              "      <td>6</td>\n",
              "      <td>gasoline</td>\n",
              "      <td>volkswagen</td>\n",
              "      <td>unknown</td>\n",
              "    </tr>\n",
              "  </tbody>\n",
              "</table>\n",
              "<p>347308 rows × 11 columns</p>\n",
              "</div>\n",
              "      <button class=\"colab-df-convert\" onclick=\"convertToInteractive('df-6c532780-86bb-414e-8c44-89d27ea611cf')\"\n",
              "              title=\"Convert this dataframe to an interactive table.\"\n",
              "              style=\"display:none;\">\n",
              "        \n",
              "  <svg xmlns=\"http://www.w3.org/2000/svg\" height=\"24px\"viewBox=\"0 0 24 24\"\n",
              "       width=\"24px\">\n",
              "    <path d=\"M0 0h24v24H0V0z\" fill=\"none\"/>\n",
              "    <path d=\"M18.56 5.44l.94 2.06.94-2.06 2.06-.94-2.06-.94-.94-2.06-.94 2.06-2.06.94zm-11 1L8.5 8.5l.94-2.06 2.06-.94-2.06-.94L8.5 2.5l-.94 2.06-2.06.94zm10 10l.94 2.06.94-2.06 2.06-.94-2.06-.94-.94-2.06-.94 2.06-2.06.94z\"/><path d=\"M17.41 7.96l-1.37-1.37c-.4-.4-.92-.59-1.43-.59-.52 0-1.04.2-1.43.59L10.3 9.45l-7.72 7.72c-.78.78-.78 2.05 0 2.83L4 21.41c.39.39.9.59 1.41.59.51 0 1.02-.2 1.41-.59l7.78-7.78 2.81-2.81c.8-.78.8-2.07 0-2.86zM5.41 20L4 18.59l7.72-7.72 1.47 1.35L5.41 20z\"/>\n",
              "  </svg>\n",
              "      </button>\n",
              "      \n",
              "  <style>\n",
              "    .colab-df-container {\n",
              "      display:flex;\n",
              "      flex-wrap:wrap;\n",
              "      gap: 12px;\n",
              "    }\n",
              "\n",
              "    .colab-df-convert {\n",
              "      background-color: #E8F0FE;\n",
              "      border: none;\n",
              "      border-radius: 50%;\n",
              "      cursor: pointer;\n",
              "      display: none;\n",
              "      fill: #1967D2;\n",
              "      height: 32px;\n",
              "      padding: 0 0 0 0;\n",
              "      width: 32px;\n",
              "    }\n",
              "\n",
              "    .colab-df-convert:hover {\n",
              "      background-color: #E2EBFA;\n",
              "      box-shadow: 0px 1px 2px rgba(60, 64, 67, 0.3), 0px 1px 3px 1px rgba(60, 64, 67, 0.15);\n",
              "      fill: #174EA6;\n",
              "    }\n",
              "\n",
              "    [theme=dark] .colab-df-convert {\n",
              "      background-color: #3B4455;\n",
              "      fill: #D2E3FC;\n",
              "    }\n",
              "\n",
              "    [theme=dark] .colab-df-convert:hover {\n",
              "      background-color: #434B5C;\n",
              "      box-shadow: 0px 1px 3px 1px rgba(0, 0, 0, 0.15);\n",
              "      filter: drop-shadow(0px 1px 2px rgba(0, 0, 0, 0.3));\n",
              "      fill: #FFFFFF;\n",
              "    }\n",
              "  </style>\n",
              "\n",
              "      <script>\n",
              "        const buttonEl =\n",
              "          document.querySelector('#df-6c532780-86bb-414e-8c44-89d27ea611cf button.colab-df-convert');\n",
              "        buttonEl.style.display =\n",
              "          google.colab.kernel.accessAllowed ? 'block' : 'none';\n",
              "\n",
              "        async function convertToInteractive(key) {\n",
              "          const element = document.querySelector('#df-6c532780-86bb-414e-8c44-89d27ea611cf');\n",
              "          const dataTable =\n",
              "            await google.colab.kernel.invokeFunction('convertToInteractive',\n",
              "                                                     [key], {});\n",
              "          if (!dataTable) return;\n",
              "\n",
              "          const docLinkHtml = 'Like what you see? Visit the ' +\n",
              "            '<a target=\"_blank\" href=https://colab.research.google.com/notebooks/data_table.ipynb>data table notebook</a>'\n",
              "            + ' to learn more about interactive tables.';\n",
              "          element.innerHTML = '';\n",
              "          dataTable['output_type'] = 'display_data';\n",
              "          await google.colab.output.renderOutput(dataTable, element);\n",
              "          const docLink = document.createElement('div');\n",
              "          docLink.innerHTML = docLinkHtml;\n",
              "          element.appendChild(docLink);\n",
              "        }\n",
              "      </script>\n",
              "    </div>\n",
              "  </div>\n",
              "  "
            ],
            "text/plain": [
              "               price  vehicletype  registrationyear  gearbox       power  \\\n",
              "0         480.000000      unknown              1993   manual  104.777186   \n",
              "1       18300.000000        coupe              2011   manual  190.000000   \n",
              "2        9800.000000          suv              2004     auto  163.000000   \n",
              "3        1500.000000        small              2001   manual   75.000000   \n",
              "4        3600.000000        small              2008   manual   69.000000   \n",
              "...              ...          ...               ...      ...         ...   \n",
              "354364   2473.589474      unknown              2005   manual  104.777186   \n",
              "354365   2200.000000      unknown              2005  unknown  104.777186   \n",
              "354366   1199.000000  convertible              2000     auto  101.000000   \n",
              "354367   9200.000000          bus              1996   manual  102.000000   \n",
              "354368   3400.000000        wagon              2002   manual  100.000000   \n",
              "\n",
              "              model  kilometer  registrationmonth  fueltype           brand  \\\n",
              "0              golf     150000                  0    petrol      volkswagen   \n",
              "1           unknown     125000                  5  gasoline            audi   \n",
              "2             grand     125000                  8  gasoline            jeep   \n",
              "3              golf     150000                  6    petrol      volkswagen   \n",
              "4             fabia      90000                  7  gasoline           skoda   \n",
              "...             ...        ...                ...       ...             ...   \n",
              "354364         colt     150000                  7    petrol      mitsubishi   \n",
              "354365      unknown      20000                  1   unknown  sonstige_autos   \n",
              "354366       fortwo     125000                  3    petrol           smart   \n",
              "354367  transporter     150000                  3  gasoline      volkswagen   \n",
              "354368         golf     150000                  6  gasoline      volkswagen   \n",
              "\n",
              "       repaired  \n",
              "0       unknown  \n",
              "1           yes  \n",
              "2       unknown  \n",
              "3            no  \n",
              "4            no  \n",
              "...         ...  \n",
              "354364      yes  \n",
              "354365  unknown  \n",
              "354366       no  \n",
              "354367       no  \n",
              "354368  unknown  \n",
              "\n",
              "[347308 rows x 11 columns]"
            ]
          },
          "execution_count": 36,
          "metadata": {},
          "output_type": "execute_result"
        }
      ],
      "source": [
        "df"
      ]
    },
    {
      "cell_type": "code",
      "execution_count": 37,
      "metadata": {
        "colab": {
          "base_uri": "https://localhost:8080/"
        },
        "id": "rQHCE5k_moov",
        "outputId": "2e31a7d0-c81d-49a7-fa18-25cba32345a5",
        "trusted": false
      },
      "outputs": [
        {
          "name": "stdout",
          "output_type": "stream",
          "text": [
            "<class 'pandas.core.frame.DataFrame'>\n",
            "Int64Index: 347308 entries, 0 to 354368\n",
            "Data columns (total 11 columns):\n",
            " #   Column             Non-Null Count   Dtype  \n",
            "---  ------             --------------   -----  \n",
            " 0   price              347308 non-null  float64\n",
            " 1   vehicletype        347308 non-null  object \n",
            " 2   registrationyear   347308 non-null  int64  \n",
            " 3   gearbox            347308 non-null  object \n",
            " 4   power              347308 non-null  float64\n",
            " 5   model              347308 non-null  object \n",
            " 6   kilometer          347308 non-null  int64  \n",
            " 7   registrationmonth  347308 non-null  int64  \n",
            " 8   fueltype           347308 non-null  object \n",
            " 9   brand              347308 non-null  object \n",
            " 10  repaired           347308 non-null  object \n",
            "dtypes: float64(2), int64(3), object(6)\n",
            "memory usage: 31.8+ MB\n"
          ]
        }
      ],
      "source": [
        "df.info()"
      ]
    },
    {
      "cell_type": "markdown",
      "metadata": {
        "id": "qii2HDsNmoov"
      },
      "source": [
        "итоговые данные получились размера 347354 на 11, много категориальных признаков, более или менее вычистили все неиформативные признаки и аномалии в данных. "
      ]
    },
    {
      "cell_type": "markdown",
      "metadata": {
        "id": "Fl8D---wmoow"
      },
      "source": [
        "# modeling"
      ]
    },
    {
      "cell_type": "markdown",
      "metadata": {
        "id": "1p51CuRmmoow"
      },
      "source": [
        "какие модели планируется использовать: \n",
        "\n",
        "1. ridge регрессия \n",
        "2. carboost \n",
        "3. LightGBM"
      ]
    },
    {
      "cell_type": "code",
      "execution_count": 38,
      "metadata": {
        "colab": {
          "base_uri": "https://localhost:8080/",
          "height": 221
        },
        "id": "merKQrRjmoow",
        "outputId": "d5cb03c7-39df-48b2-af3a-4226d6b12cb2",
        "trusted": false
      },
      "outputs": [
        {
          "data": {
            "text/html": [
              "\n",
              "  <div id=\"df-23902b6a-db4d-485b-880c-c88360bc4229\">\n",
              "    <div class=\"colab-df-container\">\n",
              "      <div>\n",
              "<style scoped>\n",
              "    .dataframe tbody tr th:only-of-type {\n",
              "        vertical-align: middle;\n",
              "    }\n",
              "\n",
              "    .dataframe tbody tr th {\n",
              "        vertical-align: top;\n",
              "    }\n",
              "\n",
              "    .dataframe thead th {\n",
              "        text-align: right;\n",
              "    }\n",
              "</style>\n",
              "<table border=\"1\" class=\"dataframe\">\n",
              "  <thead>\n",
              "    <tr style=\"text-align: right;\">\n",
              "      <th></th>\n",
              "      <th>price</th>\n",
              "      <th>vehicletype</th>\n",
              "      <th>registrationyear</th>\n",
              "      <th>gearbox</th>\n",
              "      <th>power</th>\n",
              "      <th>model</th>\n",
              "      <th>kilometer</th>\n",
              "      <th>registrationmonth</th>\n",
              "      <th>fueltype</th>\n",
              "      <th>brand</th>\n",
              "      <th>repaired</th>\n",
              "    </tr>\n",
              "  </thead>\n",
              "  <tbody>\n",
              "    <tr>\n",
              "      <th>0</th>\n",
              "      <td>480.0</td>\n",
              "      <td>unknown</td>\n",
              "      <td>1993</td>\n",
              "      <td>manual</td>\n",
              "      <td>104.777186</td>\n",
              "      <td>golf</td>\n",
              "      <td>150000</td>\n",
              "      <td>0</td>\n",
              "      <td>petrol</td>\n",
              "      <td>volkswagen</td>\n",
              "      <td>unknown</td>\n",
              "    </tr>\n",
              "    <tr>\n",
              "      <th>1</th>\n",
              "      <td>18300.0</td>\n",
              "      <td>coupe</td>\n",
              "      <td>2011</td>\n",
              "      <td>manual</td>\n",
              "      <td>190.000000</td>\n",
              "      <td>unknown</td>\n",
              "      <td>125000</td>\n",
              "      <td>5</td>\n",
              "      <td>gasoline</td>\n",
              "      <td>audi</td>\n",
              "      <td>yes</td>\n",
              "    </tr>\n",
              "    <tr>\n",
              "      <th>2</th>\n",
              "      <td>9800.0</td>\n",
              "      <td>suv</td>\n",
              "      <td>2004</td>\n",
              "      <td>auto</td>\n",
              "      <td>163.000000</td>\n",
              "      <td>grand</td>\n",
              "      <td>125000</td>\n",
              "      <td>8</td>\n",
              "      <td>gasoline</td>\n",
              "      <td>jeep</td>\n",
              "      <td>unknown</td>\n",
              "    </tr>\n",
              "    <tr>\n",
              "      <th>3</th>\n",
              "      <td>1500.0</td>\n",
              "      <td>small</td>\n",
              "      <td>2001</td>\n",
              "      <td>manual</td>\n",
              "      <td>75.000000</td>\n",
              "      <td>golf</td>\n",
              "      <td>150000</td>\n",
              "      <td>6</td>\n",
              "      <td>petrol</td>\n",
              "      <td>volkswagen</td>\n",
              "      <td>no</td>\n",
              "    </tr>\n",
              "    <tr>\n",
              "      <th>4</th>\n",
              "      <td>3600.0</td>\n",
              "      <td>small</td>\n",
              "      <td>2008</td>\n",
              "      <td>manual</td>\n",
              "      <td>69.000000</td>\n",
              "      <td>fabia</td>\n",
              "      <td>90000</td>\n",
              "      <td>7</td>\n",
              "      <td>gasoline</td>\n",
              "      <td>skoda</td>\n",
              "      <td>no</td>\n",
              "    </tr>\n",
              "  </tbody>\n",
              "</table>\n",
              "</div>\n",
              "      <button class=\"colab-df-convert\" onclick=\"convertToInteractive('df-23902b6a-db4d-485b-880c-c88360bc4229')\"\n",
              "              title=\"Convert this dataframe to an interactive table.\"\n",
              "              style=\"display:none;\">\n",
              "        \n",
              "  <svg xmlns=\"http://www.w3.org/2000/svg\" height=\"24px\"viewBox=\"0 0 24 24\"\n",
              "       width=\"24px\">\n",
              "    <path d=\"M0 0h24v24H0V0z\" fill=\"none\"/>\n",
              "    <path d=\"M18.56 5.44l.94 2.06.94-2.06 2.06-.94-2.06-.94-.94-2.06-.94 2.06-2.06.94zm-11 1L8.5 8.5l.94-2.06 2.06-.94-2.06-.94L8.5 2.5l-.94 2.06-2.06.94zm10 10l.94 2.06.94-2.06 2.06-.94-2.06-.94-.94-2.06-.94 2.06-2.06.94z\"/><path d=\"M17.41 7.96l-1.37-1.37c-.4-.4-.92-.59-1.43-.59-.52 0-1.04.2-1.43.59L10.3 9.45l-7.72 7.72c-.78.78-.78 2.05 0 2.83L4 21.41c.39.39.9.59 1.41.59.51 0 1.02-.2 1.41-.59l7.78-7.78 2.81-2.81c.8-.78.8-2.07 0-2.86zM5.41 20L4 18.59l7.72-7.72 1.47 1.35L5.41 20z\"/>\n",
              "  </svg>\n",
              "      </button>\n",
              "      \n",
              "  <style>\n",
              "    .colab-df-container {\n",
              "      display:flex;\n",
              "      flex-wrap:wrap;\n",
              "      gap: 12px;\n",
              "    }\n",
              "\n",
              "    .colab-df-convert {\n",
              "      background-color: #E8F0FE;\n",
              "      border: none;\n",
              "      border-radius: 50%;\n",
              "      cursor: pointer;\n",
              "      display: none;\n",
              "      fill: #1967D2;\n",
              "      height: 32px;\n",
              "      padding: 0 0 0 0;\n",
              "      width: 32px;\n",
              "    }\n",
              "\n",
              "    .colab-df-convert:hover {\n",
              "      background-color: #E2EBFA;\n",
              "      box-shadow: 0px 1px 2px rgba(60, 64, 67, 0.3), 0px 1px 3px 1px rgba(60, 64, 67, 0.15);\n",
              "      fill: #174EA6;\n",
              "    }\n",
              "\n",
              "    [theme=dark] .colab-df-convert {\n",
              "      background-color: #3B4455;\n",
              "      fill: #D2E3FC;\n",
              "    }\n",
              "\n",
              "    [theme=dark] .colab-df-convert:hover {\n",
              "      background-color: #434B5C;\n",
              "      box-shadow: 0px 1px 3px 1px rgba(0, 0, 0, 0.15);\n",
              "      filter: drop-shadow(0px 1px 2px rgba(0, 0, 0, 0.3));\n",
              "      fill: #FFFFFF;\n",
              "    }\n",
              "  </style>\n",
              "\n",
              "      <script>\n",
              "        const buttonEl =\n",
              "          document.querySelector('#df-23902b6a-db4d-485b-880c-c88360bc4229 button.colab-df-convert');\n",
              "        buttonEl.style.display =\n",
              "          google.colab.kernel.accessAllowed ? 'block' : 'none';\n",
              "\n",
              "        async function convertToInteractive(key) {\n",
              "          const element = document.querySelector('#df-23902b6a-db4d-485b-880c-c88360bc4229');\n",
              "          const dataTable =\n",
              "            await google.colab.kernel.invokeFunction('convertToInteractive',\n",
              "                                                     [key], {});\n",
              "          if (!dataTable) return;\n",
              "\n",
              "          const docLinkHtml = 'Like what you see? Visit the ' +\n",
              "            '<a target=\"_blank\" href=https://colab.research.google.com/notebooks/data_table.ipynb>data table notebook</a>'\n",
              "            + ' to learn more about interactive tables.';\n",
              "          element.innerHTML = '';\n",
              "          dataTable['output_type'] = 'display_data';\n",
              "          await google.colab.output.renderOutput(dataTable, element);\n",
              "          const docLink = document.createElement('div');\n",
              "          docLink.innerHTML = docLinkHtml;\n",
              "          element.appendChild(docLink);\n",
              "        }\n",
              "      </script>\n",
              "    </div>\n",
              "  </div>\n",
              "  "
            ],
            "text/plain": [
              "     price vehicletype  registrationyear gearbox       power    model  \\\n",
              "0    480.0     unknown              1993  manual  104.777186     golf   \n",
              "1  18300.0       coupe              2011  manual  190.000000  unknown   \n",
              "2   9800.0         suv              2004    auto  163.000000    grand   \n",
              "3   1500.0       small              2001  manual   75.000000     golf   \n",
              "4   3600.0       small              2008  manual   69.000000    fabia   \n",
              "\n",
              "   kilometer  registrationmonth  fueltype       brand repaired  \n",
              "0     150000                  0    petrol  volkswagen  unknown  \n",
              "1     125000                  5  gasoline        audi      yes  \n",
              "2     125000                  8  gasoline        jeep  unknown  \n",
              "3     150000                  6    petrol  volkswagen       no  \n",
              "4      90000                  7  gasoline       skoda       no  "
            ]
          },
          "execution_count": 38,
          "metadata": {},
          "output_type": "execute_result"
        }
      ],
      "source": [
        "df.head()"
      ]
    },
    {
      "cell_type": "code",
      "execution_count": 39,
      "metadata": {
        "id": "GOsja9UCmoow",
        "trusted": false
      },
      "outputs": [],
      "source": [
        "#подготовим выборки для обучения  \n",
        "features = df.drop(['price'], axis=1)\n",
        "target = df['price']\n",
        "\n",
        "X_train, X_test, y_train, y_test = train_test_split(\n",
        "    features, target, test_size=0.25, random_state=RANDOM_STATE)"
      ]
    },
    {
      "cell_type": "markdown",
      "metadata": {
        "id": "SsjYHV0Omoow"
      },
      "source": [
        "## ridge regression"
      ]
    },
    {
      "cell_type": "markdown",
      "metadata": {
        "id": "-7k-OlQFUbd7"
      },
      "source": [
        "так как у заказчика одним из критериев отбора модели явлется время, логично предположить, что лучше, чтобы модели быстро обучались. \n",
        "\n",
        "для этого не стоит плодить признаки, например, моделей большое количество. \n",
        "здесь я решил пожертвовать некоторой точностью, чтобы получить прирост по времени, так как сложность алгоритма np^2"
      ]
    },
    {
      "cell_type": "code",
      "execution_count": 40,
      "metadata": {
        "id": "UgNrNcVhe0Yz",
        "trusted": false
      },
      "outputs": [],
      "source": [
        "#трансформер \n",
        "\n",
        "#категориальные признаки для OHE Ridge\n",
        "ohe_features_ridge = X_train.select_dtypes(include='object').columns.to_list()\n",
        "#ohe_features_ridge.remove('model')\n",
        "#численные признаки\n",
        "num_features = X_train.select_dtypes(exclude='object').columns.to_list()\n",
        "\n",
        "col_transformer_ridge = make_column_transformer(\n",
        "    (\n",
        "        OneHotEncoder(drop='first', handle_unknown='ignore'),\n",
        "        ohe_features_ridge\n",
        "    ),\n",
        "    (\n",
        "        StandardScaler(), \n",
        "        num_features\n",
        "    ),\n",
        "    remainder='passthrough',\n",
        "    verbose_feature_names_out=False\n",
        ")"
      ]
    },
    {
      "cell_type": "code",
      "execution_count": 41,
      "metadata": {
        "colab": {
          "base_uri": "https://localhost:8080/"
        },
        "id": "T-7j2rnkmoow",
        "outputId": "8870b757-cfc5-45ba-fd1e-56d9eb0c45ca",
        "trusted": false
      },
      "outputs": [
        {
          "name": "stdout",
          "output_type": "stream",
          "text": [
            "best_score: 2486.803634595835\n",
            "best_params: {'ridge__alpha': 0.17}\n",
            "CPU times: user 7.82 s, sys: 1.77 s, total: 9.59 s\n",
            "Wall time: 1min 24s\n"
          ]
        }
      ],
      "source": [
        "%%time \n",
        "#зафиксируем время пайплайна обучения модели \n",
        "\n",
        "X_train_ridge = X_train.copy()\n",
        "X_test_ridge = X_test.copy()\n",
        "\n",
        "#чтобы уменьшить время\n",
        "enc = OrdinalEncoder(handle_unknown = 'use_encoded_value', unknown_value = 999)\n",
        "enc.fit(X_train_ridge[['model']])\n",
        "X_train_ridge[['model']] = enc.transform(X_train_ridge[['model']])\n",
        "X_test_ridge[['model']] = enc.transform(X_test_ridge[['model']])\n",
        "\n",
        "\n",
        "model_ridge = Ridge(random_state=RANDOM_STATE)\n",
        "\n",
        "pipeline_ridge = make_pipeline(col_transformer_ridge, model_ridge)\n",
        "\n",
        "param_grid_ridge = {'ridge__alpha': np.arange(0, 0.21, 0.01)}\n",
        "\n",
        "gs_ridge_pl = GridSearchCV(\n",
        "    pipeline_ridge, cv = 3, \n",
        "    param_grid=param_grid_ridge, \n",
        "    scoring='neg_root_mean_squared_error', \n",
        "    n_jobs=-1\n",
        ")\n",
        "\n",
        "gs_ridge_pl.fit(X_train_ridge, y_train)\n",
        "\n",
        "gs_ridge_best_score = gs_ridge_pl.best_score_ * -1\n",
        "gs_ridge_best_params = gs_ridge_pl.best_params_\n",
        "\n",
        "# лучшее значение RMSE на кросс-валидации\n",
        "print(f'best_score: {gs_ridge_best_score}')\n",
        "# лучшие гиперпараметры\n",
        "print(f'best_params: {gs_ridge_best_params}')"
      ]
    },
    {
      "cell_type": "code",
      "execution_count": 42,
      "metadata": {
        "colab": {
          "base_uri": "https://localhost:8080/"
        },
        "id": "nbh8DJm5WF3-",
        "outputId": "9975437d-6dd1-4e74-d8ae-de7b78ae1fc8",
        "trusted": false
      },
      "outputs": [
        {
          "name": "stdout",
          "output_type": "stream",
          "text": [
            "2482.6251552011017\n",
            "CPU times: user 776 ms, sys: 92.7 ms, total: 868 ms\n",
            "Wall time: 859 ms\n"
          ]
        }
      ],
      "source": [
        "%%time \n",
        "pred = gs_ridge_pl.predict(X_train_ridge)\n"
      ]
    },
    {
      "cell_type": "markdown",
      "metadata": {
        "id": "29irM2hdYT09"
      },
      "source": [
        "### показатели модели"
      ]
    },
    {
      "cell_type": "code",
      "execution_count": 43,
      "metadata": {
        "colab": {
          "base_uri": "https://localhost:8080/",
          "height": 243
        },
        "id": "5DnEVnJ4QiOy",
        "outputId": "84531c58-94e3-43e1-ad61-7c5418409771"
      },
      "outputs": [
        {
          "name": "stdout",
          "output_type": "stream",
          "text": [
            "CPU times: user 2.63 s, sys: 1.42 s, total: 4.04 s\n",
            "Wall time: 2.77 s\n"
          ]
        },
        {
          "data": {
            "text/html": [
              "<style>#sk-container-id-1 {color: black;background-color: white;}#sk-container-id-1 pre{padding: 0;}#sk-container-id-1 div.sk-toggleable {background-color: white;}#sk-container-id-1 label.sk-toggleable__label {cursor: pointer;display: block;width: 100%;margin-bottom: 0;padding: 0.3em;box-sizing: border-box;text-align: center;}#sk-container-id-1 label.sk-toggleable__label-arrow:before {content: \"▸\";float: left;margin-right: 0.25em;color: #696969;}#sk-container-id-1 label.sk-toggleable__label-arrow:hover:before {color: black;}#sk-container-id-1 div.sk-estimator:hover label.sk-toggleable__label-arrow:before {color: black;}#sk-container-id-1 div.sk-toggleable__content {max-height: 0;max-width: 0;overflow: hidden;text-align: left;background-color: #f0f8ff;}#sk-container-id-1 div.sk-toggleable__content pre {margin: 0.2em;color: black;border-radius: 0.25em;background-color: #f0f8ff;}#sk-container-id-1 input.sk-toggleable__control:checked~div.sk-toggleable__content {max-height: 200px;max-width: 100%;overflow: auto;}#sk-container-id-1 input.sk-toggleable__control:checked~label.sk-toggleable__label-arrow:before {content: \"▾\";}#sk-container-id-1 div.sk-estimator input.sk-toggleable__control:checked~label.sk-toggleable__label {background-color: #d4ebff;}#sk-container-id-1 div.sk-label input.sk-toggleable__control:checked~label.sk-toggleable__label {background-color: #d4ebff;}#sk-container-id-1 input.sk-hidden--visually {border: 0;clip: rect(1px 1px 1px 1px);clip: rect(1px, 1px, 1px, 1px);height: 1px;margin: -1px;overflow: hidden;padding: 0;position: absolute;width: 1px;}#sk-container-id-1 div.sk-estimator {font-family: monospace;background-color: #f0f8ff;border: 1px dotted black;border-radius: 0.25em;box-sizing: border-box;margin-bottom: 0.5em;}#sk-container-id-1 div.sk-estimator:hover {background-color: #d4ebff;}#sk-container-id-1 div.sk-parallel-item::after {content: \"\";width: 100%;border-bottom: 1px solid gray;flex-grow: 1;}#sk-container-id-1 div.sk-label:hover label.sk-toggleable__label {background-color: #d4ebff;}#sk-container-id-1 div.sk-serial::before {content: \"\";position: absolute;border-left: 1px solid gray;box-sizing: border-box;top: 0;bottom: 0;left: 50%;z-index: 0;}#sk-container-id-1 div.sk-serial {display: flex;flex-direction: column;align-items: center;background-color: white;padding-right: 0.2em;padding-left: 0.2em;position: relative;}#sk-container-id-1 div.sk-item {position: relative;z-index: 1;}#sk-container-id-1 div.sk-parallel {display: flex;align-items: stretch;justify-content: center;background-color: white;position: relative;}#sk-container-id-1 div.sk-item::before, #sk-container-id-1 div.sk-parallel-item::before {content: \"\";position: absolute;border-left: 1px solid gray;box-sizing: border-box;top: 0;bottom: 0;left: 50%;z-index: -1;}#sk-container-id-1 div.sk-parallel-item {display: flex;flex-direction: column;z-index: 1;position: relative;background-color: white;}#sk-container-id-1 div.sk-parallel-item:first-child::after {align-self: flex-end;width: 50%;}#sk-container-id-1 div.sk-parallel-item:last-child::after {align-self: flex-start;width: 50%;}#sk-container-id-1 div.sk-parallel-item:only-child::after {width: 0;}#sk-container-id-1 div.sk-dashed-wrapped {border: 1px dashed gray;margin: 0 0.4em 0.5em 0.4em;box-sizing: border-box;padding-bottom: 0.4em;background-color: white;}#sk-container-id-1 div.sk-label label {font-family: monospace;font-weight: bold;display: inline-block;line-height: 1.2em;}#sk-container-id-1 div.sk-label-container {text-align: center;}#sk-container-id-1 div.sk-container {/* jupyter's `normalize.less` sets `[hidden] { display: none; }` but bootstrap.min.css set `[hidden] { display: none !important; }` so we also need the `!important` here to be able to override the default hidden behavior on the sphinx rendered scikit-learn.org. See: https://github.com/scikit-learn/scikit-learn/issues/21755 */display: inline-block !important;position: relative;}#sk-container-id-1 div.sk-text-repr-fallback {display: none;}</style><div id=\"sk-container-id-1\" class=\"sk-top-container\"><div class=\"sk-text-repr-fallback\"><pre>Pipeline(steps=[(&#x27;columntransformer&#x27;,\n",
              "                 ColumnTransformer(remainder=&#x27;passthrough&#x27;,\n",
              "                                   transformers=[(&#x27;onehotencoder&#x27;,\n",
              "                                                  OneHotEncoder(drop=&#x27;first&#x27;,\n",
              "                                                                handle_unknown=&#x27;ignore&#x27;),\n",
              "                                                  [&#x27;vehicletype&#x27;, &#x27;gearbox&#x27;,\n",
              "                                                   &#x27;model&#x27;, &#x27;fueltype&#x27;, &#x27;brand&#x27;,\n",
              "                                                   &#x27;repaired&#x27;]),\n",
              "                                                 (&#x27;standardscaler&#x27;,\n",
              "                                                  StandardScaler(),\n",
              "                                                  [&#x27;registrationyear&#x27;, &#x27;power&#x27;,\n",
              "                                                   &#x27;kilometer&#x27;,\n",
              "                                                   &#x27;registrationmonth&#x27;])],\n",
              "                                   verbose_feature_names_out=False)),\n",
              "                (&#x27;ridge&#x27;, Ridge(alpha=0.17, random_state=42))])</pre><b>In a Jupyter environment, please rerun this cell to show the HTML representation or trust the notebook. <br />On GitHub, the HTML representation is unable to render, please try loading this page with nbviewer.org.</b></div><div class=\"sk-container\" hidden><div class=\"sk-item sk-dashed-wrapped\"><div class=\"sk-label-container\"><div class=\"sk-label sk-toggleable\"><input class=\"sk-toggleable__control sk-hidden--visually\" id=\"sk-estimator-id-1\" type=\"checkbox\" ><label for=\"sk-estimator-id-1\" class=\"sk-toggleable__label sk-toggleable__label-arrow\">Pipeline</label><div class=\"sk-toggleable__content\"><pre>Pipeline(steps=[(&#x27;columntransformer&#x27;,\n",
              "                 ColumnTransformer(remainder=&#x27;passthrough&#x27;,\n",
              "                                   transformers=[(&#x27;onehotencoder&#x27;,\n",
              "                                                  OneHotEncoder(drop=&#x27;first&#x27;,\n",
              "                                                                handle_unknown=&#x27;ignore&#x27;),\n",
              "                                                  [&#x27;vehicletype&#x27;, &#x27;gearbox&#x27;,\n",
              "                                                   &#x27;model&#x27;, &#x27;fueltype&#x27;, &#x27;brand&#x27;,\n",
              "                                                   &#x27;repaired&#x27;]),\n",
              "                                                 (&#x27;standardscaler&#x27;,\n",
              "                                                  StandardScaler(),\n",
              "                                                  [&#x27;registrationyear&#x27;, &#x27;power&#x27;,\n",
              "                                                   &#x27;kilometer&#x27;,\n",
              "                                                   &#x27;registrationmonth&#x27;])],\n",
              "                                   verbose_feature_names_out=False)),\n",
              "                (&#x27;ridge&#x27;, Ridge(alpha=0.17, random_state=42))])</pre></div></div></div><div class=\"sk-serial\"><div class=\"sk-item sk-dashed-wrapped\"><div class=\"sk-label-container\"><div class=\"sk-label sk-toggleable\"><input class=\"sk-toggleable__control sk-hidden--visually\" id=\"sk-estimator-id-2\" type=\"checkbox\" ><label for=\"sk-estimator-id-2\" class=\"sk-toggleable__label sk-toggleable__label-arrow\">columntransformer: ColumnTransformer</label><div class=\"sk-toggleable__content\"><pre>ColumnTransformer(remainder=&#x27;passthrough&#x27;,\n",
              "                  transformers=[(&#x27;onehotencoder&#x27;,\n",
              "                                 OneHotEncoder(drop=&#x27;first&#x27;,\n",
              "                                               handle_unknown=&#x27;ignore&#x27;),\n",
              "                                 [&#x27;vehicletype&#x27;, &#x27;gearbox&#x27;, &#x27;model&#x27;, &#x27;fueltype&#x27;,\n",
              "                                  &#x27;brand&#x27;, &#x27;repaired&#x27;]),\n",
              "                                (&#x27;standardscaler&#x27;, StandardScaler(),\n",
              "                                 [&#x27;registrationyear&#x27;, &#x27;power&#x27;, &#x27;kilometer&#x27;,\n",
              "                                  &#x27;registrationmonth&#x27;])],\n",
              "                  verbose_feature_names_out=False)</pre></div></div></div><div class=\"sk-parallel\"><div class=\"sk-parallel-item\"><div class=\"sk-item\"><div class=\"sk-label-container\"><div class=\"sk-label sk-toggleable\"><input class=\"sk-toggleable__control sk-hidden--visually\" id=\"sk-estimator-id-3\" type=\"checkbox\" ><label for=\"sk-estimator-id-3\" class=\"sk-toggleable__label sk-toggleable__label-arrow\">onehotencoder</label><div class=\"sk-toggleable__content\"><pre>[&#x27;vehicletype&#x27;, &#x27;gearbox&#x27;, &#x27;model&#x27;, &#x27;fueltype&#x27;, &#x27;brand&#x27;, &#x27;repaired&#x27;]</pre></div></div></div><div class=\"sk-serial\"><div class=\"sk-item\"><div class=\"sk-estimator sk-toggleable\"><input class=\"sk-toggleable__control sk-hidden--visually\" id=\"sk-estimator-id-4\" type=\"checkbox\" ><label for=\"sk-estimator-id-4\" class=\"sk-toggleable__label sk-toggleable__label-arrow\">OneHotEncoder</label><div class=\"sk-toggleable__content\"><pre>OneHotEncoder(drop=&#x27;first&#x27;, handle_unknown=&#x27;ignore&#x27;)</pre></div></div></div></div></div></div><div class=\"sk-parallel-item\"><div class=\"sk-item\"><div class=\"sk-label-container\"><div class=\"sk-label sk-toggleable\"><input class=\"sk-toggleable__control sk-hidden--visually\" id=\"sk-estimator-id-5\" type=\"checkbox\" ><label for=\"sk-estimator-id-5\" class=\"sk-toggleable__label sk-toggleable__label-arrow\">standardscaler</label><div class=\"sk-toggleable__content\"><pre>[&#x27;registrationyear&#x27;, &#x27;power&#x27;, &#x27;kilometer&#x27;, &#x27;registrationmonth&#x27;]</pre></div></div></div><div class=\"sk-serial\"><div class=\"sk-item\"><div class=\"sk-estimator sk-toggleable\"><input class=\"sk-toggleable__control sk-hidden--visually\" id=\"sk-estimator-id-6\" type=\"checkbox\" ><label for=\"sk-estimator-id-6\" class=\"sk-toggleable__label sk-toggleable__label-arrow\">StandardScaler</label><div class=\"sk-toggleable__content\"><pre>StandardScaler()</pre></div></div></div></div></div></div><div class=\"sk-parallel-item\"><div class=\"sk-item\"><div class=\"sk-label-container\"><div class=\"sk-label sk-toggleable\"><input class=\"sk-toggleable__control sk-hidden--visually\" id=\"sk-estimator-id-7\" type=\"checkbox\" ><label for=\"sk-estimator-id-7\" class=\"sk-toggleable__label sk-toggleable__label-arrow\">remainder</label><div class=\"sk-toggleable__content\"><pre>[]</pre></div></div></div><div class=\"sk-serial\"><div class=\"sk-item\"><div class=\"sk-estimator sk-toggleable\"><input class=\"sk-toggleable__control sk-hidden--visually\" id=\"sk-estimator-id-8\" type=\"checkbox\" ><label for=\"sk-estimator-id-8\" class=\"sk-toggleable__label sk-toggleable__label-arrow\">passthrough</label><div class=\"sk-toggleable__content\"><pre>passthrough</pre></div></div></div></div></div></div></div></div><div class=\"sk-item\"><div class=\"sk-estimator sk-toggleable\"><input class=\"sk-toggleable__control sk-hidden--visually\" id=\"sk-estimator-id-9\" type=\"checkbox\" ><label for=\"sk-estimator-id-9\" class=\"sk-toggleable__label sk-toggleable__label-arrow\">Ridge</label><div class=\"sk-toggleable__content\"><pre>Ridge(alpha=0.17, random_state=42)</pre></div></div></div></div></div></div></div>"
            ],
            "text/plain": [
              "Pipeline(steps=[('columntransformer',\n",
              "                 ColumnTransformer(remainder='passthrough',\n",
              "                                   transformers=[('onehotencoder',\n",
              "                                                  OneHotEncoder(drop='first',\n",
              "                                                                handle_unknown='ignore'),\n",
              "                                                  ['vehicletype', 'gearbox',\n",
              "                                                   'model', 'fueltype', 'brand',\n",
              "                                                   'repaired']),\n",
              "                                                 ('standardscaler',\n",
              "                                                  StandardScaler(),\n",
              "                                                  ['registrationyear', 'power',\n",
              "                                                   'kilometer',\n",
              "                                                   'registrationmonth'])],\n",
              "                                   verbose_feature_names_out=False)),\n",
              "                ('ridge', Ridge(alpha=0.17, random_state=42))])"
            ]
          },
          "execution_count": 43,
          "metadata": {},
          "output_type": "execute_result"
        }
      ],
      "source": [
        "%%time \n",
        "#замерим время обучения модели с лучшими параметрами\n",
        "ridge_best = Ridge(random_state=RANDOM_STATE, alpha = gs_ridge_pl.best_params_['ridge__alpha'])\n",
        "pipeline_ridge_best = make_pipeline(col_transformer_ridge, ridge_best)\n",
        "pipeline_ridge_best.fit(X_train_ridge, y_train)\n"
      ]
    },
    {
      "cell_type": "code",
      "execution_count": 55,
      "metadata": {
        "colab": {
          "base_uri": "https://localhost:8080/"
        },
        "id": "FNcaSbT2X5XX",
        "outputId": "b84665b7-6a8e-4531-86da-d96dcd6e2437"
      },
      "outputs": [
        {
          "name": "stdout",
          "output_type": "stream",
          "text": [
            "CPU times: user 427 ms, sys: 8.98 ms, total: 436 ms\n",
            "Wall time: 431 ms\n"
          ]
        }
      ],
      "source": [
        "%%time\n",
        "pred_best_model = pipeline_ridge_best.predict(X_train_ridge)"
      ]
    },
    {
      "cell_type": "code",
      "execution_count": 58,
      "metadata": {
        "colab": {
          "base_uri": "https://localhost:8080/"
        },
        "id": "bK4z0gOYRjTu",
        "outputId": "1ca43304-d51c-4ea7-e555-f16dd3afa070"
      },
      "outputs": [
        {
          "data": {
            "text/plain": [
              "2486.847509374489"
            ]
          },
          "execution_count": 58,
          "metadata": {},
          "output_type": "execute_result"
        }
      ],
      "source": [
        "##RMSE\n",
        "cross_val_score(pipeline_ridge_best, X_train_ridge, y_train,\n",
        "                cv = 3, scoring = 'neg_root_mean_squared_error' ).mean() * -1\n"
      ]
    },
    {
      "cell_type": "markdown",
      "metadata": {
        "id": "olHp_ao9O6g8"
      },
      "source": [
        "ну не очень точно, да, зато быстро, обучение почти не занимает времени, можно поробовать более сложные модели"
      ]
    },
    {
      "cell_type": "markdown",
      "metadata": {
        "id": "4IzjTx-Jmoox"
      },
      "source": [
        "## CTB"
      ]
    },
    {
      "cell_type": "code",
      "execution_count": 45,
      "metadata": {
        "colab": {
          "base_uri": "https://localhost:8080/"
        },
        "id": "44I4G-X3moox",
        "outputId": "e5981c46-9e95-4159-e274-926189293ea0",
        "scrolled": true,
        "trusted": false
      },
      "outputs": [
        {
          "name": "stdout",
          "output_type": "stream",
          "text": [
            "\n",
            "bestTest = 1974.898529\n",
            "bestIteration = 49\n",
            "\n",
            "\n",
            "bestTest = 2726.968638\n",
            "bestIteration = 49\n",
            "\n",
            "\n",
            "bestTest = 2146.545483\n",
            "bestIteration = 99\n",
            "\n",
            "\n",
            "bestTest = 1856.337795\n",
            "bestIteration = 99\n",
            "\n",
            "\n",
            "bestTest = 1869.541925\n",
            "bestIteration = 49\n",
            "\n",
            "\n",
            "bestTest = 2179.008881\n",
            "bestIteration = 74\n",
            "\n",
            "\n",
            "bestTest = 1767.831445\n",
            "bestIteration = 99\n",
            "\n",
            "\n",
            "bestTest = 2520.595879\n",
            "bestIteration = 49\n",
            "\n",
            "\n",
            "bestTest = 1793.436165\n",
            "bestIteration = 49\n",
            "\n",
            "\n",
            "bestTest = 1737.018908\n",
            "bestIteration = 74\n",
            "\n",
            "Training on fold [0/3]\n",
            "\n",
            "bestTest = 1738.009255\n",
            "bestIteration = 74\n",
            "\n",
            "Training on fold [1/3]\n",
            "\n",
            "bestTest = 1749.848429\n",
            "bestIteration = 74\n",
            "\n",
            "Training on fold [2/3]\n",
            "\n",
            "bestTest = 1741.703882\n",
            "bestIteration = 74\n",
            "\n",
            "{'learn': {'RMSE': 1723.3608122566527}}\n",
            "CPU times: user 2min 6s, sys: 5.95 s, total: 2min 12s\n",
            "Wall time: 1min 32s\n"
          ]
        }
      ],
      "source": [
        "%%time \n",
        "\n",
        "X_train_ctb = X_train.copy()\n",
        "X_test_ctb = X_test.copy()\n",
        "\n",
        "catf = ohe_features_ridge.copy()\n",
        "catf = catf + ['model']\n",
        "\n",
        "model = CatBoostRegressor(loss_function=\"RMSE\", verbose=False)\n",
        "\n",
        "train_dataset = Pool(data=X_train_ctb, label=y_train , cat_features= catf)\n",
        "\n",
        "grid = {'learning_rate': [0.03, 0.1],\n",
        "        'depth': [4, 6, 8],\n",
        "        'l2_leaf_reg': [1, 3, 5], \n",
        "        'iterations': [50, 75, 100]}\n",
        "\n",
        "model.randomized_search(grid,train_dataset, cv =3,  verbose = False)\n",
        "\n",
        "print(model.best_score_)"
      ]
    },
    {
      "cell_type": "markdown",
      "metadata": {
        "id": "QUJqqZh8ZAy3"
      },
      "source": [
        "### показатели модели с наилучшими параметрами"
      ]
    },
    {
      "cell_type": "code",
      "execution_count": 46,
      "metadata": {
        "id": "joU-w36NSAqo"
      },
      "outputs": [],
      "source": [
        "param = model.get_params()"
      ]
    },
    {
      "cell_type": "code",
      "execution_count": 63,
      "metadata": {
        "colab": {
          "base_uri": "https://localhost:8080/"
        },
        "id": "O3ZqXOJ8c8wq",
        "outputId": "88786131-1ba9-4890-d6c4-4925a99702be",
        "trusted": false
      },
      "outputs": [
        {
          "name": "stdout",
          "output_type": "stream",
          "text": [
            "CPU times: user 14.6 s, sys: 425 ms, total: 15.1 s\n",
            "Wall time: 11.6 s\n"
          ]
        },
        {
          "data": {
            "text/plain": [
              "<catboost.core.CatBoostRegressor at 0x7efc07034f40>"
            ]
          },
          "execution_count": 63,
          "metadata": {},
          "output_type": "execute_result"
        }
      ],
      "source": [
        "%%time\n",
        "#время обучения \n",
        "model_ctb_best = CatBoostRegressor(**param, cat_features=catf)\n",
        "model_ctb_best.fit(train_dataset)"
      ]
    },
    {
      "cell_type": "code",
      "execution_count": 64,
      "metadata": {
        "colab": {
          "base_uri": "https://localhost:8080/"
        },
        "id": "fc5wQ5vUR77e",
        "outputId": "ccfdc50b-5c29-44e3-f111-f71df4ddf044"
      },
      "outputs": [
        {
          "name": "stdout",
          "output_type": "stream",
          "text": [
            "CPU times: user 135 ms, sys: 31.6 ms, total: 167 ms\n",
            "Wall time: 141 ms\n"
          ]
        }
      ],
      "source": [
        "%%time \n",
        "#время предсказания\n",
        "ctb_best_predict = model_ctb_best.predict(train_dataset)\n"
      ]
    },
    {
      "cell_type": "code",
      "execution_count": 65,
      "metadata": {
        "colab": {
          "base_uri": "https://localhost:8080/"
        },
        "id": "GO6ErSSgZLsB",
        "outputId": "8aad3644-0ed5-4163-dc5a-1ecd103d28bc"
      },
      "outputs": [
        {
          "data": {
            "text/plain": [
              "1741.8826586574535"
            ]
          },
          "execution_count": 65,
          "metadata": {},
          "output_type": "execute_result"
        }
      ],
      "source": [
        "#RMSE \n",
        "cross_val_score(model_ctb_best, X_train_ctb, y_train,  \n",
        "                cv = 3, scoring = 'neg_root_mean_squared_error' ).mean() * -1\n"
      ]
    },
    {
      "cell_type": "markdown",
      "metadata": {
        "id": "uLtFf1ioWuAR"
      },
      "source": [
        "кэтбуст конечно подольше обучается, чем модель ридж регрессия, но выдает лучше результаты на этом датасете. \n",
        "\n",
        "некоторого ускорения можно добиться, если вместо grid_search поставить random_serach, тогда перебор идет быстрее. "
      ]
    },
    {
      "cell_type": "markdown",
      "metadata": {
        "id": "WZyErzJOmooy"
      },
      "source": [
        "## lightgbm"
      ]
    },
    {
      "cell_type": "code",
      "execution_count": 49,
      "metadata": {
        "colab": {
          "base_uri": "https://localhost:8080/",
          "height": 170
        },
        "id": "poirHjXqmooy",
        "outputId": "48dc4c6b-4ddd-4d65-b9ca-d3b3a638ce23",
        "trusted": false
      },
      "outputs": [
        {
          "name": "stdout",
          "output_type": "stream",
          "text": [
            "CPU times: user 1min 53s, sys: 486 ms, total: 1min 53s\n",
            "Wall time: 1min 5s\n"
          ]
        },
        {
          "data": {
            "text/html": [
              "<style>#sk-container-id-2 {color: black;background-color: white;}#sk-container-id-2 pre{padding: 0;}#sk-container-id-2 div.sk-toggleable {background-color: white;}#sk-container-id-2 label.sk-toggleable__label {cursor: pointer;display: block;width: 100%;margin-bottom: 0;padding: 0.3em;box-sizing: border-box;text-align: center;}#sk-container-id-2 label.sk-toggleable__label-arrow:before {content: \"▸\";float: left;margin-right: 0.25em;color: #696969;}#sk-container-id-2 label.sk-toggleable__label-arrow:hover:before {color: black;}#sk-container-id-2 div.sk-estimator:hover label.sk-toggleable__label-arrow:before {color: black;}#sk-container-id-2 div.sk-toggleable__content {max-height: 0;max-width: 0;overflow: hidden;text-align: left;background-color: #f0f8ff;}#sk-container-id-2 div.sk-toggleable__content pre {margin: 0.2em;color: black;border-radius: 0.25em;background-color: #f0f8ff;}#sk-container-id-2 input.sk-toggleable__control:checked~div.sk-toggleable__content {max-height: 200px;max-width: 100%;overflow: auto;}#sk-container-id-2 input.sk-toggleable__control:checked~label.sk-toggleable__label-arrow:before {content: \"▾\";}#sk-container-id-2 div.sk-estimator input.sk-toggleable__control:checked~label.sk-toggleable__label {background-color: #d4ebff;}#sk-container-id-2 div.sk-label input.sk-toggleable__control:checked~label.sk-toggleable__label {background-color: #d4ebff;}#sk-container-id-2 input.sk-hidden--visually {border: 0;clip: rect(1px 1px 1px 1px);clip: rect(1px, 1px, 1px, 1px);height: 1px;margin: -1px;overflow: hidden;padding: 0;position: absolute;width: 1px;}#sk-container-id-2 div.sk-estimator {font-family: monospace;background-color: #f0f8ff;border: 1px dotted black;border-radius: 0.25em;box-sizing: border-box;margin-bottom: 0.5em;}#sk-container-id-2 div.sk-estimator:hover {background-color: #d4ebff;}#sk-container-id-2 div.sk-parallel-item::after {content: \"\";width: 100%;border-bottom: 1px solid gray;flex-grow: 1;}#sk-container-id-2 div.sk-label:hover label.sk-toggleable__label {background-color: #d4ebff;}#sk-container-id-2 div.sk-serial::before {content: \"\";position: absolute;border-left: 1px solid gray;box-sizing: border-box;top: 0;bottom: 0;left: 50%;z-index: 0;}#sk-container-id-2 div.sk-serial {display: flex;flex-direction: column;align-items: center;background-color: white;padding-right: 0.2em;padding-left: 0.2em;position: relative;}#sk-container-id-2 div.sk-item {position: relative;z-index: 1;}#sk-container-id-2 div.sk-parallel {display: flex;align-items: stretch;justify-content: center;background-color: white;position: relative;}#sk-container-id-2 div.sk-item::before, #sk-container-id-2 div.sk-parallel-item::before {content: \"\";position: absolute;border-left: 1px solid gray;box-sizing: border-box;top: 0;bottom: 0;left: 50%;z-index: -1;}#sk-container-id-2 div.sk-parallel-item {display: flex;flex-direction: column;z-index: 1;position: relative;background-color: white;}#sk-container-id-2 div.sk-parallel-item:first-child::after {align-self: flex-end;width: 50%;}#sk-container-id-2 div.sk-parallel-item:last-child::after {align-self: flex-start;width: 50%;}#sk-container-id-2 div.sk-parallel-item:only-child::after {width: 0;}#sk-container-id-2 div.sk-dashed-wrapped {border: 1px dashed gray;margin: 0 0.4em 0.5em 0.4em;box-sizing: border-box;padding-bottom: 0.4em;background-color: white;}#sk-container-id-2 div.sk-label label {font-family: monospace;font-weight: bold;display: inline-block;line-height: 1.2em;}#sk-container-id-2 div.sk-label-container {text-align: center;}#sk-container-id-2 div.sk-container {/* jupyter's `normalize.less` sets `[hidden] { display: none; }` but bootstrap.min.css set `[hidden] { display: none !important; }` so we also need the `!important` here to be able to override the default hidden behavior on the sphinx rendered scikit-learn.org. See: https://github.com/scikit-learn/scikit-learn/issues/21755 */display: inline-block !important;position: relative;}#sk-container-id-2 div.sk-text-repr-fallback {display: none;}</style><div id=\"sk-container-id-2\" class=\"sk-top-container\"><div class=\"sk-text-repr-fallback\"><pre>RandomizedSearchCV(cv=3,\n",
              "                   estimator=LGBMRegressor(objective=&#x27;root_mean_squared_error&#x27;),\n",
              "                   param_distributions={&#x27;learning_rate&#x27;: [0.03, 0.1],\n",
              "                                        &#x27;max_depth&#x27;: [4, 6, 8],\n",
              "                                        &#x27;n_estimators&#x27;: [100, 120, 150],\n",
              "                                        &#x27;reg_lambda&#x27;: [0.3, 0.5, 0.7]},\n",
              "                   scoring=&#x27;neg_mean_squared_error&#x27;)</pre><b>In a Jupyter environment, please rerun this cell to show the HTML representation or trust the notebook. <br />On GitHub, the HTML representation is unable to render, please try loading this page with nbviewer.org.</b></div><div class=\"sk-container\" hidden><div class=\"sk-item sk-dashed-wrapped\"><div class=\"sk-label-container\"><div class=\"sk-label sk-toggleable\"><input class=\"sk-toggleable__control sk-hidden--visually\" id=\"sk-estimator-id-10\" type=\"checkbox\" ><label for=\"sk-estimator-id-10\" class=\"sk-toggleable__label sk-toggleable__label-arrow\">RandomizedSearchCV</label><div class=\"sk-toggleable__content\"><pre>RandomizedSearchCV(cv=3,\n",
              "                   estimator=LGBMRegressor(objective=&#x27;root_mean_squared_error&#x27;),\n",
              "                   param_distributions={&#x27;learning_rate&#x27;: [0.03, 0.1],\n",
              "                                        &#x27;max_depth&#x27;: [4, 6, 8],\n",
              "                                        &#x27;n_estimators&#x27;: [100, 120, 150],\n",
              "                                        &#x27;reg_lambda&#x27;: [0.3, 0.5, 0.7]},\n",
              "                   scoring=&#x27;neg_mean_squared_error&#x27;)</pre></div></div></div><div class=\"sk-parallel\"><div class=\"sk-parallel-item\"><div class=\"sk-item\"><div class=\"sk-label-container\"><div class=\"sk-label sk-toggleable\"><input class=\"sk-toggleable__control sk-hidden--visually\" id=\"sk-estimator-id-11\" type=\"checkbox\" ><label for=\"sk-estimator-id-11\" class=\"sk-toggleable__label sk-toggleable__label-arrow\">estimator: LGBMRegressor</label><div class=\"sk-toggleable__content\"><pre>LGBMRegressor(objective=&#x27;root_mean_squared_error&#x27;)</pre></div></div></div><div class=\"sk-serial\"><div class=\"sk-item\"><div class=\"sk-estimator sk-toggleable\"><input class=\"sk-toggleable__control sk-hidden--visually\" id=\"sk-estimator-id-12\" type=\"checkbox\" ><label for=\"sk-estimator-id-12\" class=\"sk-toggleable__label sk-toggleable__label-arrow\">LGBMRegressor</label><div class=\"sk-toggleable__content\"><pre>LGBMRegressor(objective=&#x27;root_mean_squared_error&#x27;)</pre></div></div></div></div></div></div></div></div></div></div>"
            ],
            "text/plain": [
              "RandomizedSearchCV(cv=3,\n",
              "                   estimator=LGBMRegressor(objective='root_mean_squared_error'),\n",
              "                   param_distributions={'learning_rate': [0.03, 0.1],\n",
              "                                        'max_depth': [4, 6, 8],\n",
              "                                        'n_estimators': [100, 120, 150],\n",
              "                                        'reg_lambda': [0.3, 0.5, 0.7]},\n",
              "                   scoring='neg_mean_squared_error')"
            ]
          },
          "execution_count": 49,
          "metadata": {},
          "output_type": "execute_result"
        }
      ],
      "source": [
        "%%time\n",
        "X_train_lgbm = X_train.copy()\n",
        "X_test_lgbm = X_test.copy()\n",
        "\n",
        "enc = OrdinalEncoder(handle_unknown = 'use_encoded_value', unknown_value = 999)\n",
        "X_train_lgbm[catf] = enc.fit_transform(X_train_lgbm[catf])\n",
        "X_test_lgbm[catf] = enc.transform(X_test_lgbm[catf])\n",
        "\n",
        "lgb_model = lgb.LGBMRegressor(objective = 'root_mean_squared_error',)\n",
        "\n",
        "grid = {\n",
        "  'learning_rate': [0.03, 0.1],\n",
        "  'max_depth': [4, 6, 8],\n",
        "  'reg_lambda': [0.3, 0.5, 0.7],\n",
        "  'n_estimators': [100, 120, 150]}\n",
        "\n",
        "lgb_model_search = RandomizedSearchCV(lgb_model, grid, scoring='neg_mean_squared_error', cv =3)\n",
        "lgb_model_search.fit(X_train_lgbm, y_train, categorical_feature=catf )\n",
        "\n"
      ]
    },
    {
      "cell_type": "code",
      "execution_count": 50,
      "metadata": {
        "colab": {
          "base_uri": "https://localhost:8080/"
        },
        "id": "HcapivBmyshE",
        "outputId": "328b5f15-6f86-4b16-c972-7cbffd562eb6",
        "trusted": false
      },
      "outputs": [
        {
          "name": "stdout",
          "output_type": "stream",
          "text": [
            "1543.1773822890905\n",
            "CPU times: user 3.71 s, sys: 6.37 ms, total: 3.72 s\n",
            "Wall time: 2.32 s\n"
          ]
        }
      ],
      "source": [
        "%%time \n",
        "print(mean_squared_error(lgb_model_search.predict(X_train_lgbm), y_train, squared = False))"
      ]
    },
    {
      "cell_type": "markdown",
      "metadata": {
        "id": "ipCU6QTFZ76d"
      },
      "source": [
        "### параметры лучшей модели"
      ]
    },
    {
      "cell_type": "code",
      "execution_count": 51,
      "metadata": {
        "id": "JRI8nLUaUCb5"
      },
      "outputs": [],
      "source": [
        "params = lgb_model_search.best_params_"
      ]
    },
    {
      "cell_type": "code",
      "execution_count": 66,
      "metadata": {
        "colab": {
          "base_uri": "https://localhost:8080/",
          "height": 126
        },
        "id": "-OVykHp1UAp8",
        "outputId": "f9b3de89-827b-4071-c650-2d8bd4f34fd4"
      },
      "outputs": [
        {
          "name": "stdout",
          "output_type": "stream",
          "text": [
            "CPU times: user 4.39 s, sys: 21.8 ms, total: 4.42 s\n",
            "Wall time: 2.83 s\n"
          ]
        },
        {
          "data": {
            "text/html": [
              "<style>#sk-container-id-4 {color: black;background-color: white;}#sk-container-id-4 pre{padding: 0;}#sk-container-id-4 div.sk-toggleable {background-color: white;}#sk-container-id-4 label.sk-toggleable__label {cursor: pointer;display: block;width: 100%;margin-bottom: 0;padding: 0.3em;box-sizing: border-box;text-align: center;}#sk-container-id-4 label.sk-toggleable__label-arrow:before {content: \"▸\";float: left;margin-right: 0.25em;color: #696969;}#sk-container-id-4 label.sk-toggleable__label-arrow:hover:before {color: black;}#sk-container-id-4 div.sk-estimator:hover label.sk-toggleable__label-arrow:before {color: black;}#sk-container-id-4 div.sk-toggleable__content {max-height: 0;max-width: 0;overflow: hidden;text-align: left;background-color: #f0f8ff;}#sk-container-id-4 div.sk-toggleable__content pre {margin: 0.2em;color: black;border-radius: 0.25em;background-color: #f0f8ff;}#sk-container-id-4 input.sk-toggleable__control:checked~div.sk-toggleable__content {max-height: 200px;max-width: 100%;overflow: auto;}#sk-container-id-4 input.sk-toggleable__control:checked~label.sk-toggleable__label-arrow:before {content: \"▾\";}#sk-container-id-4 div.sk-estimator input.sk-toggleable__control:checked~label.sk-toggleable__label {background-color: #d4ebff;}#sk-container-id-4 div.sk-label input.sk-toggleable__control:checked~label.sk-toggleable__label {background-color: #d4ebff;}#sk-container-id-4 input.sk-hidden--visually {border: 0;clip: rect(1px 1px 1px 1px);clip: rect(1px, 1px, 1px, 1px);height: 1px;margin: -1px;overflow: hidden;padding: 0;position: absolute;width: 1px;}#sk-container-id-4 div.sk-estimator {font-family: monospace;background-color: #f0f8ff;border: 1px dotted black;border-radius: 0.25em;box-sizing: border-box;margin-bottom: 0.5em;}#sk-container-id-4 div.sk-estimator:hover {background-color: #d4ebff;}#sk-container-id-4 div.sk-parallel-item::after {content: \"\";width: 100%;border-bottom: 1px solid gray;flex-grow: 1;}#sk-container-id-4 div.sk-label:hover label.sk-toggleable__label {background-color: #d4ebff;}#sk-container-id-4 div.sk-serial::before {content: \"\";position: absolute;border-left: 1px solid gray;box-sizing: border-box;top: 0;bottom: 0;left: 50%;z-index: 0;}#sk-container-id-4 div.sk-serial {display: flex;flex-direction: column;align-items: center;background-color: white;padding-right: 0.2em;padding-left: 0.2em;position: relative;}#sk-container-id-4 div.sk-item {position: relative;z-index: 1;}#sk-container-id-4 div.sk-parallel {display: flex;align-items: stretch;justify-content: center;background-color: white;position: relative;}#sk-container-id-4 div.sk-item::before, #sk-container-id-4 div.sk-parallel-item::before {content: \"\";position: absolute;border-left: 1px solid gray;box-sizing: border-box;top: 0;bottom: 0;left: 50%;z-index: -1;}#sk-container-id-4 div.sk-parallel-item {display: flex;flex-direction: column;z-index: 1;position: relative;background-color: white;}#sk-container-id-4 div.sk-parallel-item:first-child::after {align-self: flex-end;width: 50%;}#sk-container-id-4 div.sk-parallel-item:last-child::after {align-self: flex-start;width: 50%;}#sk-container-id-4 div.sk-parallel-item:only-child::after {width: 0;}#sk-container-id-4 div.sk-dashed-wrapped {border: 1px dashed gray;margin: 0 0.4em 0.5em 0.4em;box-sizing: border-box;padding-bottom: 0.4em;background-color: white;}#sk-container-id-4 div.sk-label label {font-family: monospace;font-weight: bold;display: inline-block;line-height: 1.2em;}#sk-container-id-4 div.sk-label-container {text-align: center;}#sk-container-id-4 div.sk-container {/* jupyter's `normalize.less` sets `[hidden] { display: none; }` but bootstrap.min.css set `[hidden] { display: none !important; }` so we also need the `!important` here to be able to override the default hidden behavior on the sphinx rendered scikit-learn.org. See: https://github.com/scikit-learn/scikit-learn/issues/21755 */display: inline-block !important;position: relative;}#sk-container-id-4 div.sk-text-repr-fallback {display: none;}</style><div id=\"sk-container-id-4\" class=\"sk-top-container\"><div class=\"sk-text-repr-fallback\"><pre>LGBMRegressor(max_depth=6, n_estimators=150, reg_lambda=0.3)</pre><b>In a Jupyter environment, please rerun this cell to show the HTML representation or trust the notebook. <br />On GitHub, the HTML representation is unable to render, please try loading this page with nbviewer.org.</b></div><div class=\"sk-container\" hidden><div class=\"sk-item\"><div class=\"sk-estimator sk-toggleable\"><input class=\"sk-toggleable__control sk-hidden--visually\" id=\"sk-estimator-id-14\" type=\"checkbox\" checked><label for=\"sk-estimator-id-14\" class=\"sk-toggleable__label sk-toggleable__label-arrow\">LGBMRegressor</label><div class=\"sk-toggleable__content\"><pre>LGBMRegressor(max_depth=6, n_estimators=150, reg_lambda=0.3)</pre></div></div></div></div></div>"
            ],
            "text/plain": [
              "LGBMRegressor(max_depth=6, n_estimators=150, reg_lambda=0.3)"
            ]
          },
          "execution_count": 66,
          "metadata": {},
          "output_type": "execute_result"
        }
      ],
      "source": [
        "%%time \n",
        "#время обучения\n",
        "lgb_model_best = lgb.LGBMRegressor(**params)\n",
        "lgb_model_best.fit(X_train_lgbm, y_train)\n"
      ]
    },
    {
      "cell_type": "code",
      "execution_count": 67,
      "metadata": {
        "colab": {
          "base_uri": "https://localhost:8080/"
        },
        "id": "yhifAVeCUWW5",
        "outputId": "0645bf5a-51b5-4090-ad45-42ce0efc6e05"
      },
      "outputs": [
        {
          "name": "stdout",
          "output_type": "stream",
          "text": [
            "CPU times: user 2.97 s, sys: 525 µs, total: 2.97 s\n",
            "Wall time: 2.89 s\n"
          ]
        }
      ],
      "source": [
        "%%time\n",
        "#время предсказания \n",
        "pred = lgb_model_best.predict(X_train_lgbm)"
      ]
    },
    {
      "cell_type": "code",
      "execution_count": 68,
      "metadata": {
        "colab": {
          "base_uri": "https://localhost:8080/"
        },
        "id": "-AIHQ0wdaJUW",
        "outputId": "92bc8c0f-0fb4-430d-eb8f-49c57ac1c1c4"
      },
      "outputs": [
        {
          "data": {
            "text/plain": [
              "1679.242551666437"
            ]
          },
          "execution_count": 68,
          "metadata": {},
          "output_type": "execute_result"
        }
      ],
      "source": [
        "#RMSE \n",
        "cross_val_score(lgb_model_best, X_train_lgbm, y_train,  \n",
        "                cv = 3, scoring = 'neg_root_mean_squared_error' ).mean() * -1\n"
      ]
    },
    {
      "cell_type": "markdown",
      "metadata": {
        "id": "10TYDSsLUJhd"
      },
      "source": [
        "# выводы \n",
        "\n",
        "## про датасет: \n",
        "\n",
        "  в датасете много аномалий, поэтому пришлось прибегнуть к некоторым ухищрениям, чтобы исправить их. \n",
        "\n",
        "## про модели: \n",
        "\n",
        "### сравнение по качеству: \n",
        "\n",
        "лучше всего на тестовой выборке показала себя lgb_model, но вполне соизмерима с катбустом. ridge регрсессия показала результаты хуже минимального порога в 2500. \n",
        "\n",
        "### сравнение по скорости обучения: \n",
        "\n",
        "тут бесспорный лидер ridge-регрессия, но из-за качества можно вынести ее за скобки и сравнивать между собой бустинги. \n",
        "\n",
        "\n",
        "### сравнение по скорости предсказания на тестовой выборке: \n",
        "\n",
        "немного лучше предсказывает lightGBM, но дольше, чем catboost. \n",
        "\n",
        "#итог:\n",
        "\n",
        "для работы с такими даннными я бы взял катбуст и немного еще поработал над возможными парамтерами, чтобы улучшить точность. \n",
        "\n",
        "CTB:\n",
        "\n",
        "- Wall time: 11.6 s -- обучение \n",
        "- Wall time: 141 ms -- предикт\n",
        "- 1741.8826586574535 -- RMSE \n",
        "\n",
        "LGBM:\n",
        "\n",
        "- Wall time: 2.83 s -- обучение \n",
        "- Wall time: 2.89 s -- предикт\n",
        "- 1679.242551666437 -- RMSE \n",
        "\n",
        "\n"
      ]
    },
    {
      "cell_type": "markdown",
      "metadata": {
        "id": "Z2BTcFfvO7Ms"
      },
      "source": [
        "# тест итоговой модели \n",
        "\n",
        "лучшая модель по совокупности факторов: скорость обучения, сокрость предсказания, качество -- кэтбуст. "
      ]
    },
    {
      "cell_type": "code",
      "execution_count": 54,
      "metadata": {
        "colab": {
          "base_uri": "https://localhost:8080/"
        },
        "id": "x8-3qPtlO-A_",
        "outputId": "dace3be7-9262-41ac-f8db-4c6963e9d47e"
      },
      "outputs": [
        {
          "name": "stdout",
          "output_type": "stream",
          "text": [
            "1708.487230317826\n",
            "CPU times: user 194 ms, sys: 29.9 ms, total: 224 ms\n",
            "Wall time: 219 ms\n"
          ]
        }
      ],
      "source": [
        "%%time \n",
        "\n",
        "#проверим, что модель показывает такой же результат на тестовой выборке \n",
        "test_dataset = Pool(data=X_test_ctb, label=y_test , cat_features= catf)\n",
        "\n",
        "print(mean_squared_error(model.predict(test_dataset), y_test, squared = False))"
      ]
    }
  ],
  "metadata": {
    "ExecuteTimeLog": [
      {
        "duration": 4,
        "start_time": "2023-03-03T07:37:40.693Z"
      }
    ],
    "accelerator": "GPU",
    "colab": {
      "provenance": [],
      "toc_visible": true
    },
    "gpuClass": "standard",
    "kernelspec": {
      "display_name": "Python 3 (ipykernel)",
      "language": "python",
      "name": "python3"
    },
    "language_info": {
      "codemirror_mode": {
        "name": "ipython",
        "version": 3
      },
      "file_extension": ".py",
      "mimetype": "text/x-python",
      "name": "python",
      "nbconvert_exporter": "python",
      "pygments_lexer": "ipython3",
      "version": "3.9.5"
    },
    "toc": {
      "base_numbering": 1,
      "nav_menu": {},
      "number_sections": true,
      "sideBar": true,
      "skip_h1_title": true,
      "title_cell": "Table of Contents",
      "title_sidebar": "Contents",
      "toc_cell": false,
      "toc_position": {},
      "toc_section_display": true,
      "toc_window_display": false
    },
    "vscode": {
      "interpreter": {
        "hash": "31f2aee4e71d21fbe5cf8b01ff0e069b9275f58929596ceb00d14d90e3e16cd6"
      }
    }
  },
  "nbformat": 4,
  "nbformat_minor": 0
}
