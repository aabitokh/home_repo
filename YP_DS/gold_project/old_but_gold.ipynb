{
 "cells": [
  {
   "cell_type": "code",
   "execution_count": null,
   "metadata": {},
   "outputs": [],
   "source": [
    "!ls"
   ]
  },
  {
   "cell_type": "code",
   "execution_count": null,
   "metadata": {},
   "outputs": [],
   "source": [
    "import pandas as pd \n",
    "pd.options.display.max_columns = 100\n",
    "pd.options.display.max_rows = 100\n",
    "\n",
    "from sklearn.metrics import mean_absolute_error\n",
    "from matplotlib import pyplot as plt \n",
    "plt.style.use('dark_background')\n",
    "plt.rcParams[\"figure.figsize\"] = (15,7)\n",
    "\n",
    "import catboost\n",
    "from sklearn.linear_model import LinearRegression\n",
    "from sklearn.ensemble import RandomForestRegressor\n",
    "from sklearn.model_selection import train_test_split\n",
    "from sklearn.model_selection import cross_val_score\n",
    "import numpy as np\n",
    "import seaborn as sns\n",
    "from sklearn.metrics import make_scorer \n",
    "from sklearn.preprocessing import StandardScaler\n",
    "\n",
    "from sklearn.dummy import DummyRegressor\n"
   ]
  },
  {
   "cell_type": "code",
   "execution_count": null,
   "metadata": {},
   "outputs": [],
   "source": [
    "train_df = pd.read_csv('/datasets/gold_recovery_train_new.csv')\n",
    "test_df = pd.read_csv('/datasets/gold_recovery_test_new.csv')\n",
    "full_df = pd.read_csv('/datasets/gold_recovery_full_new.csv')"
   ]
  },
  {
   "cell_type": "code",
   "execution_count": null,
   "metadata": {},
   "outputs": [],
   "source": [
    "dfs = [train_df, test_df, full_df]"
   ]
  },
  {
   "cell_type": "code",
   "execution_count": null,
   "metadata": {},
   "outputs": [],
   "source": [
    "train_df['rougher.output.recovery'] #то что перепроверям "
   ]
  },
  {
   "cell_type": "code",
   "execution_count": null,
   "metadata": {
    "scrolled": true
   },
   "outputs": [],
   "source": [
    "train_df.info()"
   ]
  },
  {
   "cell_type": "code",
   "execution_count": null,
   "metadata": {
    "scrolled": true
   },
   "outputs": [],
   "source": [
    "#display(train_df.iloc[:, 30:65].head())\n",
    "display(train_df.iloc[:, 30:65].columns)"
   ]
  },
  {
   "cell_type": "markdown",
   "metadata": {},
   "source": [
    "сначала нужно посчитть это: \n",
    "\n",
    "- C — доля золота в концентрате после флотации/очистки; (+) (rougher.output.feed_au_share)\n",
    "- F — доля золота в сырье/концентрате до флотации/очистки; (+) (rougher.input.feed_au_share)\n",
    "- T — доля золота в отвальных хвостах после флотации/очистки."
   ]
  },
  {
   "cell_type": "code",
   "execution_count": null,
   "metadata": {},
   "outputs": [],
   "source": [
    " #rougher.output.concentrate_au - rougher.input.feed_au - rougher.output.tail_au\n",
    "train_df[['rougher.output.concentrate_au', 'rougher.input.feed_au', 'rougher.output.tail_au']]\n",
    "\n",
    "C = train_df['rougher.output.concentrate_au']\n",
    "F = train_df['rougher.input.feed_au']\n",
    "T = train_df['rougher.output.tail_au']\n",
    "\n",
    "train_df['recovery_test'] = (C*(F-T))/(F*(C-T))*100\n"
   ]
  },
  {
   "cell_type": "code",
   "execution_count": null,
   "metadata": {},
   "outputs": [],
   "source": [
    "#посмотрим что без нанов \n",
    "print(mean_absolute_error(train_df.dropna(subset=['recovery_test'])['rougher.output.recovery'], \n",
    "                            train_df.dropna(subset=['recovery_test'])['recovery_test']))"
   ]
  },
  {
   "cell_type": "code",
   "execution_count": null,
   "metadata": {
    "scrolled": true
   },
   "outputs": [],
   "source": [
    "test_df.isnull().sum().sort_values(ascending=False)"
   ]
  },
  {
   "cell_type": "code",
   "execution_count": null,
   "metadata": {},
   "outputs": [],
   "source": [
    "print('columns in train', len(train_df.columns))\n",
    "print('columns in test', len(test_df.columns))\n",
    "\n",
    "print(len(set(train_df.columns).difference(set(test_df.columns))))\n",
    "train_test_dif_cols = set(train_df.columns).difference(set(test_df.columns))"
   ]
  },
  {
   "cell_type": "code",
   "execution_count": null,
   "metadata": {
    "scrolled": false
   },
   "outputs": [],
   "source": [
    "from pprint import pprint \n",
    "pprint(train_test_dif_cols)"
   ]
  },
  {
   "cell_type": "code",
   "execution_count": null,
   "metadata": {},
   "outputs": [],
   "source": [
    "train_df[list(train_test_dif_cols)].info()"
   ]
  },
  {
   "cell_type": "markdown",
   "metadata": {},
   "source": [
    "Что можно сделать в предобработке: \n",
    "\n",
    "1. удалить из train колонки, которые недоступны в test (позже)\n",
    "2. Удалить пропуски, если их немного \n",
    "3. сбросить дубликаты "
   ]
  },
  {
   "cell_type": "code",
   "execution_count": null,
   "metadata": {},
   "outputs": [],
   "source": [
    "cols = test_df.columns\n",
    "\n",
    "for df in dfs: \n",
    "    #проверка на дубликаты \n",
    "    print(len(df.columns))\n",
    "    #тут пока непонятно, стоит ли до EDA удалять колонки \n",
    "    #df = df[cols]\n",
    "    print(len(df.columns))\n",
    "    print(df.shape)\n",
    "    print(df.duplicated().sum())\n",
    "    print(df.isnull().sum().sort_values(ascending=False))\n",
    "    "
   ]
  },
  {
   "cell_type": "code",
   "execution_count": null,
   "metadata": {},
   "outputs": [],
   "source": [
    "#словарь столбцов с инпутом и аутпутом в этапах, чтобы проще было ковыряться в этом безобразии\n",
    "l_cols = {}\n",
    "\n",
    "for l in ['rougher', 'primary_cleaner',\n",
    "           'secondary_cleaner', 'final']:\n",
    "    \n",
    "    l_cols[l] = {}\n",
    "    l_cols[l]['input'] = []\n",
    "    l_cols[l]['output'] = []\n",
    "\n",
    "    print(l)\n",
    "    \n",
    "    for col in full_df.columns:\n",
    "\n",
    "        if l == col.split('.')[0] and col.split('.')[1] == 'input':\n",
    "            l_cols[l]['input'].append(col)\n",
    "        elif l == col.split('.')[0] and col.split('.')[1] == 'output':\n",
    "            l_cols[l]['output'].append(col)\n",
    "        else:\n",
    "            continue"
   ]
  },
  {
   "cell_type": "markdown",
   "metadata": {},
   "source": [
    "### rougher"
   ]
  },
  {
   "cell_type": "code",
   "execution_count": null,
   "metadata": {},
   "outputs": [],
   "source": [
    "l_cols['rougher']['output']"
   ]
  },
  {
   "cell_type": "code",
   "execution_count": null,
   "metadata": {},
   "outputs": [],
   "source": [
    "train_df['rougher.input.feed_au'].hist(alpha = 0.5, bins = 30)\n",
    "train_df['rougher.output.concentrate_au'].hist(alpha = 0.5, bins = 30)\n",
    "train_df['rougher.output.tail_au'].hist(alpha = 0.5, bins =30)\n",
    "plt.title('Au distribution in rougher')\n",
    "plt.legend(['input.feed_au', 'output.concentrate_au', 'output.tail_au'])\n",
    "plt.show()"
   ]
  },
  {
   "cell_type": "code",
   "execution_count": null,
   "metadata": {},
   "outputs": [],
   "source": [
    "train_df['rougher.input.feed_ag'].hist(alpha = 0.5, bins = 30)\n",
    "train_df['rougher.output.concentrate_ag'].hist(alpha = 0.5, bins = 30)\n",
    "train_df['rougher.output.tail_ag'].hist(alpha = 0.5, bins =30)\n",
    "plt.title('Ag distribution in rougher')\n",
    "plt.legend(['input.feed_ag', 'output.concentrate_ag', 'output.tail_ag'])\n",
    "plt.show()"
   ]
  },
  {
   "cell_type": "code",
   "execution_count": null,
   "metadata": {},
   "outputs": [],
   "source": [
    "train_df['rougher.input.feed_pb'].hist(alpha = 0.5, bins = 30)\n",
    "train_df['rougher.output.concentrate_pb'].hist(alpha = 0.5, bins = 30)\n",
    "train_df['rougher.output.tail_pb'].hist(alpha = 0.5, bins =30)\n",
    "plt.title('Pb distribution in rougher')\n",
    "plt.legend(['input.feed_pb', 'output.concentrate_pb', 'output.tail_pb'])\n",
    "plt.show()"
   ]
  },
  {
   "cell_type": "markdown",
   "metadata": {},
   "source": [
    "Получается, что даже первый этап грубой очистки уже справляется со своей работой. \n",
    "\n",
    "Особенно хорошо он справляется с золотом и свинцом, хуже справляется с серебром при этом. "
   ]
  },
  {
   "cell_type": "markdown",
   "metadata": {},
   "source": [
    "### primary_cleaner"
   ]
  },
  {
   "cell_type": "code",
   "execution_count": null,
   "metadata": {},
   "outputs": [],
   "source": [
    "l_cols['primary_cleaner']"
   ]
  },
  {
   "cell_type": "code",
   "execution_count": null,
   "metadata": {},
   "outputs": [],
   "source": [
    "#сравним что получилось после первого этапа чистки по металлам \n",
    "train_df['primary_cleaner.output.concentrate_ag'].hist(alpha = 0.5, bins = 30)\n",
    "train_df['primary_cleaner.output.concentrate_pb'].hist(alpha = 0.5, bins = 30)\n",
    "train_df['primary_cleaner.output.concentrate_au'].hist(alpha = 0.5, bins =30)\n",
    "plt.title('Feed distribution in the first cleaner')\n",
    "plt.legend(['Ag', 'Pb', 'Au'])\n",
    "plt.show()"
   ]
  },
  {
   "cell_type": "markdown",
   "metadata": {},
   "source": [
    "Видно, что на этом этапе очень сильно удается выделить из входящей массы серебро"
   ]
  },
  {
   "cell_type": "markdown",
   "metadata": {},
   "source": [
    "### secondary cleaner"
   ]
  },
  {
   "cell_type": "code",
   "execution_count": null,
   "metadata": {},
   "outputs": [],
   "source": [
    "l_cols['secondary_cleaner']"
   ]
  },
  {
   "cell_type": "code",
   "execution_count": null,
   "metadata": {},
   "outputs": [],
   "source": [
    "#сравним что получилось после второго этапа чистки по металлам \n",
    "train_df['secondary_cleaner.output.tail_ag'].hist(alpha = 0.5, bins = 30)\n",
    "train_df['secondary_cleaner.output.tail_pb'].hist(alpha = 0.5, bins = 30)\n",
    "train_df['secondary_cleaner.output.tail_au'].hist(alpha = 0.5, bins =30)\n",
    "plt.title('Feed distribution in the second cleaner')\n",
    "plt.legend(['Ag', 'Pb', 'Au'])\n",
    "plt.show()"
   ]
  },
  {
   "cell_type": "markdown",
   "metadata": {},
   "source": [
    "на вторичном этапе очистки довольно большой % серебра уходит в остатки, меньше всего в остатки уходит золото"
   ]
  },
  {
   "cell_type": "markdown",
   "metadata": {},
   "source": [
    "### final"
   ]
  },
  {
   "cell_type": "code",
   "execution_count": null,
   "metadata": {},
   "outputs": [],
   "source": [
    "l_cols['final']"
   ]
  },
  {
   "cell_type": "code",
   "execution_count": null,
   "metadata": {},
   "outputs": [],
   "source": [
    "#сравним что получилось после второго этапа чистки по металлам \n",
    "train_df['final.output.concentrate_ag'].hist(alpha = 0.5, bins = 30)\n",
    "train_df['final.output.concentrate_pb'].hist(alpha = 0.5, bins = 30)\n",
    "train_df['final.output.concentrate_au'].hist(alpha = 0.5, bins =30)\n",
    "plt.title('Feed distribution on final stage')\n",
    "plt.legend(['Ag', 'Pb', 'Au'])\n",
    "plt.show()"
   ]
  },
  {
   "cell_type": "markdown",
   "metadata": {},
   "source": [
    "на финальном этапе вообще красота, % золота очень сильно подросла и колеблется в основном от 40% до 50%. \n",
    "\n",
    "будем считать, что система очистки справляется со своей работой "
   ]
  },
  {
   "cell_type": "code",
   "execution_count": null,
   "metadata": {},
   "outputs": [],
   "source": [
    "#посмотрим какие колонки у нас есть в тестовой \n",
    "[col for col in test_df.columns if col.split('.')[-1]=='feed_size']"
   ]
  },
  {
   "cell_type": "code",
   "execution_count": null,
   "metadata": {},
   "outputs": [],
   "source": [
    "#а какие в обучающей \n",
    "[col for col in train_df.columns if col.split('.')[-1]=='feed_size']"
   ]
  },
  {
   "cell_type": "markdown",
   "metadata": {},
   "source": [
    "сравнить мы можем две одинаковые стадии между собой: отдельно rougher и первичный клинер"
   ]
  },
  {
   "cell_type": "code",
   "execution_count": null,
   "metadata": {},
   "outputs": [],
   "source": [
    "#сравним что получилось после второго этапа чистки по металлам \n",
    "\n",
    "print(train_df['rougher.input.feed_size'].mean(), '-- средний размер гранул в трейн выборке')\n",
    "print(test_df['rougher.input.feed_size'].mean(), '-- средний размер гранул в тест выборке')\n",
    "\n",
    "print(train_df['rougher.input.feed_size'].median(), '-- медиана гранул в трейн выборке')\n",
    "print(test_df['rougher.input.feed_size'].median(), '-- медиана размер гранул в тест выборке')\n",
    "\n",
    "train_df['rougher.input.feed_size'].hist(alpha = 0.5, bins = 30)\n",
    "test_df['rougher.input.feed_size'].hist(alpha = 0.5, bins = 30)\n",
    "plt.title('Feed size distribution in rougher')\n",
    "plt.legend(['train', 'test'])\n",
    "plt.show()\n",
    "\n",
    "sns.kdeplot(train_df['rougher.input.feed_size'])\n",
    "sns.kdeplot(test_df['rougher.input.feed_size'])\n",
    "plt.title('Feed size distribution in rougher | KDE')\n",
    "plt.legend(['train', 'test'])\n",
    "plt.show()"
   ]
  },
  {
   "cell_type": "markdown",
   "metadata": {},
   "source": [
    "из-за выбросов в feed_size в трейн выборке не очень приятно сравнивать распределения, посмотрим без них"
   ]
  },
  {
   "cell_type": "code",
   "execution_count": null,
   "metadata": {},
   "outputs": [],
   "source": [
    "#сравним что получилось после второго этапа чистки по металлам, немного призумимся\n",
    "print(train_df[train_df['rougher.input.feed_size']<150]['rougher.input.feed_size'].mean(), '-- средний размер гранул в трейн выборке')\n",
    "print(test_df[test_df['rougher.input.feed_size']<150]['rougher.input.feed_size'].mean(), '-- средний размер гранул в тест выборке')\n",
    "\n",
    "print(train_df[train_df['rougher.input.feed_size']<150]['rougher.input.feed_size'].median(), '-- медиана гранул в трейн выборке')\n",
    "print(test_df[test_df['rougher.input.feed_size']<150]['rougher.input.feed_size'].median(), '-- медиана размер гранул в тест выборке')\n",
    "\n",
    "\n",
    "train_df[train_df['rougher.input.feed_size']<150]['rougher.input.feed_size'].hist(alpha = 0.5, bins = 50)\n",
    "test_df[test_df['rougher.input.feed_size']<150]['rougher.input.feed_size'].hist(alpha = 0.5, bins = 50)\n",
    "plt.title('Feed size distribution in rougher')\n",
    "plt.legend(['train', 'test'])\n",
    "plt.show()\n",
    "\n",
    "sns.kdeplot(train_df[train_df['rougher.input.feed_size']<150]['rougher.input.feed_size'])\n",
    "sns.kdeplot(test_df[test_df['rougher.input.feed_size']<150]['rougher.input.feed_size'])\n",
    "plt.title('Feed size distribution in rougher | KDE')\n",
    "plt.legend(['train', 'test'])\n",
    "plt.show()\n"
   ]
  },
  {
   "cell_type": "markdown",
   "metadata": {},
   "source": [
    "Распределение отличаюются, но все же скорее похожи друг на друга (оба смещены скорее влево). При этом надо отметить, что периодически залетают булыжники в массу сырья"
   ]
  },
  {
   "cell_type": "code",
   "execution_count": null,
   "metadata": {},
   "outputs": [],
   "source": [
    "#а какие в обучающей \n",
    "[col for col in train_df.columns if col.split('.')[-1].split('_')[0]=='concentrate']"
   ]
  },
  {
   "cell_type": "markdown",
   "metadata": {},
   "source": [
    "### rougher"
   ]
  },
  {
   "cell_type": "code",
   "execution_count": null,
   "metadata": {},
   "outputs": [],
   "source": [
    "rougher_conc_df = train_df[['rougher.output.concentrate_ag',\n",
    "                            'rougher.output.concentrate_pb',\n",
    "                            'rougher.output.concentrate_sol',\n",
    "                            'rougher.output.concentrate_au']].copy()\n",
    "\n",
    "rougher_conc_df['total_conc'] = rougher_conc_df.sum(axis=1)\n",
    "display(rougher_conc_df.head())\n",
    "\n",
    "rougher_conc_df['total_conc'].hist(bins = 30)\n",
    "plt.title('распредение всех полезных металлов на этапе rougher')\n",
    "plt.show()"
   ]
  },
  {
   "cell_type": "markdown",
   "metadata": {},
   "source": [
    "### primary_cleaner"
   ]
  },
  {
   "cell_type": "code",
   "execution_count": null,
   "metadata": {},
   "outputs": [],
   "source": [
    "primary_cleaner_conc_df = train_df[['primary_cleaner.output.concentrate_ag',\n",
    "                            'primary_cleaner.output.concentrate_pb',\n",
    "                            'primary_cleaner.output.concentrate_sol',\n",
    "                            'primary_cleaner.output.concentrate_au']].copy()\n",
    "\n",
    "primary_cleaner_conc_df['total_conc'] = primary_cleaner_conc_df.sum(axis=1)\n",
    "display(primary_cleaner_conc_df.head())\n",
    "\n",
    "primary_cleaner_conc_df['total_conc'].hist(bins = 30)\n",
    "plt.title('распредение всех полезных металлов на этапе primary_cleaner')\n",
    "plt.show()"
   ]
  },
  {
   "cell_type": "markdown",
   "metadata": {},
   "source": [
    "### secondary cleaner"
   ]
  },
  {
   "cell_type": "code",
   "execution_count": null,
   "metadata": {},
   "outputs": [],
   "source": [
    "final_conc_df = train_df[['final.output.concentrate_ag',\n",
    "                            'final.output.concentrate_pb',\n",
    "                            'final.output.concentrate_sol',\n",
    "                            'final.output.concentrate_au']].copy()\n",
    "\n",
    "final_conc_df['total_conc'] = final_conc_df.sum(axis=1)\n",
    "display(final_conc_df.head())\n",
    "\n",
    "final_conc_df['total_conc'].hist(bins = 30)\n",
    "plt.title('распредение всех полезных металлов на этапе final')\n",
    "plt.show()"
   ]
  },
  {
   "cell_type": "markdown",
   "metadata": {},
   "source": [
    "### total"
   ]
  },
  {
   "cell_type": "code",
   "execution_count": null,
   "metadata": {},
   "outputs": [],
   "source": [
    "rougher_conc_df['total_conc'].hist(bins = 30, alpha = 0.5)\n",
    "primary_cleaner_conc_df['total_conc'].hist(bins = 30, alpha = 0.5)\n",
    "final_conc_df['total_conc'].hist(bins = 30, alpha = 0.5)\n",
    "\n",
    "plt.legend(['rougher', 'primary_cleaner', 'final'])\n",
    "plt.title('распредение всех полезных металлов')\n",
    "plt.show()"
   ]
  },
  {
   "cell_type": "markdown",
   "metadata": {},
   "source": [
    "### почистим аномалии"
   ]
  },
  {
   "cell_type": "code",
   "execution_count": null,
   "metadata": {},
   "outputs": [],
   "source": [
    "train_df['total_conc_rougher'] = train_df[['rougher.output.concentrate_ag',\n",
    "                            'rougher.output.concentrate_pb',\n",
    "                            'rougher.output.concentrate_sol',\n",
    "                            'rougher.output.concentrate_au']].sum(axis=1)\n",
    "\n",
    "train_df['total_conc_pc'] = train_df[['primary_cleaner.output.concentrate_ag',\n",
    "                            'primary_cleaner.output.concentrate_pb',\n",
    "                            'primary_cleaner.output.concentrate_sol',\n",
    "                            'primary_cleaner.output.concentrate_au']].sum(axis=1)\n",
    "\n",
    "train_df['total_conc_sc'] = train_df[['final.output.concentrate_ag',\n",
    "                            'final.output.concentrate_pb',\n",
    "                            'final.output.concentrate_sol',\n",
    "                            'final.output.concentrate_au']].sum(axis=1)"
   ]
  },
  {
   "cell_type": "code",
   "execution_count": null,
   "metadata": {},
   "outputs": [],
   "source": [
    "# заданим трешхолд после которого хотим данные отсечь \n",
    "train_df[train_df['total_conc_rougher']> 20]['total_conc_rougher'].hist(bins = 30, alpha = 0.5)\n",
    "train_df[train_df['total_conc_pc']> 20]['total_conc_pc'].hist(bins = 30, alpha = 0.5)\n",
    "train_df[train_df['total_conc_sc']> 20]['total_conc_sc'].hist(bins = 30, alpha = 0.5)\n",
    "\n",
    "plt.legend(['rougher', 'primary_cleaner', 'final'])\n",
    "plt.title('распредение всех полезных металлов')\n",
    "plt.show()"
   ]
  },
  {
   "cell_type": "code",
   "execution_count": null,
   "metadata": {},
   "outputs": [],
   "source": [
    "train_df = train_df.query('total_conc_rougher > 20')\\\n",
    "                    .query('total_conc_pc > 20')\\\n",
    "                    .query('total_conc_sc > 20')"
   ]
  },
  {
   "cell_type": "code",
   "execution_count": null,
   "metadata": {},
   "outputs": [],
   "source": [
    "# заданим трешхолд после которого хотим данные отсечь \n",
    "train_df['total_conc_rougher'].hist(bins = 30, alpha = 0.5)\n",
    "train_df['total_conc_pc'].hist(bins = 30, alpha = 0.5)\n",
    "train_df['total_conc_sc'].hist(bins = 30, alpha = 0.5)\n",
    "\n",
    "plt.legend(['rougher', 'primary_cleaner', 'final'])\n",
    "plt.title('распредение всех полезных металлов')\n",
    "plt.show()"
   ]
  },
  {
   "cell_type": "markdown",
   "metadata": {},
   "source": [
    "вот теперь распредления смещенные, но теперь без аномалий "
   ]
  },
  {
   "cell_type": "code",
   "execution_count": null,
   "metadata": {
    "scrolled": true
   },
   "outputs": [],
   "source": [
    "train_df.columns"
   ]
  },
  {
   "cell_type": "code",
   "execution_count": null,
   "metadata": {},
   "outputs": [],
   "source": [
    "cols = ['rougher.input.feed_ag',\n",
    "         'rougher.input.feed_pb',\n",
    "         'rougher.input.feed_rate',\n",
    "         'rougher.input.feed_size',\n",
    "         'rougher.input.feed_sol',\n",
    "         'rougher.input.feed_au']"
   ]
  },
  {
   "cell_type": "code",
   "execution_count": null,
   "metadata": {},
   "outputs": [],
   "source": [
    "for col in cols: \n",
    "    print(col)\n",
    "    train_df[col].hist(bins = 100)\n",
    "    plt.show()"
   ]
  },
  {
   "cell_type": "markdown",
   "metadata": {},
   "source": [
    "наиболее заметные аномалии в колонке feed_size, видимо ты хотел, чтобы именно эту колонку я почистил? "
   ]
  },
  {
   "cell_type": "code",
   "execution_count": 61,
   "metadata": {},
   "outputs": [
    {
     "data": {
      "image/png": "[encoded data removed]",
      "text/plain": [
       "<Figure size 1080x504 with 1 Axes>"
      ]
     },
     "metadata": {},
     "output_type": "display_data"
    },
    {
     "data": {
      "image/png": "[encoded data removed]",
      "text/plain": [
       "<Figure size 1080x504 with 1 Axes>"
      ]
     },
     "metadata": {},
     "output_type": "display_data"
    }
   ],
   "source": [
    "cols = ['rougher.input.feed_ag',\n",
    "         'rougher.input.feed_pb',\n",
    "         'rougher.input.feed_sol',\n",
    "         'rougher.input.feed_au']\n",
    "train_df['total_input_conc'] = train_df[cols].sum(axis=1)\n",
    "\n",
    "train_df['total_input_conc'].hist()\n",
    "plt.axvline(np.percentile(train_df['total_input_conc'], 2) , color= 'r')\n",
    "plt.title('распределение суммарной концетрации до очистки выбросов')\n",
    "plt.show()\n",
    "\n",
    "train_df = train_df[train_df['total_input_conc'] > np.percentile(train_df['total_input_conc'], 2)]\n",
    "\n",
    "train_df['total_input_conc'].hist()\n",
    "plt.title('распределение суммарной концетрации после очистки выбросов')\n",
    "plt.show()"
   ]
  },
  {
   "cell_type": "code",
   "execution_count": 62,
   "metadata": {},
   "outputs": [
    {
     "data": {
      "text/plain": [
       "count    12711.000000\n",
       "mean        58.645258\n",
       "std         13.229754\n",
       "min          9.659576\n",
       "0%           9.659576\n",
       "50%         55.392467\n",
       "90%         77.985737\n",
       "95%         83.726021\n",
       "99%         99.940138\n",
       "max        119.664018\n",
       "Name: rougher.input.feed_size, dtype: float64"
      ]
     },
     "metadata": {},
     "output_type": "display_data"
    }
   ],
   "source": [
    "display(train_df['rougher.input.feed_size'].describe(percentiles = [0, 0.5, 0.9, 0.95, 0.99]))\n",
    "train_df = train_df[train_df['rougher.input.feed_size']<120]"
   ]
  },
  {
   "cell_type": "code",
   "execution_count": 63,
   "metadata": {},
   "outputs": [
    {
     "data": {
      "text/plain": [
       "<AxesSubplot:>"
      ]
     },
     "execution_count": 63,
     "metadata": {},
     "output_type": "execute_result"
    },
    {
     "data": {
      "image/png": "[encoded data removed]",
      "text/plain": [
       "<Figure size 1080x504 with 1 Axes>"
      ]
     },
     "metadata": {},
     "output_type": "display_data"
    }
   ],
   "source": [
    "train_df['rougher.input.feed_size'].hist(bins = 100)"
   ]
  },
  {
   "cell_type": "code",
   "execution_count": null,
   "metadata": {},
   "outputs": [],
   "source": [
    "\n",
    "rougher_conc_df[rougher_conc_df['total_conc']>np.percentile(rougher_conc_df['total_conc'], 2)]\\\n",
    "    ['total_conc'].hist(bins = 30, alpha = 0.5)\n",
    "primary_cleaner_conc_df[primary_cleaner_conc_df['total_conc']>np.percentile(primary_cleaner_conc_df['total_conc'], 2)]\\\n",
    "    ['total_conc'].hist(bins = 30, alpha = 0.5)\n",
    "final_conc_df[final_conc_df['total_conc']>np.percentile(final_conc_df['total_conc'], 2)]\\\n",
    "    ['total_conc'].hist(bins = 30, alpha = 0.5)\n",
    "\n",
    "plt.legend(['rougher', 'primary_cleaner', 'final'])\n",
    "plt.title('распредение всех полезных металлов')\n",
    "plt.show()"
   ]
  },
  {
   "cell_type": "markdown",
   "metadata": {},
   "source": [
    "# Modeling "
   ]
  },
  {
   "cell_type": "code",
   "execution_count": null,
   "metadata": {},
   "outputs": [],
   "source": [
    "def smape(target, pred): \n",
    "    smape = np.mean(abs(target-pred)/((abs(target)+abs(pred))/2)*100)\n",
    "    return smape\n",
    "      \n",
    "scorer = make_scorer(smape, greater_is_better=False)\n",
    "\n",
    "#почистим выбросы \n",
    "def df_clean(df_reg, features, target):\n",
    "    for col in df_reg[features].columns:\n",
    "        lower = np.percentile(df_reg[col], 2)\n",
    "        upper = np.percentile(df_reg[col], 98)        \n",
    "        df_reg = df_reg[(df_reg[col]> lower) & (df_reg[col]<upper)]\n",
    "        return df_reg[features], df_reg[target]\n",
    "    \n",
    "def omagad_really_smape(smape_rougher, smape_final):\n",
    "    return 0.25*smape_rougher+ 0.75*smape_final"
   ]
  },
  {
   "cell_type": "markdown",
   "metadata": {},
   "source": [
    "### rougher "
   ]
  },
  {
   "cell_type": "markdown",
   "metadata": {},
   "source": [
    "#### df prep"
   ]
  },
  {
   "cell_type": "code",
   "execution_count": null,
   "metadata": {},
   "outputs": [],
   "source": [
    "rougher_cols = l_cols['rougher']['input']\n",
    "rougher_cols"
   ]
  },
  {
   "cell_type": "markdown",
   "metadata": {},
   "source": [
    "тк модель должна давать прогноз сразу после стадии грубой очистки, логично предположить, что данные будут известны только по инпуту этого этапа"
   ]
  },
  {
   "cell_type": "code",
   "execution_count": null,
   "metadata": {},
   "outputs": [],
   "source": [
    "target_rougher = ['rougher.output.recovery']"
   ]
  },
  {
   "cell_type": "code",
   "execution_count": null,
   "metadata": {},
   "outputs": [],
   "source": [
    "rougher_cols = rougher_cols + target_rougher"
   ]
  },
  {
   "cell_type": "code",
   "execution_count": null,
   "metadata": {},
   "outputs": [],
   "source": [
    "rougher_train_df = train_df[rougher_cols]"
   ]
  },
  {
   "cell_type": "code",
   "execution_count": null,
   "metadata": {},
   "outputs": [],
   "source": [
    "display(rougher_train_df.isnull().sum().sort_values(ascending=False))"
   ]
  },
  {
   "cell_type": "markdown",
   "metadata": {},
   "source": [
    "не так уж много пропусков, проще их будет удалить "
   ]
  },
  {
   "cell_type": "code",
   "execution_count": null,
   "metadata": {},
   "outputs": [],
   "source": [
    "print(rougher_train_df.shape)\n",
    "print(rougher_train_df.dropna().shape)\n",
    "rougher_train_df.dropna(inplace=True)"
   ]
  },
  {
   "cell_type": "code",
   "execution_count": null,
   "metadata": {},
   "outputs": [],
   "source": [
    "rougher_train_df"
   ]
  },
  {
   "cell_type": "code",
   "execution_count": null,
   "metadata": {},
   "outputs": [],
   "source": [
    "for col in rougher_train_df.columns:\n",
    "    sns.boxplot(rougher_train_df[col])\n",
    "    plt.title('boxplot for '+col)\n",
    "    plt.show()"
   ]
  },
  {
   "cell_type": "markdown",
   "metadata": {},
   "source": [
    "выбросов получается довольно много, чтобы назвать их аномалией, поэтому лучше убрать совсем по чуть-чуть с краев, чтоб захватить совсем уж странные объекты. остальное оставить. "
   ]
  },
  {
   "cell_type": "code",
   "execution_count": null,
   "metadata": {},
   "outputs": [],
   "source": [
    "rougher_train_df.columns[:-1]"
   ]
  },
  {
   "cell_type": "code",
   "execution_count": null,
   "metadata": {},
   "outputs": [],
   "source": [
    "#\n",
    "x, y = df_clean(rougher_train_df, rougher_train_df.columns[:-1], 'rougher.output.recovery')"
   ]
  },
  {
   "cell_type": "markdown",
   "metadata": {},
   "source": [
    "#### LR"
   ]
  },
  {
   "cell_type": "code",
   "execution_count": null,
   "metadata": {},
   "outputs": [],
   "source": [
    "#обычная линейная модель \n",
    "lr = LinearRegression()\n",
    "scores = cross_val_score(lr, x, y, scoring=scorer, cv=5)\n",
    "print(np.mean(scores), 'средний скор на кросс валидации для линейной модели для первого таргета') \n",
    "print(scores)\n",
    "lr.fit(x,y)"
   ]
  },
  {
   "cell_type": "markdown",
   "metadata": {},
   "source": [
    "#### rfr"
   ]
  },
  {
   "cell_type": "code",
   "execution_count": null,
   "metadata": {},
   "outputs": [],
   "source": [
    "from sklearn.model_selection import GridSearchCV\n",
    "# Create the parameter grid based on the results of random search \n",
    "param_grid = {\n",
    "    'max_depth': [x for x in range(3,15,3)],\n",
    "    'n_estimators': [x for x in range(10,90,20)]\n",
    "}\n"
   ]
  },
  {
   "cell_type": "code",
   "execution_count": null,
   "metadata": {},
   "outputs": [],
   "source": [
    "rf = RandomForestRegressor(random_state=42)\n",
    "\n",
    "grid_search = GridSearchCV(estimator = rf, param_grid = param_grid, \n",
    "                          cv = 5, n_jobs = -1, verbose = 10, scoring=scorer)\n",
    "grid_search.fit(x, y)\n",
    "print(grid_search.best_params_)\n",
    "best_model_rf_rougher = grid_search.best_estimator_\n",
    "best_model_rf_rougher.fit(x,y)"
   ]
  },
  {
   "cell_type": "code",
   "execution_count": null,
   "metadata": {},
   "outputs": [],
   "source": [
    "print(grid_search.best_score_)\n"
   ]
  },
  {
   "cell_type": "markdown",
   "metadata": {},
   "source": [
    "#### catboost"
   ]
  },
  {
   "cell_type": "code",
   "execution_count": null,
   "metadata": {
    "scrolled": true
   },
   "outputs": [],
   "source": [
    "ctb_rougher = catboost.CatBoostRegressor(verbose=100)\n",
    "\n",
    "scores = cross_val_score(ctb_rougher, x, y, scoring=scorer, cv=5)\n",
    "\n",
    "print(np.mean(scores), 'средний скор на кросс валидации для катбуста для первого таргета') \n",
    "print(scores)\n",
    "ctb_rougher.fit(x,y)"
   ]
  },
  {
   "cell_type": "markdown",
   "metadata": {},
   "source": [
    "##### лучшая модель rougher\n",
    "\n",
    "лучше всего себя показала линейная регрессия на этом этапе со средним показателем скора 5.9"
   ]
  },
  {
   "cell_type": "markdown",
   "metadata": {},
   "source": [
    "### final"
   ]
  },
  {
   "cell_type": "code",
   "execution_count": null,
   "metadata": {},
   "outputs": [],
   "source": [
    "#избавимся от ненужных колонок \n",
    "target = train_df['final.output.recovery']\n",
    "train_df = train_df.drop(l_cols['final']['output'] + ['date', 'recovery_test'], axis = 1)"
   ]
  },
  {
   "cell_type": "code",
   "execution_count": null,
   "metadata": {},
   "outputs": [],
   "source": [
    "train_df = train_df[test_df.drop(['date'], axis = 1).columns].join(target)"
   ]
  },
  {
   "cell_type": "code",
   "execution_count": null,
   "metadata": {},
   "outputs": [],
   "source": [
    "train_df"
   ]
  },
  {
   "cell_type": "code",
   "execution_count": null,
   "metadata": {},
   "outputs": [],
   "source": [
    "train_df = train_df.dropna()\n",
    "x, y = df_clean(train_df, train_df.drop(['final.output.recovery'], axis=1).columns, \n",
    "                                         'final.output.recovery')"
   ]
  },
  {
   "cell_type": "markdown",
   "metadata": {},
   "source": [
    "#### lr2"
   ]
  },
  {
   "cell_type": "code",
   "execution_count": null,
   "metadata": {},
   "outputs": [],
   "source": [
    "lr_2 = LinearRegression()\n",
    "scores = cross_val_score(lr_2, x,y, scoring=scorer)\n",
    "print(scores.mean())\n",
    "lr_2.fit(x,y)"
   ]
  },
  {
   "cell_type": "markdown",
   "metadata": {},
   "source": [
    "#### rfr2"
   ]
  },
  {
   "cell_type": "code",
   "execution_count": null,
   "metadata": {},
   "outputs": [],
   "source": [
    "rfr2 = RandomForestRegressor()\n",
    "\n",
    "grid_search = GridSearchCV(estimator = rfr2, param_grid = param_grid,  \n",
    "                          cv = 5, n_jobs = -1, verbose = 50, scoring=scorer)\n",
    "\n",
    "grid_search.fit(x, y)\n",
    "print(grid_search.best_params_)\n",
    "print(grid_search.best_score_)\n",
    "best_model_rfr2 = grid_search.best_estimator_\n",
    "best_model_rfr2.fit(x,y)"
   ]
  },
  {
   "cell_type": "code",
   "execution_count": null,
   "metadata": {},
   "outputs": [],
   "source": [
    "print(grid_search.best_score_)"
   ]
  },
  {
   "cell_type": "markdown",
   "metadata": {},
   "source": [
    "#### ctb_2"
   ]
  },
  {
   "cell_type": "code",
   "execution_count": null,
   "metadata": {
    "scrolled": true
   },
   "outputs": [],
   "source": [
    "ctb_2 = catboost.CatBoostRegressor(verbose=100)\n",
    "\n",
    "scores = cross_val_score(ctb_2, x, y, scoring=scorer, cv=5)\n",
    "\n",
    "print(np.mean(scores), 'средний скор на кросс валидации для катбуста для первого таргета') \n",
    "print(scores)\n",
    "ctb_2.fit(x,y)\n"
   ]
  },
  {
   "cell_type": "markdown",
   "metadata": {},
   "source": [
    "##### выводы по моделям final \n",
    "\n",
    "здесь примерно похожие результаты, кэтбуст и случайный лес показали примерно одинаковые результаты, но случайный лес все же немного лучше, возьмем его "
   ]
  },
  {
   "cell_type": "markdown",
   "metadata": {},
   "source": [
    "### test"
   ]
  },
  {
   "cell_type": "code",
   "execution_count": null,
   "metadata": {},
   "outputs": [],
   "source": [
    "test_df = test_df.merge(full_df[['date', 'rougher.output.recovery', 'final.output.recovery']],\n",
    "                        how='left', on = 'date').drop(['date'], axis = 1).dropna()\n",
    "target_rougher_test = test_df['rougher.output.recovery']\n",
    "target_final_test = test_df['final.output.recovery']\n"
   ]
  },
  {
   "cell_type": "code",
   "execution_count": null,
   "metadata": {},
   "outputs": [],
   "source": [
    "x_final = test_df.drop(['rougher.output.recovery', 'final.output.recovery'], axis = 1)\n",
    "x_rougher = test_df[rougher_cols].drop(['rougher.output.recovery'], axis = 1)"
   ]
  },
  {
   "cell_type": "code",
   "execution_count": null,
   "metadata": {
    "scrolled": true
   },
   "outputs": [],
   "source": [
    "test_df"
   ]
  },
  {
   "cell_type": "code",
   "execution_count": null,
   "metadata": {},
   "outputs": [],
   "source": [
    "pred = lr.predict(x_rougher)\n",
    "\n",
    "smape_rougher = smape(target_rougher_test, pred)"
   ]
  },
  {
   "cell_type": "code",
   "execution_count": null,
   "metadata": {},
   "outputs": [],
   "source": [
    "#сравним по качеству с дамми регресором \n",
    "\n",
    "dummy_pred = np.array([target_rougher_test.mean()] * len(pred))\n",
    "\n",
    "smape_rougher_dummy = smape(target_rougher_test, dummy_pred)\n",
    "print(smape_rougher_dummy)"
   ]
  },
  {
   "cell_type": "code",
   "execution_count": null,
   "metadata": {},
   "outputs": [],
   "source": [
    "pred = best_model_rfr2.predict(x_final)\n",
    "\n",
    "smape_final = smape(target_final_test, pred)\n",
    "print(smape_final)"
   ]
  },
  {
   "cell_type": "code",
   "execution_count": null,
   "metadata": {},
   "outputs": [],
   "source": [
    "#сравним по качеству с дамми регресором \n",
    "\n",
    "dummy_pred_final = np.array([target_final_test.mean()] * len(pred))\n",
    "\n",
    "smape_rougher_dummy_final = smape(target_final_test, dummy_pred_final)\n",
    "print(smape_rougher_dummy_final)"
   ]
  },
  {
   "cell_type": "code",
   "execution_count": null,
   "metadata": {},
   "outputs": [],
   "source": [
    "pred = ctb_2.predict(x_final)\n",
    "\n",
    "smape_final = smape(target_final_test, pred)\n",
    "print(smape_final)"
   ]
  },
  {
   "cell_type": "markdown",
   "metadata": {},
   "source": [
    "и все же кэтбуст на тестовых получше себя показывает, поэтому в итоговых расчетах будем использовать именно его "
   ]
  },
  {
   "cell_type": "code",
   "execution_count": null,
   "metadata": {},
   "outputs": [],
   "source": [
    "print('rougher model score on test sample', smape_rougher)\n",
    "print('final smape on test sample', smape_final)"
   ]
  },
  {
   "cell_type": "code",
   "execution_count": null,
   "metadata": {},
   "outputs": [],
   "source": [
    "smape_total = omagad_really_smape(smape_rougher, smape_final) \n",
    "print('итоговая метрика', smape_total)"
   ]
  },
  {
   "cell_type": "code",
   "execution_count": null,
   "metadata": {},
   "outputs": [],
   "source": [
    "smape_total_dummy = omagad_really_smape(smape_rougher_dummy, smape_rougher_dummy_final) \n",
    "print('итоговая метрика', smape_total_dummy)"
   ]
  }
 ],
 "metadata": {
  "ExecuteTimeLog": [
   {
    "duration": 12,
    "start_time": "2023-01-28T02:45:29.348Z"
   },
   {
    "duration": 581,
    "start_time": "2023-01-31T10:13:39.864Z"
   },
   {
    "duration": 1534,
    "start_time": "2023-01-31T10:13:40.447Z"
   },
   {
    "duration": 2925,
    "start_time": "2023-01-31T10:13:41.983Z"
   },
   {
    "duration": 2,
    "start_time": "2023-01-31T10:13:44.910Z"
   },
   {
    "duration": 10,
    "start_time": "2023-01-31T10:13:44.914Z"
   },
   {
    "duration": 20,
    "start_time": "2023-01-31T10:13:44.926Z"
   },
   {
    "duration": 6,
    "start_time": "2023-01-31T10:13:44.947Z"
   },
   {
    "duration": 11,
    "start_time": "2023-01-31T10:13:44.955Z"
   },
   {
    "duration": 31,
    "start_time": "2023-01-31T10:13:44.968Z"
   },
   {
    "duration": 7,
    "start_time": "2023-01-31T10:13:45.003Z"
   },
   {
    "duration": 26,
    "start_time": "2023-01-31T10:13:45.011Z"
   },
   {
    "duration": 15,
    "start_time": "2023-01-31T10:13:45.039Z"
   },
   {
    "duration": 19,
    "start_time": "2023-01-31T10:13:45.056Z"
   },
   {
    "duration": 243,
    "start_time": "2023-01-31T10:13:45.077Z"
   },
   {
    "duration": 5,
    "start_time": "2023-01-31T10:13:45.321Z"
   },
   {
    "duration": 6,
    "start_time": "2023-01-31T10:13:45.328Z"
   },
   {
    "duration": 402,
    "start_time": "2023-01-31T10:13:45.335Z"
   },
   {
    "duration": 284,
    "start_time": "2023-01-31T10:13:45.739Z"
   },
   {
    "duration": 299,
    "start_time": "2023-01-31T10:13:46.025Z"
   },
   {
    "duration": 3,
    "start_time": "2023-01-31T10:13:46.326Z"
   },
   {
    "duration": 291,
    "start_time": "2023-01-31T10:13:46.331Z"
   },
   {
    "duration": 4,
    "start_time": "2023-01-31T10:13:46.624Z"
   },
   {
    "duration": 311,
    "start_time": "2023-01-31T10:13:46.630Z"
   },
   {
    "duration": 7,
    "start_time": "2023-01-31T10:13:46.943Z"
   },
   {
    "duration": 280,
    "start_time": "2023-01-31T10:13:46.951Z"
   },
   {
    "duration": 4,
    "start_time": "2023-01-31T10:13:47.233Z"
   },
   {
    "duration": 4,
    "start_time": "2023-01-31T10:13:47.248Z"
   },
   {
    "duration": 782,
    "start_time": "2023-01-31T10:13:47.256Z"
   },
   {
    "duration": 712,
    "start_time": "2023-01-31T10:13:48.040Z"
   },
   {
    "duration": 4,
    "start_time": "2023-01-31T10:13:48.754Z"
   },
   {
    "duration": 173,
    "start_time": "2023-01-31T10:13:48.759Z"
   },
   {
    "duration": 204,
    "start_time": "2023-01-31T10:13:48.933Z"
   },
   {
    "duration": 185,
    "start_time": "2023-01-31T10:13:49.138Z"
   },
   {
    "duration": 281,
    "start_time": "2023-01-31T10:13:49.324Z"
   },
   {
    "duration": 28,
    "start_time": "2023-01-31T10:13:49.607Z"
   },
   {
    "duration": 415,
    "start_time": "2023-01-31T10:13:49.637Z"
   },
   {
    "duration": 36,
    "start_time": "2023-01-31T10:13:50.054Z"
   },
   {
    "duration": 292,
    "start_time": "2023-01-31T10:13:50.091Z"
   },
   {
    "duration": 5,
    "start_time": "2023-01-31T10:13:50.385Z"
   },
   {
    "duration": 282,
    "start_time": "2023-01-31T10:13:50.391Z"
   },
   {
    "duration": 5,
    "start_time": "2023-01-31T10:13:50.675Z"
   },
   {
    "duration": 30,
    "start_time": "2023-01-31T10:13:50.682Z"
   },
   {
    "duration": 25,
    "start_time": "2023-01-31T10:13:50.714Z"
   },
   {
    "duration": 38,
    "start_time": "2023-01-31T10:13:50.741Z"
   },
   {
    "duration": 22,
    "start_time": "2023-01-31T10:13:50.780Z"
   },
   {
    "duration": 26,
    "start_time": "2023-01-31T10:13:50.804Z"
   },
   {
    "duration": 17,
    "start_time": "2023-01-31T10:13:50.832Z"
   },
   {
    "duration": 28,
    "start_time": "2023-01-31T10:13:50.852Z"
   },
   {
    "duration": 1354,
    "start_time": "2023-01-31T10:13:50.882Z"
   },
   {
    "duration": 12,
    "start_time": "2023-01-31T10:13:52.237Z"
   },
   {
    "duration": 29,
    "start_time": "2023-01-31T10:13:52.250Z"
   },
   {
    "duration": 867,
    "start_time": "2023-01-31T10:13:52.280Z"
   },
   {
    "duration": 3,
    "start_time": "2023-01-31T10:13:53.149Z"
   },
   {
    "duration": 120283,
    "start_time": "2023-01-31T10:13:53.153Z"
   },
   {
    "duration": 3,
    "start_time": "2023-01-31T10:15:53.437Z"
   },
   {
    "duration": 26584,
    "start_time": "2023-01-31T10:15:53.447Z"
   },
   {
    "duration": 5,
    "start_time": "2023-01-31T10:16:20.033Z"
   },
   {
    "duration": 40,
    "start_time": "2023-01-31T10:16:20.040Z"
   },
   {
    "duration": 110,
    "start_time": "2023-01-31T10:16:20.081Z"
   },
   {
    "duration": 15,
    "start_time": "2023-01-31T10:16:20.193Z"
   },
   {
    "duration": 1338,
    "start_time": "2023-01-31T10:16:20.210Z"
   },
   {
    "duration": 19236,
    "start_time": "2023-01-31T10:16:21.551Z"
   },
   {
    "duration": 0,
    "start_time": "2023-01-31T10:16:40.789Z"
   },
   {
    "duration": 0,
    "start_time": "2023-01-31T10:16:40.791Z"
   },
   {
    "duration": 0,
    "start_time": "2023-01-31T10:16:40.792Z"
   },
   {
    "duration": 0,
    "start_time": "2023-01-31T10:16:40.793Z"
   },
   {
    "duration": 0,
    "start_time": "2023-01-31T10:16:40.795Z"
   },
   {
    "duration": 0,
    "start_time": "2023-01-31T10:16:40.796Z"
   },
   {
    "duration": 0,
    "start_time": "2023-01-31T10:16:40.797Z"
   },
   {
    "duration": 0,
    "start_time": "2023-01-31T10:16:40.798Z"
   },
   {
    "duration": 0,
    "start_time": "2023-01-31T10:16:40.799Z"
   },
   {
    "duration": 0,
    "start_time": "2023-01-31T10:16:40.800Z"
   },
   {
    "duration": 0,
    "start_time": "2023-01-31T10:16:40.801Z"
   },
   {
    "duration": 0,
    "start_time": "2023-01-31T10:16:40.803Z"
   },
   {
    "duration": 0,
    "start_time": "2023-01-31T10:16:40.803Z"
   },
   {
    "duration": 0,
    "start_time": "2023-01-31T10:16:40.804Z"
   },
   {
    "duration": 561,
    "start_time": "2023-01-31T10:17:23.915Z"
   },
   {
    "duration": 1370,
    "start_time": "2023-01-31T10:17:24.478Z"
   },
   {
    "duration": 650,
    "start_time": "2023-01-31T10:17:25.849Z"
   },
   {
    "duration": 3,
    "start_time": "2023-01-31T10:17:26.500Z"
   },
   {
    "duration": 34,
    "start_time": "2023-01-31T10:17:26.504Z"
   },
   {
    "duration": 33,
    "start_time": "2023-01-31T10:17:26.539Z"
   },
   {
    "duration": 39,
    "start_time": "2023-01-31T10:17:26.573Z"
   },
   {
    "duration": 25,
    "start_time": "2023-01-31T10:17:26.613Z"
   },
   {
    "duration": 62,
    "start_time": "2023-01-31T10:17:26.640Z"
   },
   {
    "duration": 19,
    "start_time": "2023-01-31T10:17:26.704Z"
   },
   {
    "duration": 39,
    "start_time": "2023-01-31T10:17:26.725Z"
   },
   {
    "duration": 44,
    "start_time": "2023-01-31T10:17:26.765Z"
   },
   {
    "duration": 50,
    "start_time": "2023-01-31T10:17:26.810Z"
   },
   {
    "duration": 245,
    "start_time": "2023-01-31T10:17:26.862Z"
   },
   {
    "duration": 5,
    "start_time": "2023-01-31T10:17:27.108Z"
   },
   {
    "duration": 55,
    "start_time": "2023-01-31T10:17:27.115Z"
   },
   {
    "duration": 297,
    "start_time": "2023-01-31T10:17:27.171Z"
   },
   {
    "duration": 340,
    "start_time": "2023-01-31T10:17:27.469Z"
   },
   {
    "duration": 294,
    "start_time": "2023-01-31T10:17:27.811Z"
   },
   {
    "duration": 3,
    "start_time": "2023-01-31T10:17:28.107Z"
   },
   {
    "duration": 325,
    "start_time": "2023-01-31T10:17:28.111Z"
   },
   {
    "duration": 3,
    "start_time": "2023-01-31T10:17:28.438Z"
   },
   {
    "duration": 317,
    "start_time": "2023-01-31T10:17:28.448Z"
   },
   {
    "duration": 4,
    "start_time": "2023-01-31T10:17:28.766Z"
   },
   {
    "duration": 309,
    "start_time": "2023-01-31T10:17:28.771Z"
   },
   {
    "duration": 4,
    "start_time": "2023-01-31T10:17:29.082Z"
   },
   {
    "duration": 37,
    "start_time": "2023-01-31T10:17:29.087Z"
   },
   {
    "duration": 713,
    "start_time": "2023-01-31T10:17:29.125Z"
   },
   {
    "duration": 717,
    "start_time": "2023-01-31T10:17:29.840Z"
   },
   {
    "duration": 4,
    "start_time": "2023-01-31T10:17:30.559Z"
   },
   {
    "duration": 258,
    "start_time": "2023-01-31T10:17:30.565Z"
   },
   {
    "duration": 194,
    "start_time": "2023-01-31T10:17:30.824Z"
   },
   {
    "duration": 188,
    "start_time": "2023-01-31T10:17:31.020Z"
   },
   {
    "duration": 274,
    "start_time": "2023-01-31T10:17:31.210Z"
   },
   {
    "duration": 28,
    "start_time": "2023-01-31T10:17:31.486Z"
   },
   {
    "duration": 452,
    "start_time": "2023-01-31T10:17:31.515Z"
   },
   {
    "duration": 34,
    "start_time": "2023-01-31T10:17:31.968Z"
   },
   {
    "duration": 316,
    "start_time": "2023-01-31T10:17:32.004Z"
   },
   {
    "duration": 95,
    "start_time": "2023-01-31T10:17:37.956Z"
   },
   {
    "duration": 4,
    "start_time": "2023-01-31T10:17:41.563Z"
   },
   {
    "duration": 79,
    "start_time": "2023-01-31T10:18:01.610Z"
   },
   {
    "duration": 6,
    "start_time": "2023-01-31T10:18:03.524Z"
   },
   {
    "duration": 135,
    "start_time": "2023-01-31T10:18:06.887Z"
   },
   {
    "duration": 165,
    "start_time": "2023-01-31T10:18:14.288Z"
   },
   {
    "duration": 223,
    "start_time": "2023-01-31T10:18:18.527Z"
   },
   {
    "duration": 103,
    "start_time": "2023-01-31T10:19:10.483Z"
   },
   {
    "duration": 5,
    "start_time": "2023-01-31T10:19:29.788Z"
   },
   {
    "duration": 299,
    "start_time": "2023-01-31T10:20:05.802Z"
   },
   {
    "duration": 323,
    "start_time": "2023-01-31T10:20:11.059Z"
   },
   {
    "duration": 243,
    "start_time": "2023-01-31T10:20:19.545Z"
   },
   {
    "duration": 247,
    "start_time": "2023-01-31T10:20:36.347Z"
   },
   {
    "duration": 4,
    "start_time": "2023-01-31T10:21:00.374Z"
   },
   {
    "duration": 5,
    "start_time": "2023-01-31T10:21:05.014Z"
   },
   {
    "duration": 4,
    "start_time": "2023-01-31T10:21:08.166Z"
   },
   {
    "duration": 4,
    "start_time": "2023-01-31T10:21:24.704Z"
   },
   {
    "duration": 3,
    "start_time": "2023-01-31T10:21:38.598Z"
   },
   {
    "duration": 1586,
    "start_time": "2023-01-31T10:22:02.741Z"
   },
   {
    "duration": 5,
    "start_time": "2023-01-31T10:24:49.380Z"
   },
   {
    "duration": 106,
    "start_time": "2023-01-31T10:25:07.306Z"
   },
   {
    "duration": 10,
    "start_time": "2023-01-31T10:25:16.138Z"
   },
   {
    "duration": 8,
    "start_time": "2023-01-31T10:25:18.822Z"
   },
   {
    "duration": 9,
    "start_time": "2023-01-31T10:25:27.289Z"
   },
   {
    "duration": 44,
    "start_time": "2023-01-31T10:25:54.569Z"
   },
   {
    "duration": 14,
    "start_time": "2023-01-31T10:26:12.160Z"
   },
   {
    "duration": 281,
    "start_time": "2023-01-31T10:26:34.169Z"
   },
   {
    "duration": 1576,
    "start_time": "2023-01-31T10:26:55.860Z"
   },
   {
    "duration": 570,
    "start_time": "2023-01-31T10:27:23.308Z"
   },
   {
    "duration": 1358,
    "start_time": "2023-01-31T10:27:23.880Z"
   },
   {
    "duration": 712,
    "start_time": "2023-01-31T10:27:25.240Z"
   },
   {
    "duration": 3,
    "start_time": "2023-01-31T10:27:25.955Z"
   },
   {
    "duration": 12,
    "start_time": "2023-01-31T10:27:25.959Z"
   },
   {
    "duration": 18,
    "start_time": "2023-01-31T10:27:25.972Z"
   },
   {
    "duration": 5,
    "start_time": "2023-01-31T10:27:25.991Z"
   },
   {
    "duration": 10,
    "start_time": "2023-01-31T10:27:25.998Z"
   },
   {
    "duration": 44,
    "start_time": "2023-01-31T10:27:26.009Z"
   },
   {
    "duration": 6,
    "start_time": "2023-01-31T10:27:26.055Z"
   },
   {
    "duration": 12,
    "start_time": "2023-01-31T10:27:26.063Z"
   },
   {
    "duration": 8,
    "start_time": "2023-01-31T10:27:26.077Z"
   },
   {
    "duration": 14,
    "start_time": "2023-01-31T10:27:26.086Z"
   },
   {
    "duration": 267,
    "start_time": "2023-01-31T10:27:26.101Z"
   },
   {
    "duration": 5,
    "start_time": "2023-01-31T10:27:26.369Z"
   },
   {
    "duration": 8,
    "start_time": "2023-01-31T10:27:26.375Z"
   },
   {
    "duration": 314,
    "start_time": "2023-01-31T10:27:26.384Z"
   },
   {
    "duration": 355,
    "start_time": "2023-01-31T10:27:26.700Z"
   },
   {
    "duration": 306,
    "start_time": "2023-01-31T10:27:27.056Z"
   },
   {
    "duration": 4,
    "start_time": "2023-01-31T10:27:27.364Z"
   },
   {
    "duration": 286,
    "start_time": "2023-01-31T10:27:27.369Z"
   },
   {
    "duration": 4,
    "start_time": "2023-01-31T10:27:27.657Z"
   },
   {
    "duration": 332,
    "start_time": "2023-01-31T10:27:27.662Z"
   },
   {
    "duration": 3,
    "start_time": "2023-01-31T10:27:27.996Z"
   },
   {
    "duration": 278,
    "start_time": "2023-01-31T10:27:28.001Z"
   },
   {
    "duration": 4,
    "start_time": "2023-01-31T10:27:28.280Z"
   },
   {
    "duration": 6,
    "start_time": "2023-01-31T10:27:28.286Z"
   },
   {
    "duration": 737,
    "start_time": "2023-01-31T10:27:28.296Z"
   },
   {
    "duration": 722,
    "start_time": "2023-01-31T10:27:29.035Z"
   },
   {
    "duration": 4,
    "start_time": "2023-01-31T10:27:29.758Z"
   },
   {
    "duration": 188,
    "start_time": "2023-01-31T10:27:29.763Z"
   },
   {
    "duration": 186,
    "start_time": "2023-01-31T10:27:29.952Z"
   },
   {
    "duration": 187,
    "start_time": "2023-01-31T10:27:30.140Z"
   },
   {
    "duration": 289,
    "start_time": "2023-01-31T10:27:30.328Z"
   },
   {
    "duration": 34,
    "start_time": "2023-01-31T10:27:30.619Z"
   },
   {
    "duration": 412,
    "start_time": "2023-01-31T10:27:30.655Z"
   },
   {
    "duration": 38,
    "start_time": "2023-01-31T10:27:31.068Z"
   },
   {
    "duration": 301,
    "start_time": "2023-01-31T10:27:31.108Z"
   },
   {
    "duration": 4,
    "start_time": "2023-01-31T10:27:31.411Z"
   },
   {
    "duration": 6,
    "start_time": "2023-01-31T10:27:31.417Z"
   },
   {
    "duration": 1503,
    "start_time": "2023-01-31T10:27:31.425Z"
   },
   {
    "duration": 18,
    "start_time": "2023-01-31T10:27:32.930Z"
   },
   {
    "duration": 244,
    "start_time": "2023-01-31T10:27:32.950Z"
   },
   {
    "duration": 4,
    "start_time": "2023-01-31T10:27:33.196Z"
   },
   {
    "duration": 380,
    "start_time": "2023-01-31T10:27:33.201Z"
   },
   {
    "duration": 4,
    "start_time": "2023-01-31T10:27:33.583Z"
   },
   {
    "duration": 8,
    "start_time": "2023-01-31T10:27:33.588Z"
   },
   {
    "duration": 5,
    "start_time": "2023-01-31T10:27:33.597Z"
   },
   {
    "duration": 5,
    "start_time": "2023-01-31T10:27:33.603Z"
   },
   {
    "duration": 6,
    "start_time": "2023-01-31T10:27:33.609Z"
   },
   {
    "duration": 8,
    "start_time": "2023-01-31T10:27:33.617Z"
   },
   {
    "duration": 26,
    "start_time": "2023-01-31T10:27:33.626Z"
   },
   {
    "duration": 14,
    "start_time": "2023-01-31T10:27:33.654Z"
   },
   {
    "duration": 1315,
    "start_time": "2023-01-31T10:27:33.669Z"
   },
   {
    "duration": 5,
    "start_time": "2023-01-31T10:27:34.985Z"
   },
   {
    "duration": 9,
    "start_time": "2023-01-31T10:27:34.991Z"
   },
   {
    "duration": 456,
    "start_time": "2023-01-31T10:27:35.001Z"
   },
   {
    "duration": 89,
    "start_time": "2023-01-31T10:27:35.460Z"
   },
   {
    "duration": 123306,
    "start_time": "2023-01-31T10:27:35.551Z"
   },
   {
    "duration": 3,
    "start_time": "2023-01-31T10:29:38.859Z"
   },
   {
    "duration": 30061,
    "start_time": "2023-01-31T10:29:38.863Z"
   },
   {
    "duration": 8,
    "start_time": "2023-01-31T10:30:08.926Z"
   },
   {
    "duration": 23,
    "start_time": "2023-01-31T10:30:08.935Z"
   },
   {
    "duration": 53,
    "start_time": "2023-01-31T10:30:08.961Z"
   },
   {
    "duration": 15,
    "start_time": "2023-01-31T10:30:09.015Z"
   },
   {
    "duration": 2223,
    "start_time": "2023-01-31T10:30:09.032Z"
   },
   {
    "duration": 603821,
    "start_time": "2023-01-31T10:30:11.257Z"
   },
   {
    "duration": 3,
    "start_time": "2023-01-31T10:40:15.080Z"
   },
   {
    "duration": 102447,
    "start_time": "2023-01-31T10:40:15.084Z"
   },
   {
    "duration": 22,
    "start_time": "2023-01-31T10:41:57.533Z"
   },
   {
    "duration": 14,
    "start_time": "2023-01-31T10:41:57.559Z"
   },
   {
    "duration": 51,
    "start_time": "2023-01-31T10:41:57.575Z"
   },
   {
    "duration": 26,
    "start_time": "2023-01-31T10:41:57.628Z"
   },
   {
    "duration": 92,
    "start_time": "2023-01-31T10:41:57.658Z"
   },
   {
    "duration": 32,
    "start_time": "2023-01-31T10:41:57.752Z"
   },
   {
    "duration": 6,
    "start_time": "2023-01-31T10:41:57.786Z"
   },
   {
    "duration": 29,
    "start_time": "2023-01-31T10:41:57.794Z"
   },
   {
    "duration": 27,
    "start_time": "2023-01-31T10:41:57.825Z"
   },
   {
    "duration": 31,
    "start_time": "2023-01-31T10:41:57.854Z"
   },
   {
    "duration": 9,
    "start_time": "2023-01-31T10:41:57.887Z"
   },
   {
    "duration": 51,
    "start_time": "2023-02-01T14:31:39.815Z"
   },
   {
    "duration": 7,
    "start_time": "2023-02-01T14:31:47.842Z"
   },
   {
    "duration": 443,
    "start_time": "2023-02-01T14:32:19.017Z"
   },
   {
    "duration": 1613,
    "start_time": "2023-02-01T14:32:19.462Z"
   },
   {
    "duration": 2436,
    "start_time": "2023-02-01T14:32:21.077Z"
   },
   {
    "duration": 3,
    "start_time": "2023-02-01T14:32:23.516Z"
   },
   {
    "duration": 16,
    "start_time": "2023-02-01T14:32:23.521Z"
   },
   {
    "duration": 29,
    "start_time": "2023-02-01T14:32:23.539Z"
   },
   {
    "duration": 5,
    "start_time": "2023-02-01T14:32:23.570Z"
   },
   {
    "duration": 28,
    "start_time": "2023-02-01T14:32:23.577Z"
   },
   {
    "duration": 44,
    "start_time": "2023-02-01T14:32:23.613Z"
   },
   {
    "duration": 9,
    "start_time": "2023-02-01T14:32:23.659Z"
   },
   {
    "duration": 23,
    "start_time": "2023-02-01T14:32:23.669Z"
   },
   {
    "duration": 33,
    "start_time": "2023-02-01T14:32:23.694Z"
   },
   {
    "duration": 22,
    "start_time": "2023-02-01T14:32:23.729Z"
   },
   {
    "duration": 279,
    "start_time": "2023-02-01T14:32:23.753Z"
   },
   {
    "duration": 6,
    "start_time": "2023-02-01T14:32:24.034Z"
   },
   {
    "duration": 19,
    "start_time": "2023-02-01T14:32:24.042Z"
   },
   {
    "duration": 459,
    "start_time": "2023-02-01T14:32:24.063Z"
   },
   {
    "duration": 425,
    "start_time": "2023-02-01T14:32:24.524Z"
   },
   {
    "duration": 374,
    "start_time": "2023-02-01T14:32:24.951Z"
   },
   {
    "duration": 4,
    "start_time": "2023-02-01T14:32:25.328Z"
   },
   {
    "duration": 387,
    "start_time": "2023-02-01T14:32:25.334Z"
   },
   {
    "duration": 5,
    "start_time": "2023-02-01T14:32:25.723Z"
   },
   {
    "duration": 365,
    "start_time": "2023-02-01T14:32:25.730Z"
   },
   {
    "duration": 11,
    "start_time": "2023-02-01T14:32:26.097Z"
   },
   {
    "duration": 352,
    "start_time": "2023-02-01T14:32:26.112Z"
   },
   {
    "duration": 4,
    "start_time": "2023-02-01T14:32:26.466Z"
   },
   {
    "duration": 46,
    "start_time": "2023-02-01T14:32:26.471Z"
   },
   {
    "duration": 939,
    "start_time": "2023-02-01T14:32:26.520Z"
   },
   {
    "duration": 864,
    "start_time": "2023-02-01T14:32:27.460Z"
   },
   {
    "duration": 4,
    "start_time": "2023-02-01T14:32:28.326Z"
   },
   {
    "duration": 214,
    "start_time": "2023-02-01T14:32:28.332Z"
   },
   {
    "duration": 225,
    "start_time": "2023-02-01T14:32:28.548Z"
   },
   {
    "duration": 217,
    "start_time": "2023-02-01T14:32:28.774Z"
   },
   {
    "duration": 355,
    "start_time": "2023-02-01T14:32:28.993Z"
   },
   {
    "duration": 30,
    "start_time": "2023-02-01T14:32:29.350Z"
   },
   {
    "duration": 487,
    "start_time": "2023-02-01T14:32:29.382Z"
   },
   {
    "duration": 61,
    "start_time": "2023-02-01T14:32:29.871Z"
   },
   {
    "duration": 338,
    "start_time": "2023-02-01T14:32:29.934Z"
   },
   {
    "duration": 5,
    "start_time": "2023-02-01T14:32:30.273Z"
   },
   {
    "duration": 52,
    "start_time": "2023-02-01T14:32:30.280Z"
   },
   {
    "duration": 1864,
    "start_time": "2023-02-01T14:32:30.334Z"
   },
   {
    "duration": 19,
    "start_time": "2023-02-01T14:33:01.222Z"
   },
   {
    "duration": 11,
    "start_time": "2023-02-01T14:33:17.229Z"
   },
   {
    "duration": 161,
    "start_time": "2023-02-01T14:33:21.329Z"
   },
   {
    "duration": 105,
    "start_time": "2023-02-01T14:33:50.736Z"
   },
   {
    "duration": 884,
    "start_time": "2023-02-01T14:34:14.121Z"
   },
   {
    "duration": 164,
    "start_time": "2023-02-01T14:34:29.887Z"
   },
   {
    "duration": 164,
    "start_time": "2023-02-01T14:35:02.020Z"
   },
   {
    "duration": 181,
    "start_time": "2023-02-01T14:35:26.047Z"
   },
   {
    "duration": 255,
    "start_time": "2023-02-01T14:35:31.539Z"
   },
   {
    "duration": 299,
    "start_time": "2023-02-01T14:35:37.887Z"
   },
   {
    "duration": 179,
    "start_time": "2023-02-01T14:35:52.427Z"
   },
   {
    "duration": 396,
    "start_time": "2023-02-01T14:35:59.021Z"
   },
   {
    "duration": 525,
    "start_time": "2023-02-01T14:37:41.652Z"
   },
   {
    "duration": 509,
    "start_time": "2023-02-01T14:37:54.172Z"
   },
   {
    "duration": 31,
    "start_time": "2023-02-01T14:37:54.684Z"
   },
   {
    "duration": 302,
    "start_time": "2023-02-01T14:37:54.718Z"
   },
   {
    "duration": 5,
    "start_time": "2023-02-01T14:37:55.022Z"
   },
   {
    "duration": 348,
    "start_time": "2023-02-01T14:37:55.028Z"
   },
   {
    "duration": 5,
    "start_time": "2023-02-01T14:37:55.378Z"
   },
   {
    "duration": 23,
    "start_time": "2023-02-01T14:37:55.385Z"
   },
   {
    "duration": 16,
    "start_time": "2023-02-01T14:37:55.410Z"
   },
   {
    "duration": 10,
    "start_time": "2023-02-01T14:37:55.428Z"
   },
   {
    "duration": 5,
    "start_time": "2023-02-01T14:37:55.441Z"
   },
   {
    "duration": 21,
    "start_time": "2023-02-01T14:37:55.448Z"
   },
   {
    "duration": 27,
    "start_time": "2023-02-01T14:37:55.471Z"
   },
   {
    "duration": 29,
    "start_time": "2023-02-01T14:37:55.499Z"
   },
   {
    "duration": 1679,
    "start_time": "2023-02-01T14:37:55.530Z"
   },
   {
    "duration": 7,
    "start_time": "2023-02-01T14:37:57.211Z"
   },
   {
    "duration": 46,
    "start_time": "2023-02-01T14:37:57.223Z"
   },
   {
    "duration": 737,
    "start_time": "2023-02-01T14:37:57.271Z"
   },
   {
    "duration": 11,
    "start_time": "2023-02-01T14:37:58.011Z"
   },
   {
    "duration": 129672,
    "start_time": "2023-02-01T14:37:58.024Z"
   },
   {
    "duration": 11,
    "start_time": "2023-02-01T14:40:07.697Z"
   },
   {
    "duration": 33966,
    "start_time": "2023-02-01T14:40:07.714Z"
   },
   {
    "duration": 9,
    "start_time": "2023-02-01T14:40:41.681Z"
   },
   {
    "duration": 41,
    "start_time": "2023-02-01T14:40:41.692Z"
   },
   {
    "duration": 71,
    "start_time": "2023-02-01T14:40:41.735Z"
   },
   {
    "duration": 18,
    "start_time": "2023-02-01T14:40:41.808Z"
   },
   {
    "duration": 3299,
    "start_time": "2023-02-01T14:40:41.828Z"
   },
   {
    "duration": 616752,
    "start_time": "2023-02-01T14:40:45.216Z"
   },
   {
    "duration": 3,
    "start_time": "2023-02-01T14:51:01.972Z"
   },
   {
    "duration": 113286,
    "start_time": "2023-02-01T14:51:01.976Z"
   },
   {
    "duration": 24,
    "start_time": "2023-02-01T14:52:55.264Z"
   },
   {
    "duration": 6,
    "start_time": "2023-02-01T14:52:55.290Z"
   },
   {
    "duration": 61,
    "start_time": "2023-02-01T14:52:55.298Z"
   },
   {
    "duration": 49,
    "start_time": "2023-02-01T14:52:55.361Z"
   },
   {
    "duration": 126,
    "start_time": "2023-02-01T14:52:55.411Z"
   },
   {
    "duration": 24,
    "start_time": "2023-02-01T14:52:55.538Z"
   },
   {
    "duration": 7,
    "start_time": "2023-02-01T14:52:55.563Z"
   },
   {
    "duration": 19,
    "start_time": "2023-02-01T14:52:55.571Z"
   },
   {
    "duration": 3,
    "start_time": "2023-02-01T14:52:55.592Z"
   },
   {
    "duration": 13,
    "start_time": "2023-02-01T14:52:55.597Z"
   },
   {
    "duration": 30,
    "start_time": "2023-02-01T14:52:55.612Z"
   },
   {
    "duration": 801,
    "start_time": "2023-02-02T14:28:45.036Z"
   },
   {
    "duration": 17,
    "start_time": "2023-02-02T14:28:45.839Z"
   },
   {
    "duration": 786,
    "start_time": "2023-02-02T14:28:46.059Z"
   }
  ],
  "kernelspec": {
   "display_name": "Python 3 (ipykernel)",
   "language": "python",
   "name": "python3"
  },
  "language_info": {
   "codemirror_mode": {
    "name": "ipython",
    "version": 3
   },
   "file_extension": ".py",
   "mimetype": "text/x-python",
   "name": "python",
   "nbconvert_exporter": "python",
   "pygments_lexer": "ipython3",
   "version": "3.10.2 (v3.10.2:a58ebcc701, Jan 13 2022, 14:50:16) [Clang 13.0.0 (clang-1300.0.29.30)]"
  },
  "toc": {
   "base_numbering": 1,
   "nav_menu": {},
   "number_sections": true,
   "sideBar": true,
   "skip_h1_title": true,
   "title_cell": "Table of Contents",
   "title_sidebar": "Contents",
   "toc_cell": false,
   "toc_position": {
    "height": "calc(100% - 180px)",
    "left": "10px",
    "top": "150px",
    "width": "165px"
   },
   "toc_section_display": true,
   "toc_window_display": true
  },
  "vscode": {
   "interpreter": {
    "hash": "aee8b7b246df8f9039afb4144a1f6fd8d2ca17a180786b69acc140d282b71a49"
   }
  }
 },
 "nbformat": 4,
 "nbformat_minor": 2
}
