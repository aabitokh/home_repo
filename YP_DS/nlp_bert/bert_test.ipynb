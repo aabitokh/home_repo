{
 "cells": [
  {
   "cell_type": "markdown",
   "metadata": {
    "deletable": false,
    "editable": false,
    "tags": [
     "045a5103-bb0f-4fb7-835a-238e053b2157"
    ]
   },
   "source": [
    "# Классификация на эмбеддингах"
   ]
  },
  {
   "cell_type": "code",
   "execution_count": 5,
   "metadata": {},
   "outputs": [],
   "source": [
    "import numpy as np\n",
    "import pandas as pd\n",
    "import torch\n",
    "import transformers\n",
    "from tqdm import notebook\n",
    "from sklearn.linear_model import LogisticRegression\n",
    "from sklearn.model_selection import cross_val_score\n",
    "from sklearn.model_selection import train_test_split\n",
    "\n",
    "import re "
   ]
  },
  {
   "cell_type": "code",
   "execution_count": 2,
   "metadata": {},
   "outputs": [],
   "source": [
    "df_tweets = pd.read_csv('/datasets/tweets.csv')"
   ]
  },
  {
   "cell_type": "code",
   "execution_count": 3,
   "metadata": {},
   "outputs": [],
   "source": [
    "tokenizer = transformers.BertTokenizer(\n",
    "    vocab_file='/datasets/ds_bert/vocab.txt')\n",
    "\n",
    "tokenized = df_tweets['text'].apply(\n",
    "    lambda x: tokenizer.encode(x, add_special_tokens=True))\n",
    "\n",
    "max_len = 0\n",
    "for i in tokenized.values:\n",
    "    if len(i) > max_len:\n",
    "        max_len = len(i)\n",
    "\n",
    "padded = np.array([i + [0]*(max_len - len(i)) for i in tokenized.values])\n",
    "\n",
    "attention_mask = np.where(padded != 0, 1, 0)"
   ]
  },
  {
   "cell_type": "code",
   "execution_count": 13,
   "metadata": {},
   "outputs": [
    {
     "data": {
      "text/plain": [
       "array([[  101,   168, 10934, ...,     0,     0,     0],\n",
       "       [  101,   886,   128, ...,     0,     0,     0],\n",
       "       [  101, 88488,   168, ...,     0,     0,     0],\n",
       "       ...,\n",
       "       [  101,  1097,  1064, ...,     0,     0,     0],\n",
       "       [  101,  1086,  1965, ...,     0,     0,     0],\n",
       "       [  101,   168, 11061, ...,     0,     0,     0]])"
      ]
     },
     "execution_count": 13,
     "metadata": {},
     "output_type": "execute_result"
    }
   ],
   "source": [
    "padded"
   ]
  },
  {
   "cell_type": "code",
   "execution_count": 8,
   "metadata": {},
   "outputs": [
    {
     "name": "stderr",
     "output_type": "stream",
     "text": [
      "Some weights of the model checkpoint at /datasets/ds_bert/rubert_model.bin were not used when initializing BertModel: ['cls.predictions.transform.dense.weight', 'cls.predictions.decoder.bias', 'cls.seq_relationship.bias', 'cls.predictions.decoder.weight', 'cls.predictions.transform.dense.bias', 'cls.predictions.transform.LayerNorm.weight', 'cls.predictions.bias', 'cls.seq_relationship.weight', 'cls.predictions.transform.LayerNorm.bias']\n",
      "- This IS expected if you are initializing BertModel from the checkpoint of a model trained on another task or with another architecture (e.g. initializing a BertForSequenceClassification model from a BertForPreTraining model).\n",
      "- This IS NOT expected if you are initializing BertModel from the checkpoint of a model that you expect to be exactly identical (initializing a BertForSequenceClassification model from a BertForSequenceClassification model).\n"
     ]
    }
   ],
   "source": [
    "config = transformers.BertConfig.from_json_file(\n",
    "    '/datasets/ds_bert/bert_config.json')\n",
    "model = transformers.BertModel.from_pretrained(\n",
    "    '/datasets/ds_bert/rubert_model.bin', config=config)"
   ]
  },
  {
   "cell_type": "code",
   "execution_count": 11,
   "metadata": {},
   "outputs": [
    {
     "data": {
      "application/vnd.jupyter.widget-view+json": {
       "model_id": "e7df38b5c7794ea6b523b3163dbadb11",
       "version_major": 2,
       "version_minor": 0
      },
      "text/plain": [
       "  0%|          | 0/50 [00:00<?, ?it/s]"
      ]
     },
     "metadata": {},
     "output_type": "display_data"
    }
   ],
   "source": [
    "batch_size = 100\n",
    "embeddings = []\n",
    "for i in notebook.tqdm(range(padded.shape[0] // batch_size)):\n",
    "        batch = torch.LongTensor(padded[batch_size*i:batch_size*(i+1)]) \n",
    "        attention_mask_batch = torch.LongTensor(attention_mask[batch_size*i:batch_size*(i+1)])\n",
    "        \n",
    "        with torch.no_grad():\n",
    "            batch_embeddings = model(batch, attention_mask=attention_mask_batch)\n",
    "        \n",
    "        embeddings.append(batch_embeddings[0][:,0,:].numpy())"
   ]
  },
  {
   "cell_type": "code",
   "execution_count": 12,
   "metadata": {},
   "outputs": [
    {
     "data": {
      "text/plain": [
       "array([[-0.27149776, -0.5590756 , -0.28098318, ..., -0.9203016 ,\n",
       "         1.2013047 ,  0.01502726],\n",
       "       [-0.3274793 ,  0.41710758, -0.82698894, ..., -0.9875183 ,\n",
       "         0.43697062, -0.45578933],\n",
       "       [-0.17064211, -0.06034701, -0.35421452, ...,  0.00830599,\n",
       "         0.14736848, -0.35230753],\n",
       "       ...,\n",
       "       [ 0.03029836, -0.85618323, -0.6820553 , ..., -0.3185835 ,\n",
       "         0.5538569 , -0.9658166 ],\n",
       "       [-0.08716808,  0.02353097, -0.3716771 , ...,  0.47204947,\n",
       "        -0.01140365, -0.40209013],\n",
       "       [ 0.15282145,  0.4337314 , -1.826283  , ..., -1.0342153 ,\n",
       "        -0.06139715, -1.4942064 ]], dtype=float32)"
      ]
     },
     "execution_count": 12,
     "metadata": {},
     "output_type": "execute_result"
    }
   ],
   "source": [
    "features = np.concatenate(embeddings)\n",
    "features\n",
    "\n",
    "# обучите и протестируйте модель\n",
    "# < напишите код здесь >"
   ]
  },
  {
   "cell_type": "code",
   "execution_count": 31,
   "metadata": {},
   "outputs": [],
   "source": [
    "from sklearn.linear_model import LogisticRegression\n",
    "from sklearn.model_selection import train_test_split\n",
    "from sklearn.metrics import accuracy_score"
   ]
  },
  {
   "cell_type": "code",
   "execution_count": 18,
   "metadata": {},
   "outputs": [
    {
     "data": {
      "text/plain": [
       "(5000, 768)"
      ]
     },
     "execution_count": 18,
     "metadata": {},
     "output_type": "execute_result"
    }
   ],
   "source": [
    "df_tweets['positive'].shape\n",
    "features.shape"
   ]
  },
  {
   "cell_type": "code",
   "execution_count": 28,
   "metadata": {},
   "outputs": [],
   "source": [
    "x_train, x_test, y_train, y_test =  train_test_split(features,df_tweets['positive'], test_size = 0.5)"
   ]
  },
  {
   "cell_type": "code",
   "execution_count": 29,
   "metadata": {},
   "outputs": [
    {
     "name": "stderr",
     "output_type": "stream",
     "text": [
      "/opt/conda/lib/python3.9/site-packages/sklearn/linear_model/_logistic.py:763: ConvergenceWarning: lbfgs failed to converge (status=1):\n",
      "STOP: TOTAL NO. of ITERATIONS REACHED LIMIT.\n",
      "\n",
      "Increase the number of iterations (max_iter) or scale the data as shown in:\n",
      "    https://scikit-learn.org/stable/modules/preprocessing.html\n",
      "Please also refer to the documentation for alternative solver options:\n",
      "    https://scikit-learn.org/stable/modules/linear_model.html#logistic-regression\n",
      "  n_iter_i = _check_optimize_result(\n"
     ]
    },
    {
     "data": {
      "text/plain": [
       "LogisticRegression()"
      ]
     },
     "execution_count": 29,
     "metadata": {},
     "output_type": "execute_result"
    }
   ],
   "source": [
    "lr = LogisticRegression()\n",
    "lr.fit(x_train, y_train)"
   ]
  },
  {
   "cell_type": "code",
   "execution_count": 33,
   "metadata": {},
   "outputs": [
    {
     "data": {
      "text/plain": [
       "0.9996"
      ]
     },
     "execution_count": 33,
     "metadata": {},
     "output_type": "execute_result"
    }
   ],
   "source": [
    "accuracy_score(lr.predict(x_train), y_train)"
   ]
  },
  {
   "cell_type": "code",
   "execution_count": null,
   "metadata": {},
   "outputs": [],
   "source": []
  }
 ],
 "metadata": {
  "ExecuteTimeLog": [
   {
    "duration": 2212,
    "start_time": "2023-03-14T11:33:39.016Z"
   },
   {
    "duration": 41,
    "start_time": "2023-03-14T11:33:41.230Z"
   },
   {
    "duration": 3960,
    "start_time": "2023-03-14T11:33:42.632Z"
   },
   {
    "duration": 8,
    "start_time": "2023-03-14T11:33:48.419Z"
   },
   {
    "duration": 7,
    "start_time": "2023-03-14T11:34:00.200Z"
   },
   {
    "duration": 5,
    "start_time": "2023-03-14T11:34:28.902Z"
   },
   {
    "duration": 4,
    "start_time": "2023-03-14T11:34:34.747Z"
   },
   {
    "duration": 5385,
    "start_time": "2023-03-14T11:34:39.702Z"
   },
   {
    "duration": 4,
    "start_time": "2023-03-14T11:34:55.315Z"
   },
   {
    "duration": 7,
    "start_time": "2023-03-14T11:35:09.951Z"
   },
   {
    "duration": 2381001,
    "start_time": "2023-03-14T11:35:20.569Z"
   },
   {
    "duration": 8,
    "start_time": "2023-03-14T12:15:01.572Z"
   },
   {
    "duration": 68,
    "start_time": "2023-03-14T12:15:01.582Z"
   },
   {
    "duration": 4,
    "start_time": "2023-03-14T12:15:59.972Z"
   },
   {
    "duration": 301,
    "start_time": "2023-03-14T12:16:57.193Z"
   },
   {
    "duration": 5,
    "start_time": "2023-03-14T12:17:05.507Z"
   },
   {
    "duration": 4,
    "start_time": "2023-03-14T12:17:10.069Z"
   },
   {
    "duration": 4,
    "start_time": "2023-03-14T12:17:16.745Z"
   },
   {
    "duration": 16,
    "start_time": "2023-03-14T12:18:10.340Z"
   },
   {
    "duration": 19,
    "start_time": "2023-03-14T12:18:17.319Z"
   },
   {
    "duration": 3,
    "start_time": "2023-03-14T12:18:41.813Z"
   },
   {
    "duration": 72,
    "start_time": "2023-03-14T12:18:58.907Z"
   },
   {
    "duration": 2,
    "start_time": "2023-03-14T12:19:02.789Z"
   },
   {
    "duration": 11,
    "start_time": "2023-03-14T12:19:38.597Z"
   },
   {
    "duration": 8,
    "start_time": "2023-03-14T12:19:51.478Z"
   },
   {
    "duration": 10,
    "start_time": "2023-03-14T12:19:54.494Z"
   },
   {
    "duration": 9,
    "start_time": "2023-03-14T12:19:57.694Z"
   },
   {
    "duration": 7,
    "start_time": "2023-03-14T12:20:20.396Z"
   },
   {
    "duration": 2238,
    "start_time": "2023-03-14T12:20:48.094Z"
   },
   {
    "duration": 15,
    "start_time": "2023-03-14T12:21:13.434Z"
   },
   {
    "duration": 2,
    "start_time": "2023-03-14T12:21:45.598Z"
   },
   {
    "duration": 5,
    "start_time": "2023-03-14T12:21:47.995Z"
   },
   {
    "duration": 11,
    "start_time": "2023-03-14T12:22:03.006Z"
   }
  ],
  "kernelspec": {
   "display_name": "Python 3 (ipykernel)",
   "language": "python",
   "name": "python3"
  },
  "language_info": {
   "codemirror_mode": {
    "name": "ipython",
    "version": 3
   },
   "file_extension": ".py",
   "mimetype": "text/x-python",
   "name": "python",
   "nbconvert_exporter": "python",
   "pygments_lexer": "ipython3",
   "version": "3.8.16"
  },
  "toc": {
   "base_numbering": 1,
   "nav_menu": {},
   "number_sections": true,
   "sideBar": true,
   "skip_h1_title": true,
   "title_cell": "Table of Contents",
   "title_sidebar": "Contents",
   "toc_cell": false,
   "toc_position": {},
   "toc_section_display": true,
   "toc_window_display": false
  }
 },
 "nbformat": 4,
 "nbformat_minor": 2
}
